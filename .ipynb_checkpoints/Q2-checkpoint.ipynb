{
 "cells": [
  {
   "cell_type": "code",
   "execution_count": 9,
   "metadata": {},
   "outputs": [],
   "source": [
    "import numpy as np\n",
    "import matplotlib.pyplot as plt"
   ]
  },
  {
   "cell_type": "markdown",
   "metadata": {},
   "source": [
    "The likelihood for a sample $x$ can be written as:\n",
    "\n",
    "$$\n",
    "\\begin{align}\n",
    "P(x|\\mu, \\sigma^2) = \\frac {1} {\\sqrt{2 \\pi \\sigma^2}} e^{\\frac{-(x-\\mu)^2}{2 \\sigma^2}}\n",
    "\\end{align}\n",
    "$$\n",
    "\n",
    "<br>\n",
    "\n",
    "For $n$ i.i.d. samples $x_1, x_2, ..., x_n$, we can calculate the likelihood as following:\n",
    "\n",
    "$$\n",
    "\\begin{align}\n",
    "P(x_1, x_2, ..., x_n|\\mu, \\sigma^2) &= \\prod_{i=1}^{n} \\frac {1} {\\sqrt{2 \\pi \\sigma^2}} e^{\\frac{-(x_i-\\mu)^2}{2 \\sigma^2}} \\\\\n",
    "&= \\left( \\frac {1} {\\sqrt{2 \\pi \\sigma^2}} \\right)^n e^{\\frac{-\\sum_{i=1}^n (x_i-\\mu)^2}{2 \\sigma^2}} \\\\\n",
    "&\\propto e^{\\frac{-\\sum_{i=1}^n (x_i-\\mu)^2}{2 \\sigma^2}}\n",
    "\\end{align}\n",
    "$$\n",
    "\n",
    "<br>\n",
    "\n",
    "Now, we will do some mathematical rearrangement and rewrite the above equation in a different way,\n",
    "\n",
    "$$\n",
    "\\begin{align}\n",
    "P(x_1, x_2, ..., x_n|\\mu, \\sigma^2) &\\propto e^{\\frac{-\\sum_{i=1}^n (x_i-\\mu)^2}{2 \\sigma^2}} \\\\\n",
    "&\\propto e^{\\frac {- \\left(\\sum_{i=1}^n x_i^2 + n \\mu^2 - 2 \\mu \\sum_{i=1}^n x_i \\right)} {2 \\sigma^2}} \\\\\n",
    "&\\propto e^{\\frac {-n} {2 \\sigma^2} \\left( \\mu^2 - 2\\mu \\frac{\\sum_{i=1}^n x_i}{n} + \\frac{\\sum_{i=1}^n x_i^2} {n}  \\right)} \\\\\n",
    "&\\propto e^{\\frac {-1} {2 \\left( \\sigma^2 / n \\right)} \\left( \\mu^2 - 2\\mu \\bar{x} + \\frac{\\sum_{i=1}^n x_i^2} {n}  \\right)} \\\\\n",
    "&\\propto e^{\\frac {-1} {2 \\left( \\sigma^2 / n \\right)} \\left( \\mu^2 - 2\\mu \\bar{x} + \\frac{\\sum_{i=1}^n x_i^2} {n}  \\right)}\n",
    "\\end{align}\n",
    "$$\n",
    "\n",
    "We known that the product of normal distributions is also a normal distribution, so the form of above equation will be similar to $ \\propto e^{\\frac {-1} {2 \\sigma^2} (\\mu - \\mu_L)^2} $ which can be written as $ e^{\\frac {-1} {2 \\sigma^2} \\left( \\mu^2 - 2\\mu\\mu_L + \\mu_L^2 \\right)} $\n",
    "\n",
    "On comparing this with the result we obtained above, we can see that $\\mu_L = \\bar{x}$ and $\\sigma_L^2 = \\frac {\\sigma^2} {n}$ where $\\mu_L$ is the mean and $\\sigma_L^2$ is the variance of likelihood distribution.\n",
    "\n",
    "<br>\n",
    "\n",
    "Therefore, the probability density function for the likelihood is $\\mathcal{N}(\\bar {x}, \\frac{\\sigma^2}{n})$"
   ]
  },
  {
   "cell_type": "markdown",
   "metadata": {},
   "source": [
    "In order to calculate the bayesian posterior probability we will apply baye's theorem and insert the likelihood and prior. \n",
    "\n",
    "<br>\n",
    "\n",
    "The statement to calculate the the bayesian posterior probability $P(\\theta|y)$ can be written as:\n",
    "\n",
    "$$ P(\\theta|y) = \\frac {P(\\theta) * P(y|\\theta)}{P(y)} $$\n",
    "\n",
    "&emsp;&emsp; where $P(\\theta)$ is the prior, $P(y|\\theta)$ is the likelihood and $P(y)$ is the marginal likelihood.\n",
    "\n",
    "Since, it is given that prior is a normal distribution, let's take prior as $\\mathcal{N}(\\mu_{prior}, \\sigma_{prior}^2)$\n",
    "\n",
    "<br>\n",
    "\n",
    "$$\n",
    "\\begin{align}\n",
    "Posterior &= Prior * Likelihood \\\\\n",
    "\n",
    "&\\propto exp \\left[\\frac{-(\\mu - \\mu_{prior})^2}{2\\sigma_{prior}^2} \\right] * exp \\left[\\frac{-n(\\mu - \\bar{x})^2}{2\\sigma_{prior}^2}\\right] \\\\\n",
    "\n",
    "&\\propto exp \\left[\\frac{-(\\mu^2 -2\\mu\\mu_{prior} + \\mu_{prior}^2)}{2\\sigma_{prior}^2} \\right] * exp \\left[\\frac{-n(\\mu^2 -2\\mu\\bar{x} + \\bar{x}^2)}{2\\sigma_{prior}^2}\\right] \\\\\n",
    "\n",
    "&\\propto exp \\left[\\frac{-(\\mu^2 -2\\mu\\mu_{prior} + \\mu_{prior}^2)}{2\\sigma_{prior}^2} \\right] * exp \\left[\\frac{-n(\\mu^2 -2\\mu\\bar{x} + \\bar{x}^2)}{2\\sigma_{prior}^2}\\right] \\\\\n",
    "\n",
    "\n",
    "\\end{align}\n",
    "$$\n",
    "\n",
    "We known that the product of normal distributions is also a normal distribution, so the form of above equation will be similar to $ \\propto e^{\\frac {-1} {2 \\sigma^2} (\\mu - \\mu_{post})^2} $ which can be written as $ e^{\\frac {-1} {2 \\sigma^2} \\left( \\mu^2 - 2\\mu\\mu_{post} + \\mu_{post}^2 \\right)} $\n",
    "\n",
    "\n",
    "Therefore, the probability density function for the posterior is $\\mathcal{N}(\\sigma_{posterior}^2 \\left(\\frac {\\mu_{prior} \\sigma^2 + n\\bar{x} \\sigma_{prior}^2}{\\sigma^2 \\sigma_{prior}^2} \\right), \\frac{\\sigma^2 \\sigma_{prior}^2} {\\sigma^2 + n\\sigma_{prior}^2})$"
   ]
  },
  {
   "cell_type": "code",
   "execution_count": 10,
   "metadata": {},
   "outputs": [],
   "source": [
    "def norm(x, mean, variance): \n",
    "    return np.exp(-np.square(x-mean)/(2*variance)) / np.sqrt(2*np.pi*variance)"
   ]
  },
  {
   "cell_type": "markdown",
   "metadata": {},
   "source": [
    "# (iv) Plot the pdf of prior, data generator, likelihood, and posterior"
   ]
  },
  {
   "cell_type": "code",
   "execution_count": 11,
   "metadata": {},
   "outputs": [
    {
     "name": "stdout",
     "output_type": "stream",
     "text": [
      "Likelihood 9.406147239397441 0.685732199264534\n",
      "Posterior 9.69403928854348 0.6793727532517788\n"
     ]
    },
    {
     "data": {
      "image/png": "[encoded data removed]",
      "text/plain": [
       "<Figure size 720x504 with 1 Axes>"
      ]
     },
     "metadata": {
      "needs_background": "light"
     },
     "output_type": "display_data"
    }
   ],
   "source": [
    "# Define figure-size, labels, and figure-title\n",
    "plt.figure(figsize=(10, 7))\n",
    "plt.title('Probability Density Functions')\n",
    "\n",
    "# Generate list of numbers for plotting pdf of prior\n",
    "mean_prior = 25\n",
    "std_prior = 5\n",
    "\n",
    "# Generate 50 samples for the likelihood using mean as 10 and std as 5\n",
    "data_samples = np.random.normal(loc=10, scale=5, size=50)\n",
    "data_mean = np.mean(data_samples)\n",
    "data_std = np.std(data_samples)\n",
    "\n",
    "# Calculate the mean and std for likelihood using the expression derived above\n",
    "mean_likelihood = data_mean\n",
    "std_likelihood = data_std / np.sqrt(len(data_samples))\n",
    "print('Likelihood', mean_likelihood, std_likelihood)\n",
    "\n",
    "# Calculate the mean and std for posterior using the expression derived above\n",
    "variance_posterior = (data_std**2 * std_prior**2) / (data_std**2 + len(data_samples)*std_prior**2)\n",
    "std_posterior = np.sqrt(variance_posterior)\n",
    "mean_posterior = variance_posterior * ((mean_prior * data_std**2 + len(data_samples) * data_mean * std_prior**2) / (std_prior**2 * data_std**2))\n",
    "\n",
    "print('Posterior', mean_posterior, std_posterior)\n",
    "\n",
    "# Generate number to plot the pdfs\n",
    "x_plot = np.linspace(start=0, stop=50, num=1000)\n",
    "\n",
    "# Plot the prior, likelihood and posterior\n",
    "plt.plot(x_plot, norm(x_plot, mean=mean_prior, variance=std_prior**2), color='r', linewidth=2)\n",
    "plt.plot(x_plot, norm(x_plot, mean=mean_likelihood, variance=std_likelihood**2), color='b', linewidth=2)\n",
    "plt.plot(x_plot, norm(x_plot, mean=mean_posterior, variance=variance_posterior), color='g', linewidth=2)\n",
    "\n",
    "# Add legend to the figure\n",
    "plt.legend([\"Prior\", \"Likelihood\", \"Posterior\"], loc =\"upper left\")\n",
    "\n",
    "# Show the plot\n",
    "plt.show()"
   ]
  },
  {
   "cell_type": "code",
   "execution_count": 12,
   "metadata": {},
   "outputs": [],
   "source": [
    "def metropolis_hastings(parameter_init=0, sigma_proposal=1, n_iter=1000):\n",
    "\n",
    "    # create an empty list to store the sampled parameters\n",
    "    parameters_list = list()\n",
    "\n",
    "    # initialize parameter variable with initial parameter passed to the function\n",
    "    parameter = parameter_init\n",
    "\n",
    "    # add the initial parameter also to the list\n",
    "    parameters_list.append(parameter)\n",
    "\n",
    "    # now, we will use prior and posterior to calculate initial posterior value\n",
    "    \n",
    "    # calculate the prior using mean = 25 and std = 5 (variance = 25)\n",
    "    prior = norm(parameter, 25, 25)\n",
    "\n",
    "    # calculate the likelihood by multiplying 50 samples generated from normal distribution\n",
    "    likelihood = np.prod([norm(x, parameter, sigma_proposal**2) for x in data_samples])\n",
    "                \n",
    "    # calculate the posterior\n",
    "    posterior_current = prior * likelihood\n",
    "\n",
    "    # run the algo for n_iter iterations\n",
    "    for i in range(n_iter):\n",
    "\n",
    "        # select a random sample from jump distribution (consider normal distribution)\n",
    "        parameter_jump = np.random.normal(loc=parameter, scale=sigma_proposal)\n",
    "\n",
    "        # calculate the prior for the proposed parameter, given mean = 25 and std = 5 (variance = 25)\n",
    "        prior = norm(parameter_jump, 25, 25)\n",
    "\n",
    "        # calculate the likelihood by multiplying pdf of 50 samples generated from normal distribution\n",
    "        # and use the proposed parameter as the mean\n",
    "        likelihood = np.prod([norm(x, parameter_jump, sigma_proposal**2) for x in data_samples])\n",
    "                \n",
    "        # calculate the posterior for the current iteration\n",
    "        posterior_next = prior * likelihood\n",
    "\n",
    "        # find the ratio of proposed posterior to the current posterior\n",
    "        # r = posterior_next / posterior_current\n",
    "        r = min(1, (posterior_next / posterior_current))\n",
    "\n",
    "        # select a random number between 0 and 1\n",
    "        a = np.random.uniform(0, 1)\n",
    "\n",
    "        if(r > a):\n",
    "            # accept the current value and update parameter\n",
    "            parameter = parameter_jump\n",
    "\n",
    "            # update the proposed posterior for the next iteration\n",
    "            posterior_current = posterior_next\n",
    "\n",
    "        # add the current mean to the list of means\n",
    "        parameters_list.append(parameter)\n",
    "\n",
    "    return parameters_list"
   ]
  },
  {
   "cell_type": "markdown",
   "metadata": {},
   "source": [
    "# Run the Metropolis Algorithm for our Data"
   ]
  },
  {
   "cell_type": "code",
   "execution_count": 13,
   "metadata": {},
   "outputs": [],
   "source": [
    "# run the metropolis algo with some sigma value and iterations\n",
    "parameters = metropolis_hastings(parameter_init=0, sigma_proposal=5, n_iter=100000)"
   ]
  },
  {
   "cell_type": "code",
   "execution_count": 14,
   "metadata": {},
   "outputs": [
    {
     "name": "stdout",
     "output_type": "stream",
     "text": [
      "9.70477272741126 0.7048458898030475\n",
      "9.69403928854348 0.6793727532517788 0.46154733786090235\n"
     ]
    },
    {
     "data": {
      "image/png": "[encoded data removed]",
      "text/plain": [
       "<Figure size 720x504 with 1 Axes>"
      ]
     },
     "metadata": {
      "needs_background": "light"
     },
     "output_type": "display_data"
    }
   ],
   "source": [
    "# Define figure-size, labels, and figure-title\n",
    "plt.figure(figsize=(10, 7))\n",
    "\n",
    "# Plot the histogram of samples\n",
    "plt.hist(parameters, bins=500, color='r', density=True)\n",
    "print(np.mean(parameters), np.std(parameters))\n",
    "\n",
    "# Generate values for plotting the posterior pdf\n",
    "x_plot = np.linspace(start=0, stop=20, num=1000)\n",
    "print(mean_posterior, std_posterior, variance_posterior)\n",
    "\n",
    "# Plot the analytical posterior\n",
    "plt.plot(x_plot, norm(x_plot, mean=mean_posterior, variance=variance_posterior), color='b', linewidth=2)\n",
    "\n",
    "# Add legend to the figure\n",
    "plt.show()"
   ]
  }
 ],
 "metadata": {
  "interpreter": {
   "hash": "8f764b1ce2c93b401f33e75df7812449d8b41ae58038cf416ebcb056fbf386c2"
  },
  "kernelspec": {
   "display_name": "Python 3",
   "language": "python",
   "name": "python3"
  },
  "language_info": {
   "codemirror_mode": {
    "name": "ipython",
    "version": 3
   },
   "file_extension": ".py",
   "mimetype": "text/x-python",
   "name": "python",
   "nbconvert_exporter": "python",
   "pygments_lexer": "ipython3",
   "version": "3.7.3"
  }
 },
 "nbformat": 4,
 "nbformat_minor": 5
}
