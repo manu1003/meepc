{
 "cells": [
  {
   "cell_type": "code",
   "execution_count": 23,
   "metadata": {},
   "outputs": [],
   "source": [
    "import numpy as np\n",
    "\n",
    "import matplotlib.pyplot as plt\n",
    "from numpy import linalg\n",
    "from random import random\n",
    "from copy import deepcopy"
   ]
  },
  {
   "cell_type": "code",
   "execution_count": 24,
   "metadata": {},
   "outputs": [],
   "source": [
    "X = np.reshape([random()*100 for i in range(400)],(100,4))"
   ]
  },
  {
   "cell_type": "code",
   "execution_count": 25,
   "metadata": {},
   "outputs": [],
   "source": [
    "col_max = np.amax(X,axis=0)\n",
    "col_min = np.amin(X,axis=0)\n",
    "centroid = (col_max + col_min)/2"
   ]
  },
  {
   "cell_type": "code",
   "execution_count": 26,
   "metadata": {},
   "outputs": [],
   "source": [
    "Z = (X-centroid)**2"
   ]
  },
  {
   "cell_type": "code",
   "execution_count": 27,
   "metadata": {},
   "outputs": [],
   "source": [
    "alpha = (1.0 / 100) * np.ones(100)"
   ]
  },
  {
   "cell_type": "code",
   "execution_count": 28,
   "metadata": {},
   "outputs": [
    {
     "data": {
      "text/plain": [
       "array([807.64263442, 700.42928398, 839.1047589 , 979.20420192])"
      ]
     },
     "execution_count": 28,
     "metadata": {},
     "output_type": "execute_result"
    }
   ],
   "source": [
    "ZT = Z.T\n",
    "h = np.matmul(alpha,Z)\n",
    "h"
   ]
  },
  {
   "cell_type": "code",
   "execution_count": 29,
   "metadata": {},
   "outputs": [],
   "source": [
    "def isclose(a, b, rel_tol, abs_tol=0.0):\n",
    "    return abs(a-b) <= max(rel_tol * max(abs(a), abs(b)), abs_tol)"
   ]
  },
  {
   "cell_type": "code",
   "execution_count": null,
   "metadata": {},
   "outputs": [],
   "source": []
  },
  {
   "cell_type": "code",
   "execution_count": 30,
   "metadata": {},
   "outputs": [],
   "source": [
    "def calc_s(h,alpha_old,Z,u,i):\n",
    "  ans=0\n",
    "  for j in range(4):\n",
    "            s_i_j = h[j] - alpha_old[i]*Z[i][j]\n",
    "            ans += (1/(u + s_i_j/Z[i][j]))\n",
    "  return ans"
   ]
  },
  {
   "cell_type": "code",
   "execution_count": 31,
   "metadata": {},
   "outputs": [],
   "source": [
    "def solution(Z,alpha,h,tol):\n",
    "    i = 0\n",
    "    updates = 0\n",
    "    converged = False\n",
    "    alpha_old = np.zeros(100)\n",
    "    old = 0\n",
    "    start=0\n",
    "    lessthan_u=0\n",
    "    greathan_u=0\n",
    "    \n",
    "    while i < 100:\n",
    "        if converged:\n",
    "            return h\n",
    "        alpha_old[i] = alpha[i]\n",
    "        f_x = 0\n",
    "        u=0\n",
    "        f_x=calc_s(h,alpha_old,Z,u,i)\n",
    "        \n",
    "        if f_x == 1:\n",
    "            alpha[i] = u\n",
    "        \n",
    "        if f_x < 1:\n",
    "\n",
    "            alpha[i] = 0\n",
    "\n",
    "        if f_x > 1:\n",
    "            u+=1   # this 0.00001 is step which i am decreasing the u for binary search..\n",
    "            while(not isclose(f_x,1,tol)):\n",
    "                f_x = calc_s(h,alpha_old,Z,u,i)\n",
    "                if(f_x>1):\n",
    "                    u+=2*u\n",
    "                else:\n",
    "                    u-=2*u \n",
    "            alpha[i]=u    \n",
    "            \n",
    "                \n",
    "        h = h + (alpha[i] - alpha_old[i])*Z[i]\n",
    "        i += 1\n",
    "        if i>=99 :\n",
    "            i = 0\n",
    "            updates += 1\n",
    "            if old == 0:\n",
    "                stored_alpha_old = deepcopy(alpha_old)\n",
    "                old = 1\n",
    "        if updates == 4:\n",
    "            if np.all(alpha - stored_alpha_old) < tol :  #.00001\n",
    "                converged = True\n",
    "            else:\n",
    "                updates = 0\n",
    "                stored_alpha_old = deepcopy(alpha)\n",
    "    "
   ]
  },
  {
   "cell_type": "code",
   "execution_count": null,
   "metadata": {},
   "outputs": [],
   "source": [
    "h = solution(Z,alpha,h,1e-05)\n",
    "h"
   ]
  },
  {
   "cell_type": "markdown",
   "metadata": {},
   "source": [
    "## weight vectors obtained are:"
   ]
  },
  {
   "cell_type": "code",
   "execution_count": null,
   "metadata": {},
   "outputs": [],
   "source": [
    "v = 1/h\n",
    "v"
   ]
  },
  {
   "cell_type": "markdown",
   "metadata": {},
   "source": [
    "## visualising the ellipsoid with data points\n"
   ]
  },
  {
   "cell_type": "code",
   "execution_count": null,
   "metadata": {},
   "outputs": [],
   "source": [
    "class EllipsoidTool:\n",
    "    \"\"\"Some stuff for playing with ellipsoids\"\"\"\n",
    "    def __init__(self): pass\n",
    "    \n",
    "    def getMinVolEllipse(self, P=None, tolerance=0.01):\n",
    "        \"\"\" Find the minimum volume ellipsoid which holds all the points\n",
    "        \n",
    "        Based on work by Nima Moshtagh\n",
    "        http://www.mathworks.com/matlabcentral/fileexchange/9542\n",
    "        and also by looking at:\n",
    "        http://cctbx.sourceforge.net/current/python/scitbx.math.minimum_covering_ellipsoid.html\n",
    "        Which is based on the first reference anyway!\n",
    "        \n",
    "        Here, P is a numpy array of N dimensional points like this:\n",
    "        P = [[x,y,z,...], <-- one point per line\n",
    "             [x,y,z,...],\n",
    "             [x,y,z,...]]\n",
    "        \n",
    "        Returns:\n",
    "        (center, radii, rotation)\n",
    "        \n",
    "        \"\"\"\n",
    "        (N, d) = np.shape(P)\n",
    "        d = float(d)\n",
    "    \n",
    "        # Q will be our working array\n",
    "        Q = np.vstack([np.copy(P.T), np.ones(N)]) \n",
    "        QT = Q.T\n",
    "        \n",
    "        # initializations\n",
    "        err = 1.0 + tolerance\n",
    "        u = (1.0 / N) * np.ones(N)\n",
    "\n",
    "        # Khachiyan Algorithm\n",
    "        while err > tolerance:\n",
    "            V = np.dot(Q, np.dot(np.diag(u), QT))\n",
    "            M = np.diag(np.dot(QT , np.dot(linalg.inv(V), Q)))    # M the diagonal vector of an NxN matrix\n",
    "            j = np.argmax(M)\n",
    "            maximum = M[j]\n",
    "            step_size = (maximum - d - 1.0) / ((d + 1.0) * (maximum - 1.0))\n",
    "            new_u = (1.0 - step_size) * u\n",
    "            new_u[j] += step_size\n",
    "            err = np.linalg.norm(new_u - u)\n",
    "            u = new_u\n",
    "\n",
    "        # center of the ellipse \n",
    "        center = np.dot(P.T, u)\n",
    "    \n",
    "        # the A matrix for the ellipse\n",
    "        A = linalg.inv(\n",
    "                       np.dot(P.T, np.dot(np.diag(u), P)) - \n",
    "                       np.array([[a * b for b in center] for a in center])\n",
    "                       ) / d\n",
    "                       \n",
    "        # Get the values we'd like to return\n",
    "        U, s, rotation = linalg.svd(A)\n",
    "        radii = 1.0/np.sqrt(s)\n",
    "        \n",
    "        return (center, radii, rotation)\n",
    "        \n",
    "    def getEllipsoidVolume(self, radii):\n",
    "    \"\"\"Calculate the volume of the blob\"\"\"\n",
    "        return 4./3.*np.pi*radii[0]*radii[1]*radii[2]\n",
    "\n",
    "    def plotEllipsoid(self, center, radii, rotation, ax=None, plotAxes=False, cageColor='b', cageAlpha=0.2):\n",
    "        \"\"\"Plot an ellipsoid\"\"\"\n",
    "        make_ax = ax == None\n",
    "        if make_ax:\n",
    "            fig = plt.figure()\n",
    "            ax = fig.add_subplot(111, projection='3d')\n",
    "            \n",
    "        u = np.linspace(0.0, 2.0 * np.pi, 100)\n",
    "        v = np.linspace(0.0, np.pi, 100)\n",
    "        \n",
    "        # cartesian coordinates that correspond to the spherical angles:\n",
    "        x = radii[0] * np.outer(np.cos(u), np.sin(v))\n",
    "        y = radii[1] * np.outer(np.sin(u), np.sin(v))\n",
    "        z = radii[2] * np.outer(np.ones_like(u), np.cos(v))\n",
    "        # rotate accordingly\n",
    "        for i in range(len(x)):\n",
    "            for j in range(len(x)):\n",
    "                [x[i,j],y[i,j],z[i,j]] = np.dot([x[i,j],y[i,j],z[i,j]], rotation) + center\n",
    "\n",
    "        if plotAxes:\n",
    "            # make some purdy axes\n",
    "            axes = np.array([[radii[0],0.0,0.0],\n",
    "                            [0.0,radii[1],0.0],\n",
    "                            [0.0,0.0,radii[2]]])\n",
    "            # rotate accordingly\n",
    "            for i in range(len(axes)):\n",
    "                axes[i] = np.dot(axes[i], rotation)\n",
    "\n",
    "\n",
    "            # plot axes\n",
    "            for p in axes:\n",
    "                X3 = np.linspace(-p[0], p[0], 100) + center[0]\n",
    "                Y3 = np.linspace(-p[1], p[1], 100) + center[1]\n",
    "                Z3 = np.linspace(-p[2], p[2], 100) + center[2]\n",
    "                ax.plot(X3, Y3, Z3, color=cageColor)\n",
    "\n",
    "        # plot ellipsoid\n",
    "        ax.plot_wireframe(x, y, z,  rstride=4, cstride=4, color=cageColor, alpha=cageAlpha)\n",
    "        \n",
    "        if make_ax:\n",
    "            plt.show()\n",
    "            plt.close(fig)\n",
    "            del fig"
   ]
  },
  {
   "cell_type": "code",
   "execution_count": null,
   "metadata": {},
   "outputs": [],
   "source": [
    "\n",
    "\n"
   ]
  },
  {
   "cell_type": "code",
   "execution_count": null,
   "metadata": {},
   "outputs": [],
   "source": [
    "print(center)\n",
    "print(\"---\")\n",
    "print(radii)\n",
    "print(\"---\")\n",
    "print(rotation)\n"
   ]
  },
  {
   "cell_type": "code",
   "execution_count": null,
   "metadata": {},
   "outputs": [],
   "source": [
    "def randrange(n, vmin, vmax):\n",
    "    \"\"\"\n",
    "    Helper function to make an array of random numbers having shape (n, )\n",
    "    with each number distributed Uniform(vmin, vmax).\n",
    "    \"\"\"\n",
    "    return (vmax - vmin)*np.random.rand(n) + vmin"
   ]
  },
  {
   "cell_type": "code",
   "execution_count": null,
   "metadata": {},
   "outputs": [],
   "source": [
    "ax=plt.axes(projection='3d')\n",
    "ax.set_xlim(-20,150)\n",
    "ax.set_ylim(-20,150)\n",
    "ax.set_zlim(-30,100)\n",
    "ax.scatter3D(X[:,0],X[:,1],X[:,2],s=10,marker='*',color='g')\n",
    "ax.set_xlabel('first feature')\n",
    "ax.set_ylabel('second feature')\n",
    "ax.set_zlabel('third feature')\n",
    "ys = randrange(40, 0, 100)\n",
    "zs = randrange(40, 0,100)\n",
    "xs = randrange(40, 0, 100)\n",
    "ax.scatter(xs, ys, zs, marker='^')\n",
    "ET = EllipsoidTool()\n",
    "(center, radii, rotation) = ET.getMinVolEllipse(X, .01)\n",
    "ET.plotEllipsoid(center, radii, rotation, ax=ax, plotAxes=True)\n"
   ]
  },
  {
   "cell_type": "code",
   "execution_count": null,
   "metadata": {},
   "outputs": [],
   "source": []
  }
 ],
 "metadata": {
  "interpreter": {
   "hash": "5f5277ade0e427ba53f4f59731df06a81409d3d5d18aa06b18e04ee34f04aaa5"
  },
  "kernelspec": {
   "display_name": "Python 3 (ipykernel)",
   "language": "python",
   "name": "python3"
  },
  "language_info": {
   "codemirror_mode": {
    "name": "ipython",
    "version": 3
   },
   "file_extension": ".py",
   "mimetype": "text/x-python",
   "name": "python",
   "nbconvert_exporter": "python",
   "pygments_lexer": "ipython3",
   "version": "3.8.13"
  }
 },
 "nbformat": 4,
 "nbformat_minor": 2
}
