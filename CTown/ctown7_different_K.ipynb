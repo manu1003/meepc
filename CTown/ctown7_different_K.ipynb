{
 "cells": [
  {
   "cell_type": "code",
   "execution_count": 1,
   "metadata": {},
   "outputs": [],
   "source": [
    "import numpy as np\n",
    "import pandas as pd\n",
    "from models import Hankel,Corrhankel,Pipeline\n",
    "from sklearn.preprocessing import StandardScaler\n",
    "from sklearn.metrics import accuracy_score,precision_score,recall_score,f1_score,roc_auc_score"
   ]
  },
  {
   "cell_type": "code",
   "execution_count": 2,
   "metadata": {},
   "outputs": [],
   "source": [
    "df1 = pd.read_csv('~/data/ctown/dataset03.csv')\n",
    "df2 = pd.read_csv('~/data/ctown/dataset04.csv')\n",
    "\n",
    "train_normal = pd.concat((df1,df2[df2['ATT_FLAG']==0]),axis=0,ignore_index=True)\n",
    "train_attack = df2[df2['ATT_FLAG']==1]"
   ]
  },
  {
   "cell_type": "code",
   "execution_count": 3,
   "metadata": {},
   "outputs": [],
   "source": [
    "sensors = [col for col in train_normal.columns if col not in ['DATETIME','ATT_FLAG']]"
   ]
  },
  {
   "cell_type": "code",
   "execution_count": 4,
   "metadata": {},
   "outputs": [],
   "source": [
    "scaler = StandardScaler()\n",
    "X_normal = pd.DataFrame(index=train_normal.index, columns=sensors, data=scaler.fit_transform(train_normal[sensors]))\n",
    "X_attack = train_attack[sensors].reset_index().drop(columns=['index'])"
   ]
  },
  {
   "cell_type": "code",
   "execution_count": 5,
   "metadata": {},
   "outputs": [],
   "source": [
    "hankel = Hankel()\n",
    "corrhankel = Corrhankel()\n",
    "lag = 60\n",
    "stride = 0.5"
   ]
  },
  {
   "cell_type": "code",
   "execution_count": 6,
   "metadata": {},
   "outputs": [],
   "source": [
    "corr_normal,nolag_normal = corrhankel.fit(X_normal.to_numpy(),lag,stride)"
   ]
  },
  {
   "cell_type": "code",
   "execution_count": 7,
   "metadata": {},
   "outputs": [],
   "source": [
    "corr_attack,nolag_attack = corrhankel.fit(X_attack.to_numpy(),lag,stride)"
   ]
  },
  {
   "cell_type": "code",
   "execution_count": 8,
   "metadata": {},
   "outputs": [],
   "source": [
    "df_test = pd.read_csv('~/data/ctown/test_dataset.csv')"
   ]
  },
  {
   "cell_type": "markdown",
   "metadata": {},
   "source": [
    "# Epasad with 1 cluster and no threshold tuning (training attack included in test data)"
   ]
  },
  {
   "cell_type": "code",
   "execution_count": 9,
   "metadata": {},
   "outputs": [],
   "source": [
    "test_combined = pd.concat((df_test,train_attack),axis=0)\n",
    "X_test = pd.DataFrame(index=test_combined.index, columns=sensors, data=scaler.fit_transform(test_combined[sensors]))\n",
    "corr_test,nolag_test = corrhankel.fit(X_test.to_numpy(),lag,stride)\n",
    "Y_test = test_combined.loc[:,'ATT_FLAG']"
   ]
  },
  {
   "cell_type": "code",
   "execution_count": 10,
   "metadata": {},
   "outputs": [],
   "source": [
    "labels = hankel.fit(np.array(Y_test),lag,stride)\n",
    "y_actual = np.any(labels>0,axis=0).astype(int)"
   ]
  },
  {
   "cell_type": "code",
   "execution_count": 11,
   "metadata": {},
   "outputs": [],
   "source": [
    "sensor_models = []\n",
    "sensor_predicted = []\n",
    "accuracy = []\n",
    "precision = []\n",
    "recall = []\n",
    "fscore = []\n",
    "for i,sens in enumerate(sensors):\n",
    "    train_normal = X_normal.loc[:,sens].values\n",
    "    train_attack = X_attack.loc[:,sens].values\n",
    "    model = Pipeline()\n",
    "    model.fit(train_normal,train_attack,lag,stride,optimal_k=1,tune=False,corr_normal=corr_normal[:,i].reshape(nolag_normal,len(X_normal.columns)).T,\n",
    "              only_corr=True)\n",
    "    test = X_test.loc[:,sens].values\n",
    "    y_predicted = model.predict(test,corr_test=corr_test[:,i].reshape(nolag_test,len(X_normal.columns)).T)\n",
    "    sensor_predicted.append(y_predicted)\n",
    "    accuracy.append(accuracy_score(y_actual,y_predicted))\n",
    "    precision.append(precision_score(y_actual,y_predicted))\n",
    "    recall.append(recall_score(y_actual,y_predicted))\n",
    "    fscore.append(f1_score(y_actual,y_predicted))\n",
    "    sensor_models.append(model)    "
   ]
  },
  {
   "cell_type": "code",
   "execution_count": 12,
   "metadata": {},
   "outputs": [
    {
     "data": {
      "text/plain": [
       "array([0, 0, 0, 0, 0, 0, 1, 1, 1, 1, 1, 1, 0, 0, 0, 0, 1, 0, 0, 0, 1, 1,\n",
       "       1, 0, 0, 0, 0, 0, 1, 1, 1, 1, 1, 0, 0, 0, 0, 0, 0, 1, 1, 1, 1, 1,\n",
       "       0, 0, 0, 1, 0, 1, 1, 1, 1, 1, 1, 0, 0, 0, 0, 1, 0, 1, 1, 1, 1, 1,\n",
       "       0, 1, 1, 1, 1, 1, 1, 1, 1, 1, 1, 1, 1, 1, 1, 1, 1, 1, 1])"
      ]
     },
     "execution_count": 12,
     "metadata": {},
     "output_type": "execute_result"
    }
   ],
   "source": [
    "sensor_predicted = np.asarray(sensor_predicted)\n",
    "y_predicted = np.any(sensor_predicted,axis=0).astype(int)\n",
    "y_predicted"
   ]
  },
  {
   "cell_type": "code",
   "execution_count": 13,
   "metadata": {},
   "outputs": [
    {
     "name": "stdout",
     "output_type": "stream",
     "text": [
      "Accuracy  0.8235294117647058\n",
      "Precision  0.803921568627451\n",
      "Recall  0.8913043478260869\n",
      "F1-score  0.845360824742268\n"
     ]
    }
   ],
   "source": [
    "print(\"Accuracy \",accuracy_score(y_actual,y_predicted))\n",
    "print(\"Precision \",precision_score(y_actual,y_predicted))\n",
    "print(\"Recall \",recall_score(y_actual,y_predicted))\n",
    "print(\"F1-score \",f1_score(y_actual,y_predicted))"
   ]
  },
  {
   "cell_type": "code",
   "execution_count": 14,
   "metadata": {},
   "outputs": [
    {
     "name": "stdout",
     "output_type": "stream",
     "text": [
      "Accuracy -  Mean: 0.5288645690834475 Median : 0.5176470588235295 Min : 0.4235294117647059 Max : 0.6470588235294118\n",
      "precision - Mean: 0.7529213272787324 Median : 0.8947368421052632 Min : 0.0 Max : 1.0\n",
      "recall -    Mean: 0.14408493427704752 Median : 0.15217391304347827 Min : 0.0 Max : 0.3695652173913043\n",
      "f1 -        Mean: 0.23374893659885193 Median : 0.2545454545454546 Min : 0.0 Max : 0.5230769230769231\n"
     ]
    }
   ],
   "source": [
    "print(\"Accuracy -  Mean: {} Median : {} Min : {} Max : {}\".format(np.asarray(accuracy).mean(), np.median(np.asarray(accuracy)),np.asarray(accuracy).min(), np.asarray(accuracy).max()))\n",
    "print(\"precision - Mean: {} Median : {} Min : {} Max : {}\".format(np.asarray(precision).mean(), np.median(np.asarray(precision)),np.asarray(precision).min(), np.asarray(precision).max()))\n",
    "print(\"recall -    Mean: {} Median : {} Min : {} Max : {}\".format(np.asarray(recall).mean(), np.median(np.asarray(recall)),np.asarray(recall).min(), np.asarray(recall).max()))\n",
    "print(\"f1 -        Mean: {} Median : {} Min : {} Max : {}\".format(np.asarray(fscore).mean(), np.median(np.asarray(fscore)),np.asarray(fscore).min(), np.asarray(fscore).max()))"
   ]
  },
  {
   "cell_type": "markdown",
   "metadata": {},
   "source": [
    "# Multiple clusters + No threshold tuning (training attack mixed in test data)"
   ]
  },
  {
   "cell_type": "code",
   "execution_count": 16,
   "metadata": {},
   "outputs": [
    {
     "name": "stdout",
     "output_type": "stream",
     "text": [
      "-------number of clusters------ 2\n",
      "Accuracy  0.5411764705882353\n",
      "Precision  0.5411764705882353\n",
      "Recall  1.0\n",
      "F1-score  0.7022900763358779\n",
      "-------number of clusters------ 3\n",
      "Accuracy  0.5411764705882353\n",
      "Precision  0.5411764705882353\n",
      "Recall  1.0\n",
      "F1-score  0.7022900763358779\n",
      "-------number of clusters------ 4\n",
      "Accuracy  0.5411764705882353\n",
      "Precision  0.5411764705882353\n",
      "Recall  1.0\n",
      "F1-score  0.7022900763358779\n",
      "-------number of clusters------ 5\n",
      "Accuracy  0.5411764705882353\n",
      "Precision  0.5411764705882353\n",
      "Recall  1.0\n",
      "F1-score  0.7022900763358779\n",
      "-------number of clusters------ 6\n",
      "Accuracy  0.5411764705882353\n",
      "Precision  0.5411764705882353\n",
      "Recall  1.0\n",
      "F1-score  0.7022900763358779\n",
      "-------number of clusters------ 7\n",
      "Accuracy  0.5411764705882353\n",
      "Precision  0.5411764705882353\n",
      "Recall  1.0\n",
      "F1-score  0.7022900763358779\n"
     ]
    }
   ],
   "source": [
    "fscores_k=[]\n",
    "for k in range(2,8):\n",
    "    sensor_models = []\n",
    "    sensor_predicted = []\n",
    "    accuracy = []\n",
    "    precision = []\n",
    "    recall = []\n",
    "    fscore = []\n",
    "    for i,sens in enumerate(sensors):\n",
    "        train_normal = X_normal.loc[:,sens].values\n",
    "        train_attack = X_attack.loc[:,sens].values\n",
    "        model = Pipeline()\n",
    "        model.fit(train_normal,train_attack,lag,stride,optimal_k=k,tune=False,kscore_init='inertia',corr_normal=corr_normal[:,i].reshape(nolag_normal,len(X_normal.columns)).T,\n",
    "                only_corr=True)\n",
    "        test = X_test.loc[:,sens].values\n",
    "        y_predicted = model.predict(test,corr_test=corr_test[:,i].reshape(nolag_test,len(X_normal.columns)).T)\n",
    "        sensor_predicted.append(y_predicted)\n",
    "        accuracy.append(accuracy_score(y_actual,y_predicted))\n",
    "        precision.append(precision_score(y_actual,y_predicted))\n",
    "        recall.append(recall_score(y_actual,y_predicted))\n",
    "        fscore.append(f1_score(y_actual,y_predicted))\n",
    "        sensor_models.append(model)    \n",
    "    sensor_predicted = np.asarray(sensor_predicted)\n",
    "    y_predicted = np.any(sensor_predicted,axis=0).astype(int)\n",
    "    print(\"-------number of clusters------\", k)\n",
    "    print(\"Accuracy \",accuracy_score(y_actual,y_predicted))\n",
    "    print(\"Precision \",precision_score(y_actual,y_predicted))\n",
    "    print(\"Recall \",recall_score(y_actual,y_predicted))\n",
    "    print(\"F1-score \",f1_score(y_actual,y_predicted))\n",
    "    fscores_k.append(f1_score(y_actual,y_predicted))"
   ]
  },
  {
   "attachments": {},
   "cell_type": "markdown",
   "metadata": {},
   "source": [
    "# Epasad with 1 cluster + No threshold tuning (No concat of training and test data)"
   ]
  },
  {
   "cell_type": "code",
   "execution_count": 33,
   "metadata": {},
   "outputs": [],
   "source": [
    "X_test = pd.DataFrame(index=df_test.index, columns=sensors, data=scaler.fit_transform(df_test[sensors]))\n",
    "corr_test,nolag_test = corrhankel.fit(X_test.to_numpy(),lag,stride)\n",
    "Y_test = df_test.loc[:,'ATT_FLAG']"
   ]
  },
  {
   "cell_type": "code",
   "execution_count": 34,
   "metadata": {},
   "outputs": [],
   "source": [
    "labels = hankel.fit(np.array(Y_test),lag,stride)\n",
    "y_actual = np.any(labels>0,axis=0).astype(int)"
   ]
  },
  {
   "cell_type": "code",
   "execution_count": 35,
   "metadata": {},
   "outputs": [],
   "source": [
    "sensor_models = []\n",
    "sensor_predicted = []\n",
    "accuracy = []\n",
    "precision = []\n",
    "recall = []\n",
    "fscore = []\n",
    "for i,sens in enumerate(sensors):\n",
    "    train_normal = X_normal.loc[:,sens].values\n",
    "    train_attack = X_attack.loc[:,sens].values\n",
    "    model = Pipeline()\n",
    "    model.fit(train_normal,train_attack,lag,stride,optimal_k=1,tune=False,kscore_init='inertia',corr_normal=corr_normal[:,i].reshape(nolag_normal,len(X_normal.columns)).T,\n",
    "              corr_attack=corr_attack[:,i].reshape(nolag_attack,len(X_attack.columns)).T,only_corr=True)\n",
    "    test = X_test.loc[:,sens].values\n",
    "    y_predicted = model.predict(test,corr_test=corr_test[:,i].reshape(nolag_test,len(X_normal.columns)).T)\n",
    "    sensor_predicted.append(y_predicted)\n",
    "    accuracy.append(accuracy_score(y_actual,y_predicted))\n",
    "    precision.append(precision_score(y_actual,y_predicted))\n",
    "    recall.append(recall_score(y_actual,y_predicted))\n",
    "    fscore.append(f1_score(y_actual,y_predicted))\n",
    "    sensor_models.append(model)    "
   ]
  },
  {
   "cell_type": "code",
   "execution_count": 36,
   "metadata": {},
   "outputs": [
    {
     "data": {
      "text/plain": [
       "array([0, 0, 0, 0, 0, 0, 1, 1, 1, 1, 1, 1, 0, 0, 0, 0, 1, 0, 0, 0, 1, 1,\n",
       "       1, 0, 0, 0, 0, 0, 1, 1, 1, 1, 1, 0, 0, 0, 0, 0, 0, 1, 1, 1, 1, 1,\n",
       "       0, 0, 0, 1, 0, 1, 1, 1, 1, 1, 1, 0, 0, 0, 0, 1, 0, 1, 1, 1, 1, 1,\n",
       "       0, 1])"
      ]
     },
     "execution_count": 36,
     "metadata": {},
     "output_type": "execute_result"
    }
   ],
   "source": [
    "sensor_predicted = np.asarray(sensor_predicted)\n",
    "y_predicted = np.any(sensor_predicted,axis=0).astype(int)\n",
    "y_predicted"
   ]
  },
  {
   "cell_type": "code",
   "execution_count": 37,
   "metadata": {},
   "outputs": [
    {
     "name": "stdout",
     "output_type": "stream",
     "text": [
      "Accuracy  0.7794117647058824\n",
      "Precision  0.7058823529411765\n",
      "Recall  0.8275862068965517\n",
      "F1-score  0.7619047619047619\n"
     ]
    }
   ],
   "source": [
    "print(\"Accuracy \",accuracy_score(y_actual,y_predicted))\n",
    "print(\"Precision \",precision_score(y_actual,y_predicted))\n",
    "print(\"Recall \",recall_score(y_actual,y_predicted))\n",
    "print(\"F1-score \",f1_score(y_actual,y_predicted))"
   ]
  },
  {
   "cell_type": "code",
   "execution_count": 38,
   "metadata": {},
   "outputs": [
    {
     "name": "stdout",
     "output_type": "stream",
     "text": [
      "Accuracy -  Mean: 0.6019151846785226 Median : 0.5882352941176471 Min : 0.5147058823529411 Max : 0.7058823529411765\n",
      "precision - Mean: 0.5523230645323669 Median : 0.6666666666666666 Min : 0.0 Max : 1.0\n",
      "recall -    Mean: 0.08981555733761026 Median : 0.034482758620689655 Min : 0.0 Max : 0.3103448275862069\n",
      "f1 -        Mean: 0.1483482023254447 Median : 0.06666666666666667 Min : 0.0 Max : 0.4736842105263158\n"
     ]
    }
   ],
   "source": [
    "print(\"Accuracy -  Mean: {} Median : {} Min : {} Max : {}\".format(np.asarray(accuracy).mean(), np.median(np.asarray(accuracy)),np.asarray(accuracy).min(), np.asarray(accuracy).max()))\n",
    "print(\"precision - Mean: {} Median : {} Min : {} Max : {}\".format(np.asarray(precision).mean(), np.median(np.asarray(precision)),np.asarray(precision).min(), np.asarray(precision).max()))\n",
    "print(\"recall -    Mean: {} Median : {} Min : {} Max : {}\".format(np.asarray(recall).mean(), np.median(np.asarray(recall)),np.asarray(recall).min(), np.asarray(recall).max()))\n",
    "print(\"f1 -        Mean: {} Median : {} Min : {} Max : {}\".format(np.asarray(fscore).mean(), np.median(np.asarray(fscore)),np.asarray(fscore).min(), np.asarray(fscore).max()))"
   ]
  },
  {
   "attachments": {},
   "cell_type": "markdown",
   "metadata": {},
   "source": [
    "# Multiple clusters + No threshold tuning (No concat of training and test data)"
   ]
  },
  {
   "cell_type": "code",
   "execution_count": 26,
   "metadata": {},
   "outputs": [
    {
     "name": "stdout",
     "output_type": "stream",
     "text": [
      "-------number of clusters------ 2\n",
      "Accuracy  0.4264705882352941\n",
      "Precision  0.4264705882352941\n",
      "Recall  1.0\n",
      "F1-score  0.5979381443298969\n",
      "-------number of clusters------ 3\n",
      "Accuracy  0.4264705882352941\n",
      "Precision  0.4264705882352941\n",
      "Recall  1.0\n",
      "F1-score  0.5979381443298969\n",
      "-------number of clusters------ 4\n",
      "Accuracy  0.4264705882352941\n",
      "Precision  0.4264705882352941\n",
      "Recall  1.0\n",
      "F1-score  0.5979381443298969\n",
      "-------number of clusters------ 5\n",
      "Accuracy  0.4264705882352941\n",
      "Precision  0.4264705882352941\n",
      "Recall  1.0\n",
      "F1-score  0.5979381443298969\n",
      "-------number of clusters------ 6\n",
      "Accuracy  0.4264705882352941\n",
      "Precision  0.4264705882352941\n",
      "Recall  1.0\n",
      "F1-score  0.5979381443298969\n",
      "-------number of clusters------ 7\n",
      "Accuracy  0.4264705882352941\n",
      "Precision  0.4264705882352941\n",
      "Recall  1.0\n",
      "F1-score  0.5979381443298969\n"
     ]
    }
   ],
   "source": [
    "fscores_k_2=[]\n",
    "for k in range(2,8):\n",
    "    sensor_models = []\n",
    "    sensor_predicted = []\n",
    "    accuracy = []\n",
    "    precision = []\n",
    "    recall = []\n",
    "    fscore = []\n",
    "    for i,sens in enumerate(sensors):\n",
    "        train_normal = X_normal.loc[:,sens].values\n",
    "        train_attack = X_attack.loc[:,sens].values\n",
    "        model = Pipeline()\n",
    "        model.fit(train_normal,train_attack,lag,stride,optimal_k=k,tune=False,kscore_init='inertia',corr_normal=corr_normal[:,i].reshape(nolag_normal,len(X_normal.columns)).T,\n",
    "                only_corr=True)\n",
    "        test = X_test.loc[:,sens].values\n",
    "        y_predicted = model.predict(test,corr_test=corr_test[:,i].reshape(nolag_test,len(X_normal.columns)).T)\n",
    "        sensor_predicted.append(y_predicted)\n",
    "        accuracy.append(accuracy_score(y_actual,y_predicted))\n",
    "        precision.append(precision_score(y_actual,y_predicted))\n",
    "        recall.append(recall_score(y_actual,y_predicted))\n",
    "        fscore.append(f1_score(y_actual,y_predicted))\n",
    "        sensor_models.append(model)    \n",
    "    sensor_predicted = np.asarray(sensor_predicted)\n",
    "    y_predicted = np.any(sensor_predicted,axis=0).astype(int)\n",
    "    print(\"-------number of clusters------\", k)\n",
    "    print(\"Accuracy \",accuracy_score(y_actual,y_predicted))\n",
    "    print(\"Precision \",precision_score(y_actual,y_predicted))\n",
    "    print(\"Recall \",recall_score(y_actual,y_predicted))\n",
    "    print(\"F1-score \",f1_score(y_actual,y_predicted))\n",
    "    fscores_k_2.append(f1_score(y_actual,y_predicted))"
   ]
  },
  {
   "cell_type": "markdown",
   "metadata": {},
   "source": [
    "# Multiple clusters + Threshold tuning (No concat of training and test data)"
   ]
  },
  {
   "cell_type": "code",
   "execution_count": 32,
   "metadata": {},
   "outputs": [
    {
     "name": "stdout",
     "output_type": "stream",
     "text": [
      "-------number of clusters------ 2\n",
      "Accuracy  0.4264705882352941\n",
      "Precision  0.4264705882352941\n",
      "Recall  1.0\n",
      "F1-score  0.5979381443298969\n",
      "-------number of clusters------ 3\n",
      "Accuracy  0.4264705882352941\n",
      "Precision  0.4264705882352941\n",
      "Recall  1.0\n",
      "F1-score  0.5979381443298969\n",
      "-------number of clusters------ 4\n",
      "Accuracy  0.4264705882352941\n",
      "Precision  0.4264705882352941\n",
      "Recall  1.0\n",
      "F1-score  0.5979381443298969\n",
      "-------number of clusters------ 5\n",
      "Accuracy  0.4264705882352941\n",
      "Precision  0.4264705882352941\n",
      "Recall  1.0\n",
      "F1-score  0.5979381443298969\n",
      "-------number of clusters------ 6\n",
      "Accuracy  0.4264705882352941\n",
      "Precision  0.4264705882352941\n",
      "Recall  1.0\n",
      "F1-score  0.5979381443298969\n",
      "-------number of clusters------ 7\n",
      "Accuracy  0.4264705882352941\n",
      "Precision  0.4264705882352941\n",
      "Recall  1.0\n",
      "F1-score  0.5979381443298969\n"
     ]
    }
   ],
   "source": [
    "fscores_k_3=[]\n",
    "for k in range(2,8):\n",
    "    sensor_models = []\n",
    "    sensor_predicted = []\n",
    "    accuracy = []\n",
    "    precision = []\n",
    "    recall = []\n",
    "    fscore = []\n",
    "    for i,sens in enumerate(sensors):\n",
    "        train_normal = X_normal.loc[:,sens].values\n",
    "        train_attack = X_attack.loc[:,sens].values\n",
    "        model = Pipeline()\n",
    "        model.fit(train_normal,train_attack,lag,stride,optimal_k=k,tune=True,kscore_init='inertia',corr_normal=corr_normal[:,i].reshape(nolag_normal,len(X_normal.columns)).T,corr_attack=corr_attack[:,i].reshape(nolag_attack,len(X_attack.columns)).T\n",
    "                ,only_corr=True)\n",
    "        test = X_test.loc[:,sens].values\n",
    "        y_predicted = model.predict(test,corr_test=corr_test[:,i].reshape(nolag_test,len(X_normal.columns)).T)\n",
    "        sensor_predicted.append(y_predicted)\n",
    "        accuracy.append(accuracy_score(y_actual,y_predicted))\n",
    "        precision.append(precision_score(y_actual,y_predicted))\n",
    "        recall.append(recall_score(y_actual,y_predicted))\n",
    "        fscore.append(f1_score(y_actual,y_predicted))\n",
    "        sensor_models.append(model)    \n",
    "    sensor_predicted = np.asarray(sensor_predicted)\n",
    "    y_predicted = np.any(sensor_predicted,axis=0).astype(int)\n",
    "    print(\"-------number of clusters------\", k)\n",
    "    print(\"Accuracy \",accuracy_score(y_actual,y_predicted))\n",
    "    print(\"Precision \",precision_score(y_actual,y_predicted))\n",
    "    print(\"Recall \",recall_score(y_actual,y_predicted))\n",
    "    print(\"F1-score \",f1_score(y_actual,y_predicted))\n",
    "    fscores_k_3.append(f1_score(y_actual,y_predicted))"
   ]
  }
 ],
 "metadata": {
  "kernelspec": {
   "display_name": "base",
   "language": "python",
   "name": "python3"
  },
  "language_info": {
   "codemirror_mode": {
    "name": "ipython",
    "version": 3
   },
   "file_extension": ".py",
   "mimetype": "text/x-python",
   "name": "python",
   "nbconvert_exporter": "python",
   "pygments_lexer": "ipython3",
   "version": "3.9.13"
  },
  "orig_nbformat": 4,
  "vscode": {
   "interpreter": {
    "hash": "53b584fcbb4de26fd06ec6c2cdf5e79eeceea3a87d14166bd7f17bce6a8842a5"
   }
  }
 },
 "nbformat": 4,
 "nbformat_minor": 2
}
