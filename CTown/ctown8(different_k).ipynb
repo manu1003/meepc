{
 "cells": [
  {
   "cell_type": "code",
   "execution_count": 1,
   "metadata": {},
   "outputs": [
    {
     "name": "stderr",
     "output_type": "stream",
     "text": [
      "C:\\Users\\user\\AppData\\Local\\Packages\\PythonSoftwareFoundation.Python.3.9_qbz5n2kfra8p0\\LocalCache\\local-packages\\Python39\\site-packages\\numpy\\_distributor_init.py:30: UserWarning: loaded more than 1 DLL from .libs:\n",
      "C:\\Users\\user\\AppData\\Local\\Packages\\PythonSoftwareFoundation.Python.3.9_qbz5n2kfra8p0\\LocalCache\\local-packages\\Python39\\site-packages\\numpy\\.libs\\libopenblas.EL2C6PLE4ZYW3ECEVIV3OXXGRN2NRFM2.gfortran-win_amd64.dll\n",
      "C:\\Users\\user\\AppData\\Local\\Packages\\PythonSoftwareFoundation.Python.3.9_qbz5n2kfra8p0\\LocalCache\\local-packages\\Python39\\site-packages\\numpy\\.libs\\libopenblas.WCDJNK7YVMPZQ2ME2ZZHJJRJ3JIKNDB7.gfortran-win_amd64.dll\n",
      "  warnings.warn(\"loaded more than 1 DLL from .libs:\"\n"
     ]
    }
   ],
   "source": [
    "import sys\n",
    "sys.path.append(\"C:/Users/user/meepc\")\n",
    "import numpy as np\n",
    "import pandas as pd\n",
    "from models import Hankel,Corrhankel,Pipeline\n",
    "from sklearn.preprocessing import StandardScaler\n",
    "from sklearn.metrics import accuracy_score,precision_score,recall_score,f1_score,roc_auc_score"
   ]
  },
  {
   "cell_type": "code",
   "execution_count": 2,
   "metadata": {},
   "outputs": [],
   "source": [
    "df1 = pd.read_csv('~/data/ctown/dataset03.csv')\n",
    "df2 = pd.read_csv('~/data/ctown/dataset04.csv')\n",
    "\n",
    "train_normal = pd.concat((df1,df2[df2['ATT_FLAG']==0]),axis=0,ignore_index=True)\n",
    "train_attack = df2[df2['ATT_FLAG']==1]"
   ]
  },
  {
   "cell_type": "code",
   "execution_count": 3,
   "metadata": {},
   "outputs": [],
   "source": [
    "sensors = [col for col in train_normal.columns if col not in ['DATETIME','ATT_FLAG']]"
   ]
  },
  {
   "cell_type": "code",
   "execution_count": 4,
   "metadata": {},
   "outputs": [],
   "source": [
    "scaler = StandardScaler()\n",
    "X_normal = pd.DataFrame(index=train_normal.index, columns=sensors, data=scaler.fit_transform(train_normal[sensors]))\n",
    "X_attack = train_attack[sensors].reset_index().drop(columns=['index'])"
   ]
  },
  {
   "cell_type": "code",
   "execution_count": 5,
   "metadata": {},
   "outputs": [],
   "source": [
    "hankel = Hankel()\n",
    "corrhankel = Corrhankel()\n",
    "lag = 60\n",
    "stride = 0.5"
   ]
  },
  {
   "cell_type": "code",
   "execution_count": 6,
   "metadata": {},
   "outputs": [],
   "source": [
    "corr_normal,nolag_normal = corrhankel.fit(X_normal.to_numpy(),lag,stride)"
   ]
  },
  {
   "cell_type": "code",
   "execution_count": 7,
   "metadata": {},
   "outputs": [],
   "source": [
    "corr_attack,nolag_attack = corrhankel.fit(X_attack.to_numpy(),lag,stride)"
   ]
  },
  {
   "cell_type": "code",
   "execution_count": 8,
   "metadata": {},
   "outputs": [],
   "source": [
    "df_test = pd.read_csv('~/data/ctown/test_dataset.csv')"
   ]
  },
  {
   "cell_type": "markdown",
   "metadata": {},
   "source": [
    "# Epasad with 1 cluster and no threshold tuning (training attack included in test data)"
   ]
  },
  {
   "cell_type": "code",
   "execution_count": 9,
   "metadata": {},
   "outputs": [],
   "source": [
    "test_combined = pd.concat((df_test,train_attack),axis=0)\n",
    "X_test = pd.DataFrame(index=test_combined.index, columns=sensors, data=scaler.fit_transform(test_combined[sensors]))\n",
    "corr_test,nolag_test = corrhankel.fit(X_test.to_numpy(),lag,stride)\n",
    "Y_test = test_combined.loc[:,'ATT_FLAG']"
   ]
  },
  {
   "cell_type": "code",
   "execution_count": 10,
   "metadata": {},
   "outputs": [],
   "source": [
    "labels = hankel.fit(np.array(Y_test),lag,stride)\n",
    "y_actual = np.any(labels>0,axis=0).astype(int)"
   ]
  },
  {
   "cell_type": "code",
   "execution_count": 11,
   "metadata": {},
   "outputs": [],
   "source": [
    "sensor_models = []\n",
    "sensor_predicted = []\n",
    "accuracy = []\n",
    "precision = []\n",
    "recall = []\n",
    "fscore = []\n",
    "for i,sens in enumerate(sensors):\n",
    "    train_normal = X_normal.loc[:,sens].values\n",
    "    train_attack = X_attack.loc[:,sens].values\n",
    "    model = Pipeline()\n",
    "    model.fit(train_normal,train_attack,lag,stride,optimal_k=1,tune=False,corr_normal=corr_normal[:,i].reshape(nolag_normal,len(X_normal.columns)).T,\n",
    "              only_corr=True)\n",
    "    test = X_test.loc[:,sens].values\n",
    "    y_predicted = model.predict(test,corr_test=corr_test[:,i].reshape(nolag_test,len(X_normal.columns)).T)\n",
    "    sensor_predicted.append(y_predicted)\n",
    "    accuracy.append(accuracy_score(y_actual,y_predicted))\n",
    "    precision.append(precision_score(y_actual,y_predicted))\n",
    "    recall.append(recall_score(y_actual,y_predicted))\n",
    "    fscore.append(f1_score(y_actual,y_predicted))\n",
    "    sensor_models.append(model)    "
   ]
  },
  {
   "cell_type": "code",
   "execution_count": 12,
   "metadata": {},
   "outputs": [
    {
     "data": {
      "text/plain": [
       "array([0, 0, 0, 0, 0, 0, 1, 1, 1, 1, 1, 1, 1, 1, 0, 0, 1, 0, 0, 0, 1, 1,\n",
       "       1, 0, 0, 0, 0, 0, 1, 1, 1, 1, 0, 0, 0, 0, 0, 1, 0, 1, 1, 1, 1, 1,\n",
       "       0, 0, 0, 1, 0, 1, 1, 1, 1, 1, 1, 0, 0, 0, 0, 1, 0, 1, 1, 1, 1, 1,\n",
       "       0, 1, 1, 1, 1, 1, 1, 1, 1, 1, 1, 1, 1, 1, 1, 1, 1, 1, 1])"
      ]
     },
     "execution_count": 12,
     "metadata": {},
     "output_type": "execute_result"
    }
   ],
   "source": [
    "sensor_predicted = np.asarray(sensor_predicted)\n",
    "y_predicted = np.any(sensor_predicted,axis=0).astype(int)\n",
    "y_predicted"
   ]
  },
  {
   "cell_type": "code",
   "execution_count": 13,
   "metadata": {},
   "outputs": [
    {
     "name": "stdout",
     "output_type": "stream",
     "text": [
      "Accuracy  0.8\n",
      "Precision  0.7735849056603774\n",
      "Recall  0.8913043478260869\n",
      "F1-score  0.8282828282828283\n"
     ]
    }
   ],
   "source": [
    "print(\"Accuracy \",accuracy_score(y_actual,y_predicted))\n",
    "print(\"Precision \",precision_score(y_actual,y_predicted))\n",
    "print(\"Recall \",recall_score(y_actual,y_predicted))\n",
    "print(\"F1-score \",f1_score(y_actual,y_predicted))"
   ]
  },
  {
   "cell_type": "code",
   "execution_count": 14,
   "metadata": {},
   "outputs": [],
   "source": [
    "# Accuracy  0.8\n",
    "# Precision  0.7735849056603774\n",
    "# Recall  0.8913043478260869\n",
    "# F1-score  0.8282828282828283"
   ]
  },
  {
   "cell_type": "code",
   "execution_count": 15,
   "metadata": {},
   "outputs": [
    {
     "name": "stdout",
     "output_type": "stream",
     "text": [
      "Accuracy -  Mean: 0.5400820793433654 Median : 0.5294117647058824 Min : 0.4235294117647059 Max : 0.6588235294117647\n",
      "precision - Mean: 0.7513263042746806 Median : 0.9 Min : 0.0 Max : 1.0\n",
      "recall -    Mean: 0.16683518705763395 Median : 0.15217391304347827 Min : 0.0 Max : 0.3695652173913043\n",
      "f1 -        Mean: 0.2647579188759229 Median : 0.2592592592592593 Min : 0.0 Max : 0.5396825396825397\n"
     ]
    }
   ],
   "source": [
    "print(\"Accuracy -  Mean: {} Median : {} Min : {} Max : {}\".format(np.asarray(accuracy).mean(), np.median(np.asarray(accuracy)),np.asarray(accuracy).min(), np.asarray(accuracy).max()))\n",
    "print(\"precision - Mean: {} Median : {} Min : {} Max : {}\".format(np.asarray(precision).mean(), np.median(np.asarray(precision)),np.asarray(precision).min(), np.asarray(precision).max()))\n",
    "print(\"recall -    Mean: {} Median : {} Min : {} Max : {}\".format(np.asarray(recall).mean(), np.median(np.asarray(recall)),np.asarray(recall).min(), np.asarray(recall).max()))\n",
    "print(\"f1 -        Mean: {} Median : {} Min : {} Max : {}\".format(np.asarray(fscore).mean(), np.median(np.asarray(fscore)),np.asarray(fscore).min(), np.asarray(fscore).max()))"
   ]
  },
  {
   "cell_type": "markdown",
   "metadata": {},
   "source": [
    "# Multiple clusters + No threshold tuning (training attack mixed in test data)"
   ]
  },
  {
   "cell_type": "code",
   "execution_count": 16,
   "metadata": {},
   "outputs": [
    {
     "name": "stdout",
     "output_type": "stream",
     "text": [
      "------Number of Clusters:  2 -----------\n",
      "Accuracy  0.7529411764705882\n",
      "Precision  0.6923076923076923\n",
      "Recall  0.9782608695652174\n",
      "F1-score  0.8108108108108107 \n",
      "\n",
      "------Number of Clusters:  3 -----------\n",
      "Accuracy  0.6352941176470588\n",
      "Precision  0.5974025974025974\n",
      "Recall  1.0\n",
      "F1-score  0.7479674796747967 \n",
      "\n",
      "------Number of Clusters:  4 -----------\n",
      "Accuracy  0.6352941176470588\n",
      "Precision  0.6\n",
      "Recall  0.9782608695652174\n",
      "F1-score  0.743801652892562 \n",
      "\n",
      "------Number of Clusters:  5 -----------\n",
      "Accuracy  0.611764705882353\n",
      "Precision  0.5822784810126582\n",
      "Recall  1.0\n",
      "F1-score  0.736 \n",
      "\n",
      "------Number of Clusters:  6 -----------\n",
      "Accuracy  0.611764705882353\n",
      "Precision  0.5822784810126582\n",
      "Recall  1.0\n",
      "F1-score  0.736 \n",
      "\n",
      "------Number of Clusters:  7 -----------\n",
      "Accuracy  0.5647058823529412\n",
      "Precision  0.5542168674698795\n",
      "Recall  1.0\n",
      "F1-score  0.7131782945736435 \n",
      "\n"
     ]
    }
   ],
   "source": [
    "cluster_fscore = []\n",
    "for k in range(2,8):\n",
    "    sensor_models = []\n",
    "    sensor_predicted = []\n",
    "    accuracy = []\n",
    "    precision = []\n",
    "    recall = []\n",
    "    fscore = []\n",
    "    for i,sens in enumerate(sensors):\n",
    "        train_normal = X_normal.loc[:,sens].values\n",
    "        train_attack = X_attack.loc[:,sens].values\n",
    "        model = Pipeline()\n",
    "        model.fit(train_normal,train_attack,lag,stride,optimal_k=k,tune=False,kscore_init='inertia',corr_normal=corr_normal[:,i].reshape(nolag_normal,len(X_normal.columns)).T,\n",
    "                only_corr=True)\n",
    "        test = X_test.loc[:,sens].values\n",
    "        y_predicted = model.predict(test,corr_test=corr_test[:,i].reshape(nolag_test,len(X_normal.columns)).T)\n",
    "        sensor_predicted.append(y_predicted)\n",
    "        accuracy.append(accuracy_score(y_actual,y_predicted))\n",
    "        precision.append(precision_score(y_actual,y_predicted))\n",
    "        recall.append(recall_score(y_actual,y_predicted))\n",
    "        fscore.append(f1_score(y_actual,y_predicted))\n",
    "        sensor_models.append(model)    \n",
    "    sensor_predicted = np.asarray(sensor_predicted)\n",
    "    y_predicted = np.any(sensor_predicted,axis=0).astype(int)\n",
    "    print('------Number of Clusters: ',k,'-----------')\n",
    "    print(\"Accuracy \",accuracy_score(y_actual,y_predicted))\n",
    "    print(\"Precision \",precision_score(y_actual,y_predicted))\n",
    "    print(\"Recall \",recall_score(y_actual,y_predicted))\n",
    "    print(\"F1-score \",f1_score(y_actual,y_predicted),'\\n')\n",
    "    cluster_fscore.append(f1_score(y_actual,y_predicted))"
   ]
  },
  {
   "cell_type": "code",
   "execution_count": 17,
   "metadata": {},
   "outputs": [],
   "source": [
    "# ------Number of Clusters:  2 -----------\n",
    "# Accuracy  0.7647058823529411\n",
    "# Precision  0.703125\n",
    "# Recall  0.9782608695652174\n",
    "# F1-score  0.8181818181818182 \n",
    "\n",
    "# ------Number of Clusters:  3 -----------\n",
    "# Accuracy  0.6588235294117647\n",
    "# Precision  0.6133333333333333\n",
    "# Recall  1.0\n",
    "# F1-score  0.7603305785123966 \n",
    "\n",
    "# ------Number of Clusters:  4 -----------\n",
    "# Accuracy  0.6588235294117647\n",
    "# Precision  0.6133333333333333\n",
    "# Recall  1.0\n",
    "# F1-score  0.7603305785123966 \n",
    "\n",
    "# ------Number of Clusters:  5 -----------\n",
    "# Accuracy  0.611764705882353\n",
    "# Precision  0.5822784810126582\n",
    "# Recall  1.0\n",
    "# F1-score  0.736 \n",
    "\n",
    "# ------Number of Clusters:  6 -----------\n",
    "# Accuracy  0.6235294117647059\n",
    "# Precision  0.5897435897435898\n",
    "# Recall  1.0\n",
    "# F1-score  0.7419354838709677 \n",
    "\n",
    "# ------Number of Clusters:  7 -----------\n",
    "# Accuracy  0.5764705882352941\n",
    "# Precision  0.5609756097560976\n",
    "# Recall  1.0\n",
    "# F1-score  0.71875 \n",
    "\n"
   ]
  },
  {
   "cell_type": "code",
   "execution_count": 18,
   "metadata": {},
   "outputs": [
    {
     "data": {
      "text/plain": [
       "[0.8108108108108107,\n",
       " 0.7479674796747967,\n",
       " 0.743801652892562,\n",
       " 0.736,\n",
       " 0.736,\n",
       " 0.7131782945736435]"
      ]
     },
     "execution_count": 18,
     "metadata": {},
     "output_type": "execute_result"
    }
   ],
   "source": [
    "cluster_fscore"
   ]
  },
  {
   "cell_type": "code",
   "execution_count": 19,
   "metadata": {},
   "outputs": [],
   "source": [
    "# [0.8181818181818182,\n",
    "#  0.7603305785123966,\n",
    "#  0.7603305785123966,\n",
    "#  0.736,\n",
    "#  0.7419354838709677,\n",
    "#  0.71875]"
   ]
  },
  {
   "attachments": {},
   "cell_type": "markdown",
   "metadata": {},
   "source": [
    "# Epasad with 1 cluster + No threshold tuning (No concat of training and test data)"
   ]
  },
  {
   "cell_type": "code",
   "execution_count": 20,
   "metadata": {},
   "outputs": [],
   "source": [
    "X_test = pd.DataFrame(index=df_test.index, columns=sensors, data=scaler.fit_transform(df_test[sensors]))\n",
    "corr_test,nolag_test = corrhankel.fit(X_test.to_numpy(),lag,stride)\n",
    "Y_test = df_test.loc[:,'ATT_FLAG']"
   ]
  },
  {
   "cell_type": "code",
   "execution_count": 21,
   "metadata": {},
   "outputs": [],
   "source": [
    "labels = hankel.fit(np.array(Y_test),lag,stride)\n",
    "y_actual = np.any(labels>0,axis=0).astype(int)"
   ]
  },
  {
   "cell_type": "code",
   "execution_count": 22,
   "metadata": {},
   "outputs": [],
   "source": [
    "sensor_models = []\n",
    "sensor_predicted = []\n",
    "accuracy = []\n",
    "precision = []\n",
    "recall = []\n",
    "fscore = []\n",
    "for i,sens in enumerate(sensors):\n",
    "    train_normal = X_normal.loc[:,sens].values\n",
    "    train_attack = X_attack.loc[:,sens].values\n",
    "    model = Pipeline()\n",
    "    model.fit(train_normal,train_attack,lag,stride,optimal_k=1,tune=False,kscore_init='inertia',corr_normal=corr_normal[:,i].reshape(nolag_normal,len(X_normal.columns)).T,\n",
    "              corr_attack=corr_attack[:,i].reshape(nolag_attack,len(X_attack.columns)).T,only_corr=True)\n",
    "    test = X_test.loc[:,sens].values\n",
    "    y_predicted = model.predict(test,corr_test=corr_test[:,i].reshape(nolag_test,len(X_normal.columns)).T)\n",
    "    sensor_predicted.append(y_predicted)\n",
    "    accuracy.append(accuracy_score(y_actual,y_predicted))\n",
    "    precision.append(precision_score(y_actual,y_predicted))\n",
    "    recall.append(recall_score(y_actual,y_predicted))\n",
    "    fscore.append(f1_score(y_actual,y_predicted))\n",
    "    sensor_models.append(model)    "
   ]
  },
  {
   "cell_type": "code",
   "execution_count": 23,
   "metadata": {},
   "outputs": [
    {
     "data": {
      "text/plain": [
       "array([0, 0, 0, 0, 0, 0, 1, 1, 1, 1, 1, 1, 1, 0, 0, 0, 1, 0, 0, 0, 1, 1,\n",
       "       1, 0, 0, 0, 0, 0, 1, 1, 1, 1, 0, 0, 0, 0, 0, 1, 0, 0, 1, 1, 1, 1,\n",
       "       0, 0, 0, 1, 0, 1, 1, 1, 1, 1, 1, 0, 0, 0, 0, 1, 0, 1, 1, 1, 1, 1,\n",
       "       0, 1])"
      ]
     },
     "execution_count": 23,
     "metadata": {},
     "output_type": "execute_result"
    }
   ],
   "source": [
    "sensor_predicted = np.asarray(sensor_predicted)\n",
    "y_predicted = np.any(sensor_predicted,axis=0).astype(int)\n",
    "y_predicted"
   ]
  },
  {
   "cell_type": "code",
   "execution_count": 24,
   "metadata": {},
   "outputs": [
    {
     "name": "stdout",
     "output_type": "stream",
     "text": [
      "Accuracy  0.75\n",
      "Precision  0.6764705882352942\n",
      "Recall  0.7931034482758621\n",
      "F1-score  0.7301587301587301\n"
     ]
    }
   ],
   "source": [
    "print(\"Accuracy \",accuracy_score(y_actual,y_predicted))\n",
    "print(\"Precision \",precision_score(y_actual,y_predicted))\n",
    "print(\"Recall \",recall_score(y_actual,y_predicted))\n",
    "print(\"F1-score \",f1_score(y_actual,y_predicted))"
   ]
  },
  {
   "cell_type": "code",
   "execution_count": 25,
   "metadata": {},
   "outputs": [],
   "source": [
    "# Accuracy  0.75\n",
    "# Precision  0.6764705882352942\n",
    "# Recall  0.7931034482758621\n",
    "# F1-score  0.7301587301587301"
   ]
  },
  {
   "cell_type": "code",
   "execution_count": 26,
   "metadata": {},
   "outputs": [
    {
     "name": "stdout",
     "output_type": "stream",
     "text": [
      "Accuracy -  Mean: 0.6063611491108071 Median : 0.6029411764705882 Min : 0.5294117647058824 Max : 0.7058823529411765\n",
      "precision - Mean: 0.5909929863418235 Median : 0.75 Min : 0.0 Max : 1.0\n",
      "recall -    Mean: 0.10264635124298314 Median : 0.06896551724137931 Min : 0.0 Max : 0.3103448275862069\n",
      "f1 -        Mean: 0.16873336193803887 Median : 0.12903225806451613 Min : 0.0 Max : 0.4736842105263158\n"
     ]
    }
   ],
   "source": [
    "print(\"Accuracy -  Mean: {} Median : {} Min : {} Max : {}\".format(np.asarray(accuracy).mean(), np.median(np.asarray(accuracy)),np.asarray(accuracy).min(), np.asarray(accuracy).max()))\n",
    "print(\"precision - Mean: {} Median : {} Min : {} Max : {}\".format(np.asarray(precision).mean(), np.median(np.asarray(precision)),np.asarray(precision).min(), np.asarray(precision).max()))\n",
    "print(\"recall -    Mean: {} Median : {} Min : {} Max : {}\".format(np.asarray(recall).mean(), np.median(np.asarray(recall)),np.asarray(recall).min(), np.asarray(recall).max()))\n",
    "print(\"f1 -        Mean: {} Median : {} Min : {} Max : {}\".format(np.asarray(fscore).mean(), np.median(np.asarray(fscore)),np.asarray(fscore).min(), np.asarray(fscore).max()))"
   ]
  },
  {
   "attachments": {},
   "cell_type": "markdown",
   "metadata": {},
   "source": [
    "# Multiple clusters + No threshold tuning (No concat of training and test data)"
   ]
  },
  {
   "cell_type": "code",
   "execution_count": 27,
   "metadata": {},
   "outputs": [
    {
     "name": "stdout",
     "output_type": "stream",
     "text": [
      "------Number of Clusters:  2 -----------\n",
      "Accuracy  0.75\n",
      "Precision  0.6363636363636364\n",
      "Recall  0.9655172413793104\n",
      "F1-score  0.7671232876712328 \n",
      "\n",
      "------Number of Clusters:  3 -----------\n",
      "Accuracy  0.6176470588235294\n",
      "Precision  0.5272727272727272\n",
      "Recall  1.0\n",
      "F1-score  0.6904761904761904 \n",
      "\n",
      "------Number of Clusters:  4 -----------\n",
      "Accuracy  0.5441176470588235\n",
      "Precision  0.48333333333333334\n",
      "Recall  1.0\n",
      "F1-score  0.6516853932584269 \n",
      "\n",
      "------Number of Clusters:  5 -----------\n",
      "Accuracy  0.5441176470588235\n",
      "Precision  0.48333333333333334\n",
      "Recall  1.0\n",
      "F1-score  0.6516853932584269 \n",
      "\n",
      "------Number of Clusters:  6 -----------\n",
      "Accuracy  0.5735294117647058\n",
      "Precision  0.5\n",
      "Recall  1.0\n",
      "F1-score  0.6666666666666666 \n",
      "\n",
      "------Number of Clusters:  7 -----------\n",
      "Accuracy  0.5294117647058824\n",
      "Precision  0.47540983606557374\n",
      "Recall  1.0\n",
      "F1-score  0.6444444444444445 \n",
      "\n"
     ]
    }
   ],
   "source": [
    "cluster_fscore = []\n",
    "for k in range(2,8):\n",
    "    sensor_models = []\n",
    "    sensor_predicted = []\n",
    "    accuracy = []\n",
    "    precision = []\n",
    "    recall = []\n",
    "    fscore = []\n",
    "    for i,sens in enumerate(sensors):\n",
    "        train_normal = X_normal.loc[:,sens].values\n",
    "        train_attack = X_attack.loc[:,sens].values\n",
    "        model = Pipeline()\n",
    "        model.fit(train_normal,train_attack,lag,stride,optimal_k=k,tune=False,corr_normal=corr_normal[:,i].reshape(nolag_normal,len(X_normal.columns)).T,\n",
    "                corr_attack=corr_attack[:,i].reshape(nolag_attack,len(X_attack.columns)).T,only_corr=True)\n",
    "        test = X_test.loc[:,sens].values\n",
    "        y_predicted = model.predict(test,corr_test=corr_test[:,i].reshape(nolag_test,len(X_normal.columns)).T)\n",
    "        sensor_predicted.append(y_predicted)\n",
    "        accuracy.append(accuracy_score(y_actual,y_predicted))\n",
    "        precision.append(precision_score(y_actual,y_predicted))\n",
    "        recall.append(recall_score(y_actual,y_predicted))\n",
    "        fscore.append(f1_score(y_actual,y_predicted))\n",
    "        sensor_models.append(model)    \n",
    "    sensor_predicted = np.asarray(sensor_predicted)\n",
    "    y_predicted = np.any(sensor_predicted,axis=0).astype(int)\n",
    "    print('------Number of Clusters: ',k,'-----------')\n",
    "    print(\"Accuracy \",accuracy_score(y_actual,y_predicted))\n",
    "    print(\"Precision \",precision_score(y_actual,y_predicted))\n",
    "    print(\"Recall \",recall_score(y_actual,y_predicted))\n",
    "    print(\"F1-score \",f1_score(y_actual,y_predicted),'\\n')\n",
    "    cluster_fscore.append(f1_score(y_actual,y_predicted))"
   ]
  },
  {
   "cell_type": "code",
   "execution_count": 28,
   "metadata": {},
   "outputs": [],
   "source": [
    "# ------Number of Clusters:  2 -----------\n",
    "# Accuracy  0.75\n",
    "# Precision  0.6363636363636364\n",
    "# Recall  0.9655172413793104\n",
    "# F1-score  0.7671232876712328 \n",
    "\n",
    "# ------Number of Clusters:  3 -----------\n",
    "# Accuracy  0.6470588235294118\n",
    "# Precision  0.5471698113207547\n",
    "# Recall  1.0\n",
    "# F1-score  0.7073170731707317 \n",
    "\n",
    "# ------Number of Clusters:  4 -----------\n",
    "# Accuracy  0.5441176470588235\n",
    "# Precision  0.4827586206896552\n",
    "# Recall  0.9655172413793104\n",
    "# F1-score  0.6436781609195403 \n",
    "\n",
    "# ------Number of Clusters:  5 -----------\n",
    "# Accuracy  0.5588235294117647\n",
    "# Precision  0.4915254237288136\n",
    "# Recall  1.0\n",
    "# F1-score  0.6590909090909091 \n",
    "\n",
    "# ------Number of Clusters:  6 -----------\n",
    "# Accuracy  0.5294117647058824\n",
    "# Precision  0.47540983606557374\n",
    "# Recall  1.0\n",
    "# F1-score  0.6444444444444445 \n",
    "\n",
    "# ------Number of Clusters:  7 -----------\n",
    "# Accuracy  0.5294117647058824\n",
    "# Precision  0.47540983606557374\n",
    "# Recall  1.0\n",
    "# F1-score  0.6444444444444445 \n",
    "\n"
   ]
  },
  {
   "cell_type": "code",
   "execution_count": 29,
   "metadata": {},
   "outputs": [
    {
     "data": {
      "text/plain": [
       "[0.7671232876712328,\n",
       " 0.6904761904761904,\n",
       " 0.6516853932584269,\n",
       " 0.6516853932584269,\n",
       " 0.6666666666666666,\n",
       " 0.6444444444444445]"
      ]
     },
     "execution_count": 29,
     "metadata": {},
     "output_type": "execute_result"
    }
   ],
   "source": [
    "cluster_fscore"
   ]
  },
  {
   "cell_type": "code",
   "execution_count": 30,
   "metadata": {},
   "outputs": [],
   "source": [
    "# [0.7671232876712328,\n",
    "#  0.7073170731707317,\n",
    "#  0.6436781609195403,\n",
    "#  0.6590909090909091,\n",
    "#  0.6444444444444445,\n",
    "#  0.6444444444444445]"
   ]
  },
  {
   "cell_type": "markdown",
   "metadata": {},
   "source": [
    "# Multiple clusters + Threshold tuning (No concat of training and test data)"
   ]
  },
  {
   "cell_type": "code",
   "execution_count": 31,
   "metadata": {},
   "outputs": [
    {
     "name": "stdout",
     "output_type": "stream",
     "text": [
      "------Number of Clusters:  2 -----------\n",
      "Accuracy  0.75\n",
      "Precision  0.6363636363636364\n",
      "Recall  0.9655172413793104\n",
      "F1-score  0.7671232876712328 \n",
      "\n",
      "------Number of Clusters:  3 -----------\n",
      "Accuracy  0.6323529411764706\n",
      "Precision  0.5370370370370371\n",
      "Recall  1.0\n",
      "F1-score  0.6987951807228916 \n",
      "\n",
      "------Number of Clusters:  4 -----------\n",
      "Accuracy  0.6323529411764706\n",
      "Precision  0.5370370370370371\n",
      "Recall  1.0\n",
      "F1-score  0.6987951807228916 \n",
      "\n",
      "------Number of Clusters:  5 -----------\n",
      "Accuracy  0.5882352941176471\n",
      "Precision  0.5087719298245614\n",
      "Recall  1.0\n",
      "F1-score  0.6744186046511628 \n",
      "\n",
      "------Number of Clusters:  6 -----------\n",
      "Accuracy  0.5441176470588235\n",
      "Precision  0.48333333333333334\n",
      "Recall  1.0\n",
      "F1-score  0.6516853932584269 \n",
      "\n",
      "------Number of Clusters:  7 -----------\n",
      "Accuracy  0.5\n",
      "Precision  0.4603174603174603\n",
      "Recall  1.0\n",
      "F1-score  0.6304347826086957 \n",
      "\n"
     ]
    }
   ],
   "source": [
    "cluster_fscore = []\n",
    "for k in range(2,8):\n",
    "    sensor_models = []\n",
    "    sensor_predicted = []\n",
    "    accuracy = []\n",
    "    precision = []\n",
    "    recall = []\n",
    "    fscore = []\n",
    "    for i,sens in enumerate(sensors):\n",
    "        train_normal = X_normal.loc[:,sens].values\n",
    "        train_attack = X_attack.loc[:,sens].values\n",
    "        model = Pipeline()\n",
    "        model.fit(train_normal,train_attack,lag,stride,optimal_k=k,kscore_init='inertia',corr_normal=corr_normal[:,i].reshape(nolag_normal,len(X_normal.columns)).T,\n",
    "                corr_attack=corr_attack[:,i].reshape(nolag_attack,len(X_attack.columns)).T,only_corr=True)\n",
    "        test = X_test.loc[:,sens].values    \n",
    "        y_predicted = model.predict(test,corr_test=corr_test[:,i].reshape(nolag_test,len(X_normal.columns)).T)\n",
    "        sensor_predicted.append(y_predicted)\n",
    "        accuracy.append(accuracy_score(y_actual,y_predicted))\n",
    "        precision.append(precision_score(y_actual,y_predicted))\n",
    "        recall.append(recall_score(y_actual,y_predicted))\n",
    "        fscore.append(f1_score(y_actual,y_predicted))\n",
    "        sensor_models.append(model)    \n",
    "    sensor_predicted = np.asarray(sensor_predicted)\n",
    "    y_predicted = np.any(sensor_predicted,axis=0).astype(int)\n",
    "    print('------Number of Clusters: ',k,'-----------')\n",
    "    print(\"Accuracy \",accuracy_score(y_actual,y_predicted))\n",
    "    print(\"Precision \",precision_score(y_actual,y_predicted))\n",
    "    print(\"Recall \",recall_score(y_actual,y_predicted))\n",
    "    print(\"F1-score \",f1_score(y_actual,y_predicted),'\\n')\n",
    "    cluster_fscore.append(f1_score(y_actual,y_predicted))"
   ]
  },
  {
   "cell_type": "code",
   "execution_count": 32,
   "metadata": {},
   "outputs": [],
   "source": [
    "# ------Number of Clusters:  2 -----------\n",
    "# Accuracy  0.75\n",
    "# Precision  0.6363636363636364\n",
    "# Recall  0.9655172413793104\n",
    "# F1-score  0.7671232876712328 \n",
    "\n",
    "# ------Number of Clusters:  3 -----------\n",
    "# Accuracy  0.6323529411764706\n",
    "# Precision  0.5370370370370371\n",
    "# Recall  1.0\n",
    "# F1-score  0.6987951807228916 \n",
    "\n",
    "# ------Number of Clusters:  4 -----------\n",
    "# Accuracy  0.6176470588235294\n",
    "# Precision  0.5272727272727272\n",
    "# Recall  1.0\n",
    "# F1-score  0.6904761904761904 \n",
    "\n",
    "# ------Number of Clusters:  5 -----------\n",
    "# Accuracy  0.45588235294117646\n",
    "# Precision  0.4393939393939394\n",
    "# Recall  1.0\n",
    "# F1-score  0.6105263157894737 \n",
    "\n",
    "# ------Number of Clusters:  6 -----------\n",
    "# Accuracy  0.5735294117647058\n",
    "# Precision  0.5\n",
    "# Recall  1.0\n",
    "# F1-score  0.6666666666666666 \n",
    "\n",
    "# ------Number of Clusters:  7 -----------\n",
    "# Accuracy  0.4852941176470588\n",
    "# Precision  0.453125\n",
    "# Recall  1.0\n",
    "# F1-score  0.6236559139784946 \n",
    "\n"
   ]
  },
  {
   "cell_type": "code",
   "execution_count": 33,
   "metadata": {},
   "outputs": [
    {
     "data": {
      "text/plain": [
       "[0.7671232876712328,\n",
       " 0.6987951807228916,\n",
       " 0.6987951807228916,\n",
       " 0.6744186046511628,\n",
       " 0.6516853932584269,\n",
       " 0.6304347826086957]"
      ]
     },
     "execution_count": 33,
     "metadata": {},
     "output_type": "execute_result"
    }
   ],
   "source": [
    "cluster_fscore"
   ]
  },
  {
   "cell_type": "code",
   "execution_count": null,
   "metadata": {},
   "outputs": [],
   "source": [
    "# [0.7671232876712328,\n",
    "#  0.6987951807228916,\n",
    "#  0.6904761904761904,\n",
    "#  0.6105263157894737,\n",
    "#  0.6666666666666666,\n",
    "#  0.6236559139784946]"
   ]
  }
 ],
 "metadata": {
  "kernelspec": {
   "display_name": "Python 3",
   "language": "python",
   "name": "python3"
  },
  "language_info": {
   "codemirror_mode": {
    "name": "ipython",
    "version": 3
   },
   "file_extension": ".py",
   "mimetype": "text/x-python",
   "name": "python",
   "nbconvert_exporter": "python",
   "pygments_lexer": "ipython3",
   "version": "3.9.13"
  },
  "orig_nbformat": 4,
  "vscode": {
   "interpreter": {
    "hash": "916dbcbb3f70747c44a77c7bcd40155683ae19c65e1c03b4aa3499c5328201f1"
   }
  }
 },
 "nbformat": 4,
 "nbformat_minor": 2
}
