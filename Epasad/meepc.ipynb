{
 "cells": [
  {
   "cell_type": "code",
   "execution_count": 23,
   "metadata": {},
   "outputs": [],
   "source": [
    "import numpy as np\n",
    "import matplotlib.pyplot as plt\n",
    "from numpy import linalg\n",
    "from random import random\n",
    "from copy import deepcopy"
   ]
  },
  {
   "cell_type": "code",
   "execution_count": 24,
   "metadata": {},
   "outputs": [],
   "source": [
    "X = np.reshape([random()*100 for i in range(400)],(200,2))"
   ]
  },
  {
   "cell_type": "code",
   "execution_count": 25,
   "metadata": {},
   "outputs": [],
   "source": [
    "col_max = np.amax(X,axis=0)\n",
    "col_min = np.amin(X,axis=0)\n",
    "centroid = (col_max + col_min)/2"
   ]
  },
  {
   "cell_type": "code",
   "execution_count": 26,
   "metadata": {},
   "outputs": [],
   "source": [
    "Z = (X-centroid)**2"
   ]
  },
  {
   "cell_type": "code",
   "execution_count": 27,
   "metadata": {},
   "outputs": [],
   "source": [
    "alpha = (1.0 / 200) * np.ones(200)"
   ]
  },
  {
   "cell_type": "code",
   "execution_count": 28,
   "metadata": {},
   "outputs": [
    {
     "data": {
      "text/plain": [
       "array([723.52244137, 816.31824824])"
      ]
     },
     "execution_count": 28,
     "metadata": {},
     "output_type": "execute_result"
    }
   ],
   "source": [
    "ZT = Z.T\n",
    "h = np.matmul(alpha,Z)\n",
    "h"
   ]
  },
  {
   "cell_type": "code",
   "execution_count": 29,
   "metadata": {},
   "outputs": [],
   "source": [
    "def isclose(a, b, rel_tol, abs_tol=0.0):\n",
    "    return abs(a-b) <= max(rel_tol * max(abs(a), abs(b)), abs_tol)"
   ]
  },
  {
   "cell_type": "code",
   "execution_count": 30,
   "metadata": {},
   "outputs": [
    {
     "data": {
      "text/plain": [
       "True"
      ]
     },
     "execution_count": 30,
     "metadata": {},
     "output_type": "execute_result"
    }
   ],
   "source": [
    "isclose(1.00,1.002,1e-02)"
   ]
  },
  {
   "cell_type": "code",
   "execution_count": 31,
   "metadata": {},
   "outputs": [],
   "source": [
    "def calc_s(h,alpha_old,Z,u,i):\n",
    "  ans=0\n",
    "  for j in range(2):\n",
    "            s_i_j = h[j] - alpha_old[i]*Z[i][j]\n",
    "            ans += (1/(u + s_i_j/Z[i][j]))\n",
    "  return ans"
   ]
  },
  {
   "cell_type": "code",
   "execution_count": 32,
   "metadata": {},
   "outputs": [],
   "source": [
    "def binary(h,alpha_old,Z,i,low,high):\n",
    "  mid=(low+high)/2\n",
    "  temp_ans=calc_s(h,alpha_old,Z,mid,i)\n",
    "  while(not isclose(temp_ans,1,1e-05)):\n",
    "    # print(abs(temp_ans-1))\n",
    "    if(temp_ans>1):\n",
    "      low=mid\n",
    "    elif(temp_ans<1):\n",
    "      high=mid\n",
    "    else:\n",
    "      return mid\n",
    "    mid = (low+high)/2\n",
    "    # print(low,high,mid)\n",
    "    temp_ans=calc_s(h,alpha_old,Z,mid,i)\n",
    "  return mid"
   ]
  },
  {
   "cell_type": "code",
   "execution_count": 33,
   "metadata": {},
   "outputs": [],
   "source": [
    "def helper(h,alpha_old,Z,u,i):\n",
    "\n",
    "    u_old=u # this 0.00001 is step which i am decreasing the u for binary search..\n",
    "    \n",
    "    while(calc_s(h,alpha_old,Z,u,i)>1):\n",
    "        u_old=u\n",
    "        u*=2        \n",
    "    if u_old == u:\n",
    "        u = binary(h,alpha_old,Z,i,0,1)\n",
    "    else:\n",
    "        u =binary(h,alpha_old,Z,i,u_old,u)\n",
    "    return u"
   ]
  },
  {
   "cell_type": "code",
   "execution_count": 34,
   "metadata": {},
   "outputs": [],
   "source": [
    "def solution(Z,alpha,h,tol):\n",
    "    i = 0\n",
    "    updates = 0\n",
    "    converged = False\n",
    "    alpha_old = np.zeros(200)\n",
    "    old = 0\n",
    "        \n",
    "    while i < 200:\n",
    "        if converged:\n",
    "            return h,alpha\n",
    "        alpha_old[i] = alpha[i]\n",
    "        f_x = 0\n",
    "        u=0\n",
    "        f_x=calc_s(h,alpha_old,Z,u,i)\n",
    "        \n",
    "        if f_x == 1:\n",
    "            alpha[i] = u\n",
    "        \n",
    "        if f_x < 1:\n",
    "\n",
    "            alpha[i] = 0\n",
    "\n",
    "        if f_x > 1:\n",
    "            alpha[i]= helper(h,alpha_old,Z,1,i)\n",
    "            \n",
    "                \n",
    "        h = h + (alpha[i] - alpha_old[i])*Z[i]\n",
    "        i += 1\n",
    "        if i>=199 :\n",
    "            i = 0\n",
    "            updates += 1\n",
    "            if old == 0:\n",
    "                stored_alpha_old = deepcopy(alpha_old)\n",
    "                old = 1\n",
    "        if updates == 4:\n",
    "            if np.all(alpha - stored_alpha_old) < tol :  #.00001\n",
    "                converged = True\n",
    "            else:\n",
    "                updates = 0\n",
    "                stored_alpha_old = deepcopy(alpha)\n",
    "    "
   ]
  },
  {
   "cell_type": "code",
   "execution_count": 35,
   "metadata": {},
   "outputs": [
    {
     "data": {
      "text/plain": [
       "array([4334.65683102, 4236.75407345])"
      ]
     },
     "execution_count": 35,
     "metadata": {},
     "output_type": "execute_result"
    }
   ],
   "source": [
    "h,alpha = solution(Z,alpha,h,1e-05)\n",
    "h"
   ]
  },
  {
   "cell_type": "markdown",
   "metadata": {},
   "source": [
    "## weight vectors obtained are:"
   ]
  },
  {
   "cell_type": "code",
   "execution_count": 36,
   "metadata": {},
   "outputs": [
    {
     "data": {
      "text/plain": [
       "array([0.0002307 , 0.00023603])"
      ]
     },
     "execution_count": 36,
     "metadata": {},
     "output_type": "execute_result"
    }
   ],
   "source": [
    "v = 1/h\n",
    "temp_v=v\n",
    "temp_v"
   ]
  },
  {
   "cell_type": "code",
   "execution_count": 37,
   "metadata": {},
   "outputs": [
    {
     "data": {
      "text/plain": [
       "array([50.26939498, 50.22437353])"
      ]
     },
     "execution_count": 37,
     "metadata": {},
     "output_type": "execute_result"
    }
   ],
   "source": [
    "c = np.median(X,axis=0)\n",
    "c"
   ]
  },
  {
   "cell_type": "code",
   "execution_count": 38,
   "metadata": {},
   "outputs": [
    {
     "data": {
      "text/plain": [
       "(131.67622155905198, 130.18070630389252)"
      ]
     },
     "execution_count": 38,
     "metadata": {},
     "output_type": "execute_result"
    }
   ],
   "source": [
    "import math\n",
    "width = 2/math.sqrt(v[0]) \n",
    "height = 2/math.sqrt(v[1])\n",
    "width,height"
   ]
  },
  {
   "cell_type": "code",
   "execution_count": 39,
   "metadata": {},
   "outputs": [
    {
     "data": {
      "image/png": "[encoded data removed]",
      "text/plain": [
       "<Figure size 432x288 with 1 Axes>"
      ]
     },
     "metadata": {
      "needs_background": "light"
     },
     "output_type": "display_data"
    }
   ],
   "source": [
    "from matplotlib.patches import Ellipse\n",
    "\n",
    "plt.figure()\n",
    "ax = plt.gca()\n",
    "plt.xlim(-50,150)\n",
    "plt.ylim(-50,150)\n",
    "\n",
    "ellipse = Ellipse(xy=(41.65098395, 48.50360728), width=width, height=height)\n",
    "ellipse.fill = False\n",
    "ellipse.set_ec('red')\n",
    "ax.add_patch(ellipse)\n",
    "plt.scatter(x = X[::,0], y = X[::,1])\n",
    "plt.show()"
   ]
  },
  {
   "cell_type": "markdown",
   "metadata": {},
   "source": [
    "## visualising the ellipsoid with data points\n"
   ]
  },
  {
   "cell_type": "code",
   "execution_count": 40,
   "metadata": {},
   "outputs": [],
   "source": [
    "from __future__ import division\n",
    "import numpy as np\n",
    "import numpy.linalg as la\n",
    "from mpl_toolkits.mplot3d import Axes3D\n",
    "from mpl_toolkits.mplot3d.art3d import Poly3DCollection\n",
    "import matplotlib.pyplot as plt\n",
    "from scipy.spatial import Delaunay"
   ]
  },
  {
   "cell_type": "code",
   "execution_count": 41,
   "metadata": {},
   "outputs": [
    {
     "data": {
      "text/plain": [
       "array([[ 7.30447437e-06, -1.87358198e-05],\n",
       "       [-1.87358198e-05,  1.90448405e-05]])"
      ]
     },
     "execution_count": 41,
     "metadata": {},
     "output_type": "execute_result"
    }
   ],
   "source": [
    "U=np.diag(alpha)\n",
    "center=np.dot(X.T,alpha)\n",
    "A = (1/4) * la.inv(np.dot(np.dot(X.T,U), X) - np.dot(center.T,center))   \n",
    "A"
   ]
  },
  {
   "cell_type": "code",
   "execution_count": 42,
   "metadata": {},
   "outputs": [
    {
     "ename": "ValueError",
     "evalue": "not enough values to unpack (expected 3, got 1)",
     "output_type": "error",
     "traceback": [
      "\u001b[1;31m---------------------------------------------------------------------------\u001b[0m",
      "\u001b[1;31mValueError\u001b[0m                                Traceback (most recent call last)",
      "\u001b[1;32mc:\\Users\\user\\meepc\\meepc.ipynb Cell 22'\u001b[0m in \u001b[0;36m<cell line: 6>\u001b[1;34m()\u001b[0m\n\u001b[0;32m      <a href='vscode-notebook-cell:/c%3A/Users/user/meepc/meepc.ipynb#ch0000018?line=3'>4</a>\u001b[0m V \u001b[39m=\u001b[39m V[:\u001b[39m-\u001b[39m\u001b[39m1\u001b[39m,:\u001b[39m-\u001b[39m\u001b[39m1\u001b[39m]\n\u001b[0;32m      <a href='vscode-notebook-cell:/c%3A/Users/user/meepc/meepc.ipynb#ch0000018?line=4'>5</a>\u001b[0m \u001b[39m# print(D.shape)\u001b[39;00m\n\u001b[1;32m----> <a href='vscode-notebook-cell:/c%3A/Users/user/meepc/meepc.ipynb#ch0000018?line=5'>6</a>\u001b[0m rx, ry, rz \u001b[39m=\u001b[39m [\u001b[39m1\u001b[39m\u001b[39m/\u001b[39mnp\u001b[39m.\u001b[39msqrt(d) \u001b[39mfor\u001b[39;00m d \u001b[39min\u001b[39;00m D]\n\u001b[0;32m      <a href='vscode-notebook-cell:/c%3A/Users/user/meepc/meepc.ipynb#ch0000018?line=6'>7</a>\u001b[0m u, v \u001b[39m=\u001b[39m np\u001b[39m.\u001b[39mmgrid[\u001b[39m0\u001b[39m:\u001b[39m2\u001b[39m\u001b[39m*\u001b[39mnp\u001b[39m.\u001b[39mpi:\u001b[39m20\u001b[39mj,\u001b[39m-\u001b[39mnp\u001b[39m.\u001b[39mpi\u001b[39m/\u001b[39m\u001b[39m2\u001b[39m:np\u001b[39m.\u001b[39mpi\u001b[39m/\u001b[39m\u001b[39m2\u001b[39m:\u001b[39m10\u001b[39mj]    \n\u001b[0;32m     <a href='vscode-notebook-cell:/c%3A/Users/user/meepc/meepc.ipynb#ch0000018?line=9'>10</a>\u001b[0m x\u001b[39m=\u001b[39mrx\u001b[39m*\u001b[39mnp\u001b[39m.\u001b[39mcos(u)\u001b[39m*\u001b[39mnp\u001b[39m.\u001b[39mcos(v)\n",
      "\u001b[1;31mValueError\u001b[0m: not enough values to unpack (expected 3, got 1)"
     ]
    }
   ],
   "source": [
    "# point it and some other stuff\n",
    "U, D, V = la.svd(A)  \n",
    "D = D[:-1]  \n",
    "V = V[:-1,:-1]\n",
    "# print(D.shape)\n",
    "rx, ry, rz = [1/np.sqrt(d) for d in D]\n",
    "u, v = np.mgrid[0:2*np.pi:20j,-np.pi/2:np.pi/2:10j]    \n",
    "\n",
    "\n",
    "x=rx*np.cos(u)*np.cos(v)\n",
    "y=ry*np.sin(u)*np.cos(v)\n",
    "z=rz*np.sin(v)\n",
    "print(rx)\n",
    "# print(y)\n",
    "# print(z)\n",
    "for idx in range(x.shape[0]):\n",
    "    for idy in range(y.shape[1]):\n",
    "        x[idx,idy],y[idx,idy],z[idx,idy] = np.dot(np.transpose(V),np.array([x[idx,idy],y[idx,idy],z[idx,idy]])) + centroid[:-1]\n",
    "\n",
    "\n",
    "fig = plt.figure()\n",
    "ax = fig.add_subplot(111, projection='3d')\n",
    "ax.scatter(X[:,0],X[:,1],X[:,2])    \n",
    "ax.plot_surface(x, y, z, cstride = 10, rstride = 1, alpha = 0.3)\n",
    "plt.show()"
   ]
  },
  {
   "cell_type": "code",
   "execution_count": null,
   "metadata": {},
   "outputs": [],
   "source": [
    "## temp\n",
    "pi = np.pi\n",
    "sin = np.sin\n",
    "cos = np.cos\n",
    "\n",
    "def mvee(points, tol = 0.001):\n",
    "    \"\"\"\n",
    "    Finds the ellipse equation in \"center form\"\n",
    "    (x-c).T * A * (x-c) = 1\n",
    "    \"\"\"\n",
    "    N, d = points.shape\n",
    "    Q = np.column_stack((points, np.ones(N))).T\n",
    "    err = tol+1.0\n",
    "    u = np.ones(N)/N\n",
    "    while err > tol:\n",
    "        # assert u.sum() == 1 # invariant\n",
    "        X = np.dot(np.dot(Q, np.diag(u)), Q.T)\n",
    "        M = np.diag(np.dot(np.dot(Q.T, la.inv(X)), Q))\n",
    "        jdx = np.argmax(M)\n",
    "        step_size = (M[jdx]-d-1.0)/((d+1)*(M[jdx]-1.0))\n",
    "        new_u = (1-step_size)*u\n",
    "        new_u[jdx] += step_size\n",
    "        err = la.norm(new_u-u)\n",
    "        u = new_u\n",
    "    c = np.dot(u,points)        \n",
    "    A = la.inv(np.dot(np.dot(points.T, np.diag(u)), points)\n",
    "               - np.multiply.outer(c,c))/d\n",
    "    return A, c"
   ]
  },
  {
   "cell_type": "code",
   "execution_count": null,
   "metadata": {},
   "outputs": [],
   "source": [
    "%matplotlib inline"
   ]
  },
  {
   "cell_type": "code",
   "execution_count": null,
   "metadata": {},
   "outputs": [
    {
     "data": {
      "image/png": "[encoded data removed]",
      "text/plain": [
       "<Figure size 432x288 with 1 Axes>"
      ]
     },
     "metadata": {
      "needs_background": "light"
     },
     "output_type": "display_data"
    }
   ],
   "source": [
    "A, centroid = mvee(X)    \n",
    "U, D, V = la.svd(A)   \n",
    "# print(D) \n",
    "rx, ry, rz = [1/np.sqrt(d) for d in D[:-1]]\n",
    "u, v = np.mgrid[0:2*pi:20j, -pi/2:pi/2:10j]\n",
    "\n",
    "def ellipse(u,v):\n",
    "    x = rx*cos(u)*cos(v)\n",
    "    y = ry*sin(u)*cos(v)\n",
    "    z = rz*sin(v)\n",
    "    return x,y,z\n",
    "\n",
    "E = np.dstack(ellipse(u,v))\n",
    "# while()\n",
    "E = np.dot(E,V[[3,2,1],:][:,[3,2,1]]) + centroid[[3,2,1]]\n",
    "x, y, z = np.rollaxis(E, axis = -1)\n",
    "\n",
    "fig = plt.figure()\n",
    "ax = fig.add_subplot(111, projection='3d')\n",
    "\n",
    "ax.plot_surface(x, y, z, cstride = 1, rstride = 1, alpha = 0.1)\n",
    "ax.scatter(X[:,0],X[:,1],X[:,2])\n",
    "\n",
    "plt.show()"
   ]
  },
  {
   "cell_type": "code",
   "execution_count": null,
   "metadata": {},
   "outputs": [],
   "source": []
  }
 ],
 "metadata": {
  "kernelspec": {
   "display_name": "Python 3",
   "language": "python",
   "name": "python3"
  },
  "language_info": {
   "codemirror_mode": {
    "name": "ipython",
    "version": 3
   },
   "file_extension": ".py",
   "mimetype": "text/x-python",
   "name": "python",
   "nbconvert_exporter": "python",
   "pygments_lexer": "ipython3",
   "version": "3.10.6 (main, Nov 14 2022, 16:10:14) [GCC 11.3.0]"
  },
  "vscode": {
   "interpreter": {
    "hash": "916dbcbb3f70747c44a77c7bcd40155683ae19c65e1c03b4aa3499c5328201f1"
   }
  }
 },
 "nbformat": 4,
 "nbformat_minor": 2
}
