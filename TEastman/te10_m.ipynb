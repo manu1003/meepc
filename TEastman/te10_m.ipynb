{
 "cells": [
  {
   "cell_type": "code",
   "execution_count": 1,
   "metadata": {},
   "outputs": [
    {
     "name": "stderr",
     "output_type": "stream",
     "text": [
      "C:\\Users\\user\\AppData\\Local\\Packages\\PythonSoftwareFoundation.Python.3.9_qbz5n2kfra8p0\\LocalCache\\local-packages\\Python39\\site-packages\\numpy\\_distributor_init.py:30: UserWarning: loaded more than 1 DLL from .libs:\n",
      "C:\\Users\\user\\AppData\\Local\\Packages\\PythonSoftwareFoundation.Python.3.9_qbz5n2kfra8p0\\LocalCache\\local-packages\\Python39\\site-packages\\numpy\\.libs\\libopenblas.EL2C6PLE4ZYW3ECEVIV3OXXGRN2NRFM2.gfortran-win_amd64.dll\n",
      "C:\\Users\\user\\AppData\\Local\\Packages\\PythonSoftwareFoundation.Python.3.9_qbz5n2kfra8p0\\LocalCache\\local-packages\\Python39\\site-packages\\numpy\\.libs\\libopenblas.WCDJNK7YVMPZQ2ME2ZZHJJRJ3JIKNDB7.gfortran-win_amd64.dll\n",
      "  warnings.warn(\"loaded more than 1 DLL from .libs:\"\n"
     ]
    }
   ],
   "source": [
    "import sys\n",
    "sys.path.append('/Users/user/meepc')\n",
    "import numpy as np\n",
    "import pandas as pd\n",
    "from models import Hankel,Corrhankel,RobustPipeline\n",
    "from sklearn.preprocessing import StandardScaler\n",
    "from sklearn.metrics import accuracy_score,precision_score,recall_score,f1_score,roc_auc_score"
   ]
  },
  {
   "cell_type": "code",
   "execution_count": 2,
   "metadata": {},
   "outputs": [],
   "source": [
    "# hankel = Hankel()\n",
    "# corrhankel = Corrhankel() \n",
    "# lag = 360\n",
    "# stride = 0.5\n"
   ]
  },
  {
   "cell_type": "code",
   "execution_count": 3,
   "metadata": {},
   "outputs": [],
   "source": [
    "# def flatten_pca(list_of_lists):\n",
    "#   flattened_arrays = []\n",
    "#   for sublist in list_of_lists:\n",
    "#     for array in sublist:\n",
    "#       flattened_arrays.append(array.flatten())\n",
    "#   flattened_arrays=np.unique(np.concatenate(flattened_arrays))\n",
    "#   return flattened_arrays\n",
    "\n",
    "\n",
    "# def flatten_meepc(list_of_lists):\n",
    "#   flattened_arrays = []\n",
    "#   for sublist in list_of_lists:\n",
    "#     for array in sublist:\n",
    "#       for element in array:\n",
    "#         flattened_arrays.append(element)\n",
    "#   flattened_arrays=np.unique(np.concatenate(flattened_arrays))\n",
    "#   return flattened_arrays"
   ]
  },
  {
   "cell_type": "code",
   "execution_count": 4,
   "metadata": {},
   "outputs": [],
   "source": [
    "# train_normal = pd.read_csv('~/data/te/normal_training.csv')\n",
    "# train_attack = pd.read_csv('~/data/te/attack_training.csv')\n",
    "# train_normal = pd.concat((train_normal,train_attack),axis=0,ignore_index=True)\n",
    "# y_truth = train_normal.loc[:,'LABEL']"
   ]
  },
  {
   "cell_type": "code",
   "execution_count": 5,
   "metadata": {},
   "outputs": [],
   "source": [
    "# sensors = [col for col in train_normal.columns if col not in ['faultNumber', 'simulationRun', 'sample','LABEL']]"
   ]
  },
  {
   "cell_type": "code",
   "execution_count": 6,
   "metadata": {},
   "outputs": [],
   "source": [
    "# #attack indexes in original training data\n",
    "# temp = hankel.fit(np.array(y_truth) ,lag,stride)\n",
    "# attack_idx = np.any(temp>0,axis=0).astype(int)\n",
    "# attack_idx = np.where(attack_idx>0)[0]\n",
    "# attack_idx"
   ]
  },
  {
   "cell_type": "code",
   "execution_count": 7,
   "metadata": {},
   "outputs": [],
   "source": [
    "# len(attack_idx)/len(temp)"
   ]
  },
  {
   "cell_type": "code",
   "execution_count": 8,
   "metadata": {},
   "outputs": [],
   "source": [
    "# scaler = StandardScaler()\n",
    "# X_normal = pd.DataFrame(index=train_normal.index, columns=sensors, data=scaler.fit_transform(train_normal[sensors]))\n",
    "# X_attack = pd.DataFrame(data=scaler.fit_transform(train_attack.loc[:,sensors]),index=train_attack.index,columns=sensors).reset_index().drop(columns=['index'])"
   ]
  },
  {
   "cell_type": "code",
   "execution_count": 9,
   "metadata": {},
   "outputs": [],
   "source": [
    "# corr_normal,nolag_normal = corrhankel.fit(X_normal.to_numpy(),lag,stride)"
   ]
  },
  {
   "cell_type": "code",
   "execution_count": 10,
   "metadata": {},
   "outputs": [],
   "source": [
    "# corr_attack,nolag_attack = corrhankel.fit(X_attack.to_numpy(),lag,stride)"
   ]
  },
  {
   "cell_type": "code",
   "execution_count": 11,
   "metadata": {},
   "outputs": [],
   "source": [
    "# df_test1 = pd.read_csv('~/data/te/normal_testing.csv')\n",
    "# df_test2 = pd.read_csv('~/data/te/attack_testing.csv')\n",
    "# df_test=pd.concat((df_test1,df_test2),axis=0)"
   ]
  },
  {
   "cell_type": "code",
   "execution_count": 12,
   "metadata": {},
   "outputs": [],
   "source": [
    "# X_test = pd.DataFrame(index=df_test.index, columns=sensors, data=scaler.fit_transform(df_test[sensors]))\n",
    "# Y_test = df_test.loc[:,'LABEL']"
   ]
  },
  {
   "cell_type": "code",
   "execution_count": 13,
   "metadata": {},
   "outputs": [],
   "source": [
    "# labels = hankel.fit(np.array(Y_test),lag,stride)\n",
    "# y_actual = np.any(labels>0,axis=0).astype(int)"
   ]
  },
  {
   "cell_type": "markdown",
   "metadata": {},
   "source": [
    "# Multiple clusters + No threshold tuning"
   ]
  },
  {
   "cell_type": "code",
   "execution_count": 14,
   "metadata": {},
   "outputs": [],
   "source": [
    "# cluster_fscore = []\n",
    "# for k in range(2,5):\n",
    "#     print('-------------------------------------',k,'-------------------------------------')\n",
    "    \n",
    "#     sensor_predicted = []\n",
    "#     accuracy = []\n",
    "#     precision = []\n",
    "#     recall = []\n",
    "#     fscore = []\n",
    "#     cluster_indexes=[]\n",
    "#     pca_indexes=[]\n",
    "#     meepc_indexes=[]\n",
    "#     pca_counts=0\n",
    "#     meepc_counts=0\n",
    "#     for i,sens in enumerate(sensors):\n",
    "#         print(sens)\n",
    "#         train_normal = X_normal.loc[:,sens].values\n",
    "#         train_attack = X_attack.loc[:,sens].values\n",
    "#         model = RobustPipeline()\n",
    "#         model.fit(train_normal,train_attack,lag,stride,optimal_k=k,tune=False,kscore_init='inertia',alpha=0.1,y_truth=y_truth)\n",
    "#         test = X_test.loc[:,sens].values\n",
    "#         y_predicted = model.predict(test)\n",
    "#         sensor_predicted.append(y_predicted)\n",
    "#         accuracy.append(accuracy_score(y_actual,y_predicted)) \n",
    "#         precision.append(precision_score(y_actual,y_predicted))\n",
    "#         recall.append(recall_score(y_actual,y_predicted))\n",
    "#         fscore.append(f1_score(y_actual,y_predicted))\n",
    "\n",
    "#         cluster_indexes.append(model.cluster_idx)\n",
    "#         pca_indexes.append(model.pca_idx)\n",
    "#         pca_counts=max(pca_counts,model.total_pca_attacks)\n",
    "#         # meepc_counts=max(meepc_counts,model.counts_meepc)\n",
    "#         meepc_indexes.append(model.total_meepc_attacks)\n",
    "    \n",
    "            \n",
    "#     sensor_predicted = np.asarray(sensor_predicted)\n",
    "#     y_predicted = np.any(sensor_predicted,axis=0).astype(int)\n",
    "#     print('------Number of Clusters: ',k,'-----------') \n",
    "#     print(\"Accuracy \",accuracy_score(y_actual,y_predicted))\n",
    "#     print(\"Precision \",precision_score(y_actual,y_predicted))\n",
    "#     print(\"Recall \",recall_score(y_actual,y_predicted))\n",
    "#     print(\"F1-score \",f1_score(y_actual,y_predicted),'\\n')\n",
    "\n",
    "#     #cluster\n",
    "#     cluster_inactive_idx = np.unique(np.concatenate(cluster_indexes))\n",
    "#     commonidxs=np.intersect1d(attack_idx,cluster_inactive_idx)\n",
    "#     percentage = len(commonidxs)/len(attack_idx)*100\n",
    "#     print(\"Cluster - attack points detected {} %\".format(percentage))\n",
    "#     #PCA\n",
    "    \n",
    "#     # percentage = pca_counts/len(attack_idx)*100\n",
    "#     # print(\"PCA - attack points detected {} %\".format(percentage))\n",
    "#     pca_inactive_idx = flatten_pca(pca_indexes)\n",
    "#     commonidxs=np.intersect1d(attack_idx,pca_inactive_idx)\n",
    "#     percentage = len(commonidxs)/len(attack_idx)*100\n",
    "#     print(\"PCA - attack points detected {} %\".format(percentage))\n",
    "\n",
    "\n",
    "#     #Meepc\n",
    "#     # percentage = meepc_counts/len(attack_idx)*100\n",
    "#     # print(\"Meepc - attack points detected {} %\".format(percentage))\n",
    "#     meepc_inactive_idx = flatten_meepc(meepc_indexes)\n",
    "#     commonidxs=np.intersect1d(attack_idx,meepc_inactive_idx)\n",
    "#     percentage = len(commonidxs)/len(attack_idx)*100\n",
    "#     print(\"MEEPC - attack points detected {} %\".format(percentage))\n",
    "    \n",
    "#     cluster_fscore.append(f1_score(y_actual,y_predicted))"
   ]
  },
  {
   "cell_type": "code",
   "execution_count": 15,
   "metadata": {},
   "outputs": [],
   "source": [
    "# cluster_fscore"
   ]
  },
  {
   "cell_type": "code",
   "execution_count": 147,
   "metadata": {},
   "outputs": [
    {
     "name": "stdout",
     "output_type": "stream",
     "text": [
      "[1 1 1 1 1 1 0 1 1 1 0 0 0 1 1 1 1 1 0 1 0 0 1 1 0 1 0 1 0 1 1 1 1 0 0 0 1\n",
      " 0 0 0 0 0 1 0 1 1 0 1 1 1 1 0 1 0 0 1 0 1 0 0 0 0 0 1 1 1 0 1 0 1 0 1 1 0\n",
      " 1 0 1 0 1 1 0 0 0 1 1 1 1 0 0 1 0 1 1 1 0 0 0 1 1 0]\n",
      "[[0 0 0 0 0 1 1 0 0 1 1 1 0 1 0 0 0 1]\n",
      " [0 0 0 0 0 0 1 1 0 0 0 0 0 0 1 1 0 1]\n",
      " [0 0 0 0 1 1 1 0 1 1 1 1 0 1 1 0 0 0]\n",
      " [0 0 0 0 1 0 0 0 0 1 0 0 1 0 0 1 1 0]\n",
      " [0 0 0 0 0 1 0 0 1 1 0 0 1 1 1 1 1 1]\n",
      " [0 0 0 0 1 1 0 0 1 1 1 0 1 0 0 0 1 0]\n",
      " [0 0 0 0 0 1 1 0 0 0 0 0 0 1 1 0 1 1]\n",
      " [0 0 0 0 1 1 0 1 1 1 1 0 1 1 0 0 0 1]\n",
      " [0 0 0 0 0 0 0 0 1 0 0 1 0 0 1 1 0 1]\n",
      " [0 0 0 0 1 0 0 1 1 0 0 1 1 1 1 1 1 0]]\n"
     ]
    },
    {
     "data": {
      "text/plain": [
       "array([[0, 0, 0, 0, 0, 0, 0, 0, 0, 0],\n",
       "       [0, 0, 0, 0, 0, 0, 0, 0, 0, 0],\n",
       "       [0, 0, 0, 0, 0, 0, 0, 0, 0, 0],\n",
       "       [0, 0, 0, 0, 0, 0, 0, 0, 0, 0],\n",
       "       [0, 0, 1, 1, 0, 1, 0, 1, 0, 1],\n",
       "       [1, 0, 1, 0, 1, 1, 1, 1, 0, 0],\n",
       "       [1, 1, 1, 0, 0, 0, 1, 0, 0, 0],\n",
       "       [0, 1, 0, 0, 0, 0, 0, 1, 0, 1],\n",
       "       [0, 0, 1, 0, 1, 1, 0, 1, 1, 1],\n",
       "       [1, 0, 1, 1, 1, 1, 0, 1, 0, 0],\n",
       "       [1, 0, 1, 0, 0, 1, 0, 1, 0, 0],\n",
       "       [1, 0, 1, 0, 0, 0, 0, 0, 1, 1],\n",
       "       [0, 0, 0, 1, 1, 1, 0, 1, 0, 1],\n",
       "       [1, 0, 1, 0, 1, 0, 1, 1, 0, 1],\n",
       "       [0, 1, 1, 0, 1, 0, 1, 0, 1, 1],\n",
       "       [0, 1, 0, 1, 1, 0, 0, 0, 1, 1],\n",
       "       [0, 0, 0, 1, 1, 1, 1, 0, 0, 1],\n",
       "       [1, 1, 0, 0, 1, 0, 1, 1, 1, 0]])"
      ]
     },
     "execution_count": 147,
     "metadata": {},
     "output_type": "execute_result"
    }
   ],
   "source": [
    "from models import Hankel\n",
    "hankel = Hankel()\n",
    "temp = np.random.randint(0, 2, size=100)\n",
    "print(temp)\n",
    "temp = hankel.fit(temp,lag=10)\n",
    "zero_cols = np.random.choice(5, 4, replace=False)\n",
    "for col in zero_cols:\n",
    "    temp[:, col] = 0\n",
    "print(temp)\n",
    "y_train = np.any(temp>0,axis=0).astype(int)\n",
    "temp = temp.T\n",
    "temp"
   ]
  },
  {
   "cell_type": "code",
   "execution_count": 148,
   "metadata": {},
   "outputs": [
    {
     "data": {
      "text/plain": [
       "array([0, 0, 0, 0, 1, 1, 1, 1, 1, 1, 1, 1, 1, 1, 1, 1, 1, 1])"
      ]
     },
     "execution_count": 148,
     "metadata": {},
     "output_type": "execute_result"
    }
   ],
   "source": [
    "y_train"
   ]
  },
  {
   "cell_type": "code",
   "execution_count": 149,
   "metadata": {},
   "outputs": [
    {
     "data": {
      "text/plain": [
       "array([ 4,  5,  6,  7,  8,  9, 10, 11, 12, 13, 14, 15, 16, 17],\n",
       "      dtype=int64)"
      ]
     },
     "execution_count": 149,
     "metadata": {},
     "output_type": "execute_result"
    }
   ],
   "source": [
    "np.where(y_train>0)[0]"
   ]
  },
  {
   "cell_type": "code",
   "execution_count": 150,
   "metadata": {},
   "outputs": [
    {
     "name": "stdout",
     "output_type": "stream",
     "text": [
      "------[CLUSTER] attack points found is 0 \n"
     ]
    }
   ],
   "source": [
    "from models import Robustcluster\n",
    "rc = Robustcluster()\n",
    "centroid_new,labels,alpha_idx = rc.fit(temp,optimal_k=2,alpha_factor=0.2,Labels=y_train,max_iter=60)"
   ]
  },
  {
   "cell_type": "code",
   "execution_count": 151,
   "metadata": {},
   "outputs": [
    {
     "data": {
      "text/plain": [
       "array([[0, 0, 0, 0, 0, 0, 0, 0, 0, 0],\n",
       "       [0, 0, 0, 0, 1, 0, 0, 0, 0, 0]])"
      ]
     },
     "execution_count": 151,
     "metadata": {},
     "output_type": "execute_result"
    }
   ],
   "source": [
    "centroid_new"
   ]
  },
  {
   "cell_type": "code",
   "execution_count": 152,
   "metadata": {},
   "outputs": [
    {
     "data": {
      "text/plain": [
       "array([0, 0, 0, 0, 0, 1, 0, 0, 1, 1, 0, 0, 0, 1, 1, 0, 0, 1], dtype=int64)"
      ]
     },
     "execution_count": 152,
     "metadata": {},
     "output_type": "execute_result"
    }
   ],
   "source": [
    "labels"
   ]
  },
  {
   "cell_type": "code",
   "execution_count": 153,
   "metadata": {},
   "outputs": [
    {
     "data": {
      "text/plain": [
       "array([3, 2, 1, 0], dtype=int64)"
      ]
     },
     "execution_count": 153,
     "metadata": {},
     "output_type": "execute_result"
    }
   ],
   "source": [
    "alpha_idx"
   ]
  },
  {
   "cell_type": "code",
   "execution_count": 154,
   "metadata": {},
   "outputs": [
    {
     "data": {
      "text/plain": [
       "[[0, 1, 2, 3, 4, 6, 7, 10, 11, 12, 15, 16],\n",
       " [5, 8, 9, 13, 14, 17],\n",
       " [],\n",
       " [],\n",
       " [],\n",
       " [],\n",
       " [],\n",
       " [],\n",
       " [],\n",
       " [],\n",
       " [],\n",
       " [],\n",
       " [],\n",
       " [],\n",
       " [],\n",
       " [],\n",
       " [],\n",
       " []]"
      ]
     },
     "execution_count": 154,
     "metadata": {},
     "output_type": "execute_result"
    }
   ],
   "source": [
    "cluster_indices = [[] for _ in range(len(labels))]\n",
    "for i, assignment in enumerate(labels):\n",
    "    cluster_indices[assignment].append(i)\n",
    "cluster_indices"
   ]
  },
  {
   "cell_type": "code",
   "execution_count": 155,
   "metadata": {},
   "outputs": [
    {
     "name": "stdout",
     "output_type": "stream",
     "text": [
      "7\n",
      "(10, 10)\n",
      "(7,)\n",
      "(7, 10)\n",
      "7\n",
      "(10, 10)\n",
      "(7,)\n",
      "(7, 10)\n",
      "------[PCA] attack points found is 2 \n",
      "[[ 0.00000000e+00  0.00000000e+00  0.00000000e+00  0.00000000e+00\n",
      "   0.00000000e+00  0.00000000e+00  0.00000000e+00]\n",
      " [ 0.00000000e+00  0.00000000e+00  0.00000000e+00  0.00000000e+00\n",
      "   0.00000000e+00  0.00000000e+00  0.00000000e+00]\n",
      " [ 0.00000000e+00  0.00000000e+00  0.00000000e+00  0.00000000e+00\n",
      "   0.00000000e+00  0.00000000e+00  0.00000000e+00]\n",
      " [ 0.00000000e+00  0.00000000e+00  0.00000000e+00  0.00000000e+00\n",
      "   0.00000000e+00  0.00000000e+00  0.00000000e+00]\n",
      " [-1.77885752e+00  3.50014044e-01  1.22474487e+00  3.02627500e-01\n",
      "   1.24826300e-01  3.25562698e-01 -1.21569421e-14]\n",
      " [-9.80905641e-01 -1.40651228e+00 -1.38777878e-17 -7.29226051e-01\n",
      "  -7.05690128e-01  1.72563432e-01  0.00000000e+00]\n",
      " [-1.09540898e+00 -9.72484457e-02  1.12410081e-15  9.98490800e-01\n",
      "  -8.18441667e-01 -3.51839819e-01  0.00000000e+00]\n",
      " [-9.66994211e-01 -6.98334793e-01  1.22474487e+00 -7.13810612e-02\n",
      "   9.22466451e-03  1.37400413e-01  9.48982304e-01]\n",
      " [-1.29994528e+00 -1.12269206e+00 -4.16333634e-17  1.64741724e-01\n",
      "   9.72119787e-01 -2.78474594e-01 -1.11022302e-16]\n",
      " [-1.73648324e+00  1.13715897e+00  4.08248290e-01  1.51710815e-01\n",
      "  -3.13095876e-02 -8.90196964e-02  5.88799803e-01]\n",
      " [-1.77885752e+00  3.50014044e-01 -1.22474487e+00  3.02627500e-01\n",
      "   1.24826300e-01  3.25562698e-01  1.18793864e-14]\n",
      " [-1.72357291e+00  9.86538283e-01 -2.22044605e-16 -9.68494846e-01\n",
      "  -6.90746239e-02 -3.36578462e-01 -2.77555756e-16]]\n",
      "[0 0 0 0 1 1 1 1 1 1 1 1]\n",
      "[ 0  1  2  3  4  6  7 10 11 12 15 16]\n",
      "beta:  0\n",
      "------[Meepc] attack points found is 0 \n",
      "[0.28130424 0.20811184 0.26769274 0.24212131 0.57138253 1.416969\n",
      " 0.63578454]\n",
      "[-8.89428762e-01 -1.34676657e-01  4.21884749e-15  1.49979767e-02\n",
      "  7.68390603e-02 -1.31385608e-02  4.74491152e-01]\n",
      "0\n",
      "[]\n",
      "5\n",
      "(5, 5)\n",
      "(5,)\n",
      "(5, 10)\n",
      "5\n",
      "(5, 5)\n",
      "(5,)\n",
      "(5, 10)\n",
      "------[PCA] attack points found is 1 \n",
      "[[-2.23307398e+00  6.77778106e-01 -4.31320514e-01  5.02278975e-02\n",
      "   6.04514046e-01 -2.77555756e-17]\n",
      " [-2.10764433e+00 -3.81938678e-01  1.09972604e+00 -4.42733733e-01\n",
      "   8.09177972e-02  0.00000000e+00]\n",
      " [-2.03958336e+00  1.16385746e+00  3.53464485e-01  4.83588604e-01\n",
      "  -3.56006253e-01  3.60822483e-16]\n",
      " [-2.22090507e+00 -1.10028492e-01 -8.28179375e-01 -4.90085313e-01\n",
      "  -3.59735591e-01  0.00000000e+00]\n",
      " [-1.78748967e+00 -1.58767867e+00 -1.32181598e-01  5.16409317e-01\n",
      "   2.55806128e-03  0.00000000e+00]\n",
      " [-1.72256281e+00 -3.85954439e-01 -5.42852385e-01  4.56501911e-01\n",
      "   2.61216092e-01 -2.39723331e-02]]\n",
      "[1 1 1 1 1 1]\n",
      "[ 5  8  9 13 14 17]\n",
      "beta:  0\n",
      "------[Meepc] attack points found is 0 \n",
      "[4.06465638e+00 2.56194427e-01 2.64596053e-01 6.85585364e-01\n",
      " 7.35676863e-01 1.16002152e+03]\n",
      "[-1.97781839 -0.21191061  0.13577333  0.013162    0.12238923 -0.01198617]\n",
      "0\n",
      "[]\n"
     ]
    }
   ],
   "source": [
    "from models import Rank, RobustPCA, Robustmeepc\n",
    "rank = Rank()\n",
    "pca = RobustPCA()\n",
    "meepc = Robustmeepc()\n",
    "clusterR = []\n",
    "clusterV = []\n",
    "for i in np.unique(labels):\n",
    "    cluster_ = temp[np.where(labels == i)[0]]\n",
    "    # print(cluster_)\n",
    "    r = rank.fit(cluster_)\n",
    "    # print(r)\n",
    "    clusterR.append(r)\n",
    "    VT,pca_count,pca_alpha_idx = pca.fit(cluster_,r,alpha=0.2,Labels=y_train[np.where(labels == i)[0]],cluster_index=np.asarray(cluster_indices[i]))\n",
    "    V = VT.T\n",
    "    clusterV.append(V)\n",
    "    cluster_ = np.matmul(cluster_,V[:,:r])\n",
    "    print(cluster_)\n",
    "    weight,center,counts,meepc_attacks = meepc.fit(cluster_,alpha_factor=0.2,Labels=y_train[np.where(labels == i)[0]],cluster_index=np.asarray(cluster_indices[i]))\n",
    "    print(weight)\n",
    "    print(center)\n",
    "    print(counts)\n",
    "    print(meepc_attacks)\n",
    "    \n",
    "        "
   ]
  },
  {
   "cell_type": "code",
   "execution_count": null,
   "metadata": {},
   "outputs": [],
   "source": []
  }
 ],
 "metadata": {
  "kernelspec": {
   "display_name": "Python 3",
   "language": "python",
   "name": "python3"
  },
  "language_info": {
   "codemirror_mode": {
    "name": "ipython",
    "version": 3
   },
   "file_extension": ".py",
   "mimetype": "text/x-python",
   "name": "python",
   "nbconvert_exporter": "python",
   "pygments_lexer": "ipython3",
   "version": "3.9.13"
  }
 },
 "nbformat": 4,
 "nbformat_minor": 2
}
