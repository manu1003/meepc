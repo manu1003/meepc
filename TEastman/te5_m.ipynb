{
 "cells": [
  {
   "cell_type": "code",
   "execution_count": 1,
   "metadata": {},
   "outputs": [
    {
     "name": "stderr",
     "output_type": "stream",
     "text": [
      "C:\\Users\\user\\AppData\\Local\\Packages\\PythonSoftwareFoundation.Python.3.9_qbz5n2kfra8p0\\LocalCache\\local-packages\\Python39\\site-packages\\numpy\\_distributor_init.py:30: UserWarning: loaded more than 1 DLL from .libs:\n",
      "C:\\Users\\user\\AppData\\Local\\Packages\\PythonSoftwareFoundation.Python.3.9_qbz5n2kfra8p0\\LocalCache\\local-packages\\Python39\\site-packages\\numpy\\.libs\\libopenblas.EL2C6PLE4ZYW3ECEVIV3OXXGRN2NRFM2.gfortran-win_amd64.dll\n",
      "C:\\Users\\user\\AppData\\Local\\Packages\\PythonSoftwareFoundation.Python.3.9_qbz5n2kfra8p0\\LocalCache\\local-packages\\Python39\\site-packages\\numpy\\.libs\\libopenblas.WCDJNK7YVMPZQ2ME2ZZHJJRJ3JIKNDB7.gfortran-win_amd64.dll\n",
      "  warnings.warn(\"loaded more than 1 DLL from .libs:\"\n"
     ]
    }
   ],
   "source": [
    "import sys\n",
    "sys.path.append(\"C:/Users/user/meepc\")\n",
    "import numpy as np\n",
    "import pandas as pd\n",
    "from models import Hankel,Pipeline,Corrhankel\n",
    "import warnings\n",
    "warnings.simplefilter('ignore')\n",
    "from sklearn.preprocessing import StandardScaler\n",
    "from sklearn.metrics import accuracy_score, precision_score, recall_score, f1_score, roc_auc_score"
   ]
  },
  {
   "cell_type": "code",
   "execution_count": 2,
   "metadata": {},
   "outputs": [],
   "source": [
    "train_normal = pd.read_csv('~/data/te/normal_training.csv')\n",
    "train_attack = pd.read_csv('~/data/te/attack_training.csv')"
   ]
  },
  {
   "cell_type": "code",
   "execution_count": 3,
   "metadata": {},
   "outputs": [],
   "source": [
    "sensors = [col for col in train_normal.columns if col not in ['faultNumber', 'simulationRun', 'sample','LABEL']]"
   ]
  },
  {
   "cell_type": "code",
   "execution_count": 4,
   "metadata": {},
   "outputs": [],
   "source": [
    "scaler = StandardScaler()\n",
    "X_normal = pd.DataFrame(index=train_normal.index, columns=sensors, data=scaler.fit_transform(train_normal[sensors]))\n",
    "X_attack = pd.DataFrame(data=scaler.fit_transform(train_attack.loc[:,sensors]),index=train_attack.index,columns=sensors).reset_index().drop(columns=['index'])"
   ]
  },
  {
   "cell_type": "code",
   "execution_count": 5,
   "metadata": {},
   "outputs": [],
   "source": [
    "hankel = Hankel()\n",
    "corrhankel = Corrhankel()\n",
    "lag = 360\n",
    "stride = 0.5"
   ]
  },
  {
   "cell_type": "code",
   "execution_count": 6,
   "metadata": {},
   "outputs": [],
   "source": [
    "corr_normal,nolag_normal = corrhankel.fit(X_normal.to_numpy(),lag,stride)"
   ]
  },
  {
   "cell_type": "code",
   "execution_count": 7,
   "metadata": {},
   "outputs": [],
   "source": [
    "corr_attack,nolag_attack = corrhankel.fit(X_attack.to_numpy(),lag,stride)"
   ]
  },
  {
   "cell_type": "code",
   "execution_count": 8,
   "metadata": {},
   "outputs": [],
   "source": [
    "df_test1 = pd.read_csv('~/data/te/normal_testing.csv')\n",
    "df_test2 = pd.read_csv('~/data/te/attack_testing.csv')\n",
    "df_test=pd.concat((df_test1,df_test2),axis=0)"
   ]
  },
  {
   "cell_type": "code",
   "execution_count": 9,
   "metadata": {},
   "outputs": [],
   "source": [
    "test_combined = pd.concat((df_test,train_attack),axis=0)\n",
    "X_test = pd.DataFrame(index=test_combined.index, columns=sensors, data=scaler.fit_transform(test_combined[sensors]))\n",
    "corr_test,nolag_test = corrhankel.fit(X_test.to_numpy(),lag,stride)\n",
    "Y_test = test_combined.loc[:,'LABEL']"
   ]
  },
  {
   "cell_type": "code",
   "execution_count": 10,
   "metadata": {},
   "outputs": [],
   "source": [
    "labels = hankel.fit(np.array(Y_test),lag,stride)\n",
    "y_actual = np.any(labels>0,axis=0).astype(int)"
   ]
  },
  {
   "cell_type": "markdown",
   "metadata": {},
   "source": [
    "# Epasad with 1 cluster and no threshold tuning (training attack included in test data)"
   ]
  },
  {
   "cell_type": "code",
   "execution_count": 11,
   "metadata": {},
   "outputs": [],
   "source": [
    "sensor_models= []\n",
    "sensor_predicted = []\n",
    "accuracy = []\n",
    "precision = []\n",
    "recall = []\n",
    "fscore = []\n",
    "for i,sens in enumerate(sensors):\n",
    "    train_normal = X_normal.loc[:,sens].values\n",
    "    train_attack = X_attack.loc[:,sens].values\n",
    "    model = Pipeline()\n",
    "    model.fit(train_normal,train_attack,lag,stride,optimal_k=1,tune=False,kscore_init='inertia',corr_normal=corr_normal[:,i].reshape(nolag_normal,len(X_normal.columns)).T)\n",
    "    test = X_test.loc[:,sens].values\n",
    "    y_predicted = model.predict(test,corr_test[:,i].reshape(nolag_test,len(X_test.columns)).T)\n",
    "    sensor_predicted.append(y_predicted)\n",
    "    accuracy.append(accuracy_score(y_actual,y_predicted))\n",
    "    precision.append(precision_score(y_actual,y_predicted))\n",
    "    recall.append(recall_score(y_actual,y_predicted)) \n",
    "    fscore.append(f1_score(y_actual,y_predicted))\n",
    "    sensor_models.append(model)   "
   ]
  },
  {
   "cell_type": "code",
   "execution_count": 12,
   "metadata": {},
   "outputs": [
    {
     "data": {
      "text/plain": [
       "array([1, 1, 1, 1, 1, 1, 1, 1, 1, 1, 1, 1, 1, 1, 1, 1, 1, 1, 1, 1, 1, 1,\n",
       "       1, 1, 1, 1, 1, 1, 1, 1, 1, 1, 1, 1, 1, 1, 1, 1, 1, 1, 1, 1, 1, 1,\n",
       "       1, 1, 1, 1, 1, 1, 1, 1, 1, 1, 1, 1, 1, 1, 1, 1, 1, 1, 1, 1, 1, 1,\n",
       "       1, 1, 1, 1, 1, 1, 1, 1, 1, 1, 1, 1, 1, 1, 1, 1, 1, 1, 1, 1, 1, 1,\n",
       "       1, 1, 1, 1, 1, 1, 1, 1, 1, 1, 1, 1, 1, 1, 1, 1, 1, 1, 1, 1, 1, 1,\n",
       "       1, 1, 1, 1, 1, 1, 1, 1, 1, 1, 1, 1, 1, 1, 1, 1, 1, 1, 1, 1, 1, 1,\n",
       "       1, 1, 1, 1, 1, 1, 1, 1, 1, 1, 1, 1, 1, 1, 1, 1, 1, 1, 1, 0, 0, 1,\n",
       "       1, 1, 1, 1, 1, 1, 1, 1, 1, 1, 1, 1])"
      ]
     },
     "execution_count": 12,
     "metadata": {},
     "output_type": "execute_result"
    }
   ],
   "source": [
    "sensor_predicitions = np.asarray(sensor_predicted)\n",
    "predicted_label=np.any(sensor_predicitions>0,axis=0).astype(int)\n",
    "predicted_label"
   ]
  },
  {
   "cell_type": "code",
   "execution_count": 13,
   "metadata": {},
   "outputs": [
    {
     "name": "stdout",
     "output_type": "stream",
     "text": [
      "Accuracy  0.963855421686747\n",
      "Precision  0.975609756097561\n",
      "Recall  0.9876543209876543\n",
      "F1-score  0.9815950920245398\n"
     ]
    }
   ],
   "source": [
    "print(\"Accuracy \",accuracy_score(y_actual,predicted_label))\n",
    "print(\"Precision \",precision_score(y_actual,predicted_label))\n",
    "print(\"Recall \",recall_score(y_actual,predicted_label))\n",
    "print(\"F1-score \",f1_score(y_actual,predicted_label))"
   ]
  },
  {
   "cell_type": "code",
   "execution_count": 14,
   "metadata": {},
   "outputs": [
    {
     "name": "stdout",
     "output_type": "stream",
     "text": [
      "Accuracy -  Mean: 0.23354958294717332 Median : 0.15060240963855423 Min : 0.07228915662650602 Max : 0.9036144578313253\n",
      "precision - Mean: 0.9964875320757673 Median : 1.0 Min : 0.9682539682539683 Max : 1.0\n",
      "recall -    Mean: 0.21771130104463438 Median : 0.12962962962962962 Min : 0.04938271604938271 Max : 0.9259259259259259\n",
      "f1 -        Mean: 0.3036578299547079 Median : 0.22950819672131148 Min : 0.09411764705882353 Max : 0.949367088607595\n"
     ]
    }
   ],
   "source": [
    "print(\"Accuracy -  Mean: {} Median : {} Min : {} Max : {}\".format(np.asarray(accuracy).mean(), np.median(np.asarray(accuracy)),np.asarray(accuracy).min(), np.asarray(accuracy).max()))\n",
    "print(\"precision - Mean: {} Median : {} Min : {} Max : {}\".format(np.asarray(precision).mean(), np.median(np.asarray(precision)),np.asarray(precision).min(), np.asarray(precision).max()))\n",
    "print(\"recall -    Mean: {} Median : {} Min : {} Max : {}\".format(np.asarray(recall).mean(), np.median(np.asarray(recall)),np.asarray(recall).min(), np.asarray(recall).max()))\n",
    "print(\"f1 -        Mean: {} Median : {} Min : {} Max : {}\".format(np.asarray(fscore).mean(), np.median(np.asarray(fscore)),np.asarray(fscore).min(), np.asarray(fscore).max()))"
   ]
  },
  {
   "cell_type": "markdown",
   "metadata": {},
   "source": [
    "# Multiple clusters: no threshold tuning (training included in test data)"
   ]
  },
  {
   "cell_type": "code",
   "execution_count": 15,
   "metadata": {},
   "outputs": [
    {
     "name": "stdout",
     "output_type": "stream",
     "text": [
      "-------number of clusters------ 2\n",
      "Accuracy  0.9698795180722891\n",
      "Precision  0.9757575757575757\n",
      "Recall  0.9938271604938271\n",
      "F1-score  0.9847094801223242\n",
      "-------number of clusters------ 3\n",
      "Accuracy  0.8373493975903614\n",
      "Precision  0.972027972027972\n",
      "Recall  0.8580246913580247\n",
      "F1-score  0.9114754098360657\n",
      "-------number of clusters------ 4\n",
      "Accuracy  0.6987951807228916\n",
      "Precision  0.9912280701754386\n",
      "Recall  0.6975308641975309\n",
      "F1-score  0.818840579710145\n",
      "-------number of clusters------ 5\n",
      "Accuracy  0.8012048192771084\n",
      "Precision  0.9708029197080292\n",
      "Recall  0.8209876543209876\n",
      "F1-score  0.8896321070234113\n",
      "-------number of clusters------ 6\n",
      "Accuracy  0.7831325301204819\n",
      "Precision  0.9921875\n",
      "Recall  0.7839506172839507\n",
      "F1-score  0.8758620689655173\n",
      "-------number of clusters------ 7\n",
      "Accuracy  0.8493975903614458\n",
      "Precision  0.9790209790209791\n",
      "Recall  0.8641975308641975\n",
      "F1-score  0.9180327868852458\n"
     ]
    }
   ],
   "source": [
    "fscores_k_1 = []\n",
    "for k in range(2,8):\n",
    "    sensor_models= []\n",
    "    sensor_predicted = []\n",
    "    accuracy = []\n",
    "    precision = []\n",
    "    recall = []\n",
    "    fscore = []\n",
    "    for i,sens in enumerate(sensors):\n",
    "        train_normal = X_normal.loc[:,sens].values\n",
    "        train_attack = X_attack.loc[:,sens].values\n",
    "        model = Pipeline()\n",
    "        model.fit(train_normal,train_attack,lag,stride,optimal_k = k,tune=False,kscore_init='inertia',corr_normal=corr_normal[:,i].reshape(nolag_normal,len(X_normal.columns)).T)\n",
    "        test = X_test.loc[:,sens].values\n",
    "        y_predicted = model.predict(test,corr_test=corr_test[:,i].reshape(nolag_test,len(X_test.columns)).T)\n",
    "        sensor_predicted.append(y_predicted)\n",
    "        accuracy.append(accuracy_score(y_actual,y_predicted))\n",
    "        precision.append(precision_score(y_actual,y_predicted))\n",
    "        recall.append(recall_score(y_actual,y_predicted)) \n",
    "        fscore.append(f1_score(y_actual,y_predicted))\n",
    "        sensor_models.append(model)   \n",
    "    sensor_predicted = np.asarray(sensor_predicted)\n",
    "    y_predicted = np.any(sensor_predicted,axis=0).astype(int) \n",
    "    print(\"-------number of clusters------\", k)\n",
    "    print(\"Accuracy \",accuracy_score(y_actual,y_predicted))\n",
    "    print(\"Precision \",precision_score(y_actual,y_predicted))\n",
    "    print(\"Recall \",recall_score(y_actual,y_predicted))\n",
    "    print(\"F1-score \",f1_score(y_actual,y_predicted))\n",
    "    fscores_k_1.append(f1_score(y_actual,y_predicted))"
   ]
  },
  {
   "cell_type": "code",
   "execution_count": 16,
   "metadata": {},
   "outputs": [
    {
     "data": {
      "text/plain": [
       "[0.9847094801223242,\n",
       " 0.9114754098360657,\n",
       " 0.818840579710145,\n",
       " 0.8896321070234113,\n",
       " 0.8758620689655173,\n",
       " 0.9180327868852458]"
      ]
     },
     "execution_count": 16,
     "metadata": {},
     "output_type": "execute_result"
    }
   ],
   "source": [
    "fscores_k_1"
   ]
  },
  {
   "cell_type": "markdown",
   "metadata": {},
   "source": [
    "# Epasad with 1 cluster : (training attack is not in test data)"
   ]
  },
  {
   "cell_type": "code",
   "execution_count": 17,
   "metadata": {},
   "outputs": [],
   "source": [
    "X_test = pd.DataFrame(index=df_test.index, columns=sensors, data=scaler.fit_transform(df_test[sensors]))\n",
    "Y_test = df_test.loc[:,'LABEL']\n",
    "corr_test,nolag_test = corrhankel.fit(X_test.to_numpy(),lag,stride)"
   ]
  },
  {
   "cell_type": "code",
   "execution_count": 18,
   "metadata": {},
   "outputs": [],
   "source": [
    "labels = hankel.fit(np.array(Y_test),lag,stride)\n",
    "y_actual = np.any(labels>0,axis=0).astype(int)"
   ]
  },
  {
   "cell_type": "code",
   "execution_count": 19,
   "metadata": {},
   "outputs": [],
   "source": [
    "sensor_models= []\n",
    "sensor_predicted = []\n",
    "accuracy = []\n",
    "precision = []\n",
    "recall = []\n",
    "fscore = []\n",
    "for i,sens in enumerate(sensors):\n",
    "    train_normal = X_normal.loc[:,sens].values\n",
    "    train_attack = X_attack.loc[:,sens].values\n",
    "    model = Pipeline()\n",
    "    model.fit(train_normal,train_attack,lag,stride,optimal_k=1,tune=False,kscore_init='inertia',corr_normal=corr_normal[:,i].reshape(nolag_normal,len(X_normal.columns)).T,corr_attack=corr_attack[:,i].reshape(nolag_attack,len(X_attack.columns)).T)\n",
    "    test = X_test.loc[:,sens].values\n",
    "    y_predicted = model.predict(test,corr_test[:,i].reshape(nolag_test,len(X_test.columns)).T)\n",
    "    sensor_predicted.append(y_predicted)\n",
    "    accuracy.append(accuracy_score(y_actual,y_predicted))\n",
    "    precision.append(precision_score(y_actual,y_predicted))\n",
    "    recall.append(recall_score(y_actual,y_predicted)) \n",
    "    fscore.append(f1_score(y_actual,y_predicted))\n",
    "    sensor_models.append(model)   "
   ]
  },
  {
   "cell_type": "code",
   "execution_count": 20,
   "metadata": {},
   "outputs": [
    {
     "data": {
      "text/plain": [
       "array([1, 1, 1, 1, 1, 1, 1, 1, 1, 1, 1, 1, 1, 1, 1, 1, 1, 1, 1, 1, 1, 1,\n",
       "       1, 1, 1, 1, 1, 1, 1, 1, 1, 1, 1, 1, 1, 1, 1, 1, 1, 1, 1, 1, 1, 1,\n",
       "       1, 1, 1, 1, 1, 1, 1, 1, 1, 1, 1, 1, 1, 1, 1, 1, 1, 1, 1, 1, 1, 1,\n",
       "       1, 1, 1, 1, 1, 1, 1, 1, 1, 1, 1, 1, 1, 1, 1, 1, 1, 1, 1, 1, 1, 1,\n",
       "       1, 1, 1, 1, 1, 1, 1, 1, 1, 1, 1, 1, 1, 1, 1, 1, 1, 1, 1, 1, 1, 1])"
      ]
     },
     "execution_count": 20,
     "metadata": {},
     "output_type": "execute_result"
    }
   ],
   "source": [
    "sensor_predicitions = np.asarray(sensor_predicted)\n",
    "predicted_label=np.any(sensor_predicitions>0,axis=0).astype(int)\n",
    "predicted_label"
   ]
  },
  {
   "cell_type": "code",
   "execution_count": 21,
   "metadata": {},
   "outputs": [
    {
     "name": "stdout",
     "output_type": "stream",
     "text": [
      "Accuracy  0.9636363636363636\n",
      "Precision  0.9636363636363636\n",
      "Recall  1.0\n",
      "F1-score  0.9814814814814815\n"
     ]
    }
   ],
   "source": [
    "print(\"Accuracy \",accuracy_score(y_actual,predicted_label))\n",
    "print(\"Precision \",precision_score(y_actual,predicted_label))\n",
    "print(\"Recall \",recall_score(y_actual,predicted_label))\n",
    "print(\"F1-score \",f1_score(y_actual,predicted_label))"
   ]
  },
  {
   "cell_type": "code",
   "execution_count": 22,
   "metadata": {},
   "outputs": [
    {
     "name": "stdout",
     "output_type": "stream",
     "text": [
      "Accuracy -  Mean: 0.2428321678321678 Median : 0.15454545454545454 Min : 0.08181818181818182 Max : 0.9090909090909091\n",
      "precision - Mean: 0.9948375155964226 Median : 1.0 Min : 0.9555555555555556 Max : 1.0\n",
      "recall -    Mean: 0.2189767779390421 Median : 0.12264150943396226 Min : 0.04716981132075472 Max : 0.9433962264150944\n",
      "f1 -        Mean: 0.30183097710702556 Median : 0.21848739495798317 Min : 0.09009009009009009 Max : 0.9523809523809524\n"
     ]
    }
   ],
   "source": [
    "print(\"Accuracy -  Mean: {} Median : {} Min : {} Max : {}\".format(np.asarray(accuracy).mean(), np.median(np.asarray(accuracy)),np.asarray(accuracy).min(), np.asarray(accuracy).max()))\n",
    "print(\"precision - Mean: {} Median : {} Min : {} Max : {}\".format(np.asarray(precision).mean(), np.median(np.asarray(precision)),np.asarray(precision).min(), np.asarray(precision).max()))\n",
    "print(\"recall -    Mean: {} Median : {} Min : {} Max : {}\".format(np.asarray(recall).mean(), np.median(np.asarray(recall)),np.asarray(recall).min(), np.asarray(recall).max()))\n",
    "print(\"f1 -        Mean: {} Median : {} Min : {} Max : {}\".format(np.asarray(fscore).mean(), np.median(np.asarray(fscore)),np.asarray(fscore).min(), np.asarray(fscore).max()))"
   ]
  },
  {
   "cell_type": "markdown",
   "metadata": {},
   "source": [
    "# Multiple clusters : No threshold tuning (training attack is not in test data)"
   ]
  },
  {
   "cell_type": "code",
   "execution_count": 23,
   "metadata": {},
   "outputs": [
    {
     "name": "stdout",
     "output_type": "stream",
     "text": [
      "-------number of clusters------ 2\n",
      "Accuracy  0.9636363636363636\n",
      "Precision  0.9636363636363636\n",
      "Recall  1.0\n",
      "F1-score  0.9814814814814815\n",
      "-------number of clusters------ 3\n",
      "Accuracy  0.8272727272727273\n",
      "Precision  0.978021978021978\n",
      "Recall  0.839622641509434\n",
      "F1-score  0.9035532994923858\n",
      "-------number of clusters------ 4\n",
      "Accuracy  0.6636363636363637\n",
      "Precision  1.0\n",
      "Recall  0.6509433962264151\n",
      "F1-score  0.7885714285714286\n",
      "-------number of clusters------ 5\n",
      "Accuracy  0.7636363636363637\n",
      "Precision  0.9651162790697675\n",
      "Recall  0.7830188679245284\n",
      "F1-score  0.8645833333333334\n",
      "-------number of clusters------ 6\n",
      "Accuracy  0.8454545454545455\n",
      "Precision  0.968421052631579\n",
      "Recall  0.8679245283018868\n",
      "F1-score  0.9154228855721392\n",
      "-------number of clusters------ 7\n",
      "Accuracy  0.8636363636363636\n",
      "Precision  0.9690721649484536\n",
      "Recall  0.8867924528301887\n",
      "F1-score  0.9261083743842364\n"
     ]
    }
   ],
   "source": [
    "fscores_k_2=[]\n",
    "for k in range(2,8):\n",
    "    sensor_models = []\n",
    "    sensor_predicted = []\n",
    "    accuracy = []\n",
    "    precision = []\n",
    "    recall = []\n",
    "    fscore = []\n",
    "    for i,sens in enumerate(sensors):\n",
    "        train_normal = X_normal.loc[:,sens].values\n",
    "        train_attack = X_attack.loc[:,sens].values\n",
    "        model = Pipeline()\n",
    "        model.fit(train_normal,train_attack,lag,stride,optimal_k=k,tune=False,kscore_init='inertia',corr_normal=corr_normal[:,i].reshape(nolag_normal,len(X_normal.columns)).T)\n",
    "        test = X_test.loc[:,sens].values\n",
    "        y_predicted = model.predict(test,corr_test=corr_test[:,i].reshape(nolag_test,len(X_normal.columns)).T)\n",
    "        sensor_predicted.append(y_predicted)\n",
    "        accuracy.append(accuracy_score(y_actual,y_predicted))\n",
    "        precision.append(precision_score(y_actual,y_predicted))\n",
    "        recall.append(recall_score(y_actual,y_predicted))\n",
    "        fscore.append(f1_score(y_actual,y_predicted))\n",
    "        sensor_models.append(model)    \n",
    "    sensor_predicted = np.asarray(sensor_predicted)\n",
    "    y_predicted = np.any(sensor_predicted,axis=0).astype(int)\n",
    "    print(\"-------number of clusters------\", k)\n",
    "    print(\"Accuracy \",accuracy_score(y_actual,y_predicted))\n",
    "    print(\"Precision \",precision_score(y_actual,y_predicted))\n",
    "    print(\"Recall \",recall_score(y_actual,y_predicted))\n",
    "    print(\"F1-score \",f1_score(y_actual,y_predicted))\n",
    "    fscores_k_2.append(f1_score(y_actual,y_predicted))"
   ]
  },
  {
   "cell_type": "code",
   "execution_count": 24,
   "metadata": {},
   "outputs": [
    {
     "data": {
      "text/plain": [
       "[0.9814814814814815,\n",
       " 0.9035532994923858,\n",
       " 0.7885714285714286,\n",
       " 0.8645833333333334,\n",
       " 0.9154228855721392,\n",
       " 0.9261083743842364]"
      ]
     },
     "execution_count": 24,
     "metadata": {},
     "output_type": "execute_result"
    }
   ],
   "source": [
    "fscores_k_2"
   ]
  },
  {
   "cell_type": "markdown",
   "metadata": {},
   "source": [
    "# Multiple clusters : threshold tuning (training attack is not in test data)"
   ]
  },
  {
   "cell_type": "code",
   "execution_count": 25,
   "metadata": {},
   "outputs": [
    {
     "name": "stdout",
     "output_type": "stream",
     "text": [
      "-------number of clusters------ 2\n",
      "Accuracy  0.9636363636363636\n",
      "Precision  0.9636363636363636\n",
      "Recall  1.0\n",
      "F1-score  0.9814814814814815\n",
      "-------number of clusters------ 3\n",
      "Accuracy  0.9636363636363636\n",
      "Precision  0.9636363636363636\n",
      "Recall  1.0\n",
      "F1-score  0.9814814814814815\n",
      "-------number of clusters------ 4\n",
      "Accuracy  0.9636363636363636\n",
      "Precision  0.9636363636363636\n",
      "Recall  1.0\n",
      "F1-score  0.9814814814814815\n",
      "-------number of clusters------ 5\n",
      "Accuracy  0.9636363636363636\n",
      "Precision  0.9636363636363636\n",
      "Recall  1.0\n",
      "F1-score  0.9814814814814815\n",
      "-------number of clusters------ 6\n",
      "Accuracy  0.9636363636363636\n",
      "Precision  0.9636363636363636\n",
      "Recall  1.0\n",
      "F1-score  0.9814814814814815\n",
      "-------number of clusters------ 7\n",
      "Accuracy  0.9636363636363636\n",
      "Precision  0.9636363636363636\n",
      "Recall  1.0\n",
      "F1-score  0.9814814814814815\n"
     ]
    }
   ],
   "source": [
    "fscores_k_3 = []\n",
    "for k in range(2,8):\n",
    "    sensor_models= []\n",
    "    sensor_predicted = []\n",
    "    accuracy = []\n",
    "    precision = []\n",
    "    recall = []\n",
    "    fscore = []\n",
    "    for i,sens in enumerate(sensors):\n",
    "        train_normal = X_normal.loc[:,sens].values\n",
    "        train_attack = X_attack.loc[:,sens].values\n",
    "        model = Pipeline()\n",
    "        model.fit(train_normal,train_attack,lag,stride,optimal_k = k,tune=True,kscore_init='inertia',corr_normal=corr_normal[:,i].reshape(nolag_normal,len(X_normal.columns)).T,corr_attack=corr_attack[:,i].reshape(nolag_attack,len(X_attack.columns)).T)\n",
    "        test = X_test.loc[:,sens].values\n",
    "        y_predicted = model.predict(test,corr_test=corr_test[:,i].reshape(nolag_test,len(X_test.columns)).T)\n",
    "        sensor_predicted.append(y_predicted)\n",
    "        accuracy.append(accuracy_score(y_actual,y_predicted))\n",
    "        precision.append(precision_score(y_actual,y_predicted))\n",
    "        recall.append(recall_score(y_actual,y_predicted)) \n",
    "        fscore.append(f1_score(y_actual,y_predicted))\n",
    "        sensor_models.append(model)   \n",
    "    sensor_predicted = np.asarray(sensor_predicted)\n",
    "    y_predicted = np.any(sensor_predicted,axis=0).astype(int)\n",
    "    print(\"-------number of clusters------\", k)\n",
    "    print(\"Accuracy \",accuracy_score(y_actual,y_predicted))\n",
    "    print(\"Precision \",precision_score(y_actual,y_predicted))\n",
    "    print(\"Recall \",recall_score(y_actual,y_predicted))\n",
    "    print(\"F1-score \",f1_score(y_actual,y_predicted))\n",
    "    fscores_k_3.append(f1_score(y_actual,y_predicted))"
   ]
  },
  {
   "cell_type": "code",
   "execution_count": 26,
   "metadata": {},
   "outputs": [
    {
     "data": {
      "text/plain": [
       "[0.9814814814814815,\n",
       " 0.9814814814814815,\n",
       " 0.9814814814814815,\n",
       " 0.9814814814814815,\n",
       " 0.9814814814814815,\n",
       " 0.9814814814814815]"
      ]
     },
     "execution_count": 26,
     "metadata": {},
     "output_type": "execute_result"
    }
   ],
   "source": [
    "fscores_k_3"
   ]
  },
  {
   "cell_type": "code",
   "execution_count": null,
   "metadata": {},
   "outputs": [],
   "source": []
  }
 ],
 "metadata": {
  "kernelspec": {
   "display_name": "Python 3",
   "language": "python",
   "name": "python3"
  },
  "language_info": {
   "codemirror_mode": {
    "name": "ipython",
    "version": 3
   },
   "file_extension": ".py",
   "mimetype": "text/x-python",
   "name": "python",
   "nbconvert_exporter": "python",
   "pygments_lexer": "ipython3",
   "version": "3.9.13"
  }
 },
 "nbformat": 4,
 "nbformat_minor": 2
}
