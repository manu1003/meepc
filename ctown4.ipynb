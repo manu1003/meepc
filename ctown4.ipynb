{
 "cells": [
  {
   "cell_type": "code",
   "execution_count": 1,
   "metadata": {},
   "outputs": [],
   "source": [
    "import numpy as np\n",
    "import pandas as pd\n",
    "from models import Hankel,Rank,Cluster,Meepc,Pipeline\n",
    "import warnings\n",
    "warnings.simplefilter('ignore')\n",
    "import math\n",
    "from sklearn.cluster import KMeans\n",
    "from sklearn.preprocessing import StandardScaler\n",
    "from sklearn.metrics import accuracy_score, precision_score, recall_score, f1_score, roc_auc_score\n",
    "from scipy.linalg import hankel"
   ]
  },
  {
   "cell_type": "code",
   "execution_count": 2,
   "metadata": {},
   "outputs": [],
   "source": [
    "df_1 = pd.read_csv('~/data/ctown/dataset03.csv')\n",
    "df_2 = pd.read_csv('~/data/ctown/dataset04.csv')\n",
    "train_normal=pd.concat((df_1,df_2[df_2['ATT_FLAG']==0]),axis=0,ignore_index=True)\n",
    "train_attack=df_2[df_2['ATT_FLAG']==1]"
   ]
  },
  {
   "cell_type": "code",
   "execution_count": 3,
   "metadata": {},
   "outputs": [],
   "source": [
    "hankel = Hankel()\n",
    "lag = 60\n",
    "stride = 0.5"
   ]
  },
  {
   "cell_type": "code",
   "execution_count": 4,
   "metadata": {},
   "outputs": [],
   "source": [
    "sensors=[col for col in train_normal.columns if col not in ['DATETIME','ATT_FLAG']] "
   ]
  },
  {
   "cell_type": "code",
   "execution_count": 5,
   "metadata": {},
   "outputs": [
    {
     "data": {
      "text/html": [
       "<div>\n",
       "<style scoped>\n",
       "    .dataframe tbody tr th:only-of-type {\n",
       "        vertical-align: middle;\n",
       "    }\n",
       "\n",
       "    .dataframe tbody tr th {\n",
       "        vertical-align: top;\n",
       "    }\n",
       "\n",
       "    .dataframe thead th {\n",
       "        text-align: right;\n",
       "    }\n",
       "</style>\n",
       "<table border=\"1\" class=\"dataframe\">\n",
       "  <thead>\n",
       "    <tr style=\"text-align: right;\">\n",
       "      <th></th>\n",
       "      <th>L_T1</th>\n",
       "      <th>L_T2</th>\n",
       "      <th>L_T3</th>\n",
       "      <th>L_T4</th>\n",
       "      <th>L_T5</th>\n",
       "      <th>L_T6</th>\n",
       "      <th>L_T7</th>\n",
       "      <th>F_PU1</th>\n",
       "      <th>S_PU1</th>\n",
       "      <th>F_PU2</th>\n",
       "      <th>...</th>\n",
       "      <th>P_J300</th>\n",
       "      <th>P_J256</th>\n",
       "      <th>P_J289</th>\n",
       "      <th>P_J415</th>\n",
       "      <th>P_J302</th>\n",
       "      <th>P_J306</th>\n",
       "      <th>P_J307</th>\n",
       "      <th>P_J317</th>\n",
       "      <th>P_J14</th>\n",
       "      <th>P_J422</th>\n",
       "    </tr>\n",
       "  </thead>\n",
       "  <tbody>\n",
       "    <tr>\n",
       "      <th>0</th>\n",
       "      <td>-1.810652</td>\n",
       "      <td>-0.840399</td>\n",
       "      <td>-1.489684</td>\n",
       "      <td>-1.438753</td>\n",
       "      <td>-0.125827</td>\n",
       "      <td>-0.299891</td>\n",
       "      <td>-2.102859</td>\n",
       "      <td>-0.192322</td>\n",
       "      <td>0.0</td>\n",
       "      <td>0.701055</td>\n",
       "      <td>...</td>\n",
       "      <td>-0.485068</td>\n",
       "      <td>0.969072</td>\n",
       "      <td>-0.467118</td>\n",
       "      <td>0.198329</td>\n",
       "      <td>-1.258253</td>\n",
       "      <td>0.754636</td>\n",
       "      <td>-1.256119</td>\n",
       "      <td>-0.150254</td>\n",
       "      <td>-1.034333</td>\n",
       "      <td>-0.359477</td>\n",
       "    </tr>\n",
       "    <tr>\n",
       "      <th>1</th>\n",
       "      <td>-1.891658</td>\n",
       "      <td>-0.867565</td>\n",
       "      <td>-0.824829</td>\n",
       "      <td>-1.366330</td>\n",
       "      <td>0.513682</td>\n",
       "      <td>0.702713</td>\n",
       "      <td>-1.754244</td>\n",
       "      <td>-0.182644</td>\n",
       "      <td>0.0</td>\n",
       "      <td>0.703361</td>\n",
       "      <td>...</td>\n",
       "      <td>-0.486352</td>\n",
       "      <td>1.186900</td>\n",
       "      <td>-0.470150</td>\n",
       "      <td>0.423304</td>\n",
       "      <td>-1.270108</td>\n",
       "      <td>0.771354</td>\n",
       "      <td>-1.267867</td>\n",
       "      <td>-0.140255</td>\n",
       "      <td>-1.042174</td>\n",
       "      <td>-0.371926</td>\n",
       "    </tr>\n",
       "    <tr>\n",
       "      <th>2</th>\n",
       "      <td>-1.968762</td>\n",
       "      <td>-0.883198</td>\n",
       "      <td>-0.091921</td>\n",
       "      <td>-0.577770</td>\n",
       "      <td>1.123162</td>\n",
       "      <td>0.731687</td>\n",
       "      <td>-1.280055</td>\n",
       "      <td>-0.249670</td>\n",
       "      <td>0.0</td>\n",
       "      <td>0.687387</td>\n",
       "      <td>...</td>\n",
       "      <td>-0.484604</td>\n",
       "      <td>1.376971</td>\n",
       "      <td>-0.470137</td>\n",
       "      <td>0.513959</td>\n",
       "      <td>-1.100738</td>\n",
       "      <td>0.955519</td>\n",
       "      <td>-1.097261</td>\n",
       "      <td>0.847781</td>\n",
       "      <td>-1.042107</td>\n",
       "      <td>-0.371820</td>\n",
       "    </tr>\n",
       "    <tr>\n",
       "      <th>3</th>\n",
       "      <td>-1.958116</td>\n",
       "      <td>-0.867475</td>\n",
       "      <td>0.693507</td>\n",
       "      <td>0.327115</td>\n",
       "      <td>1.636865</td>\n",
       "      <td>0.731687</td>\n",
       "      <td>-0.127985</td>\n",
       "      <td>-0.333661</td>\n",
       "      <td>0.0</td>\n",
       "      <td>0.667368</td>\n",
       "      <td>...</td>\n",
       "      <td>-0.451086</td>\n",
       "      <td>1.558821</td>\n",
       "      <td>-0.437744</td>\n",
       "      <td>0.705006</td>\n",
       "      <td>0.355822</td>\n",
       "      <td>-0.980130</td>\n",
       "      <td>0.350843</td>\n",
       "      <td>1.572762</td>\n",
       "      <td>-1.019584</td>\n",
       "      <td>-0.336060</td>\n",
       "    </tr>\n",
       "    <tr>\n",
       "      <th>4</th>\n",
       "      <td>-1.832527</td>\n",
       "      <td>-0.813155</td>\n",
       "      <td>1.524846</td>\n",
       "      <td>1.560727</td>\n",
       "      <td>1.028078</td>\n",
       "      <td>0.731687</td>\n",
       "      <td>1.359430</td>\n",
       "      <td>-0.355917</td>\n",
       "      <td>0.0</td>\n",
       "      <td>0.662064</td>\n",
       "      <td>...</td>\n",
       "      <td>-0.395961</td>\n",
       "      <td>1.780926</td>\n",
       "      <td>-0.383674</td>\n",
       "      <td>1.024098</td>\n",
       "      <td>0.396924</td>\n",
       "      <td>-0.972501</td>\n",
       "      <td>0.391854</td>\n",
       "      <td>1.653455</td>\n",
       "      <td>-0.990238</td>\n",
       "      <td>-0.289469</td>\n",
       "    </tr>\n",
       "    <tr>\n",
       "      <th>...</th>\n",
       "      <td>...</td>\n",
       "      <td>...</td>\n",
       "      <td>...</td>\n",
       "      <td>...</td>\n",
       "      <td>...</td>\n",
       "      <td>...</td>\n",
       "      <td>...</td>\n",
       "      <td>...</td>\n",
       "      <td>...</td>\n",
       "      <td>...</td>\n",
       "      <td>...</td>\n",
       "      <td>...</td>\n",
       "      <td>...</td>\n",
       "      <td>...</td>\n",
       "      <td>...</td>\n",
       "      <td>...</td>\n",
       "      <td>...</td>\n",
       "      <td>...</td>\n",
       "      <td>...</td>\n",
       "      <td>...</td>\n",
       "      <td>...</td>\n",
       "    </tr>\n",
       "    <tr>\n",
       "      <th>12441</th>\n",
       "      <td>-0.026020</td>\n",
       "      <td>-0.622019</td>\n",
       "      <td>-0.519318</td>\n",
       "      <td>-0.979847</td>\n",
       "      <td>1.456856</td>\n",
       "      <td>-2.422136</td>\n",
       "      <td>-1.347590</td>\n",
       "      <td>1.901208</td>\n",
       "      <td>0.0</td>\n",
       "      <td>-1.641849</td>\n",
       "      <td>...</td>\n",
       "      <td>-0.123946</td>\n",
       "      <td>-1.108734</td>\n",
       "      <td>-0.143233</td>\n",
       "      <td>0.189478</td>\n",
       "      <td>-1.360548</td>\n",
       "      <td>0.723200</td>\n",
       "      <td>-1.357927</td>\n",
       "      <td>-0.354694</td>\n",
       "      <td>-0.918065</td>\n",
       "      <td>-0.174880</td>\n",
       "    </tr>\n",
       "    <tr>\n",
       "      <th>12442</th>\n",
       "      <td>-0.367893</td>\n",
       "      <td>-0.492759</td>\n",
       "      <td>-1.152625</td>\n",
       "      <td>-1.202467</td>\n",
       "      <td>1.280082</td>\n",
       "      <td>-1.971590</td>\n",
       "      <td>-1.612310</td>\n",
       "      <td>1.805874</td>\n",
       "      <td>0.0</td>\n",
       "      <td>-1.641849</td>\n",
       "      <td>...</td>\n",
       "      <td>-0.018536</td>\n",
       "      <td>-1.277789</td>\n",
       "      <td>-0.040691</td>\n",
       "      <td>0.099141</td>\n",
       "      <td>0.213483</td>\n",
       "      <td>-1.362938</td>\n",
       "      <td>0.206009</td>\n",
       "      <td>-0.194622</td>\n",
       "      <td>-0.844885</td>\n",
       "      <td>-0.058695</td>\n",
       "    </tr>\n",
       "    <tr>\n",
       "      <th>12443</th>\n",
       "      <td>-0.643058</td>\n",
       "      <td>-0.356696</td>\n",
       "      <td>-1.844844</td>\n",
       "      <td>-2.000190</td>\n",
       "      <td>-0.066119</td>\n",
       "      <td>-1.295771</td>\n",
       "      <td>-1.732637</td>\n",
       "      <td>1.963771</td>\n",
       "      <td>0.0</td>\n",
       "      <td>-1.641849</td>\n",
       "      <td>...</td>\n",
       "      <td>-0.360210</td>\n",
       "      <td>0.735496</td>\n",
       "      <td>-0.340993</td>\n",
       "      <td>0.014118</td>\n",
       "      <td>0.000592</td>\n",
       "      <td>-1.492194</td>\n",
       "      <td>-0.005821</td>\n",
       "      <td>-0.347161</td>\n",
       "      <td>-0.965277</td>\n",
       "      <td>-0.249839</td>\n",
       "    </tr>\n",
       "    <tr>\n",
       "      <th>12444</th>\n",
       "      <td>-0.968254</td>\n",
       "      <td>-0.519972</td>\n",
       "      <td>-1.285178</td>\n",
       "      <td>-2.853569</td>\n",
       "      <td>-1.439516</td>\n",
       "      <td>-1.521044</td>\n",
       "      <td>-2.310208</td>\n",
       "      <td>1.895249</td>\n",
       "      <td>0.0</td>\n",
       "      <td>-1.641849</td>\n",
       "      <td>...</td>\n",
       "      <td>-0.730962</td>\n",
       "      <td>0.796970</td>\n",
       "      <td>-0.729189</td>\n",
       "      <td>2.778709</td>\n",
       "      <td>0.070801</td>\n",
       "      <td>-1.547303</td>\n",
       "      <td>0.064038</td>\n",
       "      <td>-0.283132</td>\n",
       "      <td>-1.130522</td>\n",
       "      <td>-0.512194</td>\n",
       "    </tr>\n",
       "    <tr>\n",
       "      <th>12445</th>\n",
       "      <td>-1.318464</td>\n",
       "      <td>-0.792099</td>\n",
       "      <td>-0.696055</td>\n",
       "      <td>-1.554950</td>\n",
       "      <td>-1.589094</td>\n",
       "      <td>-1.352089</td>\n",
       "      <td>-2.550863</td>\n",
       "      <td>1.926034</td>\n",
       "      <td>0.0</td>\n",
       "      <td>-1.641849</td>\n",
       "      <td>...</td>\n",
       "      <td>-0.778215</td>\n",
       "      <td>1.143355</td>\n",
       "      <td>-0.780460</td>\n",
       "      <td>3.081605</td>\n",
       "      <td>-1.426227</td>\n",
       "      <td>0.620997</td>\n",
       "      <td>-1.421025</td>\n",
       "      <td>-0.113645</td>\n",
       "      <td>-1.184816</td>\n",
       "      <td>-0.598397</td>\n",
       "    </tr>\n",
       "  </tbody>\n",
       "</table>\n",
       "<p>12446 rows × 43 columns</p>\n",
       "</div>"
      ],
      "text/plain": [
       "           L_T1      L_T2      L_T3      L_T4      L_T5      L_T6      L_T7  \\\n",
       "0     -1.810652 -0.840399 -1.489684 -1.438753 -0.125827 -0.299891 -2.102859   \n",
       "1     -1.891658 -0.867565 -0.824829 -1.366330  0.513682  0.702713 -1.754244   \n",
       "2     -1.968762 -0.883198 -0.091921 -0.577770  1.123162  0.731687 -1.280055   \n",
       "3     -1.958116 -0.867475  0.693507  0.327115  1.636865  0.731687 -0.127985   \n",
       "4     -1.832527 -0.813155  1.524846  1.560727  1.028078  0.731687  1.359430   \n",
       "...         ...       ...       ...       ...       ...       ...       ...   \n",
       "12441 -0.026020 -0.622019 -0.519318 -0.979847  1.456856 -2.422136 -1.347590   \n",
       "12442 -0.367893 -0.492759 -1.152625 -1.202467  1.280082 -1.971590 -1.612310   \n",
       "12443 -0.643058 -0.356696 -1.844844 -2.000190 -0.066119 -1.295771 -1.732637   \n",
       "12444 -0.968254 -0.519972 -1.285178 -2.853569 -1.439516 -1.521044 -2.310208   \n",
       "12445 -1.318464 -0.792099 -0.696055 -1.554950 -1.589094 -1.352089 -2.550863   \n",
       "\n",
       "          F_PU1  S_PU1     F_PU2  ...    P_J300    P_J256    P_J289    P_J415  \\\n",
       "0     -0.192322    0.0  0.701055  ... -0.485068  0.969072 -0.467118  0.198329   \n",
       "1     -0.182644    0.0  0.703361  ... -0.486352  1.186900 -0.470150  0.423304   \n",
       "2     -0.249670    0.0  0.687387  ... -0.484604  1.376971 -0.470137  0.513959   \n",
       "3     -0.333661    0.0  0.667368  ... -0.451086  1.558821 -0.437744  0.705006   \n",
       "4     -0.355917    0.0  0.662064  ... -0.395961  1.780926 -0.383674  1.024098   \n",
       "...         ...    ...       ...  ...       ...       ...       ...       ...   \n",
       "12441  1.901208    0.0 -1.641849  ... -0.123946 -1.108734 -0.143233  0.189478   \n",
       "12442  1.805874    0.0 -1.641849  ... -0.018536 -1.277789 -0.040691  0.099141   \n",
       "12443  1.963771    0.0 -1.641849  ... -0.360210  0.735496 -0.340993  0.014118   \n",
       "12444  1.895249    0.0 -1.641849  ... -0.730962  0.796970 -0.729189  2.778709   \n",
       "12445  1.926034    0.0 -1.641849  ... -0.778215  1.143355 -0.780460  3.081605   \n",
       "\n",
       "         P_J302    P_J306    P_J307    P_J317     P_J14    P_J422  \n",
       "0     -1.258253  0.754636 -1.256119 -0.150254 -1.034333 -0.359477  \n",
       "1     -1.270108  0.771354 -1.267867 -0.140255 -1.042174 -0.371926  \n",
       "2     -1.100738  0.955519 -1.097261  0.847781 -1.042107 -0.371820  \n",
       "3      0.355822 -0.980130  0.350843  1.572762 -1.019584 -0.336060  \n",
       "4      0.396924 -0.972501  0.391854  1.653455 -0.990238 -0.289469  \n",
       "...         ...       ...       ...       ...       ...       ...  \n",
       "12441 -1.360548  0.723200 -1.357927 -0.354694 -0.918065 -0.174880  \n",
       "12442  0.213483 -1.362938  0.206009 -0.194622 -0.844885 -0.058695  \n",
       "12443  0.000592 -1.492194 -0.005821 -0.347161 -0.965277 -0.249839  \n",
       "12444  0.070801 -1.547303  0.064038 -0.283132 -1.130522 -0.512194  \n",
       "12445 -1.426227  0.620997 -1.421025 -0.113645 -1.184816 -0.598397  \n",
       "\n",
       "[12446 rows x 43 columns]"
      ]
     },
     "execution_count": 5,
     "metadata": {},
     "output_type": "execute_result"
    }
   ],
   "source": [
    "scaler = StandardScaler()\n",
    "X_normal=pd.DataFrame(data=scaler.fit_transform(train_normal.loc[:,sensors]),index=train_normal.index,columns=sensors)\n",
    "X_normal"
   ]
  },
  {
   "cell_type": "code",
   "execution_count": 6,
   "metadata": {},
   "outputs": [],
   "source": [
    "X_attack = train_attack[sensors].reset_index().drop(columns=['index'])"
   ]
  },
  {
   "cell_type": "code",
   "execution_count": 7,
   "metadata": {},
   "outputs": [
    {
     "data": {
      "text/html": [
       "<div>\n",
       "<style scoped>\n",
       "    .dataframe tbody tr th:only-of-type {\n",
       "        vertical-align: middle;\n",
       "    }\n",
       "\n",
       "    .dataframe tbody tr th {\n",
       "        vertical-align: top;\n",
       "    }\n",
       "\n",
       "    .dataframe thead th {\n",
       "        text-align: right;\n",
       "    }\n",
       "</style>\n",
       "<table border=\"1\" class=\"dataframe\">\n",
       "  <thead>\n",
       "    <tr style=\"text-align: right;\">\n",
       "      <th></th>\n",
       "      <th>DATETIME</th>\n",
       "      <th>L_T1</th>\n",
       "      <th>L_T2</th>\n",
       "      <th>L_T3</th>\n",
       "      <th>L_T4</th>\n",
       "      <th>L_T5</th>\n",
       "      <th>L_T6</th>\n",
       "      <th>L_T7</th>\n",
       "      <th>F_PU1</th>\n",
       "      <th>S_PU1</th>\n",
       "      <th>...</th>\n",
       "      <th>P_J256</th>\n",
       "      <th>P_J289</th>\n",
       "      <th>P_J415</th>\n",
       "      <th>P_J302</th>\n",
       "      <th>P_J306</th>\n",
       "      <th>P_J307</th>\n",
       "      <th>P_J317</th>\n",
       "      <th>P_J14</th>\n",
       "      <th>P_J422</th>\n",
       "      <th>ATT_FLAG</th>\n",
       "    </tr>\n",
       "  </thead>\n",
       "  <tbody>\n",
       "    <tr>\n",
       "      <th>0</th>\n",
       "      <td>04/01/17 00</td>\n",
       "      <td>0.73</td>\n",
       "      <td>2.27</td>\n",
       "      <td>4.00</td>\n",
       "      <td>3.26</td>\n",
       "      <td>3.87</td>\n",
       "      <td>5.50</td>\n",
       "      <td>4.28</td>\n",
       "      <td>98.93</td>\n",
       "      <td>1.0</td>\n",
       "      <td>...</td>\n",
       "      <td>90.54</td>\n",
       "      <td>26.74</td>\n",
       "      <td>84.52</td>\n",
       "      <td>19.43</td>\n",
       "      <td>83.27</td>\n",
       "      <td>19.33</td>\n",
       "      <td>71.33</td>\n",
       "      <td>29.61</td>\n",
       "      <td>28.71</td>\n",
       "      <td>0.0</td>\n",
       "    </tr>\n",
       "    <tr>\n",
       "      <th>1</th>\n",
       "      <td>04/01/17 01</td>\n",
       "      <td>0.69</td>\n",
       "      <td>2.25</td>\n",
       "      <td>4.53</td>\n",
       "      <td>3.26</td>\n",
       "      <td>3.84</td>\n",
       "      <td>5.50</td>\n",
       "      <td>4.78</td>\n",
       "      <td>97.95</td>\n",
       "      <td>1.0</td>\n",
       "      <td>...</td>\n",
       "      <td>90.43</td>\n",
       "      <td>26.73</td>\n",
       "      <td>85.04</td>\n",
       "      <td>25.97</td>\n",
       "      <td>64.22</td>\n",
       "      <td>25.86</td>\n",
       "      <td>73.79</td>\n",
       "      <td>29.63</td>\n",
       "      <td>28.73</td>\n",
       "      <td>0.0</td>\n",
       "    </tr>\n",
       "    <tr>\n",
       "      <th>2</th>\n",
       "      <td>04/01/17 02</td>\n",
       "      <td>0.90</td>\n",
       "      <td>2.31</td>\n",
       "      <td>5.03</td>\n",
       "      <td>3.41</td>\n",
       "      <td>3.32</td>\n",
       "      <td>5.16</td>\n",
       "      <td>3.22</td>\n",
       "      <td>96.82</td>\n",
       "      <td>1.0</td>\n",
       "      <td>...</td>\n",
       "      <td>91.72</td>\n",
       "      <td>26.89</td>\n",
       "      <td>87.16</td>\n",
       "      <td>29.18</td>\n",
       "      <td>63.81</td>\n",
       "      <td>29.18</td>\n",
       "      <td>59.05</td>\n",
       "      <td>29.80</td>\n",
       "      <td>28.90</td>\n",
       "      <td>0.0</td>\n",
       "    </tr>\n",
       "    <tr>\n",
       "      <th>3</th>\n",
       "      <td>04/01/17 03</td>\n",
       "      <td>1.11</td>\n",
       "      <td>2.54</td>\n",
       "      <td>5.16</td>\n",
       "      <td>3.97</td>\n",
       "      <td>2.82</td>\n",
       "      <td>5.01</td>\n",
       "      <td>2.54</td>\n",
       "      <td>96.76</td>\n",
       "      <td>1.0</td>\n",
       "      <td>...</td>\n",
       "      <td>76.12</td>\n",
       "      <td>28.23</td>\n",
       "      <td>88.83</td>\n",
       "      <td>26.53</td>\n",
       "      <td>63.42</td>\n",
       "      <td>26.41</td>\n",
       "      <td>70.92</td>\n",
       "      <td>30.80</td>\n",
       "      <td>29.90</td>\n",
       "      <td>0.0</td>\n",
       "    </tr>\n",
       "    <tr>\n",
       "      <th>4</th>\n",
       "      <td>04/01/17 04</td>\n",
       "      <td>1.27</td>\n",
       "      <td>2.99</td>\n",
       "      <td>4.94</td>\n",
       "      <td>4.27</td>\n",
       "      <td>2.35</td>\n",
       "      <td>5.38</td>\n",
       "      <td>3.41</td>\n",
       "      <td>94.77</td>\n",
       "      <td>1.0</td>\n",
       "      <td>...</td>\n",
       "      <td>75.68</td>\n",
       "      <td>31.32</td>\n",
       "      <td>69.55</td>\n",
       "      <td>27.46</td>\n",
       "      <td>63.43</td>\n",
       "      <td>27.34</td>\n",
       "      <td>70.88</td>\n",
       "      <td>33.61</td>\n",
       "      <td>32.71</td>\n",
       "      <td>0.0</td>\n",
       "    </tr>\n",
       "    <tr>\n",
       "      <th>...</th>\n",
       "      <td>...</td>\n",
       "      <td>...</td>\n",
       "      <td>...</td>\n",
       "      <td>...</td>\n",
       "      <td>...</td>\n",
       "      <td>...</td>\n",
       "      <td>...</td>\n",
       "      <td>...</td>\n",
       "      <td>...</td>\n",
       "      <td>...</td>\n",
       "      <td>...</td>\n",
       "      <td>...</td>\n",
       "      <td>...</td>\n",
       "      <td>...</td>\n",
       "      <td>...</td>\n",
       "      <td>...</td>\n",
       "      <td>...</td>\n",
       "      <td>...</td>\n",
       "      <td>...</td>\n",
       "      <td>...</td>\n",
       "      <td>...</td>\n",
       "    </tr>\n",
       "    <tr>\n",
       "      <th>2084</th>\n",
       "      <td>31/03/17 20</td>\n",
       "      <td>1.94</td>\n",
       "      <td>2.09</td>\n",
       "      <td>3.67</td>\n",
       "      <td>2.95</td>\n",
       "      <td>1.74</td>\n",
       "      <td>4.96</td>\n",
       "      <td>2.09</td>\n",
       "      <td>120.00</td>\n",
       "      <td>1.0</td>\n",
       "      <td>...</td>\n",
       "      <td>70.07</td>\n",
       "      <td>27.15</td>\n",
       "      <td>84.05</td>\n",
       "      <td>18.28</td>\n",
       "      <td>80.39</td>\n",
       "      <td>18.17</td>\n",
       "      <td>65.97</td>\n",
       "      <td>29.66</td>\n",
       "      <td>28.76</td>\n",
       "      <td>0.0</td>\n",
       "    </tr>\n",
       "    <tr>\n",
       "      <th>2085</th>\n",
       "      <td>31/03/17 21</td>\n",
       "      <td>1.54</td>\n",
       "      <td>2.27</td>\n",
       "      <td>3.24</td>\n",
       "      <td>2.84</td>\n",
       "      <td>2.07</td>\n",
       "      <td>5.02</td>\n",
       "      <td>1.84</td>\n",
       "      <td>122.23</td>\n",
       "      <td>1.0</td>\n",
       "      <td>...</td>\n",
       "      <td>68.29</td>\n",
       "      <td>27.08</td>\n",
       "      <td>83.12</td>\n",
       "      <td>17.04</td>\n",
       "      <td>79.84</td>\n",
       "      <td>16.93</td>\n",
       "      <td>66.14</td>\n",
       "      <td>29.53</td>\n",
       "      <td>28.63</td>\n",
       "      <td>0.0</td>\n",
       "    </tr>\n",
       "    <tr>\n",
       "      <th>2086</th>\n",
       "      <td>31/03/17 22</td>\n",
       "      <td>1.07</td>\n",
       "      <td>2.24</td>\n",
       "      <td>2.99</td>\n",
       "      <td>2.30</td>\n",
       "      <td>2.34</td>\n",
       "      <td>5.12</td>\n",
       "      <td>1.78</td>\n",
       "      <td>122.44</td>\n",
       "      <td>1.0</td>\n",
       "      <td>...</td>\n",
       "      <td>87.08</td>\n",
       "      <td>26.20</td>\n",
       "      <td>83.77</td>\n",
       "      <td>16.97</td>\n",
       "      <td>80.25</td>\n",
       "      <td>16.86</td>\n",
       "      <td>66.29</td>\n",
       "      <td>28.98</td>\n",
       "      <td>28.08</td>\n",
       "      <td>0.0</td>\n",
       "    </tr>\n",
       "    <tr>\n",
       "      <th>2087</th>\n",
       "      <td>31/03/17 23</td>\n",
       "      <td>0.85</td>\n",
       "      <td>2.14</td>\n",
       "      <td>3.44</td>\n",
       "      <td>2.35</td>\n",
       "      <td>2.67</td>\n",
       "      <td>5.24</td>\n",
       "      <td>1.82</td>\n",
       "      <td>98.71</td>\n",
       "      <td>1.0</td>\n",
       "      <td>...</td>\n",
       "      <td>87.85</td>\n",
       "      <td>26.59</td>\n",
       "      <td>84.07</td>\n",
       "      <td>19.00</td>\n",
       "      <td>81.37</td>\n",
       "      <td>18.89</td>\n",
       "      <td>66.07</td>\n",
       "      <td>29.49</td>\n",
       "      <td>28.59</td>\n",
       "      <td>0.0</td>\n",
       "    </tr>\n",
       "    <tr>\n",
       "      <th>2088</th>\n",
       "      <td>01/04/17 00</td>\n",
       "      <td>0.74</td>\n",
       "      <td>2.11</td>\n",
       "      <td>3.89</td>\n",
       "      <td>2.44</td>\n",
       "      <td>3.02</td>\n",
       "      <td>5.29</td>\n",
       "      <td>1.62</td>\n",
       "      <td>98.57</td>\n",
       "      <td>1.0</td>\n",
       "      <td>...</td>\n",
       "      <td>90.58</td>\n",
       "      <td>26.60</td>\n",
       "      <td>84.79</td>\n",
       "      <td>19.29</td>\n",
       "      <td>82.56</td>\n",
       "      <td>19.18</td>\n",
       "      <td>68.10</td>\n",
       "      <td>29.48</td>\n",
       "      <td>28.58</td>\n",
       "      <td>0.0</td>\n",
       "    </tr>\n",
       "  </tbody>\n",
       "</table>\n",
       "<p>2089 rows × 45 columns</p>\n",
       "</div>"
      ],
      "text/plain": [
       "         DATETIME  L_T1  L_T2  L_T3  L_T4  L_T5  L_T6  L_T7   F_PU1  S_PU1  \\\n",
       "0     04/01/17 00  0.73  2.27  4.00  3.26  3.87  5.50  4.28   98.93    1.0   \n",
       "1     04/01/17 01  0.69  2.25  4.53  3.26  3.84  5.50  4.78   97.95    1.0   \n",
       "2     04/01/17 02  0.90  2.31  5.03  3.41  3.32  5.16  3.22   96.82    1.0   \n",
       "3     04/01/17 03  1.11  2.54  5.16  3.97  2.82  5.01  2.54   96.76    1.0   \n",
       "4     04/01/17 04  1.27  2.99  4.94  4.27  2.35  5.38  3.41   94.77    1.0   \n",
       "...           ...   ...   ...   ...   ...   ...   ...   ...     ...    ...   \n",
       "2084  31/03/17 20  1.94  2.09  3.67  2.95  1.74  4.96  2.09  120.00    1.0   \n",
       "2085  31/03/17 21  1.54  2.27  3.24  2.84  2.07  5.02  1.84  122.23    1.0   \n",
       "2086  31/03/17 22  1.07  2.24  2.99  2.30  2.34  5.12  1.78  122.44    1.0   \n",
       "2087  31/03/17 23  0.85  2.14  3.44  2.35  2.67  5.24  1.82   98.71    1.0   \n",
       "2088  01/04/17 00  0.74  2.11  3.89  2.44  3.02  5.29  1.62   98.57    1.0   \n",
       "\n",
       "      ...  P_J256  P_J289  P_J415  P_J302  P_J306  P_J307  P_J317  P_J14  \\\n",
       "0     ...   90.54   26.74   84.52   19.43   83.27   19.33   71.33  29.61   \n",
       "1     ...   90.43   26.73   85.04   25.97   64.22   25.86   73.79  29.63   \n",
       "2     ...   91.72   26.89   87.16   29.18   63.81   29.18   59.05  29.80   \n",
       "3     ...   76.12   28.23   88.83   26.53   63.42   26.41   70.92  30.80   \n",
       "4     ...   75.68   31.32   69.55   27.46   63.43   27.34   70.88  33.61   \n",
       "...   ...     ...     ...     ...     ...     ...     ...     ...    ...   \n",
       "2084  ...   70.07   27.15   84.05   18.28   80.39   18.17   65.97  29.66   \n",
       "2085  ...   68.29   27.08   83.12   17.04   79.84   16.93   66.14  29.53   \n",
       "2086  ...   87.08   26.20   83.77   16.97   80.25   16.86   66.29  28.98   \n",
       "2087  ...   87.85   26.59   84.07   19.00   81.37   18.89   66.07  29.49   \n",
       "2088  ...   90.58   26.60   84.79   19.29   82.56   19.18   68.10  29.48   \n",
       "\n",
       "      P_J422  ATT_FLAG  \n",
       "0      28.71       0.0  \n",
       "1      28.73       0.0  \n",
       "2      28.90       0.0  \n",
       "3      29.90       0.0  \n",
       "4      32.71       0.0  \n",
       "...      ...       ...  \n",
       "2084   28.76       0.0  \n",
       "2085   28.63       0.0  \n",
       "2086   28.08       0.0  \n",
       "2087   28.59       0.0  \n",
       "2088   28.58       0.0  \n",
       "\n",
       "[2089 rows x 45 columns]"
      ]
     },
     "execution_count": 7,
     "metadata": {},
     "output_type": "execute_result"
    }
   ],
   "source": [
    "df_test = pd.read_csv('~/data/ctown/test_dataset.csv')\n",
    "df_test"
   ]
  },
  {
   "cell_type": "code",
   "execution_count": 8,
   "metadata": {},
   "outputs": [],
   "source": [
    "test_combined = pd.concat((df_test,train_attack),axis=0)\n",
    "X_test = pd.DataFrame(index=test_combined.index, columns=sensors, data=scaler.fit_transform(test_combined[sensors]))\n",
    "Y_test = test_combined.loc[:,'ATT_FLAG']"
   ]
  },
  {
   "cell_type": "code",
   "execution_count": 9,
   "metadata": {},
   "outputs": [],
   "source": [
    "labels = hankel.fit(np.array(Y_test),lag,stride)\n",
    "y_actual = np.any(labels>0,axis=0).astype(int)"
   ]
  },
  {
   "cell_type": "code",
   "execution_count": 10,
   "metadata": {},
   "outputs": [
    {
     "data": {
      "text/plain": [
       "array([0, 0, 0, 0, 0, 0, 0, 0, 1, 1, 1, 1, 1, 0, 0, 0, 0, 0, 0, 0, 1, 1,\n",
       "       1, 1, 0, 0, 0, 1, 1, 1, 1, 1, 1, 0, 0, 0, 0, 0, 0, 1, 1, 1, 1, 1,\n",
       "       1, 0, 0, 0, 0, 0, 0, 1, 1, 1, 1, 1, 0, 0, 0, 0, 0, 0, 0, 1, 1, 1,\n",
       "       0, 0, 1, 1, 1, 1, 1, 1, 1, 1, 1, 1, 1, 1, 1, 1, 1, 1, 1])"
      ]
     },
     "execution_count": 10,
     "metadata": {},
     "output_type": "execute_result"
    }
   ],
   "source": [
    "y_actual"
   ]
  },
  {
   "attachments": {},
   "cell_type": "markdown",
   "metadata": {},
   "source": [
    "# Epasad with 1 cluster and no threshold tuning (training attack included in test data)"
   ]
  },
  {
   "cell_type": "code",
   "execution_count": 11,
   "metadata": {},
   "outputs": [],
   "source": [
    "sensor_models = []\n",
    "sensor_predicted = []\n",
    "accuracy = []\n",
    "precision = []\n",
    "recall = []\n",
    "fscore = []\n",
    "for sens in sensors:\n",
    "    train_normal = X_normal.loc[:,sens].values\n",
    "    train_attack = X_attack.loc[:,sens].values\n",
    "    model = Pipeline()\n",
    "    model.fit(train_normal,train_attack,lag,stride,optimal_k=1,tune=False)\n",
    "    test = X_test.loc[:,sens].values\n",
    "    y_predicted = model.predict(test)\n",
    "    sensor_predicted.append(y_predicted)\n",
    "    accuracy.append(accuracy_score(y_actual,y_predicted))\n",
    "    precision.append(precision_score(y_actual,y_predicted))\n",
    "    recall.append(recall_score(y_actual,y_predicted))\n",
    "    fscore.append(f1_score(y_actual,y_predicted))\n",
    "    sensor_models.append(model)    "
   ]
  },
  {
   "cell_type": "code",
   "execution_count": 12,
   "metadata": {},
   "outputs": [],
   "source": [
    "sensor_predicitions = np.asarray(sensor_predicted)\n"
   ]
  },
  {
   "cell_type": "code",
   "execution_count": 13,
   "metadata": {},
   "outputs": [
    {
     "data": {
      "text/plain": [
       "array([[0, 0, 0, ..., 0, 0, 0],\n",
       "       [0, 0, 0, ..., 1, 1, 0],\n",
       "       [0, 0, 0, ..., 1, 0, 0],\n",
       "       ...,\n",
       "       [0, 0, 0, ..., 0, 0, 1],\n",
       "       [0, 0, 0, ..., 0, 0, 0],\n",
       "       [0, 0, 0, ..., 0, 0, 0]])"
      ]
     },
     "execution_count": 13,
     "metadata": {},
     "output_type": "execute_result"
    }
   ],
   "source": [
    "sensor_predicitions"
   ]
  },
  {
   "cell_type": "code",
   "execution_count": 14,
   "metadata": {},
   "outputs": [],
   "source": [
    "predicted_label=np.any(sensor_predicitions>0,axis=0).astype(int)"
   ]
  },
  {
   "cell_type": "code",
   "execution_count": 15,
   "metadata": {},
   "outputs": [
    {
     "data": {
      "text/plain": [
       "array([1, 0, 0, 0, 0, 1, 0, 0, 0, 0, 1, 1, 1, 1, 0, 0, 0, 1, 0, 0, 1, 1,\n",
       "       1, 0, 0, 0, 0, 0, 1, 1, 1, 1, 0, 0, 0, 1, 0, 0, 1, 1, 1, 1, 1, 1,\n",
       "       1, 0, 0, 0, 0, 1, 0, 1, 1, 1, 0, 0, 0, 0, 0, 0, 0, 1, 1, 1, 1, 1,\n",
       "       1, 1, 1, 1, 1, 1, 1, 1, 1, 1, 1, 1, 1, 1, 1, 1, 1, 1, 1])"
      ]
     },
     "execution_count": 15,
     "metadata": {},
     "output_type": "execute_result"
    }
   ],
   "source": [
    "predicted_label"
   ]
  },
  {
   "cell_type": "code",
   "execution_count": 16,
   "metadata": {},
   "outputs": [
    {
     "name": "stdout",
     "output_type": "stream",
     "text": [
      "Accuracy  0.788235294117647\n",
      "Precision  0.78\n",
      "Recall  0.8478260869565217\n",
      "F1-score  0.8125\n"
     ]
    }
   ],
   "source": [
    "print(\"Accuracy \",accuracy_score(y_actual,predicted_label))\n",
    "print(\"Precision \",precision_score(y_actual,predicted_label))\n",
    "print(\"Recall \",recall_score(y_actual,predicted_label))\n",
    "print(\"F1-score \",f1_score(y_actual,predicted_label))"
   ]
  },
  {
   "cell_type": "code",
   "execution_count": 17,
   "metadata": {},
   "outputs": [
    {
     "name": "stdout",
     "output_type": "stream",
     "text": [
      "Accuracy -  Mean: 0.5025991792065665 Median : 0.5058823529411764 Min : 0.43529411764705883 Max : 0.6235294117647059\n",
      "precision - Mean: 0.6825258397932816 Median : 1.0 Min : 0.0 Max : 1.0\n",
      "recall -    Mean: 0.08897876643073813 Median : 0.08695652173913043 Min : 0.0 Max : 0.32608695652173914\n",
      "f1 -        Mean: 0.1526845474696014 Median : 0.16 Min : 0.0 Max : 0.48387096774193544\n"
     ]
    }
   ],
   "source": [
    "print(\"Accuracy -  Mean: {} Median : {} Min : {} Max : {}\".format(np.asarray(accuracy).mean(), np.median(np.asarray(accuracy)),np.asarray(accuracy).min(), np.asarray(accuracy).max()))\n",
    "print(\"precision - Mean: {} Median : {} Min : {} Max : {}\".format(np.asarray(precision).mean(), np.median(np.asarray(precision)),np.asarray(precision).min(), np.asarray(precision).max()))\n",
    "print(\"recall -    Mean: {} Median : {} Min : {} Max : {}\".format(np.asarray(recall).mean(), np.median(np.asarray(recall)),np.asarray(recall).min(), np.asarray(recall).max()))\n",
    "print(\"f1 -        Mean: {} Median : {} Min : {} Max : {}\".format(np.asarray(fscore).mean(), np.median(np.asarray(fscore)),np.asarray(fscore).min(), np.asarray(fscore).max()))"
   ]
  },
  {
   "attachments": {},
   "cell_type": "markdown",
   "metadata": {},
   "source": [
    "# Multiple clusters: no threshold tuning"
   ]
  },
  {
   "cell_type": "code",
   "execution_count": 18,
   "metadata": {},
   "outputs": [],
   "source": [
    "sensor_models = []\n",
    "sensor_predicted = []\n",
    "accuracy = []\n",
    "precision = []\n",
    "recall = []\n",
    "fscore = []\n",
    "for sens in sensors:\n",
    "    train_normal = X_normal.loc[:,sens].values\n",
    "    train_attack = X_attack.loc[:,sens].values\n",
    "    model = Pipeline()\n",
    "    model.fit(train_normal,train_attack,lag,stride,tune=False,kscore_init='inertia')\n",
    "    test = X_test.loc[:,sens].values\n",
    "    y_predicted = model.predict(test)\n",
    "    sensor_predicted.append(y_predicted)\n",
    "    accuracy.append(accuracy_score(y_actual,y_predicted))\n",
    "    precision.append(precision_score(y_actual,y_predicted))\n",
    "    recall.append(recall_score(y_actual,y_predicted))\n",
    "    fscore.append(f1_score(y_actual,y_predicted))\n",
    "    sensor_models.append(model)    "
   ]
  },
  {
   "cell_type": "code",
   "execution_count": 19,
   "metadata": {},
   "outputs": [],
   "source": [
    "sensor_predicitions = np.asarray(sensor_predicted)\n"
   ]
  },
  {
   "cell_type": "code",
   "execution_count": 20,
   "metadata": {},
   "outputs": [
    {
     "data": {
      "text/plain": [
       "array([[0, 0, 0, ..., 1, 1, 0],\n",
       "       [0, 0, 0, ..., 1, 1, 0],\n",
       "       [0, 0, 0, ..., 1, 0, 1],\n",
       "       ...,\n",
       "       [0, 0, 0, ..., 0, 0, 1],\n",
       "       [0, 0, 0, ..., 1, 0, 0],\n",
       "       [1, 0, 0, ..., 0, 0, 0]])"
      ]
     },
     "execution_count": 20,
     "metadata": {},
     "output_type": "execute_result"
    }
   ],
   "source": [
    "sensor_predicitions"
   ]
  },
  {
   "cell_type": "code",
   "execution_count": 21,
   "metadata": {},
   "outputs": [],
   "source": [
    "predicted_label=np.any(sensor_predicitions>0,axis=0).astype(int)"
   ]
  },
  {
   "cell_type": "code",
   "execution_count": 22,
   "metadata": {},
   "outputs": [
    {
     "data": {
      "text/plain": [
       "array([1, 1, 1, 1, 1, 1, 1, 1, 1, 1, 1, 1, 1, 1, 1, 0, 1, 1, 1, 1, 1, 1,\n",
       "       1, 1, 1, 1, 1, 1, 1, 1, 1, 1, 1, 1, 1, 1, 0, 1, 1, 1, 1, 1, 1, 1,\n",
       "       1, 1, 1, 1, 1, 1, 1, 1, 1, 1, 1, 1, 1, 1, 1, 1, 0, 1, 1, 1, 1, 1,\n",
       "       1, 1, 1, 1, 1, 1, 1, 1, 1, 1, 1, 1, 1, 1, 1, 1, 1, 1, 1])"
      ]
     },
     "execution_count": 22,
     "metadata": {},
     "output_type": "execute_result"
    }
   ],
   "source": [
    "predicted_label"
   ]
  },
  {
   "cell_type": "code",
   "execution_count": 23,
   "metadata": {},
   "outputs": [
    {
     "name": "stdout",
     "output_type": "stream",
     "text": [
      "Accuracy  0.5764705882352941\n",
      "Precision  0.5609756097560976\n",
      "Recall  1.0\n",
      "F1-score  0.71875\n"
     ]
    }
   ],
   "source": [
    "print(\"Accuracy \",accuracy_score(y_actual,predicted_label))\n",
    "print(\"Precision \",precision_score(y_actual,predicted_label))\n",
    "print(\"Recall \",recall_score(y_actual,predicted_label))\n",
    "print(\"F1-score \",f1_score(y_actual,predicted_label))"
   ]
  },
  {
   "cell_type": "code",
   "execution_count": 24,
   "metadata": {},
   "outputs": [
    {
     "name": "stdout",
     "output_type": "stream",
     "text": [
      "Accuracy -  Mean: 0.5258549931600548 Median : 0.5176470588235295 Min : 0.4470588235294118 Max : 0.6588235294117647\n",
      "precision - Mean: 0.5563626030972203 Median : 0.68 Min : 0.0 Max : 1.0\n",
      "recall -    Mean: 0.18705763397371084 Median : 0.21739130434782608 Min : 0.0 Max : 0.43478260869565216\n",
      "f1 -        Mean: 0.268658803783005 Median : 0.32786885245901637 Min : 0.0 Max : 0.5671641791044776\n"
     ]
    }
   ],
   "source": [
    "print(\"Accuracy -  Mean: {} Median : {} Min : {} Max : {}\".format(np.asarray(accuracy).mean(), np.median(np.asarray(accuracy)),np.asarray(accuracy).min(), np.asarray(accuracy).max()))\n",
    "print(\"precision - Mean: {} Median : {} Min : {} Max : {}\".format(np.asarray(precision).mean(), np.median(np.asarray(precision)),np.asarray(precision).min(), np.asarray(precision).max()))\n",
    "print(\"recall -    Mean: {} Median : {} Min : {} Max : {}\".format(np.asarray(recall).mean(), np.median(np.asarray(recall)),np.asarray(recall).min(), np.asarray(recall).max()))\n",
    "print(\"f1 -        Mean: {} Median : {} Min : {} Max : {}\".format(np.asarray(fscore).mean(), np.median(np.asarray(fscore)),np.asarray(fscore).min(), np.asarray(fscore).max()))"
   ]
  },
  {
   "attachments": {},
   "cell_type": "markdown",
   "metadata": {},
   "source": [
    "# Multiple clusters: threshold tuning (training attack is not in test data)"
   ]
  },
  {
   "cell_type": "code",
   "execution_count": 25,
   "metadata": {},
   "outputs": [],
   "source": [
    "X_test = pd.DataFrame(index=df_test.index, columns=sensors, data=scaler.fit_transform(df_test[sensors]))\n",
    "Y_test = df_test.loc[:,'ATT_FLAG']"
   ]
  },
  {
   "cell_type": "code",
   "execution_count": 26,
   "metadata": {},
   "outputs": [],
   "source": [
    "labels = hankel.fit(np.array(Y_test),lag,stride)\n",
    "y_actual = np.any(labels>0,axis=0).astype(int)"
   ]
  },
  {
   "cell_type": "code",
   "execution_count": 27,
   "metadata": {},
   "outputs": [],
   "source": [
    "sensor_models = []\n",
    "sensor_predicted = []\n",
    "accuracy = []\n",
    "precision = []\n",
    "recall = []\n",
    "fscore = []\n",
    "for sens in sensors:\n",
    "    train_normal = X_normal.loc[:,sens].values\n",
    "    train_attack = X_attack.loc[:,sens].values\n",
    "    model = Pipeline()\n",
    "    model.fit(train_normal,train_attack,lag,stride,tune=True,kscore_init='inertia')\n",
    "    test = X_test.loc[:,sens].values\n",
    "    y_predicted = model.predict(test)\n",
    "    sensor_predicted.append(y_predicted)\n",
    "    accuracy.append(accuracy_score(y_actual,y_predicted))\n",
    "    precision.append(precision_score(y_actual,y_predicted))\n",
    "    recall.append(recall_score(y_actual,y_predicted))\n",
    "    fscore.append(f1_score(y_actual,y_predicted))\n",
    "    sensor_models.append(model)    "
   ]
  },
  {
   "cell_type": "code",
   "execution_count": 28,
   "metadata": {},
   "outputs": [],
   "source": [
    "sensor_predicitions = np.asarray(sensor_predicted)\n"
   ]
  },
  {
   "cell_type": "code",
   "execution_count": 29,
   "metadata": {},
   "outputs": [
    {
     "data": {
      "text/plain": [
       "array([[1, 0, 0, ..., 0, 0, 0],\n",
       "       [1, 1, 0, ..., 0, 1, 0],\n",
       "       [0, 0, 0, ..., 0, 0, 0],\n",
       "       ...,\n",
       "       [0, 0, 0, ..., 0, 0, 0],\n",
       "       [0, 0, 0, ..., 1, 0, 0],\n",
       "       [0, 0, 0, ..., 0, 0, 0]])"
      ]
     },
     "execution_count": 29,
     "metadata": {},
     "output_type": "execute_result"
    }
   ],
   "source": [
    "sensor_predicitions"
   ]
  },
  {
   "cell_type": "code",
   "execution_count": 30,
   "metadata": {},
   "outputs": [],
   "source": [
    "predicted_label=np.any(sensor_predicitions>0,axis=0).astype(int)"
   ]
  },
  {
   "cell_type": "code",
   "execution_count": 31,
   "metadata": {},
   "outputs": [
    {
     "data": {
      "text/plain": [
       "array([1, 1, 1, 1, 1, 1, 1, 1, 1, 1, 1, 1, 1, 1, 1, 1, 1, 1, 1, 1, 1, 1,\n",
       "       1, 1, 1, 1, 1, 1, 1, 1, 1, 1, 1, 1, 1, 1, 1, 1, 1, 1, 1, 1, 1, 1,\n",
       "       1, 1, 1, 1, 1, 1, 1, 1, 1, 1, 1, 1, 1, 1, 1, 1, 1, 1, 1, 1, 1, 1,\n",
       "       1, 1])"
      ]
     },
     "execution_count": 31,
     "metadata": {},
     "output_type": "execute_result"
    }
   ],
   "source": [
    "predicted_label"
   ]
  },
  {
   "cell_type": "code",
   "execution_count": 32,
   "metadata": {},
   "outputs": [
    {
     "name": "stdout",
     "output_type": "stream",
     "text": [
      "Accuracy  0.4264705882352941\n",
      "Precision  0.4264705882352941\n",
      "Recall  1.0\n",
      "F1-score  0.5979381443298969\n"
     ]
    }
   ],
   "source": [
    "print(\"Accuracy \",accuracy_score(y_actual,predicted_label))\n",
    "print(\"Precision \",precision_score(y_actual,predicted_label))\n",
    "print(\"Recall \",recall_score(y_actual,predicted_label))\n",
    "print(\"F1-score \",f1_score(y_actual,predicted_label))"
   ]
  },
  {
   "cell_type": "code",
   "execution_count": 33,
   "metadata": {},
   "outputs": [
    {
     "name": "stdout",
     "output_type": "stream",
     "text": [
      "Accuracy -  Mean: 0.5714774281805746 Median : 0.5735294117647058 Min : 0.4411764705882353 Max : 0.7352941176470589\n",
      "precision - Mean: 0.37644032164426 Median : 0.4 Min : 0.0 Max : 1.0\n",
      "recall -    Mean: 0.13231756214915796 Median : 0.06896551724137931 Min : 0.0 Max : 0.3793103448275862\n",
      "f1 -        Mean: 0.18467675979141693 Median : 0.12903225806451613 Min : 0.0 Max : 0.5499999999999999\n"
     ]
    }
   ],
   "source": [
    "print(\"Accuracy -  Mean: {} Median : {} Min : {} Max : {}\".format(np.asarray(accuracy).mean(), np.median(np.asarray(accuracy)),np.asarray(accuracy).min(), np.asarray(accuracy).max()))\n",
    "print(\"precision - Mean: {} Median : {} Min : {} Max : {}\".format(np.asarray(precision).mean(), np.median(np.asarray(precision)),np.asarray(precision).min(), np.asarray(precision).max()))\n",
    "print(\"recall -    Mean: {} Median : {} Min : {} Max : {}\".format(np.asarray(recall).mean(), np.median(np.asarray(recall)),np.asarray(recall).min(), np.asarray(recall).max()))\n",
    "print(\"f1 -        Mean: {} Median : {} Min : {} Max : {}\".format(np.asarray(fscore).mean(), np.median(np.asarray(fscore)),np.asarray(fscore).min(), np.asarray(fscore).max()))"
   ]
  },
  {
   "cell_type": "code",
   "execution_count": null,
   "metadata": {},
   "outputs": [],
   "source": []
  }
 ],
 "metadata": {
  "kernelspec": {
   "display_name": "base",
   "language": "python",
   "name": "python3"
  },
  "language_info": {
   "codemirror_mode": {
    "name": "ipython",
    "version": 3
   },
   "file_extension": ".py",
   "mimetype": "text/x-python",
   "name": "python",
   "nbconvert_exporter": "python",
   "pygments_lexer": "ipython3",
   "version": "3.8.13"
  },
  "orig_nbformat": 4,
  "vscode": {
   "interpreter": {
    "hash": "53b584fcbb4de26fd06ec6c2cdf5e79eeceea3a87d14166bd7f17bce6a8842a5"
   }
  }
 },
 "nbformat": 4,
 "nbformat_minor": 2
}
