{
 "cells": [
  {
   "cell_type": "code",
   "execution_count": 1,
   "metadata": {},
   "outputs": [
    {
     "name": "stderr",
     "output_type": "stream",
     "text": [
      "2023-04-27 18:41:47.573363: I tensorflow/tsl/cuda/cudart_stub.cc:28] Could not find cuda drivers on your machine, GPU will not be used.\n",
      "2023-04-27 18:41:47.613694: I tensorflow/tsl/cuda/cudart_stub.cc:28] Could not find cuda drivers on your machine, GPU will not be used.\n",
      "2023-04-27 18:41:47.614808: I tensorflow/core/platform/cpu_feature_guard.cc:182] This TensorFlow binary is optimized to use available CPU instructions in performance-critical operations.\n",
      "To enable the following instructions: AVX2 FMA, in other operations, rebuild TensorFlow with the appropriate compiler flags.\n",
      "2023-04-27 18:41:48.466306: W tensorflow/compiler/tf2tensorrt/utils/py_utils.cc:38] TF-TRT Warning: Could not find TensorRT\n"
     ]
    }
   ],
   "source": [
    "import numpy as np\n",
    "import pandas as pd\n",
    "from models import Pipeline,Hankel\n",
    "from sklearn.linear_model import LinearRegression,LogisticRegression\n",
    "from sklearn.ensemble import RandomForestClassifier\n",
    "import tensorflow as tf\n",
    "from tensorflow.keras import layers\n",
    "from sklearn.metrics import accuracy_score,precision_score,recall_score,f1_score,roc_auc_score"
   ]
  },
  {
   "cell_type": "code",
   "execution_count": 2,
   "metadata": {},
   "outputs": [],
   "source": [
    "df1 = pd.read_csv('~/data/ctown/dataset03.csv')\n",
    "df2 = pd.read_csv('~/data/ctown/dataset04.csv')\n",
    "df = pd.concat((df1,df2),axis=0,ignore_index=True)\n",
    "df_test = pd.read_csv('~/data/ctown/test_dataset.csv')"
   ]
  },
  {
   "cell_type": "code",
   "execution_count": 3,
   "metadata": {},
   "outputs": [
    {
     "data": {
      "text/plain": [
       "Index(['DATETIME', 'L_T1', 'L_T2', 'L_T3', 'L_T4', 'L_T5', 'L_T6', 'L_T7',\n",
       "       'F_PU1', 'S_PU1', 'F_PU2', 'S_PU2', 'F_PU3', 'S_PU3', 'F_PU4', 'S_PU4',\n",
       "       'F_PU5', 'S_PU5', 'F_PU6', 'S_PU6', 'F_PU7', 'S_PU7', 'F_PU8', 'S_PU8',\n",
       "       'F_PU9', 'S_PU9', 'F_PU10', 'S_PU10', 'F_PU11', 'S_PU11', 'F_V2',\n",
       "       'S_V2', 'P_J280', 'P_J269', 'P_J300', 'P_J256', 'P_J289', 'P_J415',\n",
       "       'P_J302', 'P_J306', 'P_J307', 'P_J317', 'P_J14', 'P_J422', 'ATT_FLAG'],\n",
       "      dtype='object')"
      ]
     },
     "execution_count": 3,
     "metadata": {},
     "output_type": "execute_result"
    }
   ],
   "source": [
    "df_test.columns"
   ]
  },
  {
   "cell_type": "code",
   "execution_count": 4,
   "metadata": {},
   "outputs": [],
   "source": [
    "def fun(X_train,Y_train,X_test,Y_test):\n",
    "    rf = RandomForestClassifier()\n",
    "    rf.fit(X_train,Y_train) \n",
    "    Y_pred = rf.predict(X_test)\n",
    "    print('Accuracy:', accuracy_score(Y_test, Y_pred))\n",
    "    print('Precision: ',precision_score(Y_test,Y_pred))\n",
    "    print('Recall: ',recall_score(Y_test,Y_pred))\n",
    "    print('Fscore: ',f1_score(Y_test,Y_pred))"
   ]
  },
  {
   "cell_type": "code",
   "execution_count": 5,
   "metadata": {},
   "outputs": [
    {
     "name": "stdout",
     "output_type": "stream",
     "text": [
      "Accuracy: 0.8051699377692676\n",
      "Precision:  0.0\n",
      "Recall:  0.0\n",
      "Fscore:  0.0\n"
     ]
    }
   ],
   "source": [
    "X_train = df[['S_PU3','F_PU3']]\n",
    "Y_train = df['ATT_FLAG']\n",
    "X_test = df_test[['S_PU3','F_PU3']]\n",
    "Y_test = df_test['ATT_FLAG']\n",
    "fun(X_train,Y_train,X_test,Y_test)"
   ]
  },
  {
   "cell_type": "code",
   "execution_count": 6,
   "metadata": {},
   "outputs": [
    {
     "name": "stdout",
     "output_type": "stream",
     "text": [
      "Accuracy: 0.8056486357108664\n",
      "Precision:  0.5098039215686274\n",
      "Recall:  0.06388206388206388\n",
      "Fscore:  0.11353711790393015\n"
     ]
    }
   ],
   "source": [
    "X_train = df[['L_T1','S_PU1','F_PU1', 'S_PU2','F_PU2','P_J269']]\n",
    "X_test = df_test[['L_T1','S_PU1','F_PU1', 'S_PU2','F_PU2','P_J269']]\n",
    "fun(X_train,Y_train,X_test,Y_test)"
   ]
  },
  {
   "cell_type": "code",
   "execution_count": 7,
   "metadata": {},
   "outputs": [
    {
     "name": "stdout",
     "output_type": "stream",
     "text": [
      "Accuracy: 0.8032551460028722\n",
      "Precision:  0.4523809523809524\n",
      "Recall:  0.04668304668304668\n",
      "Fscore:  0.08463251670378619\n"
     ]
    }
   ],
   "source": [
    "X_train = df[['L_T1','S_PU1','F_PU1', 'S_PU2','F_PU2','S_PU3','F_PU3','P_J269']]\n",
    "X_test = df_test[['L_T1','S_PU1','F_PU1', 'S_PU2','F_PU2','S_PU3','F_PU3','P_J269']]\n",
    "fun(X_train,Y_train,X_test,Y_test)"
   ]
  },
  {
   "cell_type": "code",
   "execution_count": 8,
   "metadata": {},
   "outputs": [
    {
     "name": "stdout",
     "output_type": "stream",
     "text": [
      "Accuracy: 0.7999042604116803\n",
      "Precision:  0.07692307692307693\n",
      "Recall:  0.002457002457002457\n",
      "Fscore:  0.0047619047619047615\n"
     ]
    }
   ],
   "source": [
    "X_train = df[['L_T3','S_PU4','F_PU4','S_PU5','F_PU5']]\n",
    "X_test = df_test[['L_T3','S_PU4','F_PU4','S_PU5','F_PU5']]\n",
    "fun(X_train,Y_train,X_test,Y_test)"
   ]
  },
  {
   "cell_type": "code",
   "execution_count": 9,
   "metadata": {},
   "outputs": [
    {
     "name": "stdout",
     "output_type": "stream",
     "text": [
      "Accuracy: 0.8113930110100527\n",
      "Precision:  0.8421052631578947\n",
      "Recall:  0.03931203931203931\n",
      "Fscore:  0.07511737089201878\n"
     ]
    }
   ],
   "source": [
    "X_train = df[['L_T2','S_V2','F_V2','P_J14','P_J422']]\n",
    "X_test = df_test[['L_T2','S_V2','F_V2','P_J14','P_J422']]\n",
    "fun(X_train,Y_train,X_test,Y_test)"
   ]
  },
  {
   "cell_type": "code",
   "execution_count": 10,
   "metadata": {},
   "outputs": [
    {
     "name": "stdout",
     "output_type": "stream",
     "text": [
      "Accuracy: 0.8080421254188607\n",
      "Precision:  0.6666666666666666\n",
      "Recall:  0.029484029484029485\n",
      "Fscore:  0.05647058823529412\n"
     ]
    }
   ],
   "source": [
    "X_train = df[['L_T2','L_T3','S_V2','F_V2','S_PU4','F_PU4','S_PU5','F_PU5','P_J14','P_J422']]\n",
    "X_test = df_test[['L_T2','L_T3','S_V2','F_V2','S_PU4','F_PU4','S_PU5','F_PU5','P_J14','P_J422']]\n",
    "fun(X_train,Y_train,X_test,Y_test)"
   ]
  },
  {
   "cell_type": "code",
   "execution_count": 11,
   "metadata": {},
   "outputs": [
    {
     "name": "stdout",
     "output_type": "stream",
     "text": [
      "Accuracy: 0.8118717089516515\n",
      "Precision:  0.9375\n",
      "Recall:  0.036855036855036855\n",
      "Fscore:  0.07092198581560283\n"
     ]
    }
   ],
   "source": [
    "X_train = df[['L_T2','L_T3','L_T7','S_V2','F_V2','S_PU4','F_PU4','S_PU5','F_PU5','S_PU10','F_PU10','S_PU11','F_PU11','P_J14','P_J422']]\n",
    "X_test = df_test[['L_T2','L_T3','L_T7','S_V2','F_V2','S_PU4','F_PU4','S_PU5','F_PU5','S_PU10','F_PU10','S_PU11','F_PU11','P_J14','P_J422']]\n",
    "fun(X_train,Y_train,X_test,Y_test)"
   ]
  },
  {
   "cell_type": "code",
   "execution_count": 12,
   "metadata": {},
   "outputs": [
    {
     "name": "stdout",
     "output_type": "stream",
     "text": [
      "Accuracy: 0.8190521780756342\n",
      "Precision:  0.9393939393939394\n",
      "Recall:  0.07616707616707617\n",
      "Fscore:  0.14090909090909093\n"
     ]
    }
   ],
   "source": [
    "X_train = df[['L_T1','L_T2','L_T3','L_T7','S_V2','F_V2','S_PU1','F_PU1','S_PU2','F_PU2','S_PU3','F_PU3','S_PU4','F_PU4','S_PU5','F_PU5','S_PU10','F_PU10','S_PU11','F_PU11','P_J14','P_J422']]\n",
    "X_test = df_test[['L_T1','L_T2','L_T3','L_T7','S_V2','F_V2','S_PU1','F_PU1','S_PU2','F_PU2','S_PU3','F_PU3','S_PU4','F_PU4','S_PU5','F_PU5','S_PU10','F_PU10','S_PU11','F_PU11','P_J14','P_J422']]\n",
    "fun(X_train,Y_train,X_test,Y_test)"
   ]
  },
  {
   "cell_type": "code",
   "execution_count": 13,
   "metadata": {},
   "outputs": [
    {
     "data": {
      "text/plain": [
       "2.681205666486904"
      ]
     },
     "execution_count": 13,
     "metadata": {},
     "output_type": "execute_result"
    }
   ],
   "source": [
    "df[df['ATT_FLAG']==0]['L_T1'].mean()"
   ]
  },
  {
   "cell_type": "code",
   "execution_count": 14,
   "metadata": {},
   "outputs": [
    {
     "data": {
      "text/plain": [
       "2.8273983739837396"
      ]
     },
     "execution_count": 14,
     "metadata": {},
     "output_type": "execute_result"
    }
   ],
   "source": [
    "df[df['ATT_FLAG']==1]['L_T1'].mean()"
   ]
  },
  {
   "cell_type": "code",
   "execution_count": 15,
   "metadata": {},
   "outputs": [
    {
     "data": {
      "text/plain": [
       "3.2843085281952438"
      ]
     },
     "execution_count": 15,
     "metadata": {},
     "output_type": "execute_result"
    }
   ],
   "source": [
    "df[df['ATT_FLAG']==0]['L_T2'].mean()"
   ]
  },
  {
   "cell_type": "code",
   "execution_count": 16,
   "metadata": {},
   "outputs": [
    {
     "data": {
      "text/plain": [
       "3.3409756097560974"
      ]
     },
     "execution_count": 16,
     "metadata": {},
     "output_type": "execute_result"
    }
   ],
   "source": [
    "df[df['ATT_FLAG']==1]['L_T2'].mean()"
   ]
  },
  {
   "cell_type": "code",
   "execution_count": 17,
   "metadata": {},
   "outputs": [
    {
     "data": {
      "text/plain": [
       "4.202603932783224"
      ]
     },
     "execution_count": 17,
     "metadata": {},
     "output_type": "execute_result"
    }
   ],
   "source": [
    "df[df['ATT_FLAG']==0]['L_T3'].mean()"
   ]
  },
  {
   "cell_type": "code",
   "execution_count": 18,
   "metadata": {},
   "outputs": [
    {
     "data": {
      "text/plain": [
       "4.204715447154471"
      ]
     },
     "execution_count": 18,
     "metadata": {},
     "output_type": "execute_result"
    }
   ],
   "source": [
    "df[df['ATT_FLAG']==1]['L_T3'].mean()"
   ]
  },
  {
   "cell_type": "code",
   "execution_count": 19,
   "metadata": {},
   "outputs": [
    {
     "data": {
      "text/plain": [
       "3.56817108838422"
      ]
     },
     "execution_count": 19,
     "metadata": {},
     "output_type": "execute_result"
    }
   ],
   "source": [
    "df[df['ATT_FLAG']==0]['L_T4'].mean()"
   ]
  },
  {
   "cell_type": "code",
   "execution_count": 20,
   "metadata": {},
   "outputs": [
    {
     "data": {
      "text/plain": [
       "3.4660569105691055"
      ]
     },
     "execution_count": 20,
     "metadata": {},
     "output_type": "execute_result"
    }
   ],
   "source": [
    "df[df['ATT_FLAG']==1]['L_T4'].mean()"
   ]
  },
  {
   "cell_type": "code",
   "execution_count": 21,
   "metadata": {},
   "outputs": [
    {
     "data": {
      "text/plain": [
       "2.748624297430982"
      ]
     },
     "execution_count": 21,
     "metadata": {},
     "output_type": "execute_result"
    }
   ],
   "source": [
    "df[df['ATT_FLAG']==0]['L_T5'].mean()"
   ]
  },
  {
   "cell_type": "code",
   "execution_count": 22,
   "metadata": {},
   "outputs": [
    {
     "data": {
      "text/plain": [
       "2.7390650406504067"
      ]
     },
     "execution_count": 22,
     "metadata": {},
     "output_type": "execute_result"
    }
   ],
   "source": [
    "df[df['ATT_FLAG']==1]['L_T5'].mean()"
   ]
  },
  {
   "cell_type": "code",
   "execution_count": 23,
   "metadata": {},
   "outputs": [
    {
     "data": {
      "text/plain": [
       "5.370080021028442"
      ]
     },
     "execution_count": 23,
     "metadata": {},
     "output_type": "execute_result"
    }
   ],
   "source": [
    "df[df['ATT_FLAG']==0]['L_T6'].mean()"
   ]
  },
  {
   "cell_type": "code",
   "execution_count": 24,
   "metadata": {},
   "outputs": [
    {
     "data": {
      "text/plain": [
       "5.362418699186992"
      ]
     },
     "execution_count": 24,
     "metadata": {},
     "output_type": "execute_result"
    }
   ],
   "source": [
    "df[df['ATT_FLAG']==1]['L_T6'].mean()"
   ]
  },
  {
   "cell_type": "code",
   "execution_count": 25,
   "metadata": {},
   "outputs": [
    {
     "data": {
      "text/plain": [
       "3.309937061904628"
      ]
     },
     "execution_count": 25,
     "metadata": {},
     "output_type": "execute_result"
    }
   ],
   "source": [
    "df[df['ATT_FLAG']==0]['L_T7'].mean()"
   ]
  },
  {
   "cell_type": "code",
   "execution_count": 26,
   "metadata": {},
   "outputs": [
    {
     "data": {
      "text/plain": [
       "3.294451219512195"
      ]
     },
     "execution_count": 26,
     "metadata": {},
     "output_type": "execute_result"
    }
   ],
   "source": [
    "df[df['ATT_FLAG']==1]['L_T7'].mean()"
   ]
  },
  {
   "cell_type": "code",
   "execution_count": 27,
   "metadata": {},
   "outputs": [
    {
     "data": {
      "text/plain": [
       "2.715677764565993"
      ]
     },
     "execution_count": 27,
     "metadata": {},
     "output_type": "execute_result"
    }
   ],
   "source": [
    "df_test[df_test['ATT_FLAG']==0]['L_T1'].mean()"
   ]
  },
  {
   "cell_type": "code",
   "execution_count": 28,
   "metadata": {},
   "outputs": [
    {
     "data": {
      "text/plain": [
       "3.042997542997543"
      ]
     },
     "execution_count": 28,
     "metadata": {},
     "output_type": "execute_result"
    }
   ],
   "source": [
    "df_test[df_test['ATT_FLAG']==1]['L_T1'].mean()"
   ]
  },
  {
   "cell_type": "code",
   "execution_count": 29,
   "metadata": {},
   "outputs": [
    {
     "data": {
      "text/plain": [
       "3.340481569560048"
      ]
     },
     "execution_count": 29,
     "metadata": {},
     "output_type": "execute_result"
    }
   ],
   "source": [
    "df_test[df_test['ATT_FLAG']==0]['L_T2'].mean()"
   ]
  },
  {
   "cell_type": "code",
   "execution_count": 30,
   "metadata": {},
   "outputs": [
    {
     "data": {
      "text/plain": [
       "3.4082063882063887"
      ]
     },
     "execution_count": 30,
     "metadata": {},
     "output_type": "execute_result"
    }
   ],
   "source": [
    "df_test[df_test['ATT_FLAG']==1]['L_T2'].mean()"
   ]
  },
  {
   "cell_type": "code",
   "execution_count": 31,
   "metadata": {},
   "outputs": [
    {
     "data": {
      "text/plain": [
       "4.198382877526754"
      ]
     },
     "execution_count": 31,
     "metadata": {},
     "output_type": "execute_result"
    }
   ],
   "source": [
    "df_test[df_test['ATT_FLAG']==0]['L_T3'].mean()"
   ]
  },
  {
   "cell_type": "code",
   "execution_count": 32,
   "metadata": {},
   "outputs": [
    {
     "data": {
      "text/plain": [
       "4.201179361179362"
      ]
     },
     "execution_count": 32,
     "metadata": {},
     "output_type": "execute_result"
    }
   ],
   "source": [
    "df_test[df_test['ATT_FLAG']==1]['L_T3'].mean()"
   ]
  },
  {
   "cell_type": "code",
   "execution_count": 33,
   "metadata": {},
   "outputs": [
    {
     "data": {
      "text/plain": [
       "3.571956004756242"
      ]
     },
     "execution_count": 33,
     "metadata": {},
     "output_type": "execute_result"
    }
   ],
   "source": [
    "df_test[df_test['ATT_FLAG']==0]['L_T4'].mean()"
   ]
  },
  {
   "cell_type": "code",
   "execution_count": 34,
   "metadata": {},
   "outputs": [
    {
     "data": {
      "text/plain": [
       "3.563808353808354"
      ]
     },
     "execution_count": 34,
     "metadata": {},
     "output_type": "execute_result"
    }
   ],
   "source": [
    "df_test[df_test['ATT_FLAG']==1]['L_T4'].mean()"
   ]
  },
  {
   "cell_type": "code",
   "execution_count": 35,
   "metadata": {},
   "outputs": [
    {
     "data": {
      "text/plain": [
       "2.754643281807372"
      ]
     },
     "execution_count": 35,
     "metadata": {},
     "output_type": "execute_result"
    }
   ],
   "source": [
    "df_test[df_test['ATT_FLAG']==0]['L_T5'].mean()"
   ]
  },
  {
   "cell_type": "code",
   "execution_count": 36,
   "metadata": {},
   "outputs": [
    {
     "data": {
      "text/plain": [
       "2.7463144963144965"
      ]
     },
     "execution_count": 36,
     "metadata": {},
     "output_type": "execute_result"
    }
   ],
   "source": [
    "df_test[df_test['ATT_FLAG']==1]['L_T5'].mean()"
   ]
  },
  {
   "cell_type": "code",
   "execution_count": 37,
   "metadata": {},
   "outputs": [
    {
     "data": {
      "text/plain": [
       "5.371456599286564"
      ]
     },
     "execution_count": 37,
     "metadata": {},
     "output_type": "execute_result"
    }
   ],
   "source": [
    "df_test[df_test['ATT_FLAG']==0]['L_T6'].mean()"
   ]
  },
  {
   "cell_type": "code",
   "execution_count": 38,
   "metadata": {},
   "outputs": [
    {
     "data": {
      "text/plain": [
       "5.388820638820639"
      ]
     },
     "execution_count": 38,
     "metadata": {},
     "output_type": "execute_result"
    }
   ],
   "source": [
    "df_test[df_test['ATT_FLAG']==1]['L_T6'].mean()"
   ]
  },
  {
   "cell_type": "code",
   "execution_count": 39,
   "metadata": {},
   "outputs": [
    {
     "data": {
      "text/plain": [
       "3.2840071343638524"
      ]
     },
     "execution_count": 39,
     "metadata": {},
     "output_type": "execute_result"
    }
   ],
   "source": [
    "df_test[df_test['ATT_FLAG']==0]['L_T7'].mean()"
   ]
  },
  {
   "cell_type": "code",
   "execution_count": 40,
   "metadata": {},
   "outputs": [
    {
     "data": {
      "text/plain": [
       "3.3401965601965604"
      ]
     },
     "execution_count": 40,
     "metadata": {},
     "output_type": "execute_result"
    }
   ],
   "source": [
    "df_test[df_test['ATT_FLAG']==1]['L_T7'].mean()"
   ]
  },
  {
   "cell_type": "code",
   "execution_count": 46,
   "metadata": {},
   "outputs": [],
   "source": [
    "model = tf.keras.Sequential([\n",
    "  layers.Dense(64, activation='relu'),\n",
    "  layers.Dense(64, activation='relu'),\n",
    "  layers.Dense(2, activation='softmax')\n",
    "])"
   ]
  },
  {
   "cell_type": "code",
   "execution_count": 47,
   "metadata": {},
   "outputs": [],
   "source": [
    "model.compile(optimizer=tf.keras.optimizers.Adam(0.001),\n",
    "              loss='categorical_crossentropy',\n",
    "              metrics=['f1_score'])"
   ]
  },
  {
   "cell_type": "code",
   "execution_count": 48,
   "metadata": {},
   "outputs": [],
   "source": [
    "X_train = df.drop(columns=['DATETIME','ATT_FLAG'])\n",
    "Y_train = df['ATT_FLAG']\n",
    "X_test = df_test.drop(columns=['DATETIME','ATT_FLAG'])\n",
    "Y_test = df_test['ATT_FLAG']"
   ]
  },
  {
   "cell_type": "code",
   "execution_count": 49,
   "metadata": {},
   "outputs": [],
   "source": [
    "Y_train = tf.keras.utils.to_categorical(Y_train)\n",
    "Y_test = tf.keras.utils.to_categorical(Y_test)"
   ]
  },
  {
   "cell_type": "code",
   "execution_count": 50,
   "metadata": {},
   "outputs": [
    {
     "name": "stdout",
     "output_type": "stream",
     "text": [
      "Epoch 1/5\n"
     ]
    },
    {
     "ename": "ValueError",
     "evalue": "in user code:\n\n    File \"/home/manu/.local/lib/python3.10/site-packages/keras/engine/training.py\", line 1284, in train_function  *\n        return step_function(self, iterator)\n    File \"/home/manu/.local/lib/python3.10/site-packages/keras/engine/training.py\", line 1268, in step_function  **\n        outputs = model.distribute_strategy.run(run_step, args=(data,))\n    File \"/home/manu/.local/lib/python3.10/site-packages/keras/engine/training.py\", line 1249, in run_step  **\n        outputs = model.train_step(data)\n    File \"/home/manu/.local/lib/python3.10/site-packages/keras/engine/training.py\", line 1055, in train_step\n        return self.compute_metrics(x, y, y_pred, sample_weight)\n    File \"/home/manu/.local/lib/python3.10/site-packages/keras/engine/training.py\", line 1149, in compute_metrics\n        self.compiled_metrics.update_state(y, y_pred, sample_weight)\n    File \"/home/manu/.local/lib/python3.10/site-packages/keras/engine/compile_utils.py\", line 577, in update_state\n        self.build(y_pred, y_true)\n    File \"/home/manu/.local/lib/python3.10/site-packages/keras/engine/compile_utils.py\", line 483, in build\n        self._metrics = tf.__internal__.nest.map_structure_up_to(\n    File \"/home/manu/.local/lib/python3.10/site-packages/keras/engine/compile_utils.py\", line 631, in _get_metric_objects\n        return [self._get_metric_object(m, y_t, y_p) for m in metrics]\n    File \"/home/manu/.local/lib/python3.10/site-packages/keras/engine/compile_utils.py\", line 631, in <listcomp>\n        return [self._get_metric_object(m, y_t, y_p) for m in metrics]\n    File \"/home/manu/.local/lib/python3.10/site-packages/keras/engine/compile_utils.py\", line 650, in _get_metric_object\n        metric_obj = metrics_mod.get(metric)\n    File \"/home/manu/.local/lib/python3.10/site-packages/keras/metrics/__init__.py\", line 204, in get\n        return deserialize(str(identifier))\n    File \"/home/manu/.local/lib/python3.10/site-packages/keras/metrics/__init__.py\", line 158, in deserialize\n        return deserialize_keras_object(\n    File \"/home/manu/.local/lib/python3.10/site-packages/keras/saving/legacy/serialization.py\", line 543, in deserialize_keras_object\n        raise ValueError(\n\n    ValueError: Unknown metric function: 'f1_score'. Please ensure you are using a `keras.utils.custom_object_scope` and that this object is included in the scope. See https://www.tensorflow.org/guide/keras/save_and_serialize#registering_the_custom_object for details.\n",
     "output_type": "error",
     "traceback": [
      "\u001b[0;31m---------------------------------------------------------------------------\u001b[0m",
      "\u001b[0;31mValueError\u001b[0m                                Traceback (most recent call last)",
      "Cell \u001b[0;32mIn[50], line 1\u001b[0m\n\u001b[0;32m----> 1\u001b[0m model\u001b[39m.\u001b[39;49mfit(X_train, Y_train, epochs\u001b[39m=\u001b[39;49m\u001b[39m5\u001b[39;49m, batch_size\u001b[39m=\u001b[39;49m\u001b[39m64\u001b[39;49m)\n",
      "File \u001b[0;32m~/.local/lib/python3.10/site-packages/keras/utils/traceback_utils.py:70\u001b[0m, in \u001b[0;36mfilter_traceback.<locals>.error_handler\u001b[0;34m(*args, **kwargs)\u001b[0m\n\u001b[1;32m     67\u001b[0m     filtered_tb \u001b[39m=\u001b[39m _process_traceback_frames(e\u001b[39m.\u001b[39m__traceback__)\n\u001b[1;32m     68\u001b[0m     \u001b[39m# To get the full stack trace, call:\u001b[39;00m\n\u001b[1;32m     69\u001b[0m     \u001b[39m# `tf.debugging.disable_traceback_filtering()`\u001b[39;00m\n\u001b[0;32m---> 70\u001b[0m     \u001b[39mraise\u001b[39;00m e\u001b[39m.\u001b[39mwith_traceback(filtered_tb) \u001b[39mfrom\u001b[39;00m \u001b[39mNone\u001b[39m\n\u001b[1;32m     71\u001b[0m \u001b[39mfinally\u001b[39;00m:\n\u001b[1;32m     72\u001b[0m     \u001b[39mdel\u001b[39;00m filtered_tb\n",
      "File \u001b[0;32m/tmp/__autograph_generated_filesjzifzoe.py:15\u001b[0m, in \u001b[0;36mouter_factory.<locals>.inner_factory.<locals>.tf__train_function\u001b[0;34m(iterator)\u001b[0m\n\u001b[1;32m     13\u001b[0m \u001b[39mtry\u001b[39;00m:\n\u001b[1;32m     14\u001b[0m     do_return \u001b[39m=\u001b[39m \u001b[39mTrue\u001b[39;00m\n\u001b[0;32m---> 15\u001b[0m     retval_ \u001b[39m=\u001b[39m ag__\u001b[39m.\u001b[39mconverted_call(ag__\u001b[39m.\u001b[39mld(step_function), (ag__\u001b[39m.\u001b[39mld(\u001b[39mself\u001b[39m), ag__\u001b[39m.\u001b[39mld(iterator)), \u001b[39mNone\u001b[39;00m, fscope)\n\u001b[1;32m     16\u001b[0m \u001b[39mexcept\u001b[39;00m:\n\u001b[1;32m     17\u001b[0m     do_return \u001b[39m=\u001b[39m \u001b[39mFalse\u001b[39;00m\n",
      "\u001b[0;31mValueError\u001b[0m: in user code:\n\n    File \"/home/manu/.local/lib/python3.10/site-packages/keras/engine/training.py\", line 1284, in train_function  *\n        return step_function(self, iterator)\n    File \"/home/manu/.local/lib/python3.10/site-packages/keras/engine/training.py\", line 1268, in step_function  **\n        outputs = model.distribute_strategy.run(run_step, args=(data,))\n    File \"/home/manu/.local/lib/python3.10/site-packages/keras/engine/training.py\", line 1249, in run_step  **\n        outputs = model.train_step(data)\n    File \"/home/manu/.local/lib/python3.10/site-packages/keras/engine/training.py\", line 1055, in train_step\n        return self.compute_metrics(x, y, y_pred, sample_weight)\n    File \"/home/manu/.local/lib/python3.10/site-packages/keras/engine/training.py\", line 1149, in compute_metrics\n        self.compiled_metrics.update_state(y, y_pred, sample_weight)\n    File \"/home/manu/.local/lib/python3.10/site-packages/keras/engine/compile_utils.py\", line 577, in update_state\n        self.build(y_pred, y_true)\n    File \"/home/manu/.local/lib/python3.10/site-packages/keras/engine/compile_utils.py\", line 483, in build\n        self._metrics = tf.__internal__.nest.map_structure_up_to(\n    File \"/home/manu/.local/lib/python3.10/site-packages/keras/engine/compile_utils.py\", line 631, in _get_metric_objects\n        return [self._get_metric_object(m, y_t, y_p) for m in metrics]\n    File \"/home/manu/.local/lib/python3.10/site-packages/keras/engine/compile_utils.py\", line 631, in <listcomp>\n        return [self._get_metric_object(m, y_t, y_p) for m in metrics]\n    File \"/home/manu/.local/lib/python3.10/site-packages/keras/engine/compile_utils.py\", line 650, in _get_metric_object\n        metric_obj = metrics_mod.get(metric)\n    File \"/home/manu/.local/lib/python3.10/site-packages/keras/metrics/__init__.py\", line 204, in get\n        return deserialize(str(identifier))\n    File \"/home/manu/.local/lib/python3.10/site-packages/keras/metrics/__init__.py\", line 158, in deserialize\n        return deserialize_keras_object(\n    File \"/home/manu/.local/lib/python3.10/site-packages/keras/saving/legacy/serialization.py\", line 543, in deserialize_keras_object\n        raise ValueError(\n\n    ValueError: Unknown metric function: 'f1_score'. Please ensure you are using a `keras.utils.custom_object_scope` and that this object is included in the scope. See https://www.tensorflow.org/guide/keras/save_and_serialize#registering_the_custom_object for details.\n"
     ]
    }
   ],
   "source": [
    "model.fit(X_train, Y_train, epochs=5, batch_size=64)"
   ]
  },
  {
   "cell_type": "code",
   "execution_count": 65,
   "metadata": {},
   "outputs": [
    {
     "name": "stdout",
     "output_type": "stream",
     "text": [
      "Epoch 1/10\n",
      "203/203 [==============================] - 1s 2ms/step - loss: 1.3852 - accuracy: 0.9285 - val_loss: 0.8207 - val_accuracy: 0.8186\n",
      "Epoch 2/10\n",
      "203/203 [==============================] - 0s 1ms/step - loss: 0.1423 - accuracy: 0.9690 - val_loss: 0.7904 - val_accuracy: 0.8186\n",
      "Epoch 3/10\n",
      "203/203 [==============================] - 0s 1ms/step - loss: 0.1429 - accuracy: 0.9697 - val_loss: 0.6607 - val_accuracy: 0.8191\n",
      "Epoch 4/10\n",
      "203/203 [==============================] - 0s 1ms/step - loss: 0.1448 - accuracy: 0.9699 - val_loss: 0.7383 - val_accuracy: 0.8195\n",
      "Epoch 5/10\n",
      "203/203 [==============================] - 0s 1ms/step - loss: 0.1354 - accuracy: 0.9702 - val_loss: 0.7151 - val_accuracy: 0.8191\n",
      "Epoch 6/10\n",
      "203/203 [==============================] - 0s 1ms/step - loss: 0.1330 - accuracy: 0.9704 - val_loss: 0.5677 - val_accuracy: 0.8219\n",
      "Epoch 7/10\n",
      "203/203 [==============================] - 0s 1ms/step - loss: 0.1325 - accuracy: 0.9706 - val_loss: 0.6748 - val_accuracy: 0.8229\n",
      "Epoch 8/10\n",
      "203/203 [==============================] - 0s 1ms/step - loss: 0.1332 - accuracy: 0.9701 - val_loss: 0.7289 - val_accuracy: 0.8238\n",
      "Epoch 9/10\n",
      "203/203 [==============================] - 0s 1ms/step - loss: 0.1302 - accuracy: 0.9708 - val_loss: 0.5513 - val_accuracy: 0.8291\n",
      "Epoch 10/10\n",
      "203/203 [==============================] - 0s 1ms/step - loss: 0.1285 - accuracy: 0.9712 - val_loss: 0.7204 - val_accuracy: 0.8248\n"
     ]
    },
    {
     "data": {
      "text/plain": [
       "<keras.callbacks.History at 0x7f43b83640d0>"
      ]
     },
     "execution_count": 65,
     "metadata": {},
     "output_type": "execute_result"
    }
   ],
   "source": [
    "def f1(y_true, y_pred):\n",
    "    y_true = tf.cast(y_true, tf.float32)\n",
    "    y_pred = tf.round(y_pred)\n",
    "    return f1_score(y_true, y_pred, average='weighted')\n",
    "\n",
    "# Register the custom metric function with Keras\n",
    "tf.keras.utils.get_custom_objects()['f1'] = f1\n",
    "\n",
    "model = tf.keras.Sequential([\n",
    "  layers.Dense(64, activation='relu'),\n",
    "  layers.Dense(64, activation='relu'),\n",
    "  layers.Dense(1, activation='sigmoid')\n",
    "])\n",
    "\n",
    "model.compile(optimizer=tf.keras.optimizers.Adam(0.001),\n",
    "              loss='binary_crossentropy',\n",
    "              metrics=['accuracy'])\n",
    "\n",
    "X_train = df.drop(columns=['DATETIME','ATT_FLAG'])\n",
    "Y_train = df['ATT_FLAG']\n",
    "X_test = df_test.drop(columns=['DATETIME','ATT_FLAG'])\n",
    "Y_test = df_test['ATT_FLAG']\n",
    "\n",
    "model.fit(X_train, Y_train, epochs=10, batch_size=64, validation_data=(X_test, Y_test))\n"
   ]
  },
  {
   "cell_type": "code",
   "execution_count": 66,
   "metadata": {},
   "outputs": [
    {
     "name": "stdout",
     "output_type": "stream",
     "text": [
      "66/66 [==============================] - 0s 751us/step\n"
     ]
    }
   ],
   "source": [
    "Y_pred = model.predict(X_test)"
   ]
  },
  {
   "cell_type": "code",
   "execution_count": 67,
   "metadata": {},
   "outputs": [
    {
     "name": "stdout",
     "output_type": "stream",
     "text": [
      "Accuracy: 0.8247965533748205\n",
      "Precision:  1.0\n",
      "Recall:  0.10073710073710074\n",
      "Fscore:  0.18303571428571427\n"
     ]
    }
   ],
   "source": [
    "Y_pred = np.round(Y_pred)\n",
    "print('Accuracy:', accuracy_score(Y_test, Y_pred))\n",
    "print('Precision: ',precision_score(Y_test,Y_pred))\n",
    "print('Recall: ',recall_score(Y_test,Y_pred))\n",
    "print('Fscore: ',f1_score(Y_test,Y_pred))"
   ]
  },
  {
   "cell_type": "code",
   "execution_count": 108,
   "metadata": {},
   "outputs": [
    {
     "data": {
      "text/plain": [
       "array([4.49063349, 3.84247041, 0.71590203])"
      ]
     },
     "execution_count": 108,
     "metadata": {},
     "output_type": "execute_result"
    }
   ],
   "source": [
    "X = X_train.iloc[:,0].values\n",
    "centroid_old = X[np.random.choice(range(len(X)), 3)]\n",
    "centroid_old"
   ]
  },
  {
   "cell_type": "code",
   "execution_count": 110,
   "metadata": {},
   "outputs": [
    {
     "data": {
      "text/plain": [
       "array([[3.98090357, 4.078053  , 4.17052165, ..., 2.58063349, 2.97063349,\n",
       "        3.39063349],\n",
       "       [3.33274048, 3.42988992, 3.52235857, ..., 1.93247041, 2.32247041,\n",
       "        2.74247041],\n",
       "       [0.20617211, 0.30332154, 0.39579019, ..., 1.19409797, 0.80409797,\n",
       "        0.38409797]])"
      ]
     },
     "execution_count": 110,
     "metadata": {},
     "output_type": "execute_result"
    }
   ],
   "source": [
    "distances = np.sqrt(((X - centroid_old[:, np.newaxis])**2))\n",
    "distances"
   ]
  },
  {
   "cell_type": "code",
   "execution_count": 114,
   "metadata": {},
   "outputs": [
    {
     "data": {
      "text/plain": [
       "array([ 4573,  2137,  8707, ..., 11239, 11824,  1053])"
      ]
     },
     "execution_count": 114,
     "metadata": {},
     "output_type": "execute_result"
    }
   ],
   "source": [
    "np.argsort(np.min(distances,axis=0))"
   ]
  },
  {
   "cell_type": "code",
   "execution_count": 122,
   "metadata": {},
   "outputs": [
    {
     "data": {
      "text/plain": [
       "1.5624704070000002"
      ]
     },
     "execution_count": 122,
     "metadata": {},
     "output_type": "execute_result"
    }
   ],
   "source": [
    "np.min(distances,axis=0)[11239]"
   ]
  },
  {
   "cell_type": "code",
   "execution_count": 111,
   "metadata": {},
   "outputs": [
    {
     "data": {
      "text/plain": [
       "array([3.98090357, 4.078053  , 4.17052165, ..., 2.58063349, 2.97063349,\n",
       "       3.39063349])"
      ]
     },
     "execution_count": 111,
     "metadata": {},
     "output_type": "execute_result"
    }
   ],
   "source": [
    "np.sqrt(((X - centroid_old[0])**2))"
   ]
  },
  {
   "cell_type": "code",
   "execution_count": null,
   "metadata": {},
   "outputs": [],
   "source": [
    "labels = np.argmin(distances, axis=0)\n",
    "labels"
   ]
  },
  {
   "cell_type": "code",
   "execution_count": 86,
   "metadata": {},
   "outputs": [
    {
     "data": {
      "text/plain": [
       "12938"
      ]
     },
     "execution_count": 86,
     "metadata": {},
     "output_type": "execute_result"
    }
   ],
   "source": [
    "len(np.sqrt(((X - centroid_old[1])**2)))"
   ]
  },
  {
   "cell_type": "code",
   "execution_count": 85,
   "metadata": {},
   "outputs": [
    {
     "data": {
      "text/plain": [
       "12938"
      ]
     },
     "execution_count": 85,
     "metadata": {},
     "output_type": "execute_result"
    }
   ],
   "source": [
    "len(X)"
   ]
  },
  {
   "cell_type": "code",
   "execution_count": 105,
   "metadata": {},
   "outputs": [
    {
     "data": {
      "text/plain": [
       "array([154.12324614, 230.3096215 , 198.08671738, 248.92622271])"
      ]
     },
     "execution_count": 105,
     "metadata": {},
     "output_type": "execute_result"
    }
   ],
   "source": [
    "centroid_old = X[np.random.choice(range(len(X)), 4)]\n",
    "distances = np.sqrt(((X - centroid_old[:, np.newaxis])**2).sum(axis=1))\n",
    "distances\n"
   ]
  },
  {
   "cell_type": "code",
   "execution_count": 106,
   "metadata": {},
   "outputs": [
    {
     "data": {
      "text/plain": [
       "0"
      ]
     },
     "execution_count": 106,
     "metadata": {},
     "output_type": "execute_result"
    }
   ],
   "source": [
    "labels = np.argmin(distances, axis=0)\n",
    "labels"
   ]
  },
  {
   "cell_type": "code",
   "execution_count": 107,
   "metadata": {},
   "outputs": [
    {
     "data": {
      "text/plain": [
       "(12938,)"
      ]
     },
     "execution_count": 107,
     "metadata": {},
     "output_type": "execute_result"
    }
   ],
   "source": [
    "X.shape"
   ]
  },
  {
   "cell_type": "code",
   "execution_count": null,
   "metadata": {},
   "outputs": [],
   "source": []
  }
 ],
 "metadata": {
  "kernelspec": {
   "display_name": "Python 3",
   "language": "python",
   "name": "python3"
  },
  "language_info": {
   "codemirror_mode": {
    "name": "ipython",
    "version": 3
   },
   "file_extension": ".py",
   "mimetype": "text/x-python",
   "name": "python",
   "nbconvert_exporter": "python",
   "pygments_lexer": "ipython3",
   "version": "3.10.6"
  },
  "orig_nbformat": 4,
  "vscode": {
   "interpreter": {
    "hash": "916dbcbb3f70747c44a77c7bcd40155683ae19c65e1c03b4aa3499c5328201f1"
   }
  }
 },
 "nbformat": 4,
 "nbformat_minor": 2
}
