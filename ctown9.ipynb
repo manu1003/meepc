{
 "cells": [
  {
   "cell_type": "code",
   "execution_count": 1,
   "metadata": {},
   "outputs": [
    {
     "name": "stderr",
     "output_type": "stream",
     "text": [
      "C:\\Users\\user\\AppData\\Local\\Packages\\PythonSoftwareFoundation.Python.3.9_qbz5n2kfra8p0\\LocalCache\\local-packages\\Python39\\site-packages\\numpy\\_distributor_init.py:30: UserWarning: loaded more than 1 DLL from .libs:\n",
      "C:\\Users\\user\\AppData\\Local\\Packages\\PythonSoftwareFoundation.Python.3.9_qbz5n2kfra8p0\\LocalCache\\local-packages\\Python39\\site-packages\\numpy\\.libs\\libopenblas.EL2C6PLE4ZYW3ECEVIV3OXXGRN2NRFM2.gfortran-win_amd64.dll\n",
      "C:\\Users\\user\\AppData\\Local\\Packages\\PythonSoftwareFoundation.Python.3.9_qbz5n2kfra8p0\\LocalCache\\local-packages\\Python39\\site-packages\\numpy\\.libs\\libopenblas.WCDJNK7YVMPZQ2ME2ZZHJJRJ3JIKNDB7.gfortran-win_amd64.dll\n",
      "  warnings.warn(\"loaded more than 1 DLL from .libs:\"\n"
     ]
    }
   ],
   "source": [
    "import numpy as np\n",
    "import pandas as pd\n",
    "from models import Pipeline,Hankel,Robustcluster\n",
    "from sklearn.linear_model import LinearRegression,LogisticRegression\n",
    "from sklearn.ensemble import RandomForestClassifier\n",
    "import tensorflow as tf\n",
    "from tensorflow.keras import layers\n",
    "from sklearn.metrics import accuracy_score,precision_score,recall_score,f1_score,roc_auc_score"
   ]
  },
  {
   "cell_type": "code",
   "execution_count": 2,
   "metadata": {},
   "outputs": [],
   "source": [
    "df1 = pd.read_csv('~/data/ctown/dataset03.csv')\n",
    "df2 = pd.read_csv('~/data/ctown/dataset04.csv')\n",
    "df = pd.concat((df1,df2),axis=0,ignore_index=True)\n",
    "df_test = pd.read_csv('~/data/ctown/test_dataset.csv')"
   ]
  },
  {
   "cell_type": "code",
   "execution_count": 3,
   "metadata": {},
   "outputs": [],
   "source": [
    "hankel = Hankel()"
   ]
  },
  {
   "cell_type": "code",
   "execution_count": 4,
   "metadata": {},
   "outputs": [],
   "source": [
    "rc = Robustcluster()"
   ]
  },
  {
   "cell_type": "code",
   "execution_count": 5,
   "metadata": {},
   "outputs": [
    {
     "name": "stdout",
     "output_type": "stream",
     "text": [
      "[[3.36558512 3.42269625 3.46236214 3.48702721 3.50598137 3.52631154\n",
      "  3.56445123 3.59523499 3.62272629 3.59477496 3.54197885 3.49145292\n",
      "  3.44969609 3.3984219  3.3088923  3.16781702 2.9762093  2.79282766\n",
      "  2.63332266 2.4805853  2.33268873 2.170742   2.00541803 1.86131158\n",
      "  1.74165659 1.6444622  1.55952196 1.48368508 1.43363638 1.43351349\n",
      "  1.47723619 1.55511236 1.63771315 1.72924575 1.83986964 1.95936192\n",
      "  2.08045582 2.20819496 2.31922499 2.41314157 2.48458888 2.55163891\n",
      "  2.64531965 2.76262198 2.88026135 2.97535354 3.0758568  3.17857768\n",
      "  3.27248427 3.37719246 3.47792813 3.53470605 3.54737852 3.57980956\n",
      "  3.60557982 3.6384584  3.65569911 3.59635214 3.51782445 3.4440763 ]\n",
      " [2.23294227 2.09720507 1.97013248 1.83502513 1.70970897 1.62085634\n",
      "  1.56026801 1.52651074 1.50888901 1.50905835 1.53121064 1.59778135\n",
      "  1.68880341 1.80771128 1.94249485 2.07860702 2.21317289 2.33253086\n",
      "  2.45086339 2.58030644 2.70255879 2.78983518 2.84957356 2.92366702\n",
      "  3.00767386 3.09749672 3.18901487 3.25393281 3.31527937 3.37617983\n",
      "  3.45318796 3.5332374  3.60019333 3.64952069 3.68266464 3.71364038\n",
      "  3.74933463 3.76035223 3.76604837 3.73388517 3.67779086 3.62702173\n",
      "  3.58756293 3.54586442 3.47191967 3.35601628 3.19418333 3.03335657\n",
      "  2.89952658 2.76618217 2.63223518 2.48193385 2.32821731 2.19383369\n",
      "  2.08022248 1.97939283 1.88379029 1.78405488 1.70528458 1.66606062]\n",
      " [2.15779054 2.30827691 2.43086866 2.53525543 2.61829605 2.69411519\n",
      "  2.77596959 2.84908373 2.90636248 2.93529232 2.94460155 2.92551775\n",
      "  2.93401784 2.95736695 2.97736515 3.00054067 3.06109149 3.1491374\n",
      "  3.25549706 3.37995688 3.50589332 3.61912327 3.71404032 3.80949254\n",
      "  3.87617451 3.95344061 3.9745114  3.88311729 3.71450948 3.53578401\n",
      "  3.3601677  3.16500686 2.92993834 2.6530187  2.3624762  2.09842589\n",
      "  1.87671364 1.70316828 1.55994176 1.43023512 1.34716863 1.31189045\n",
      "  1.30635608 1.30386737 1.30612634 1.34641651 1.41779427 1.50001057\n",
      "  1.59996633 1.72089005 1.85198259 1.9904259  2.13596264 2.28294428\n",
      "  2.42275169 2.57467695 2.70157622 2.79626168 2.8657101  2.92621455]]\n"
     ]
    }
   ],
   "source": [
    "X_train = df.iloc[:,1].values\n",
    "X_train = hankel.fit(X_train,lag=60)\n",
    "X_train = X_train.T\n",
    "centre,label = rc.fit(X_train,3,.04)"
   ]
  },
  {
   "cell_type": "code",
   "execution_count": 3,
   "metadata": {},
   "outputs": [
    {
     "data": {
      "text/plain": [
       "Index(['DATETIME', 'L_T1', 'L_T2', 'L_T3', 'L_T4', 'L_T5', 'L_T6', 'L_T7',\n",
       "       'F_PU1', 'S_PU1', 'F_PU2', 'S_PU2', 'F_PU3', 'S_PU3', 'F_PU4', 'S_PU4',\n",
       "       'F_PU5', 'S_PU5', 'F_PU6', 'S_PU6', 'F_PU7', 'S_PU7', 'F_PU8', 'S_PU8',\n",
       "       'F_PU9', 'S_PU9', 'F_PU10', 'S_PU10', 'F_PU11', 'S_PU11', 'F_V2',\n",
       "       'S_V2', 'P_J280', 'P_J269', 'P_J300', 'P_J256', 'P_J289', 'P_J415',\n",
       "       'P_J302', 'P_J306', 'P_J307', 'P_J317', 'P_J14', 'P_J422', 'ATT_FLAG'],\n",
       "      dtype='object')"
      ]
     },
     "execution_count": 3,
     "metadata": {},
     "output_type": "execute_result"
    }
   ],
   "source": [
    "df_test.columns"
   ]
  },
  {
   "cell_type": "code",
   "execution_count": 4,
   "metadata": {},
   "outputs": [],
   "source": [
    "def fun(X_train,Y_train,X_test,Y_test):\n",
    "    rf = RandomForestClassifier()\n",
    "    rf.fit(X_train,Y_train) \n",
    "    Y_pred = rf.predict(X_test)\n",
    "    print('Accuracy:', accuracy_score(Y_test, Y_pred))\n",
    "    print('Precision: ',precision_score(Y_test,Y_pred))\n",
    "    print('Recall: ',recall_score(Y_test,Y_pred))\n",
    "    print('Fscore: ',f1_score(Y_test,Y_pred))"
   ]
  },
  {
   "cell_type": "code",
   "execution_count": 5,
   "metadata": {},
   "outputs": [
    {
     "name": "stdout",
     "output_type": "stream",
     "text": [
      "Accuracy: 0.8051699377692676\n",
      "Precision:  0.0\n",
      "Recall:  0.0\n",
      "Fscore:  0.0\n"
     ]
    }
   ],
   "source": [
    "X_train = df[['S_PU3','F_PU3']]\n",
    "Y_train = df['ATT_FLAG']\n",
    "X_test = df_test[['S_PU3','F_PU3']]\n",
    "Y_test = df_test['ATT_FLAG']\n",
    "fun(X_train,Y_train,X_test,Y_test)"
   ]
  },
  {
   "cell_type": "code",
   "execution_count": 6,
   "metadata": {},
   "outputs": [
    {
     "name": "stdout",
     "output_type": "stream",
     "text": [
      "Accuracy: 0.8051699377692676\n",
      "Precision:  0.5\n",
      "Recall:  0.056511056511056514\n",
      "Fscore:  0.10154525386313466\n"
     ]
    }
   ],
   "source": [
    "X_train = df[['L_T1','S_PU1','F_PU1', 'S_PU2','F_PU2','P_J269']]\n",
    "X_test = df_test[['L_T1','S_PU1','F_PU1', 'S_PU2','F_PU2','P_J269']]\n",
    "fun(X_train,Y_train,X_test,Y_test)"
   ]
  },
  {
   "cell_type": "code",
   "execution_count": 7,
   "metadata": {},
   "outputs": [
    {
     "name": "stdout",
     "output_type": "stream",
     "text": [
      "Accuracy: 0.7989468645284825\n",
      "Precision:  0.32432432432432434\n",
      "Recall:  0.029484029484029485\n",
      "Fscore:  0.05405405405405405\n"
     ]
    }
   ],
   "source": [
    "X_train = df[['L_T1','S_PU1','F_PU1', 'S_PU2','F_PU2','S_PU3','F_PU3','P_J269']]\n",
    "X_test = df_test[['L_T1','S_PU1','F_PU1', 'S_PU2','F_PU2','S_PU3','F_PU3','P_J269']]\n",
    "fun(X_train,Y_train,X_test,Y_test)"
   ]
  },
  {
   "cell_type": "code",
   "execution_count": 8,
   "metadata": {},
   "outputs": [
    {
     "name": "stdout",
     "output_type": "stream",
     "text": [
      "Accuracy: 0.8003829583532791\n",
      "Precision:  0.08333333333333333\n",
      "Recall:  0.002457002457002457\n",
      "Fscore:  0.0047732696897374695\n"
     ]
    }
   ],
   "source": [
    "X_train = df[['L_T3','S_PU4','F_PU4','S_PU5','F_PU5']]\n",
    "X_test = df_test[['L_T3','S_PU4','F_PU4','S_PU5','F_PU5']]\n",
    "fun(X_train,Y_train,X_test,Y_test)"
   ]
  },
  {
   "cell_type": "code",
   "execution_count": 9,
   "metadata": {},
   "outputs": [
    {
     "name": "stdout",
     "output_type": "stream",
     "text": [
      "Accuracy: 0.8080421254188607\n",
      "Precision:  0.6363636363636364\n",
      "Recall:  0.0343980343980344\n",
      "Fscore:  0.06526806526806528\n"
     ]
    }
   ],
   "source": [
    "X_train = df[['L_T2','S_V2','F_V2','P_J14','P_J422']]\n",
    "X_test = df_test[['L_T2','S_V2','F_V2','P_J14','P_J422']]\n",
    "fun(X_train,Y_train,X_test,Y_test)"
   ]
  },
  {
   "cell_type": "code",
   "execution_count": 10,
   "metadata": {},
   "outputs": [
    {
     "name": "stdout",
     "output_type": "stream",
     "text": [
      "Accuracy: 0.8066060315940642\n",
      "Precision:  0.5882352941176471\n",
      "Recall:  0.02457002457002457\n",
      "Fscore:  0.04716981132075472\n"
     ]
    }
   ],
   "source": [
    "X_train = df[['L_T2','L_T3','S_V2','F_V2','S_PU4','F_PU4','S_PU5','F_PU5','P_J14','P_J422']]\n",
    "X_test = df_test[['L_T2','L_T3','S_V2','F_V2','S_PU4','F_PU4','S_PU5','F_PU5','P_J14','P_J422']]\n",
    "fun(X_train,Y_train,X_test,Y_test)"
   ]
  },
  {
   "cell_type": "code",
   "execution_count": 11,
   "metadata": {},
   "outputs": [
    {
     "name": "stdout",
     "output_type": "stream",
     "text": [
      "Accuracy: 0.8104356151268549\n",
      "Precision:  0.8666666666666667\n",
      "Recall:  0.03194103194103194\n",
      "Fscore:  0.06161137440758294\n"
     ]
    }
   ],
   "source": [
    "X_train = df[['L_T2','L_T3','L_T7','S_V2','F_V2','S_PU4','F_PU4','S_PU5','F_PU5','S_PU10','F_PU10','S_PU11','F_PU11','P_J14','P_J422']]\n",
    "X_test = df_test[['L_T2','L_T3','L_T7','S_V2','F_V2','S_PU4','F_PU4','S_PU5','F_PU5','S_PU10','F_PU10','S_PU11','F_PU11','P_J14','P_J422']]\n",
    "fun(X_train,Y_train,X_test,Y_test)"
   ]
  },
  {
   "cell_type": "code",
   "execution_count": 12,
   "metadata": {},
   "outputs": [
    {
     "name": "stdout",
     "output_type": "stream",
     "text": [
      "Accuracy: 0.8190521780756342\n",
      "Precision:  1.0\n",
      "Recall:  0.07125307125307126\n",
      "Fscore:  0.13302752293577982\n"
     ]
    }
   ],
   "source": [
    "X_train = df[['L_T1','L_T2','L_T3','L_T7','S_V2','F_V2','S_PU1','F_PU1','S_PU2','F_PU2','S_PU3','F_PU3','S_PU4','F_PU4','S_PU5','F_PU5','S_PU10','F_PU10','S_PU11','F_PU11','P_J14','P_J422']]\n",
    "X_test = df_test[['L_T1','L_T2','L_T3','L_T7','S_V2','F_V2','S_PU1','F_PU1','S_PU2','F_PU2','S_PU3','F_PU3','S_PU4','F_PU4','S_PU5','F_PU5','S_PU10','F_PU10','S_PU11','F_PU11','P_J14','P_J422']]\n",
    "fun(X_train,Y_train,X_test,Y_test)"
   ]
  },
  {
   "cell_type": "code",
   "execution_count": 13,
   "metadata": {},
   "outputs": [
    {
     "data": {
      "text/plain": [
       "2.681205666486904"
      ]
     },
     "execution_count": 13,
     "metadata": {},
     "output_type": "execute_result"
    }
   ],
   "source": [
    "df[df['ATT_FLAG']==0]['L_T1'].mean()"
   ]
  },
  {
   "cell_type": "code",
   "execution_count": 14,
   "metadata": {},
   "outputs": [
    {
     "data": {
      "text/plain": [
       "2.8273983739837396"
      ]
     },
     "execution_count": 14,
     "metadata": {},
     "output_type": "execute_result"
    }
   ],
   "source": [
    "df[df['ATT_FLAG']==1]['L_T1'].mean()"
   ]
  },
  {
   "cell_type": "code",
   "execution_count": 15,
   "metadata": {},
   "outputs": [
    {
     "data": {
      "text/plain": [
       "3.2843085281952438"
      ]
     },
     "execution_count": 15,
     "metadata": {},
     "output_type": "execute_result"
    }
   ],
   "source": [
    "df[df['ATT_FLAG']==0]['L_T2'].mean()"
   ]
  },
  {
   "cell_type": "code",
   "execution_count": 16,
   "metadata": {},
   "outputs": [
    {
     "data": {
      "text/plain": [
       "3.3409756097560974"
      ]
     },
     "execution_count": 16,
     "metadata": {},
     "output_type": "execute_result"
    }
   ],
   "source": [
    "df[df['ATT_FLAG']==1]['L_T2'].mean()"
   ]
  },
  {
   "cell_type": "code",
   "execution_count": 17,
   "metadata": {},
   "outputs": [
    {
     "data": {
      "text/plain": [
       "4.202603932783224"
      ]
     },
     "execution_count": 17,
     "metadata": {},
     "output_type": "execute_result"
    }
   ],
   "source": [
    "df[df['ATT_FLAG']==0]['L_T3'].mean()"
   ]
  },
  {
   "cell_type": "code",
   "execution_count": 18,
   "metadata": {},
   "outputs": [
    {
     "data": {
      "text/plain": [
       "4.204715447154471"
      ]
     },
     "execution_count": 18,
     "metadata": {},
     "output_type": "execute_result"
    }
   ],
   "source": [
    "df[df['ATT_FLAG']==1]['L_T3'].mean()"
   ]
  },
  {
   "cell_type": "code",
   "execution_count": 19,
   "metadata": {},
   "outputs": [
    {
     "data": {
      "text/plain": [
       "3.56817108838422"
      ]
     },
     "execution_count": 19,
     "metadata": {},
     "output_type": "execute_result"
    }
   ],
   "source": [
    "df[df['ATT_FLAG']==0]['L_T4'].mean()"
   ]
  },
  {
   "cell_type": "code",
   "execution_count": 20,
   "metadata": {},
   "outputs": [
    {
     "data": {
      "text/plain": [
       "3.4660569105691055"
      ]
     },
     "execution_count": 20,
     "metadata": {},
     "output_type": "execute_result"
    }
   ],
   "source": [
    "df[df['ATT_FLAG']==1]['L_T4'].mean()"
   ]
  },
  {
   "cell_type": "code",
   "execution_count": 21,
   "metadata": {},
   "outputs": [
    {
     "data": {
      "text/plain": [
       "2.748624297430982"
      ]
     },
     "execution_count": 21,
     "metadata": {},
     "output_type": "execute_result"
    }
   ],
   "source": [
    "df[df['ATT_FLAG']==0]['L_T5'].mean()"
   ]
  },
  {
   "cell_type": "code",
   "execution_count": 22,
   "metadata": {},
   "outputs": [
    {
     "data": {
      "text/plain": [
       "2.7390650406504067"
      ]
     },
     "execution_count": 22,
     "metadata": {},
     "output_type": "execute_result"
    }
   ],
   "source": [
    "df[df['ATT_FLAG']==1]['L_T5'].mean()"
   ]
  },
  {
   "cell_type": "code",
   "execution_count": 23,
   "metadata": {},
   "outputs": [
    {
     "data": {
      "text/plain": [
       "5.370080021028442"
      ]
     },
     "execution_count": 23,
     "metadata": {},
     "output_type": "execute_result"
    }
   ],
   "source": [
    "df[df['ATT_FLAG']==0]['L_T6'].mean()"
   ]
  },
  {
   "cell_type": "code",
   "execution_count": 24,
   "metadata": {},
   "outputs": [
    {
     "data": {
      "text/plain": [
       "5.362418699186992"
      ]
     },
     "execution_count": 24,
     "metadata": {},
     "output_type": "execute_result"
    }
   ],
   "source": [
    "df[df['ATT_FLAG']==1]['L_T6'].mean()"
   ]
  },
  {
   "cell_type": "code",
   "execution_count": 25,
   "metadata": {},
   "outputs": [
    {
     "data": {
      "text/plain": [
       "3.309937061904628"
      ]
     },
     "execution_count": 25,
     "metadata": {},
     "output_type": "execute_result"
    }
   ],
   "source": [
    "df[df['ATT_FLAG']==0]['L_T7'].mean()"
   ]
  },
  {
   "cell_type": "code",
   "execution_count": 26,
   "metadata": {},
   "outputs": [
    {
     "data": {
      "text/plain": [
       "3.294451219512195"
      ]
     },
     "execution_count": 26,
     "metadata": {},
     "output_type": "execute_result"
    }
   ],
   "source": [
    "df[df['ATT_FLAG']==1]['L_T7'].mean()"
   ]
  },
  {
   "cell_type": "code",
   "execution_count": 27,
   "metadata": {},
   "outputs": [
    {
     "data": {
      "text/plain": [
       "2.715677764565993"
      ]
     },
     "execution_count": 27,
     "metadata": {},
     "output_type": "execute_result"
    }
   ],
   "source": [
    "df_test[df_test['ATT_FLAG']==0]['L_T1'].mean()"
   ]
  },
  {
   "cell_type": "code",
   "execution_count": 28,
   "metadata": {},
   "outputs": [
    {
     "data": {
      "text/plain": [
       "3.042997542997543"
      ]
     },
     "execution_count": 28,
     "metadata": {},
     "output_type": "execute_result"
    }
   ],
   "source": [
    "df_test[df_test['ATT_FLAG']==1]['L_T1'].mean()"
   ]
  },
  {
   "cell_type": "code",
   "execution_count": 29,
   "metadata": {},
   "outputs": [
    {
     "data": {
      "text/plain": [
       "3.340481569560048"
      ]
     },
     "execution_count": 29,
     "metadata": {},
     "output_type": "execute_result"
    }
   ],
   "source": [
    "df_test[df_test['ATT_FLAG']==0]['L_T2'].mean()"
   ]
  },
  {
   "cell_type": "code",
   "execution_count": 30,
   "metadata": {},
   "outputs": [
    {
     "data": {
      "text/plain": [
       "3.4082063882063887"
      ]
     },
     "execution_count": 30,
     "metadata": {},
     "output_type": "execute_result"
    }
   ],
   "source": [
    "df_test[df_test['ATT_FLAG']==1]['L_T2'].mean()"
   ]
  },
  {
   "cell_type": "code",
   "execution_count": 31,
   "metadata": {},
   "outputs": [
    {
     "data": {
      "text/plain": [
       "4.198382877526754"
      ]
     },
     "execution_count": 31,
     "metadata": {},
     "output_type": "execute_result"
    }
   ],
   "source": [
    "df_test[df_test['ATT_FLAG']==0]['L_T3'].mean()"
   ]
  },
  {
   "cell_type": "code",
   "execution_count": 32,
   "metadata": {},
   "outputs": [
    {
     "data": {
      "text/plain": [
       "4.201179361179362"
      ]
     },
     "execution_count": 32,
     "metadata": {},
     "output_type": "execute_result"
    }
   ],
   "source": [
    "df_test[df_test['ATT_FLAG']==1]['L_T3'].mean()"
   ]
  },
  {
   "cell_type": "code",
   "execution_count": 33,
   "metadata": {},
   "outputs": [
    {
     "data": {
      "text/plain": [
       "3.571956004756242"
      ]
     },
     "execution_count": 33,
     "metadata": {},
     "output_type": "execute_result"
    }
   ],
   "source": [
    "df_test[df_test['ATT_FLAG']==0]['L_T4'].mean()"
   ]
  },
  {
   "cell_type": "code",
   "execution_count": 34,
   "metadata": {},
   "outputs": [
    {
     "data": {
      "text/plain": [
       "3.563808353808354"
      ]
     },
     "execution_count": 34,
     "metadata": {},
     "output_type": "execute_result"
    }
   ],
   "source": [
    "df_test[df_test['ATT_FLAG']==1]['L_T4'].mean()"
   ]
  },
  {
   "cell_type": "code",
   "execution_count": 35,
   "metadata": {},
   "outputs": [
    {
     "data": {
      "text/plain": [
       "2.754643281807372"
      ]
     },
     "execution_count": 35,
     "metadata": {},
     "output_type": "execute_result"
    }
   ],
   "source": [
    "df_test[df_test['ATT_FLAG']==0]['L_T5'].mean()"
   ]
  },
  {
   "cell_type": "code",
   "execution_count": 36,
   "metadata": {},
   "outputs": [
    {
     "data": {
      "text/plain": [
       "2.7463144963144965"
      ]
     },
     "execution_count": 36,
     "metadata": {},
     "output_type": "execute_result"
    }
   ],
   "source": [
    "df_test[df_test['ATT_FLAG']==1]['L_T5'].mean()"
   ]
  },
  {
   "cell_type": "code",
   "execution_count": 37,
   "metadata": {},
   "outputs": [
    {
     "data": {
      "text/plain": [
       "5.371456599286564"
      ]
     },
     "execution_count": 37,
     "metadata": {},
     "output_type": "execute_result"
    }
   ],
   "source": [
    "df_test[df_test['ATT_FLAG']==0]['L_T6'].mean()"
   ]
  },
  {
   "cell_type": "code",
   "execution_count": 38,
   "metadata": {},
   "outputs": [
    {
     "data": {
      "text/plain": [
       "5.388820638820639"
      ]
     },
     "execution_count": 38,
     "metadata": {},
     "output_type": "execute_result"
    }
   ],
   "source": [
    "df_test[df_test['ATT_FLAG']==1]['L_T6'].mean()"
   ]
  },
  {
   "cell_type": "code",
   "execution_count": 39,
   "metadata": {},
   "outputs": [
    {
     "data": {
      "text/plain": [
       "3.2840071343638524"
      ]
     },
     "execution_count": 39,
     "metadata": {},
     "output_type": "execute_result"
    }
   ],
   "source": [
    "df_test[df_test['ATT_FLAG']==0]['L_T7'].mean()"
   ]
  },
  {
   "cell_type": "code",
   "execution_count": 40,
   "metadata": {},
   "outputs": [
    {
     "data": {
      "text/plain": [
       "3.3401965601965604"
      ]
     },
     "execution_count": 40,
     "metadata": {},
     "output_type": "execute_result"
    }
   ],
   "source": [
    "df_test[df_test['ATT_FLAG']==1]['L_T7'].mean()"
   ]
  },
  {
   "cell_type": "code",
   "execution_count": 41,
   "metadata": {},
   "outputs": [],
   "source": [
    "model = tf.keras.Sequential([\n",
    "  layers.Dense(64, activation='relu'),\n",
    "  layers.Dense(64, activation='relu'),\n",
    "  layers.Dense(2, activation='softmax')\n",
    "])"
   ]
  },
  {
   "cell_type": "code",
   "execution_count": 46,
   "metadata": {},
   "outputs": [],
   "source": [
    "model.compile(optimizer=tf.keras.optimizers.Adam(0.001),\n",
    "              loss='categorical_crossentropy',\n",
    "              metrics=['accuracy'])"
   ]
  },
  {
   "cell_type": "code",
   "execution_count": 47,
   "metadata": {},
   "outputs": [],
   "source": [
    "X_train = df.drop(columns=['DATETIME','ATT_FLAG'])\n",
    "Y_train = df['ATT_FLAG']\n",
    "X_test = df_test.drop(columns=['DATETIME','ATT_FLAG'])\n",
    "Y_test = df_test['ATT_FLAG']"
   ]
  },
  {
   "cell_type": "code",
   "execution_count": 48,
   "metadata": {},
   "outputs": [],
   "source": [
    "Y_train = tf.keras.utils.to_categorical(Y_train)\n",
    "Y_test = tf.keras.utils.to_categorical(Y_test)"
   ]
  },
  {
   "cell_type": "code",
   "execution_count": 49,
   "metadata": {},
   "outputs": [
    {
     "name": "stdout",
     "output_type": "stream",
     "text": [
      "Epoch 1/5\n",
      "203/203 [==============================] - 5s 5ms/step - loss: 0.2044 - accuracy: 0.9635\n",
      "Epoch 2/5\n",
      "203/203 [==============================] - 1s 4ms/step - loss: 0.1600 - accuracy: 0.9683\n",
      "Epoch 3/5\n",
      "203/203 [==============================] - 1s 4ms/step - loss: 0.1477 - accuracy: 0.9699\n",
      "Epoch 4/5\n",
      "203/203 [==============================] - 1s 4ms/step - loss: 0.1417 - accuracy: 0.9703\n",
      "Epoch 5/5\n",
      "203/203 [==============================] - 1s 4ms/step - loss: 0.1363 - accuracy: 0.9709\n"
     ]
    },
    {
     "data": {
      "text/plain": [
       "<keras.callbacks.History at 0x16415463e50>"
      ]
     },
     "execution_count": 49,
     "metadata": {},
     "output_type": "execute_result"
    }
   ],
   "source": [
    "model.fit(X_train, Y_train, epochs=5, batch_size=64)"
   ]
  },
  {
   "cell_type": "code",
   "execution_count": 50,
   "metadata": {},
   "outputs": [
    {
     "name": "stdout",
     "output_type": "stream",
     "text": [
      "Epoch 1/10\n",
      "203/203 [==============================] - 3s 7ms/step - loss: 0.1687 - accuracy: 0.9658 - val_loss: 0.6507 - val_accuracy: 0.8009\n",
      "Epoch 2/10\n",
      "203/203 [==============================] - 0s 1ms/step - loss: 0.1472 - accuracy: 0.9695 - val_loss: 0.6339 - val_accuracy: 0.8066\n",
      "Epoch 3/10\n",
      "203/203 [==============================] - 0s 1ms/step - loss: 0.1496 - accuracy: 0.9696 - val_loss: 0.6946 - val_accuracy: 0.8047\n",
      "Epoch 4/10\n",
      "203/203 [==============================] - 0s 1ms/step - loss: 0.1430 - accuracy: 0.9699 - val_loss: 0.7909 - val_accuracy: 0.8056\n",
      "Epoch 5/10\n",
      "203/203 [==============================] - ETA: 0s - loss: 0.1419 - accuracy: 0.96 - 0s 1ms/step - loss: 0.1406 - accuracy: 0.9702 - val_loss: 0.8831 - val_accuracy: 0.8056\n",
      "Epoch 6/10\n",
      "203/203 [==============================] - 0s 1ms/step - loss: 0.1351 - accuracy: 0.9709 - val_loss: 0.6483 - val_accuracy: 0.8061\n",
      "Epoch 7/10\n",
      "203/203 [==============================] - ETA: 0s - loss: 0.1539 - accuracy: 0.96 - 0s 1ms/step - loss: 0.1475 - accuracy: 0.9695 - val_loss: 0.7857 - val_accuracy: 0.8056\n",
      "Epoch 8/10\n",
      "203/203 [==============================] - 0s 1ms/step - loss: 0.1322 - accuracy: 0.9708 - val_loss: 0.6869 - val_accuracy: 0.8071\n",
      "Epoch 9/10\n",
      "203/203 [==============================] - 0s 1ms/step - loss: 0.1359 - accuracy: 0.9708 - val_loss: 0.8442 - val_accuracy: 0.8056\n",
      "Epoch 10/10\n",
      "203/203 [==============================] - 1s 3ms/step - loss: 0.1327 - accuracy: 0.9709 - val_loss: 0.8370 - val_accuracy: 0.8090\n"
     ]
    },
    {
     "data": {
      "text/plain": [
       "<keras.callbacks.History at 0x1641554ea00>"
      ]
     },
     "execution_count": 50,
     "metadata": {},
     "output_type": "execute_result"
    }
   ],
   "source": [
    "def f1(y_true, y_pred):\n",
    "    y_true = tf.cast(y_true, tf.float32)\n",
    "    y_pred = tf.round(y_pred)\n",
    "    return f1_score(y_true, y_pred, average='weighted')\n",
    "\n",
    "# Register the custom metric function with Keras\n",
    "tf.keras.utils.get_custom_objects()['f1'] = f1\n",
    "\n",
    "model = tf.keras.Sequential([\n",
    "  layers.Dense(64, activation='relu'),\n",
    "  layers.Dense(64, activation='relu'),\n",
    "  layers.Dense(1, activation='sigmoid')\n",
    "])\n",
    "\n",
    "model.compile(optimizer=tf.keras.optimizers.Adam(0.001),\n",
    "              loss='binary_crossentropy',\n",
    "              metrics=['accuracy'])\n",
    "\n",
    "X_train = df.drop(columns=['DATETIME','ATT_FLAG'])\n",
    "Y_train = df['ATT_FLAG']\n",
    "X_test = df_test.drop(columns=['DATETIME','ATT_FLAG'])\n",
    "Y_test = df_test['ATT_FLAG']\n",
    "\n",
    "model.fit(X_train, Y_train, epochs=10, batch_size=64, validation_data=(X_test, Y_test))\n"
   ]
  },
  {
   "cell_type": "code",
   "execution_count": 51,
   "metadata": {},
   "outputs": [],
   "source": [
    "Y_pred = model.predict(X_test)"
   ]
  },
  {
   "cell_type": "code",
   "execution_count": 52,
   "metadata": {},
   "outputs": [
    {
     "name": "stdout",
     "output_type": "stream",
     "text": [
      "Accuracy: 0.8089995213020584\n",
      "Precision:  1.0\n",
      "Recall:  0.019656019656019656\n",
      "Fscore:  0.03855421686746988\n"
     ]
    }
   ],
   "source": [
    "Y_pred = np.round(Y_pred)\n",
    "print('Accuracy:', accuracy_score(Y_test, Y_pred))\n",
    "print('Precision: ',precision_score(Y_test,Y_pred))\n",
    "print('Recall: ',recall_score(Y_test,Y_pred))\n",
    "print('Fscore: ',f1_score(Y_test,Y_pred))"
   ]
  },
  {
   "cell_type": "code",
   "execution_count": 53,
   "metadata": {},
   "outputs": [
    {
     "data": {
      "text/plain": [
       "array([2.26569486, 0.86      , 3.73      ])"
      ]
     },
     "execution_count": 53,
     "metadata": {},
     "output_type": "execute_result"
    }
   ],
   "source": [
    "X = X_train.iloc[:,0].values\n",
    "centroid_old = X[np.random.choice(range(len(X)), 3)]\n",
    "centroid_old"
   ]
  },
  {
   "cell_type": "code",
   "execution_count": 54,
   "metadata": {},
   "outputs": [
    {
     "data": {
      "text/plain": [
       "array([[1.75596494, 1.85311437, 1.94558302, ..., 0.35569486, 0.74569486,\n",
       "        1.16569486],\n",
       "       [0.35027008, 0.44741951, 0.53988816, ..., 1.05      , 0.66      ,\n",
       "        0.24      ],\n",
       "       [3.22027008, 3.31741951, 3.40988816, ..., 1.82      , 2.21      ,\n",
       "        2.63      ]])"
      ]
     },
     "execution_count": 54,
     "metadata": {},
     "output_type": "execute_result"
    }
   ],
   "source": [
    "distances = np.sqrt(((X - centroid_old[:, np.newaxis])**2))\n",
    "distances"
   ]
  },
  {
   "cell_type": "code",
   "execution_count": 55,
   "metadata": {},
   "outputs": [
    {
     "data": {
      "text/plain": [
       "array([12825,  9966,  9570, ..., 11124, 11103, 11104], dtype=int64)"
      ]
     },
     "execution_count": 55,
     "metadata": {},
     "output_type": "execute_result"
    }
   ],
   "source": [
    "np.argsort(np.min(distances,axis=0))"
   ]
  },
  {
   "cell_type": "code",
   "execution_count": 82,
   "metadata": {},
   "outputs": [
    {
     "data": {
      "text/plain": [
       "array([3.73, 3.73, 3.73, ..., 4.47, 4.47, 4.47])"
      ]
     },
     "execution_count": 82,
     "metadata": {},
     "output_type": "execute_result"
    }
   ],
   "source": [
    "X[np.argsort(np.min(distances,axis=0))][:-round(.039*len(X))]"
   ]
  },
  {
   "cell_type": "code",
   "execution_count": 86,
   "metadata": {},
   "outputs": [
    {
     "data": {
      "text/plain": [
       "array([12825,  9966,  9570, ..., 11124, 11103, 11104], dtype=int64)"
      ]
     },
     "execution_count": 86,
     "metadata": {},
     "output_type": "execute_result"
    }
   ],
   "source": [
    "idx = np.argsort(np.min(distances,axis=0))\n",
    "idx"
   ]
  },
  {
   "cell_type": "code",
   "execution_count": 87,
   "metadata": {},
   "outputs": [
    {
     "data": {
      "text/plain": [
       "array([3.73, 3.73, 3.73, ..., 4.47, 4.47, 4.47])"
      ]
     },
     "execution_count": 87,
     "metadata": {},
     "output_type": "execute_result"
    }
   ],
   "source": [
    "temp = X[idx[:-round(.039*len(X))]]\n",
    "temp"
   ]
  },
  {
   "cell_type": "code",
   "execution_count": 94,
   "metadata": {},
   "outputs": [],
   "source": [
    "labels = np.argmin(distances,axis=0)[idx[:-round(.039*len(X))]]"
   ]
  },
  {
   "cell_type": "code",
   "execution_count": 103,
   "metadata": {},
   "outputs": [
    {
     "data": {
      "text/plain": [
       "3.7576338527722197"
      ]
     },
     "execution_count": 103,
     "metadata": {},
     "output_type": "execute_result"
    }
   ],
   "source": [
    "np.mean(temp[labels == 2])"
   ]
  },
  {
   "cell_type": "code",
   "execution_count": 100,
   "metadata": {},
   "outputs": [
    {
     "data": {
      "text/plain": [
       "array([0, 1, 2, 3, 4, 5, 6, 7, 8, 9])"
      ]
     },
     "execution_count": 100,
     "metadata": {},
     "output_type": "execute_result"
    }
   ],
   "source": [
    "np.arange(10)"
   ]
  },
  {
   "cell_type": "code",
   "execution_count": 70,
   "metadata": {},
   "outputs": [
    {
     "data": {
      "text/plain": [
       "array([1, 1, 1, 1, 1, 1, 1, 1, 1, 0, 1, 1, 1, 1, 1, 1, 1, 1, 0, 0, 0, 0,\n",
       "       0, 0, 0, 0, 2, 2, 2, 2, 2, 2, 2, 2, 2, 2, 2, 2, 2, 2, 2, 2, 2, 2,\n",
       "       2, 2, 2, 2, 2, 2, 2, 2, 0, 0, 0, 0, 0, 0, 0, 1, 1, 1, 1, 1, 1, 1,\n",
       "       1, 1, 1, 1, 1, 1, 1, 1, 1, 1, 1, 0, 0, 0, 2, 2, 2, 2, 2, 2, 2, 2,\n",
       "       2, 2, 0, 0, 0, 0, 1, 1, 1, 1, 1, 1, 1, 0, 0, 0, 0, 0, 0, 0, 0, 0,\n",
       "       0, 0, 0, 0, 0, 0, 0, 0, 0, 2, 2, 2, 2, 2, 2, 2, 2, 2, 2, 2, 2, 2,\n",
       "       2, 2, 2, 2, 2, 2, 2, 2, 2, 2, 2, 2, 2, 2, 0, 0, 0, 0, 0, 0, 0, 0,\n",
       "       0, 1, 1, 1, 1, 1, 1, 1, 1, 1, 1, 1, 1, 1, 1, 1, 1, 1, 1, 1, 0, 0,\n",
       "       0, 0, 0, 0, 2, 2, 2, 2, 2, 2, 2, 2, 2, 2, 2, 2, 0, 0, 0, 0, 2, 2,\n",
       "       2, 2, 2, 2, 2, 2, 2, 2, 2, 2, 2, 2, 2, 0, 0, 0, 1, 1, 1, 1, 1, 1,\n",
       "       1, 0, 0, 0, 0, 0, 0, 0, 0, 0, 0, 0, 2, 2, 2, 2, 2, 2, 2, 2, 0, 0,\n",
       "       0, 1, 1, 1, 1, 1, 1, 1, 1, 1, 1, 1, 1, 1, 1, 1, 1, 1, 1, 1, 1, 1,\n",
       "       1, 1, 1, 1, 1, 0, 0, 0, 2, 2, 2, 2, 2, 2, 2, 2, 2, 2, 0, 0, 0, 0,\n",
       "       1, 1, 1, 1, 1, 1, 1, 0, 0, 0, 0, 0, 0, 0, 0, 0, 0, 0, 0, 0, 0, 2,\n",
       "       2, 2, 2, 2, 2, 2, 2, 2, 2, 2, 2, 2, 2, 2, 2, 2, 2, 2, 2, 2, 0, 0,\n",
       "       0, 0, 1, 1, 1, 1, 1, 1, 1, 1, 1, 1, 1, 0, 0, 0, 0, 0, 0, 0, 0, 0,\n",
       "       0, 0, 0, 0, 0, 2, 2, 2, 2, 2, 2, 2, 2, 2, 2, 2, 2, 2, 2, 2, 2, 2,\n",
       "       2, 2, 2, 2, 2, 2, 2, 2, 2, 2, 2, 2, 2, 0, 0, 0, 0, 0, 0, 0, 0, 1,\n",
       "       1, 1, 1, 1, 1, 1, 1, 1, 1, 1, 1, 1, 1, 1, 1, 1, 1, 0, 0, 0, 0, 2,\n",
       "       2, 2, 2, 2, 2, 2, 2, 2, 2, 2, 2, 2, 2, 2, 2, 2, 2, 2, 2, 2, 2, 2,\n",
       "       2, 2, 2, 2, 2, 2, 2, 2, 2, 2, 0, 0, 0, 1, 1, 1, 1, 1, 1, 1, 1, 1,\n",
       "       0, 0, 0, 0, 0, 0, 0, 0, 0, 0, 0, 0, 0, 2, 2, 2, 2, 2, 2, 2, 2, 2,\n",
       "       2, 2, 2, 2, 2, 2, 2, 2, 0, 0, 0, 0, 1, 1, 1, 1, 1, 1, 1, 1, 1],\n",
       "      dtype=int64)"
      ]
     },
     "execution_count": 70,
     "metadata": {},
     "output_type": "execute_result"
    }
   ],
   "source": [
    "np.argmin(distances,axis=0)[:round(.039*len(X))]"
   ]
  },
  {
   "cell_type": "code",
   "execution_count": 71,
   "metadata": {},
   "outputs": [
    {
     "data": {
      "text/plain": [
       "505"
      ]
     },
     "execution_count": 71,
     "metadata": {},
     "output_type": "execute_result"
    }
   ],
   "source": [
    "round(.039*len(X))"
   ]
  },
  {
   "cell_type": "code",
   "execution_count": null,
   "metadata": {},
   "outputs": [
    {
     "ename": "",
     "evalue": "",
     "output_type": "error",
     "traceback": [
      "\u001b[1;31mFailed to start the Kernel. \n",
      "\u001b[1;31mUnable to start Kernel 'Python 3.9.13' due to connection timeout. \n",
      "\u001b[1;31mView Jupyter <a href='command:jupyter.viewOutput'>log</a> for further details."
     ]
    }
   ],
   "source": [
    "np.sqrt(((X - centroid_old[0])**2))"
   ]
  },
  {
   "cell_type": "code",
   "execution_count": null,
   "metadata": {},
   "outputs": [
    {
     "ename": "",
     "evalue": "",
     "output_type": "error",
     "traceback": [
      "\u001b[1;31mFailed to start the Kernel. \n",
      "\u001b[1;31mUnable to start Kernel 'Python 3.9.13' due to connection timeout. \n",
      "\u001b[1;31mView Jupyter <a href='command:jupyter.viewOutput'>log</a> for further details."
     ]
    }
   ],
   "source": [
    "labels = np.argmin(distances, axis=0)\n",
    "labels"
   ]
  },
  {
   "cell_type": "code",
   "execution_count": null,
   "metadata": {},
   "outputs": [
    {
     "ename": "",
     "evalue": "",
     "output_type": "error",
     "traceback": [
      "\u001b[1;31mFailed to start the Kernel. \n",
      "\u001b[1;31mUnable to start Kernel 'Python 3.9.13' due to connection timeout. \n",
      "\u001b[1;31mView Jupyter <a href='command:jupyter.viewOutput'>log</a> for further details."
     ]
    }
   ],
   "source": [
    "len(np.sqrt(((X - centroid_old[1])**2)))"
   ]
  },
  {
   "cell_type": "code",
   "execution_count": null,
   "metadata": {},
   "outputs": [
    {
     "ename": "",
     "evalue": "",
     "output_type": "error",
     "traceback": [
      "\u001b[1;31mFailed to start the Kernel. \n",
      "\u001b[1;31mUnable to start Kernel 'Python 3.9.13' due to connection timeout. \n",
      "\u001b[1;31mView Jupyter <a href='command:jupyter.viewOutput'>log</a> for further details."
     ]
    }
   ],
   "source": [
    "len(X)"
   ]
  },
  {
   "cell_type": "code",
   "execution_count": null,
   "metadata": {},
   "outputs": [
    {
     "ename": "",
     "evalue": "",
     "output_type": "error",
     "traceback": [
      "\u001b[1;31mFailed to start the Kernel. \n",
      "\u001b[1;31mUnable to start Kernel 'Python 3.9.13' due to connection timeout. \n",
      "\u001b[1;31mView Jupyter <a href='command:jupyter.viewOutput'>log</a> for further details."
     ]
    }
   ],
   "source": [
    "centroid_old = X[np.random.choice(range(len(X)), 4)]\n",
    "distances = np.sqrt(((X - centroid_old[:, np.newaxis])**2).sum(axis=1))\n",
    "distances\n"
   ]
  },
  {
   "cell_type": "code",
   "execution_count": null,
   "metadata": {},
   "outputs": [
    {
     "ename": "",
     "evalue": "",
     "output_type": "error",
     "traceback": [
      "\u001b[1;31mFailed to start the Kernel. \n",
      "\u001b[1;31mUnable to start Kernel 'Python 3.9.13' due to connection timeout. \n",
      "\u001b[1;31mView Jupyter <a href='command:jupyter.viewOutput'>log</a> for further details."
     ]
    }
   ],
   "source": [
    "labels = np.argmin(distances, axis=0)\n",
    "labels"
   ]
  },
  {
   "cell_type": "code",
   "execution_count": null,
   "metadata": {},
   "outputs": [
    {
     "ename": "",
     "evalue": "",
     "output_type": "error",
     "traceback": [
      "\u001b[1;31mFailed to start the Kernel. \n",
      "\u001b[1;31mUnable to start Kernel 'Python 3.9.13' due to connection timeout. \n",
      "\u001b[1;31mView Jupyter <a href='command:jupyter.viewOutput'>log</a> for further details."
     ]
    }
   ],
   "source": [
    "X.shape"
   ]
  },
  {
   "cell_type": "code",
   "execution_count": null,
   "metadata": {},
   "outputs": [
    {
     "ename": "",
     "evalue": "",
     "output_type": "error",
     "traceback": [
      "\u001b[1;31mFailed to start the Kernel. \n",
      "\u001b[1;31mUnable to start Kernel 'Python 3.9.13' due to connection timeout. \n",
      "\u001b[1;31mView Jupyter <a href='command:jupyter.viewOutput'>log</a> for further details."
     ]
    }
   ],
   "source": []
  }
 ],
 "metadata": {
  "kernelspec": {
   "display_name": "Python 3",
   "language": "python",
   "name": "python3"
  },
  "language_info": {
   "codemirror_mode": {
    "name": "ipython",
    "version": 3
   },
   "file_extension": ".py",
   "mimetype": "text/x-python",
   "name": "python",
   "nbconvert_exporter": "python",
   "pygments_lexer": "ipython3",
   "version": "3.9.13"
  },
  "orig_nbformat": 4,
  "vscode": {
   "interpreter": {
    "hash": "916dbcbb3f70747c44a77c7bcd40155683ae19c65e1c03b4aa3499c5328201f1"
   }
  }
 },
 "nbformat": 4,
 "nbformat_minor": 2
}
