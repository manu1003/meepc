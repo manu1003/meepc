{
 "cells": [
  {
   "cell_type": "code",
   "execution_count": 25,
   "metadata": {},
   "outputs": [],
   "source": [
    "import numpy as np\n",
    "import pandas as pd\n",
    "from models import Pipeline,Hankel\n",
    "from sklearn.linear_model import LinearRegression,LogisticRegression\n",
    "from sklearn.ensemble import RandomForestClassifier\n",
    "from sklearn.metrics import accuracy_score,precision_score,recall_score,f1_score,roc_auc_score"
   ]
  },
  {
   "cell_type": "code",
   "execution_count": 26,
   "metadata": {},
   "outputs": [],
   "source": [
    "df1 = pd.read_csv('~/data/ctown/dataset03.csv')\n",
    "df2 = pd.read_csv('~/data/ctown/dataset04.csv')\n",
    "df = pd.concat((df1,df2),axis=0,ignore_index=True)\n",
    "df_test = pd.read_csv('~/data/ctown/test_dataset.csv')"
   ]
  },
  {
   "cell_type": "code",
   "execution_count": 29,
   "metadata": {},
   "outputs": [
    {
     "data": {
      "text/plain": [
       "Index(['DATETIME', 'L_T1', 'L_T2', 'L_T3', 'L_T4', 'L_T5', 'L_T6', 'L_T7',\n",
       "       'F_PU1', 'S_PU1', 'F_PU2', 'S_PU2', 'F_PU3', 'S_PU3', 'F_PU4', 'S_PU4',\n",
       "       'F_PU5', 'S_PU5', 'F_PU6', 'S_PU6', 'F_PU7', 'S_PU7', 'F_PU8', 'S_PU8',\n",
       "       'F_PU9', 'S_PU9', 'F_PU10', 'S_PU10', 'F_PU11', 'S_PU11', 'F_V2',\n",
       "       'S_V2', 'P_J280', 'P_J269', 'P_J300', 'P_J256', 'P_J289', 'P_J415',\n",
       "       'P_J302', 'P_J306', 'P_J307', 'P_J317', 'P_J14', 'P_J422', 'ATT_FLAG'],\n",
       "      dtype='object')"
      ]
     },
     "execution_count": 29,
     "metadata": {},
     "output_type": "execute_result"
    }
   ],
   "source": [
    "df_test.columns"
   ]
  },
  {
   "cell_type": "code",
   "execution_count": 27,
   "metadata": {},
   "outputs": [],
   "source": [
    "def fun(X_train,Y_train,X_test,Y_test):\n",
    "    rf = RandomForestClassifier()\n",
    "    rf.fit(X_train,Y_train) \n",
    "    Y_pred = rf.predict(X_test)\n",
    "    print('Accuracy:', accuracy_score(Y_test, Y_pred))\n",
    "    print('Precision: ',precision_score(Y_test,Y_pred))\n",
    "    print('Recall: ',recall_score(Y_test,Y_pred))\n",
    "    print('Fscore: ',f1_score(Y_test,Y_pred))"
   ]
  },
  {
   "cell_type": "code",
   "execution_count": 28,
   "metadata": {},
   "outputs": [
    {
     "name": "stdout",
     "output_type": "stream",
     "text": [
      "Accuracy: 0.8051699377692676\n",
      "Precision:  0.0\n",
      "Recall:  0.0\n",
      "Fscore:  0.0\n"
     ]
    }
   ],
   "source": [
    "X_train = df[['S_PU3','F_PU3']]\n",
    "Y_train = df['ATT_FLAG']\n",
    "X_test = df_test[['S_PU3','F_PU3']]\n",
    "Y_test = df_test['ATT_FLAG']\n",
    "fun(X_train,Y_train,X_test,Y_test)"
   ]
  },
  {
   "cell_type": "code",
   "execution_count": 30,
   "metadata": {},
   "outputs": [
    {
     "name": "stdout",
     "output_type": "stream",
     "text": [
      "Accuracy: 0.807084729535663\n",
      "Precision:  0.5434782608695652\n",
      "Recall:  0.06142506142506143\n",
      "Fscore:  0.11037527593818984\n"
     ]
    }
   ],
   "source": [
    "X_train = df[['L_T1','S_PU1','F_PU1', 'S_PU2','F_PU2','P_J269']]\n",
    "X_test = df_test[['L_T1','S_PU1','F_PU1', 'S_PU2','F_PU2','P_J269']]\n",
    "fun(X_train,Y_train,X_test,Y_test)"
   ]
  },
  {
   "cell_type": "code",
   "execution_count": 31,
   "metadata": {},
   "outputs": [
    {
     "name": "stdout",
     "output_type": "stream",
     "text": [
      "Accuracy: 0.807084729535663\n",
      "Precision:  0.5454545454545454\n",
      "Recall:  0.05896805896805897\n",
      "Fscore:  0.10643015521064302\n"
     ]
    }
   ],
   "source": [
    "X_train = df[['L_T1','S_PU1','F_PU1', 'S_PU2','F_PU2','S_PU3','F_PU3','P_J269']]\n",
    "X_test = df_test[['L_T1','S_PU1','F_PU1', 'S_PU2','F_PU2','S_PU3','F_PU3','P_J269']]\n",
    "fun(X_train,Y_train,X_test,Y_test)"
   ]
  },
  {
   "cell_type": "code",
   "execution_count": 32,
   "metadata": {},
   "outputs": [
    {
     "name": "stdout",
     "output_type": "stream",
     "text": [
      "Accuracy: 0.8008616562948779\n",
      "Precision:  0.15384615384615385\n",
      "Recall:  0.004914004914004914\n",
      "Fscore:  0.009523809523809523\n"
     ]
    }
   ],
   "source": [
    "X_train = df[['L_T3','S_PU4','F_PU4','S_PU5','F_PU5']]\n",
    "X_test = df_test[['L_T3','S_PU4','F_PU4','S_PU5','F_PU5']]\n",
    "fun(X_train,Y_train,X_test,Y_test)"
   ]
  },
  {
   "cell_type": "code",
   "execution_count": 33,
   "metadata": {},
   "outputs": [
    {
     "name": "stdout",
     "output_type": "stream",
     "text": [
      "Accuracy: 0.8080421254188607\n",
      "Precision:  0.6363636363636364\n",
      "Recall:  0.0343980343980344\n",
      "Fscore:  0.06526806526806528\n"
     ]
    }
   ],
   "source": [
    "X_train = df[['L_T2','S_V2','F_V2','P_J14','P_J422']]\n",
    "X_test = df_test[['L_T2','S_V2','F_V2','P_J14','P_J422']]\n",
    "fun(X_train,Y_train,X_test,Y_test)"
   ]
  },
  {
   "cell_type": "code",
   "execution_count": 34,
   "metadata": {},
   "outputs": [
    {
     "name": "stdout",
     "output_type": "stream",
     "text": [
      "Accuracy: 0.8085208233604595\n",
      "Precision:  0.7058823529411765\n",
      "Recall:  0.029484029484029485\n",
      "Fscore:  0.05660377358490566\n"
     ]
    }
   ],
   "source": [
    "X_train = df[['L_T2','L_T3','S_V2','F_V2','S_PU4','F_PU4','S_PU5','F_PU5','P_J14','P_J422']]\n",
    "X_test = df_test[['L_T2','L_T3','S_V2','F_V2','S_PU4','F_PU4','S_PU5','F_PU5','P_J14','P_J422']]\n",
    "fun(X_train,Y_train,X_test,Y_test)"
   ]
  },
  {
   "cell_type": "code",
   "execution_count": 35,
   "metadata": {},
   "outputs": [
    {
     "name": "stdout",
     "output_type": "stream",
     "text": [
      "Accuracy: 0.8128291048348492\n",
      "Precision:  1.0\n",
      "Recall:  0.03931203931203931\n",
      "Fscore:  0.07565011820330968\n"
     ]
    }
   ],
   "source": [
    "X_train = df[['L_T2','L_T3','L_T7','S_V2','F_V2','S_PU4','F_PU4','S_PU5','F_PU5','S_PU10','F_PU10','S_PU11','F_PU11','P_J14','P_J422']]\n",
    "X_test = df_test[['L_T2','L_T3','L_T7','S_V2','F_V2','S_PU4','F_PU4','S_PU5','F_PU5','S_PU10','F_PU10','S_PU11','F_PU11','P_J14','P_J422']]\n",
    "fun(X_train,Y_train,X_test,Y_test)"
   ]
  },
  {
   "cell_type": "code",
   "execution_count": 36,
   "metadata": {},
   "outputs": [
    {
     "name": "stdout",
     "output_type": "stream",
     "text": [
      "Accuracy: 0.8209669698420297\n",
      "Precision:  1.0\n",
      "Recall:  0.08108108108108109\n",
      "Fscore:  0.15\n"
     ]
    }
   ],
   "source": [
    "X_train = df[['L_T1','L_T2','L_T3','L_T7','S_V2','F_V2','S_PU1','F_PU1','S_PU2','F_PU2','S_PU3','F_PU3','S_PU4','F_PU4','S_PU5','F_PU5','S_PU10','F_PU10','S_PU11','F_PU11','P_J14','P_J422']]\n",
    "X_test = df_test[['L_T1','L_T2','L_T3','L_T7','S_V2','F_V2','S_PU1','F_PU1','S_PU2','F_PU2','S_PU3','F_PU3','S_PU4','F_PU4','S_PU5','F_PU5','S_PU10','F_PU10','S_PU11','F_PU11','P_J14','P_J422']]\n",
    "fun(X_train,Y_train,X_test,Y_test)"
   ]
  },
  {
   "cell_type": "code",
   "execution_count": 44,
   "metadata": {},
   "outputs": [
    {
     "data": {
      "text/plain": [
       "2.681205666486904"
      ]
     },
     "execution_count": 44,
     "metadata": {},
     "output_type": "execute_result"
    }
   ],
   "source": [
    "df[df['ATT_FLAG']==0]['L_T1'].mean()"
   ]
  },
  {
   "cell_type": "code",
   "execution_count": 45,
   "metadata": {},
   "outputs": [
    {
     "data": {
      "text/plain": [
       "2.8273983739837396"
      ]
     },
     "execution_count": 45,
     "metadata": {},
     "output_type": "execute_result"
    }
   ],
   "source": [
    "df[df['ATT_FLAG']==1]['L_T1'].mean()"
   ]
  },
  {
   "cell_type": "code",
   "execution_count": 46,
   "metadata": {},
   "outputs": [
    {
     "data": {
      "text/plain": [
       "3.2843085281952438"
      ]
     },
     "execution_count": 46,
     "metadata": {},
     "output_type": "execute_result"
    }
   ],
   "source": [
    "df[df['ATT_FLAG']==0]['L_T2'].mean()"
   ]
  },
  {
   "cell_type": "code",
   "execution_count": 47,
   "metadata": {},
   "outputs": [
    {
     "data": {
      "text/plain": [
       "3.3409756097560974"
      ]
     },
     "execution_count": 47,
     "metadata": {},
     "output_type": "execute_result"
    }
   ],
   "source": [
    "df[df['ATT_FLAG']==1]['L_T2'].mean()"
   ]
  },
  {
   "cell_type": "code",
   "execution_count": 48,
   "metadata": {},
   "outputs": [
    {
     "data": {
      "text/plain": [
       "4.202603932783224"
      ]
     },
     "execution_count": 48,
     "metadata": {},
     "output_type": "execute_result"
    }
   ],
   "source": [
    "df[df['ATT_FLAG']==0]['L_T3'].mean()"
   ]
  },
  {
   "cell_type": "code",
   "execution_count": 49,
   "metadata": {},
   "outputs": [
    {
     "data": {
      "text/plain": [
       "4.204715447154471"
      ]
     },
     "execution_count": 49,
     "metadata": {},
     "output_type": "execute_result"
    }
   ],
   "source": [
    "df[df['ATT_FLAG']==1]['L_T3'].mean()"
   ]
  },
  {
   "cell_type": "code",
   "execution_count": 50,
   "metadata": {},
   "outputs": [
    {
     "data": {
      "text/plain": [
       "3.56817108838422"
      ]
     },
     "execution_count": 50,
     "metadata": {},
     "output_type": "execute_result"
    }
   ],
   "source": [
    "df[df['ATT_FLAG']==0]['L_T4'].mean()"
   ]
  },
  {
   "cell_type": "code",
   "execution_count": 51,
   "metadata": {},
   "outputs": [
    {
     "data": {
      "text/plain": [
       "3.4660569105691055"
      ]
     },
     "execution_count": 51,
     "metadata": {},
     "output_type": "execute_result"
    }
   ],
   "source": [
    "df[df['ATT_FLAG']==1]['L_T4'].mean()"
   ]
  },
  {
   "cell_type": "code",
   "execution_count": 52,
   "metadata": {},
   "outputs": [
    {
     "data": {
      "text/plain": [
       "2.748624297430982"
      ]
     },
     "execution_count": 52,
     "metadata": {},
     "output_type": "execute_result"
    }
   ],
   "source": [
    "df[df['ATT_FLAG']==0]['L_T5'].mean()"
   ]
  },
  {
   "cell_type": "code",
   "execution_count": 53,
   "metadata": {},
   "outputs": [
    {
     "data": {
      "text/plain": [
       "2.7390650406504067"
      ]
     },
     "execution_count": 53,
     "metadata": {},
     "output_type": "execute_result"
    }
   ],
   "source": [
    "df[df['ATT_FLAG']==1]['L_T5'].mean()"
   ]
  },
  {
   "cell_type": "code",
   "execution_count": 55,
   "metadata": {},
   "outputs": [
    {
     "data": {
      "text/plain": [
       "5.370080021028442"
      ]
     },
     "execution_count": 55,
     "metadata": {},
     "output_type": "execute_result"
    }
   ],
   "source": [
    "df[df['ATT_FLAG']==0]['L_T6'].mean()"
   ]
  },
  {
   "cell_type": "code",
   "execution_count": 56,
   "metadata": {},
   "outputs": [
    {
     "data": {
      "text/plain": [
       "5.362418699186992"
      ]
     },
     "execution_count": 56,
     "metadata": {},
     "output_type": "execute_result"
    }
   ],
   "source": [
    "df[df['ATT_FLAG']==1]['L_T6'].mean()"
   ]
  },
  {
   "cell_type": "code",
   "execution_count": 57,
   "metadata": {},
   "outputs": [
    {
     "data": {
      "text/plain": [
       "3.309937061904628"
      ]
     },
     "execution_count": 57,
     "metadata": {},
     "output_type": "execute_result"
    }
   ],
   "source": [
    "df[df['ATT_FLAG']==0]['L_T7'].mean()"
   ]
  },
  {
   "cell_type": "code",
   "execution_count": 58,
   "metadata": {},
   "outputs": [
    {
     "data": {
      "text/plain": [
       "3.294451219512195"
      ]
     },
     "execution_count": 58,
     "metadata": {},
     "output_type": "execute_result"
    }
   ],
   "source": [
    "df[df['ATT_FLAG']==1]['L_T7'].mean()"
   ]
  },
  {
   "cell_type": "code",
   "execution_count": 59,
   "metadata": {},
   "outputs": [
    {
     "data": {
      "text/plain": [
       "2.715677764565993"
      ]
     },
     "execution_count": 59,
     "metadata": {},
     "output_type": "execute_result"
    }
   ],
   "source": [
    "df_test[df_test['ATT_FLAG']==0]['L_T1'].mean()"
   ]
  },
  {
   "cell_type": "code",
   "execution_count": 60,
   "metadata": {},
   "outputs": [
    {
     "data": {
      "text/plain": [
       "3.042997542997543"
      ]
     },
     "execution_count": 60,
     "metadata": {},
     "output_type": "execute_result"
    }
   ],
   "source": [
    "df_test[df_test['ATT_FLAG']==1]['L_T1'].mean()"
   ]
  },
  {
   "cell_type": "code",
   "execution_count": 61,
   "metadata": {},
   "outputs": [
    {
     "data": {
      "text/plain": [
       "3.340481569560048"
      ]
     },
     "execution_count": 61,
     "metadata": {},
     "output_type": "execute_result"
    }
   ],
   "source": [
    "df_test[df_test['ATT_FLAG']==0]['L_T2'].mean()"
   ]
  },
  {
   "cell_type": "code",
   "execution_count": 62,
   "metadata": {},
   "outputs": [
    {
     "data": {
      "text/plain": [
       "3.4082063882063887"
      ]
     },
     "execution_count": 62,
     "metadata": {},
     "output_type": "execute_result"
    }
   ],
   "source": [
    "df_test[df_test['ATT_FLAG']==1]['L_T2'].mean()"
   ]
  },
  {
   "cell_type": "code",
   "execution_count": 63,
   "metadata": {},
   "outputs": [
    {
     "data": {
      "text/plain": [
       "4.198382877526754"
      ]
     },
     "execution_count": 63,
     "metadata": {},
     "output_type": "execute_result"
    }
   ],
   "source": [
    "df_test[df_test['ATT_FLAG']==0]['L_T3'].mean()"
   ]
  },
  {
   "cell_type": "code",
   "execution_count": 64,
   "metadata": {},
   "outputs": [
    {
     "data": {
      "text/plain": [
       "4.201179361179362"
      ]
     },
     "execution_count": 64,
     "metadata": {},
     "output_type": "execute_result"
    }
   ],
   "source": [
    "df_test[df_test['ATT_FLAG']==1]['L_T3'].mean()"
   ]
  },
  {
   "cell_type": "code",
   "execution_count": 65,
   "metadata": {},
   "outputs": [
    {
     "data": {
      "text/plain": [
       "3.571956004756242"
      ]
     },
     "execution_count": 65,
     "metadata": {},
     "output_type": "execute_result"
    }
   ],
   "source": [
    "df_test[df_test['ATT_FLAG']==0]['L_T4'].mean()"
   ]
  },
  {
   "cell_type": "code",
   "execution_count": 66,
   "metadata": {},
   "outputs": [
    {
     "data": {
      "text/plain": [
       "3.563808353808354"
      ]
     },
     "execution_count": 66,
     "metadata": {},
     "output_type": "execute_result"
    }
   ],
   "source": [
    "df_test[df_test['ATT_FLAG']==1]['L_T4'].mean()"
   ]
  },
  {
   "cell_type": "code",
   "execution_count": 67,
   "metadata": {},
   "outputs": [
    {
     "data": {
      "text/plain": [
       "2.754643281807372"
      ]
     },
     "execution_count": 67,
     "metadata": {},
     "output_type": "execute_result"
    }
   ],
   "source": [
    "df_test[df_test['ATT_FLAG']==0]['L_T5'].mean()"
   ]
  },
  {
   "cell_type": "code",
   "execution_count": 68,
   "metadata": {},
   "outputs": [
    {
     "data": {
      "text/plain": [
       "2.7463144963144965"
      ]
     },
     "execution_count": 68,
     "metadata": {},
     "output_type": "execute_result"
    }
   ],
   "source": [
    "df_test[df_test['ATT_FLAG']==1]['L_T5'].mean()"
   ]
  },
  {
   "cell_type": "code",
   "execution_count": 69,
   "metadata": {},
   "outputs": [
    {
     "data": {
      "text/plain": [
       "5.371456599286564"
      ]
     },
     "execution_count": 69,
     "metadata": {},
     "output_type": "execute_result"
    }
   ],
   "source": [
    "df_test[df_test['ATT_FLAG']==0]['L_T6'].mean()"
   ]
  },
  {
   "cell_type": "code",
   "execution_count": 70,
   "metadata": {},
   "outputs": [
    {
     "data": {
      "text/plain": [
       "5.388820638820639"
      ]
     },
     "execution_count": 70,
     "metadata": {},
     "output_type": "execute_result"
    }
   ],
   "source": [
    "df_test[df_test['ATT_FLAG']==1]['L_T6'].mean()"
   ]
  },
  {
   "cell_type": "code",
   "execution_count": 71,
   "metadata": {},
   "outputs": [
    {
     "data": {
      "text/plain": [
       "3.2840071343638524"
      ]
     },
     "execution_count": 71,
     "metadata": {},
     "output_type": "execute_result"
    }
   ],
   "source": [
    "df_test[df_test['ATT_FLAG']==0]['L_T7'].mean()"
   ]
  },
  {
   "cell_type": "code",
   "execution_count": 72,
   "metadata": {},
   "outputs": [
    {
     "data": {
      "text/plain": [
       "3.3401965601965604"
      ]
     },
     "execution_count": 72,
     "metadata": {},
     "output_type": "execute_result"
    }
   ],
   "source": [
    "df_test[df_test['ATT_FLAG']==1]['L_T7'].mean()"
   ]
  },
  {
   "cell_type": "code",
   "execution_count": null,
   "metadata": {},
   "outputs": [],
   "source": []
  }
 ],
 "metadata": {
  "kernelspec": {
   "display_name": "Python 3",
   "language": "python",
   "name": "python3"
  },
  "language_info": {
   "codemirror_mode": {
    "name": "ipython",
    "version": 3
   },
   "file_extension": ".py",
   "mimetype": "text/x-python",
   "name": "python",
   "nbconvert_exporter": "python",
   "pygments_lexer": "ipython3",
   "version": "3.9.13"
  },
  "orig_nbformat": 4
 },
 "nbformat": 4,
 "nbformat_minor": 2
}
