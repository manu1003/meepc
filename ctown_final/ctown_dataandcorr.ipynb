{
 "cells": [
  {
   "cell_type": "code",
   "execution_count": 1,
   "metadata": {},
   "outputs": [
    {
     "name": "stderr",
     "output_type": "stream",
     "text": [
      "C:\\Users\\user\\AppData\\Local\\Packages\\PythonSoftwareFoundation.Python.3.9_qbz5n2kfra8p0\\LocalCache\\local-packages\\Python39\\site-packages\\numpy\\_distributor_init.py:30: UserWarning: loaded more than 1 DLL from .libs:\n",
      "C:\\Users\\user\\AppData\\Local\\Packages\\PythonSoftwareFoundation.Python.3.9_qbz5n2kfra8p0\\LocalCache\\local-packages\\Python39\\site-packages\\numpy\\.libs\\libopenblas.EL2C6PLE4ZYW3ECEVIV3OXXGRN2NRFM2.gfortran-win_amd64.dll\n",
      "C:\\Users\\user\\AppData\\Local\\Packages\\PythonSoftwareFoundation.Python.3.9_qbz5n2kfra8p0\\LocalCache\\local-packages\\Python39\\site-packages\\numpy\\.libs\\libopenblas.WCDJNK7YVMPZQ2ME2ZZHJJRJ3JIKNDB7.gfortran-win_amd64.dll\n",
      "  warnings.warn(\"loaded more than 1 DLL from .libs:\"\n"
     ]
    }
   ],
   "source": [
    "import sys\n",
    "sys.path.append(\"C:/Users/user/meepc\")\n",
    "import numpy as np\n",
    "import pandas as pd\n",
    "from models import Hankel,Corrhankel,Pipeline\n",
    "from sklearn.preprocessing import StandardScaler\n",
    "from sklearn.metrics import accuracy_score,precision_score,recall_score,f1_score,roc_auc_score"
   ]
  },
  {
   "cell_type": "code",
   "execution_count": 2,
   "metadata": {},
   "outputs": [],
   "source": [
    "def calculate_fpr(y_actual, y_prediction):\n",
    "    fp = 0\n",
    "    tn = 0\n",
    "    \n",
    "    for i in range(len(y_actual)):\n",
    "        if y_actual[i] == 0 and y_prediction[i] == 1:\n",
    "            fp += 1\n",
    "        elif y_actual[i] == 0 and y_prediction[i] == 0:\n",
    "            tn += 1\n",
    "    fpr= fp/(fp+tn)\n",
    "    return .1*fpr"
   ]
  },
  {
   "cell_type": "code",
   "execution_count": 3,
   "metadata": {},
   "outputs": [],
   "source": [
    "df1 = pd.read_csv('~/data/ctown/dataset03.csv')\n",
    "df2 = pd.read_csv('~/data/ctown/dataset04.csv')\n",
    "\n",
    "train_normal = pd.concat((df1,df2[df2['ATT_FLAG']==0]),axis=0,ignore_index=True)\n",
    "train_attack = df2[df2['ATT_FLAG']==1]"
   ]
  },
  {
   "cell_type": "code",
   "execution_count": 4,
   "metadata": {},
   "outputs": [],
   "source": [
    "sensors = [col for col in train_normal.columns if col not in ['DATETIME','ATT_FLAG']]"
   ]
  },
  {
   "cell_type": "code",
   "execution_count": 5,
   "metadata": {},
   "outputs": [],
   "source": [
    "scaler = StandardScaler()\n",
    "X_normal = pd.DataFrame(index=train_normal.index, columns=sensors, data=scaler.fit_transform(train_normal[sensors]))\n",
    "X_attack = train_attack[sensors].reset_index().drop(columns=['index'])"
   ]
  },
  {
   "cell_type": "code",
   "execution_count": 6,
   "metadata": {},
   "outputs": [],
   "source": [
    "hankel = Hankel()\n",
    "corrhankel = Corrhankel()\n",
    "lag = 60\n",
    "stride = 0.5"
   ]
  },
  {
   "cell_type": "code",
   "execution_count": 7,
   "metadata": {},
   "outputs": [],
   "source": [
    "corr_normal,nolag_normal = corrhankel.fit(X_normal.to_numpy(),lag,stride)"
   ]
  },
  {
   "cell_type": "code",
   "execution_count": 8,
   "metadata": {},
   "outputs": [],
   "source": [
    "corr_attack,nolag_attack = corrhankel.fit(X_attack.to_numpy(),lag,stride)"
   ]
  },
  {
   "cell_type": "code",
   "execution_count": 9,
   "metadata": {},
   "outputs": [],
   "source": [
    "df_test = pd.read_csv('~/data/ctown/test_dataset.csv')"
   ]
  },
  {
   "cell_type": "markdown",
   "metadata": {},
   "source": [
    "# Epasad with 1 cluster and no threshold tuning (training attack included in test data)"
   ]
  },
  {
   "cell_type": "code",
   "execution_count": 10,
   "metadata": {},
   "outputs": [],
   "source": [
    "test_combined = pd.concat((df_test,train_attack),axis=0)\n",
    "X_test = pd.DataFrame(index=test_combined.index, columns=sensors, data=scaler.fit_transform(test_combined[sensors]))\n",
    "corr_test,nolag_test = corrhankel.fit(X_test.to_numpy(),lag,stride)\n",
    "Y_test = test_combined.loc[:,'ATT_FLAG']"
   ]
  },
  {
   "cell_type": "code",
   "execution_count": 11,
   "metadata": {},
   "outputs": [],
   "source": [
    "labels = hankel.fit(np.array(Y_test),lag,stride)\n",
    "y_actual = np.any(labels>0,axis=0).astype(int)"
   ]
  },
  {
   "cell_type": "code",
   "execution_count": 12,
   "metadata": {},
   "outputs": [],
   "source": [
    "sensor_models = []\n",
    "sensor_predicted = []\n",
    "accuracy = []\n",
    "precision = []\n",
    "recall = []\n",
    "fscore = []\n",
    "fpr = []\n",
    "for i,sens in enumerate(sensors):\n",
    "    train_normal = X_normal.loc[:,sens].values\n",
    "    train_attack = X_attack.loc[:,sens].values\n",
    "    model = Pipeline()\n",
    "    model.fit(train_normal,train_attack,lag,stride,optimal_k=1,tune=False,kscore_init='inertia',corr_normal=corr_normal[:,i].reshape(nolag_normal,len(X_normal.columns)).T)\n",
    "    test = X_test.loc[:,sens].values\n",
    "    y_predicted = model.predict(test,corr_test[:,i].reshape(nolag_test,len(X_test.columns)).T)\n",
    "    sensor_predicted.append(y_predicted)\n",
    "    accuracy.append(accuracy_score(y_actual,y_predicted))\n",
    "    precision.append(precision_score(y_actual,y_predicted))\n",
    "    recall.append(recall_score(y_actual,y_predicted))\n",
    "    fscore.append(f1_score(y_actual,y_predicted))\n",
    "    fpr.append(calculate_fpr(y_actual,y_predicted))\n",
    "    sensor_models.append(model)    "
   ]
  },
  {
   "cell_type": "code",
   "execution_count": 13,
   "metadata": {},
   "outputs": [
    {
     "data": {
      "text/plain": [
       "array([0, 0, 1, 1, 0, 1, 0, 1, 1, 0, 1, 1, 1, 1, 0, 0, 0, 1, 0, 0, 1, 1,\n",
       "       1, 0, 1, 0, 0, 0, 1, 1, 1, 1, 0, 0, 0, 0, 0, 0, 0, 1, 1, 1, 1, 1,\n",
       "       1, 1, 0, 0, 0, 1, 1, 1, 1, 1, 0, 0, 0, 0, 1, 0, 0, 1, 1, 1, 1, 1,\n",
       "       0, 0, 1, 1, 1, 1, 1, 1, 1, 1, 1, 1, 0, 1, 1, 1, 1, 1, 1])"
      ]
     },
     "execution_count": 13,
     "metadata": {},
     "output_type": "execute_result"
    }
   ],
   "source": [
    "sensor_predicted = np.asarray(sensor_predicted)\n",
    "y_predicted = np.any(sensor_predicted,axis=0).astype(int)\n",
    "y_predicted"
   ]
  },
  {
   "cell_type": "code",
   "execution_count": 14,
   "metadata": {},
   "outputs": [
    {
     "name": "stdout",
     "output_type": "stream",
     "text": [
      "Accuracy  0.7647058823529411\n",
      "Precision  0.75\n",
      "Recall  0.8478260869565217\n",
      "F1-score  0.7959183673469389\n",
      "False Positive Rate  0.03333333333333333\n"
     ]
    }
   ],
   "source": [
    "print(\"Accuracy \",accuracy_score(y_actual,y_predicted))\n",
    "print(\"Precision \",precision_score(y_actual,y_predicted))\n",
    "print(\"Recall \",recall_score(y_actual,y_predicted))\n",
    "print(\"F1-score \",f1_score(y_actual,y_predicted))\n",
    "print(\"False Positive Rate \",calculate_fpr(y_actual,y_predicted))"
   ]
  },
  {
   "cell_type": "code",
   "execution_count": 15,
   "metadata": {},
   "outputs": [
    {
     "name": "stdout",
     "output_type": "stream",
     "text": [
      "Accuracy -  Mean: 0.4987688098495213 Median : 0.5058823529411764 Min : 0.4588235294117647 Max : 0.5882352941176471\n",
      "precision - Mean: 0.6156908052427889 Median : 0.8333333333333334 Min : 0.0 Max : 1.0\n",
      "recall -    Mean: 0.08291203235591506 Median : 0.08695652173913043 Min : 0.0 Max : 0.30434782608695654\n",
      "f1 -        Mean: 0.14134986252806692 Median : 0.16 Min : 0.0 Max : 0.4444444444444444\n",
      "fpr -        Mean: 0.0010733452593917712 Median : 0.0 Min : 0.0 Max : 0.007692307692307693\n"
     ]
    }
   ],
   "source": [
    "print(\"Accuracy -  Mean: {} Median : {} Min : {} Max : {}\".format(np.asarray(accuracy).mean(), np.median(np.asarray(accuracy)),np.asarray(accuracy).min(), np.asarray(accuracy).max()))\n",
    "print(\"precision - Mean: {} Median : {} Min : {} Max : {}\".format(np.asarray(precision).mean(), np.median(np.asarray(precision)),np.asarray(precision).min(), np.asarray(precision).max()))\n",
    "print(\"recall -    Mean: {} Median : {} Min : {} Max : {}\".format(np.asarray(recall).mean(), np.median(np.asarray(recall)),np.asarray(recall).min(), np.asarray(recall).max()))\n",
    "print(\"f1 -        Mean: {} Median : {} Min : {} Max : {}\".format(np.asarray(fscore).mean(), np.median(np.asarray(fscore)),np.asarray(fscore).min(), np.asarray(fscore).max()))\n",
    "print(\"fpr -        Mean: {} Median : {} Min : {} Max : {}\".format(np.asarray(fpr).mean(), np.median(np.asarray(fpr)),np.asarray(fpr).min(), np.asarray(fpr).max()))"
   ]
  },
  {
   "cell_type": "markdown",
   "metadata": {},
   "source": [
    "# Multiple clusters + No threshold tuning (training attack mixed in test data)"
   ]
  },
  {
   "cell_type": "code",
   "execution_count": 24,
   "metadata": {},
   "outputs": [
    {
     "name": "stdout",
     "output_type": "stream",
     "text": [
      "------Number of Clusters:  2 -----------\n",
      "Accuracy  0.8\n",
      "Precision  0.8085106382978723\n",
      "Recall  0.8260869565217391\n",
      "F1-score  0.8172043010752688\n",
      "False Positive Rate  0.023076923076923078 \n",
      "\n",
      "------Number of Clusters:  3 -----------\n",
      "Accuracy  0.7176470588235294\n",
      "Precision  0.7115384615384616\n",
      "Recall  0.8043478260869565\n",
      "F1-score  0.7551020408163265\n",
      "False Positive Rate  0.038461538461538464 \n",
      "\n",
      "------Number of Clusters:  4 -----------\n",
      "Accuracy  0.7294117647058823\n",
      "Precision  0.7169811320754716\n",
      "Recall  0.8260869565217391\n",
      "F1-score  0.7676767676767677\n",
      "False Positive Rate  0.038461538461538464 \n",
      "\n",
      "------Number of Clusters:  5 -----------\n",
      "Accuracy  0.6588235294117647\n",
      "Precision  0.6307692307692307\n",
      "Recall  0.8913043478260869\n",
      "F1-score  0.7387387387387386\n",
      "False Positive Rate  0.06153846153846154 \n",
      "\n",
      "------Number of Clusters:  6 -----------\n",
      "Accuracy  0.6705882352941176\n",
      "Precision  0.65\n",
      "Recall  0.8478260869565217\n",
      "F1-score  0.7358490566037735\n",
      "False Positive Rate  0.05384615384615385 \n",
      "\n",
      "------Number of Clusters:  7 -----------\n",
      "Accuracy  0.6588235294117647\n",
      "Precision  0.6268656716417911\n",
      "Recall  0.9130434782608695\n",
      "F1-score  0.7433628318584071\n",
      "False Positive Rate  0.06410256410256411 \n",
      "\n"
     ]
    }
   ],
   "source": [
    "cluster_accuracy_1 = []\n",
    "cluster_precision_1 = []\n",
    "cluster_recall_1 = []\n",
    "cluster_fscore_1 = []\n",
    "cluster_fpr_1 = []\n",
    "for k in range(2,8):\n",
    "    sensor_models = []\n",
    "    sensor_predicted = []\n",
    "    accuracy = []\n",
    "    precision = []\n",
    "    recall = []\n",
    "    fscore = []\n",
    "    fpr = []\n",
    "    for i,sens in enumerate(sensors):\n",
    "        train_normal = X_normal.loc[:,sens].values\n",
    "        train_attack = X_attack.loc[:,sens].values\n",
    "        model = Pipeline()\n",
    "        model.fit(train_normal,train_attack,lag,stride,optimal_k = k,tune=False,kscore_init='inertia',corr_normal=corr_normal[:,i].reshape(nolag_normal,len(X_normal.columns)).T)\n",
    "        test = X_test.loc[:,sens].values\n",
    "        y_predicted = model.predict(test,corr_test=corr_test[:,i].reshape(nolag_test,len(X_test.columns)).T)\n",
    "        sensor_predicted.append(y_predicted)\n",
    "        accuracy.append(accuracy_score(y_actual,y_predicted))\n",
    "        precision.append(precision_score(y_actual,y_predicted))\n",
    "        recall.append(recall_score(y_actual,y_predicted))\n",
    "        fscore.append(f1_score(y_actual,y_predicted))\n",
    "        fpr.append(calculate_fpr(y_actual,y_predicted))\n",
    "        sensor_models.append(model)  \n",
    "    sensor_predicted = np.asarray(sensor_predicted)\n",
    "    y_predicted = np.any(sensor_predicted,axis=0).astype(int) \n",
    "    cluster_accuracy_1.append(accuracy_score(y_actual, y_predicted))\n",
    "    cluster_precision_1.append(precision_score(y_actual,y_predicted))\n",
    "    cluster_recall_1.append(recall_score(y_actual,y_predicted))\n",
    "    cluster_fscore_1.append(f1_score(y_actual,y_predicted))\n",
    "    cluster_fpr_1.append(calculate_fpr(y_actual,y_predicted))\n",
    "    print('------Number of Clusters: ',k,'-----------') \n",
    "    print(\"Accuracy \",cluster_accuracy_1[-1])\n",
    "    print(\"Precision \",cluster_precision_1[-1])\n",
    "    print(\"Recall \",cluster_recall_1[-1])\n",
    "    print(\"F1-score \",cluster_fscore_1[-1])\n",
    "    print(\"False Positive Rate \",cluster_fpr_1[-1],\"\\n\") "
   ]
  },
  {
   "cell_type": "code",
   "execution_count": 25,
   "metadata": {},
   "outputs": [
    {
     "name": "stdout",
     "output_type": "stream",
     "text": [
      "Accuracy Scores:  [0.8, 0.7176470588235294, 0.7294117647058823, 0.6588235294117647, 0.6705882352941176, 0.6588235294117647]\n",
      "Precision Scores:  [0.8085106382978723, 0.7115384615384616, 0.7169811320754716, 0.6307692307692307, 0.65, 0.6268656716417911]\n",
      "Recall Scores:  [0.8260869565217391, 0.8043478260869565, 0.8260869565217391, 0.8913043478260869, 0.8478260869565217, 0.9130434782608695]\n",
      "F1 Scores:  [0.8172043010752688, 0.7551020408163265, 0.7676767676767677, 0.7387387387387386, 0.7358490566037735, 0.7433628318584071]\n",
      "False Positive Rates:  [0.023076923076923078, 0.038461538461538464, 0.038461538461538464, 0.06153846153846154, 0.05384615384615385, 0.06410256410256411]\n"
     ]
    }
   ],
   "source": [
    "print(\"Accuracy Scores: \",cluster_accuracy_1)\n",
    "print(\"Precision Scores: \",cluster_precision_1)\n",
    "print(\"Recall Scores: \",cluster_recall_1)\n",
    "print(\"F1 Scores: \",cluster_fscore_1)\n",
    "print(\"False Positive Rates: \",cluster_fpr_1)"
   ]
  },
  {
   "cell_type": "markdown",
   "metadata": {},
   "source": [
    "# Multiple clusters + No threshold tuning (No concat of training and test data)"
   ]
  },
  {
   "cell_type": "code",
   "execution_count": 26,
   "metadata": {},
   "outputs": [],
   "source": [
    "X_test = pd.DataFrame(index=df_test.index, columns=sensors, data=scaler.fit_transform(df_test[sensors]))\n",
    "Y_test = df_test.loc[:,'ATT_FLAG']\n",
    "corr_test,nolag_test = corrhankel.fit(X_test.to_numpy(),lag,stride)"
   ]
  },
  {
   "cell_type": "code",
   "execution_count": 27,
   "metadata": {},
   "outputs": [],
   "source": [
    "labels = hankel.fit(np.array(Y_test),lag,stride)\n",
    "y_actual = np.any(labels>0,axis=0).astype(int)"
   ]
  },
  {
   "cell_type": "code",
   "execution_count": 20,
   "metadata": {},
   "outputs": [
    {
     "name": "stdout",
     "output_type": "stream",
     "text": [
      "------Number of Clusters:  2 -----------\n",
      "Accuracy  0.6911764705882353\n",
      "Precision  0.6\n",
      "Recall  0.8275862068965517\n",
      "F1-score  0.6956521739130435\n",
      "False Positive Rate  0.41025641025641024 /n\n",
      "------Number of Clusters:  3 -----------\n",
      "Accuracy  0.7058823529411765\n",
      "Precision  0.6153846153846154\n",
      "Recall  0.8275862068965517\n",
      "F1-score  0.7058823529411765\n",
      "False Positive Rate  0.38461538461538464 /n\n",
      "------Number of Clusters:  4 -----------\n",
      "Accuracy  0.6764705882352942\n",
      "Precision  0.5897435897435898\n",
      "Recall  0.7931034482758621\n",
      "F1-score  0.676470588235294\n",
      "False Positive Rate  0.41025641025641024 /n\n",
      "------Number of Clusters:  5 -----------\n",
      "Accuracy  0.6764705882352942\n",
      "Precision  0.5897435897435898\n",
      "Recall  0.7931034482758621\n",
      "F1-score  0.676470588235294\n",
      "False Positive Rate  0.41025641025641024 /n\n",
      "------Number of Clusters:  6 -----------\n",
      "Accuracy  0.6911764705882353\n",
      "Precision  0.6\n",
      "Recall  0.8275862068965517\n",
      "F1-score  0.6956521739130435\n",
      "False Positive Rate  0.41025641025641024 /n\n",
      "------Number of Clusters:  7 -----------\n",
      "Accuracy  0.7058823529411765\n",
      "Precision  0.6153846153846154\n",
      "Recall  0.8275862068965517\n",
      "F1-score  0.7058823529411765\n",
      "False Positive Rate  0.38461538461538464 /n\n"
     ]
    }
   ],
   "source": [
    "cluster_accuracy_2 = []\n",
    "cluster_precision_2 = []\n",
    "cluster_recall_2 = []\n",
    "cluster_fscore_2 = []\n",
    "cluster_fpr_2 = []\n",
    "for k in range(2,8):\n",
    "    sensor_models = []\n",
    "    sensor_predicted = []\n",
    "    accuracy = []\n",
    "    precision = []\n",
    "    recall = []\n",
    "    fscore = []\n",
    "    fpr = []\n",
    "    for sens in sensors:\n",
    "        train_normal = X_normal.loc[:,sens].values\n",
    "        train_attack = X_attack.loc[:,sens].values\n",
    "        model = Pipeline()\n",
    "        model.fit(train_normal,train_attack,lag,stride,optimal_k=1,tune=False,kscore_init='inertia',corr_normal=corr_normal[:,i].reshape(nolag_normal,len(X_normal.columns)).T,corr_attack=corr_attack[:,i].reshape(nolag_attack,len(X_attack.columns)).T)\n",
    "        test = X_test.loc[:,sens].values\n",
    "        y_predicted = model.predict(test,corr_test[:,i].reshape(nolag_test,len(X_test.columns)).T)\n",
    "        sensor_predicted.append(y_predicted)\n",
    "        accuracy.append(accuracy_score(y_actual,y_predicted))\n",
    "        precision.append(precision_score(y_actual,y_predicted))\n",
    "        recall.append(recall_score(y_actual,y_predicted))\n",
    "        fscore.append(f1_score(y_actual,y_predicted))\n",
    "        fpr.append(calculate_fpr(y_actual,y_predicted))\n",
    "        sensor_models.append(model)    \n",
    "    sensor_predicted = np.asarray(sensor_predicted)\n",
    "    y_predicted = np.any(sensor_predicted,axis=0).astype(int)\n",
    "    cluster_accuracy_2.append(accuracy_score(y_actual, y_predicted))\n",
    "    cluster_precision_2.append(precision_score(y_actual,y_predicted))\n",
    "    cluster_recall_2.append(recall_score(y_actual,y_predicted))\n",
    "    cluster_fscore_2.append(f1_score(y_actual,y_predicted))\n",
    "    cluster_fpr_2.append(calculate_fpr(y_actual,y_predicted))\n",
    "    print('------Number of Clusters: ',k,'-----------') \n",
    "    print(\"Accuracy \",cluster_accuracy_2[-1])\n",
    "    print(\"Precision \",cluster_precision_2[-1])\n",
    "    print(\"Recall \",cluster_recall_2[-1])\n",
    "    print(\"F1-score \",cluster_fscore_2[-1])\n",
    "    print(\"False Positive Rate \",cluster_fpr_2[-1],\"/n\") "
   ]
  },
  {
   "cell_type": "code",
   "execution_count": 21,
   "metadata": {},
   "outputs": [
    {
     "name": "stdout",
     "output_type": "stream",
     "text": [
      "Accuracy Scores:  [0.6911764705882353, 0.7058823529411765, 0.6764705882352942, 0.6764705882352942, 0.6911764705882353, 0.7058823529411765]\n",
      "Precision Scores:  [0.6, 0.6153846153846154, 0.5897435897435898, 0.5897435897435898, 0.6, 0.6153846153846154]\n",
      "Recall Scores:  [0.8275862068965517, 0.8275862068965517, 0.7931034482758621, 0.7931034482758621, 0.8275862068965517, 0.8275862068965517]\n",
      "F1 Scores:  [0.6956521739130435, 0.7058823529411765, 0.676470588235294, 0.676470588235294, 0.6956521739130435, 0.7058823529411765]\n",
      "False Positive Rates:  [0.41025641025641024, 0.38461538461538464, 0.41025641025641024, 0.41025641025641024, 0.41025641025641024, 0.38461538461538464]\n"
     ]
    }
   ],
   "source": [
    "print(\"Accuracy Scores: \",cluster_accuracy_2)\n",
    "print(\"Precision Scores: \",cluster_precision_2)\n",
    "print(\"Recall Scores: \",cluster_recall_2)\n",
    "print(\"F1 Scores: \",cluster_fscore_2)\n",
    "print(\"False Positive Rates: \",cluster_fpr_2)"
   ]
  },
  {
   "cell_type": "markdown",
   "metadata": {},
   "source": [
    "# Multiple clusters + Threshold tuning (No concat of training and test data)"
   ]
  },
  {
   "cell_type": "code",
   "execution_count": 29,
   "metadata": {},
   "outputs": [
    {
     "name": "stdout",
     "output_type": "stream",
     "text": [
      "------Number of Clusters:  2 -----------\n",
      "Accuracy  0.5\n",
      "Precision  0.4576271186440678\n",
      "Recall  0.9310344827586207\n",
      "F1-score  0.6136363636363636\n",
      "False Positive Rate  0.08205128205128205 /n\n",
      "------Number of Clusters:  3 -----------\n",
      "Accuracy  0.7058823529411765\n",
      "Precision  0.7142857142857143\n",
      "Recall  0.5172413793103449\n",
      "F1-score  0.6000000000000001\n",
      "False Positive Rate  0.015384615384615385 /n\n",
      "------Number of Clusters:  4 -----------\n",
      "Accuracy  0.75\n",
      "Precision  0.7727272727272727\n",
      "Recall  0.5862068965517241\n",
      "F1-score  0.6666666666666667\n",
      "False Positive Rate  0.01282051282051282 /n\n",
      "------Number of Clusters:  5 -----------\n",
      "Accuracy  0.75\n",
      "Precision  0.75\n",
      "Recall  0.6206896551724138\n",
      "F1-score  0.679245283018868\n",
      "False Positive Rate  0.015384615384615385 /n\n",
      "------Number of Clusters:  6 -----------\n",
      "Accuracy  0.7058823529411765\n",
      "Precision  0.68\n",
      "Recall  0.5862068965517241\n",
      "F1-score  0.6296296296296295\n",
      "False Positive Rate  0.020512820512820513 /n\n",
      "------Number of Clusters:  7 -----------\n",
      "Accuracy  0.6911764705882353\n",
      "Precision  0.6428571428571429\n",
      "Recall  0.6206896551724138\n",
      "F1-score  0.6315789473684211\n",
      "False Positive Rate  0.02564102564102564 /n\n",
      "------Number of Clusters:  8 -----------\n",
      "Accuracy  0.7058823529411765\n",
      "Precision  0.6451612903225806\n",
      "Recall  0.6896551724137931\n",
      "F1-score  0.6666666666666667\n",
      "False Positive Rate  0.028205128205128206 /n\n",
      "------Number of Clusters:  9 -----------\n",
      "Accuracy  0.6323529411764706\n",
      "Precision  0.5625\n",
      "Recall  0.6206896551724138\n",
      "F1-score  0.5901639344262296\n",
      "False Positive Rate  0.0358974358974359 /n\n"
     ]
    }
   ],
   "source": [
    "cluster_accuracy_3 = []\n",
    "cluster_precision_3 = []\n",
    "cluster_recall_3 = []\n",
    "cluster_fscore_3 = []\n",
    "cluster_fpr_3 = []\n",
    "for k in range(2,10):\n",
    "    sensor_models = []\n",
    "    sensor_predicted = []\n",
    "    accuracy = []\n",
    "    precision = []\n",
    "    recall = []\n",
    "    fscore = []\n",
    "    fpr = []\n",
    "    for sens in sensors:\n",
    "        train_normal = X_normal.loc[:,sens].values\n",
    "        train_attack = X_attack.loc[:,sens].values\n",
    "        model = Pipeline()\n",
    "        model.fit(train_normal,train_attack,lag,stride,optimal_k = k,tune=True,kscore_init='inertia',corr_normal=corr_normal[:,i].reshape(nolag_normal,len(X_normal.columns)).T,corr_attack=corr_attack[:,i].reshape(nolag_attack,len(X_attack.columns)).T)\n",
    "        test = X_test.loc[:,sens].values\n",
    "        y_predicted = model.predict(test,corr_test=corr_test[:,i].reshape(nolag_test,len(X_test.columns)).T)\n",
    "        sensor_predicted.append(y_predicted)\n",
    "        accuracy.append(accuracy_score(y_actual,y_predicted))\n",
    "        precision.append(precision_score(y_actual,y_predicted))\n",
    "        recall.append(recall_score(y_actual,y_predicted))\n",
    "        fscore.append(f1_score(y_actual,y_predicted))\n",
    "        fpr.append(calculate_fpr(y_actual,y_predicted))\n",
    "        sensor_models.append(model)    \n",
    "    sensor_predicted = np.asarray(sensor_predicted)\n",
    "    sensor_mean = np.mean(sensor_predicted, axis=0)\n",
    "    y_predicted = (sensor_mean > 0.1).astype(int)\n",
    "    # y_predicted = np.any(sensor_predicted,axis=0).astype(int)\n",
    "    cluster_accuracy_3.append(accuracy_score(y_actual, y_predicted))\n",
    "    cluster_precision_3.append(precision_score(y_actual,y_predicted))\n",
    "    cluster_recall_3.append(recall_score(y_actual,y_predicted))\n",
    "    cluster_fscore_3.append(f1_score(y_actual,y_predicted))\n",
    "    cluster_fpr_3.append(calculate_fpr(y_actual,y_predicted))\n",
    "    print('------Number of Clusters: ',k,'-----------') \n",
    "    print(\"Accuracy \",cluster_accuracy_3[-1])\n",
    "    print(\"Precision \",cluster_precision_3[-1])\n",
    "    print(\"Recall \",cluster_recall_3[-1])\n",
    "    print(\"F1-score \",cluster_fscore_3[-1])\n",
    "    print(\"False Positive Rate \",cluster_fpr_3[-1],\"/n\") "
   ]
  },
  {
   "cell_type": "code",
   "execution_count": 30,
   "metadata": {},
   "outputs": [
    {
     "name": "stdout",
     "output_type": "stream",
     "text": [
      "Accuracy Scores:  [0.5, 0.7058823529411765, 0.75, 0.75, 0.7058823529411765, 0.6911764705882353, 0.7058823529411765, 0.6323529411764706]\n",
      "Precision Scores:  [0.4576271186440678, 0.7142857142857143, 0.7727272727272727, 0.75, 0.68, 0.6428571428571429, 0.6451612903225806, 0.5625]\n",
      "Recall Scores:  [0.9310344827586207, 0.5172413793103449, 0.5862068965517241, 0.6206896551724138, 0.5862068965517241, 0.6206896551724138, 0.6896551724137931, 0.6206896551724138]\n",
      "F1 Scores:  [0.6136363636363636, 0.6000000000000001, 0.6666666666666667, 0.679245283018868, 0.6296296296296295, 0.6315789473684211, 0.6666666666666667, 0.5901639344262296]\n",
      "False Positive Rates:  [0.08205128205128205, 0.015384615384615385, 0.01282051282051282, 0.015384615384615385, 0.020512820512820513, 0.02564102564102564, 0.028205128205128206, 0.0358974358974359]\n"
     ]
    }
   ],
   "source": [
    "print(\"Accuracy Scores: \",cluster_accuracy_3)\n",
    "print(\"Precision Scores: \",cluster_precision_3)\n",
    "print(\"Recall Scores: \",cluster_recall_3)\n",
    "print(\"F1 Scores: \",cluster_fscore_3)\n",
    "print(\"False Positive Rates: \",cluster_fpr_3)"
   ]
  },
  {
   "cell_type": "code",
   "execution_count": 28,
   "metadata": {},
   "outputs": [
    {
     "name": "stdout",
     "output_type": "stream",
     "text": [
      "------Percentage Sensor in Attack:  0.0 -----------\n",
      "Accuracy  0.47058823529411764\n",
      "Precision  0.4444444444444444\n",
      "Recall  0.9655172413793104\n",
      "F1-score  0.6086956521739131\n",
      "False Positive Rate  0.08974358974358976 \n",
      "\n",
      "------Percentage Sensor in Attack:  0.01 -----------\n",
      "Accuracy  0.47058823529411764\n",
      "Precision  0.4444444444444444\n",
      "Recall  0.9655172413793104\n",
      "F1-score  0.6086956521739131\n",
      "False Positive Rate  0.08974358974358976 \n",
      "\n",
      "------Percentage Sensor in Attack:  0.02 -----------\n",
      "Accuracy  0.47058823529411764\n",
      "Precision  0.4444444444444444\n",
      "Recall  0.9655172413793104\n",
      "F1-score  0.6086956521739131\n",
      "False Positive Rate  0.08974358974358976 \n",
      "\n",
      "------Percentage Sensor in Attack:  0.03 -----------\n",
      "Accuracy  0.6176470588235294\n",
      "Precision  0.5294117647058824\n",
      "Recall  0.9310344827586207\n",
      "F1-score  0.6749999999999999\n",
      "False Positive Rate  0.06153846153846154 \n",
      "\n",
      "------Percentage Sensor in Attack:  0.04 -----------\n",
      "Accuracy  0.6176470588235294\n",
      "Precision  0.5294117647058824\n",
      "Recall  0.9310344827586207\n",
      "F1-score  0.6749999999999999\n",
      "False Positive Rate  0.06153846153846154 \n",
      "\n",
      "------Percentage Sensor in Attack:  0.05 -----------\n",
      "Accuracy  0.7205882352941176\n",
      "Precision  0.625\n",
      "Recall  0.8620689655172413\n",
      "F1-score  0.7246376811594203\n",
      "False Positive Rate  0.038461538461538464 \n",
      "\n",
      "------Percentage Sensor in Attack:  0.06 -----------\n",
      "Accuracy  0.7205882352941176\n",
      "Precision  0.625\n",
      "Recall  0.8620689655172413\n",
      "F1-score  0.7246376811594203\n",
      "False Positive Rate  0.038461538461538464 \n",
      "\n",
      "------Percentage Sensor in Attack:  0.07 -----------\n",
      "Accuracy  0.7352941176470589\n",
      "Precision  0.6774193548387096\n",
      "Recall  0.7241379310344828\n",
      "F1-score  0.7\n",
      "False Positive Rate  0.02564102564102564 \n",
      "\n",
      "------Percentage Sensor in Attack:  0.08 -----------\n",
      "Accuracy  0.7352941176470589\n",
      "Precision  0.6774193548387096\n",
      "Recall  0.7241379310344828\n",
      "F1-score  0.7\n",
      "False Positive Rate  0.02564102564102564 \n",
      "\n",
      "------Percentage Sensor in Attack:  0.09 -----------\n",
      "Accuracy  0.7352941176470589\n",
      "Precision  0.6774193548387096\n",
      "Recall  0.7241379310344828\n",
      "F1-score  0.7\n",
      "False Positive Rate  0.02564102564102564 \n",
      "\n",
      "------Percentage Sensor in Attack:  0.1 -----------\n",
      "Accuracy  0.7352941176470589\n",
      "Precision  0.7037037037037037\n",
      "Recall  0.6551724137931034\n",
      "F1-score  0.6785714285714286\n",
      "False Positive Rate  0.020512820512820513 \n",
      "\n",
      "------Percentage Sensor in Attack:  0.11 -----------\n",
      "Accuracy  0.7352941176470589\n",
      "Precision  0.7037037037037037\n",
      "Recall  0.6551724137931034\n",
      "F1-score  0.6785714285714286\n",
      "False Positive Rate  0.020512820512820513 \n",
      "\n",
      "------Percentage Sensor in Attack:  0.12 -----------\n",
      "Accuracy  0.7205882352941176\n",
      "Precision  0.7272727272727273\n",
      "Recall  0.5517241379310345\n",
      "F1-score  0.6274509803921569\n",
      "False Positive Rate  0.015384615384615385 \n",
      "\n",
      "------Percentage Sensor in Attack:  0.13 -----------\n",
      "Accuracy  0.7205882352941176\n",
      "Precision  0.7272727272727273\n",
      "Recall  0.5517241379310345\n",
      "F1-score  0.6274509803921569\n",
      "False Positive Rate  0.015384615384615385 \n",
      "\n",
      "------Percentage Sensor in Attack:  0.14 -----------\n",
      "Accuracy  0.7058823529411765\n",
      "Precision  0.7368421052631579\n",
      "Recall  0.4827586206896552\n",
      "F1-score  0.5833333333333334\n",
      "False Positive Rate  0.01282051282051282 \n",
      "\n",
      "------Percentage Sensor in Attack:  0.15 -----------\n",
      "Accuracy  0.7058823529411765\n",
      "Precision  0.7368421052631579\n",
      "Recall  0.4827586206896552\n",
      "F1-score  0.5833333333333334\n",
      "False Positive Rate  0.01282051282051282 \n",
      "\n",
      "------Percentage Sensor in Attack:  0.16 -----------\n",
      "Accuracy  0.7058823529411765\n",
      "Precision  0.7368421052631579\n",
      "Recall  0.4827586206896552\n",
      "F1-score  0.5833333333333334\n",
      "False Positive Rate  0.01282051282051282 \n",
      "\n",
      "------Percentage Sensor in Attack:  0.17 -----------\n",
      "Accuracy  0.7058823529411765\n",
      "Precision  0.7368421052631579\n",
      "Recall  0.4827586206896552\n",
      "F1-score  0.5833333333333334\n",
      "False Positive Rate  0.01282051282051282 \n",
      "\n",
      "------Percentage Sensor in Attack:  0.18 -----------\n",
      "Accuracy  0.7058823529411765\n",
      "Precision  0.7368421052631579\n",
      "Recall  0.4827586206896552\n",
      "F1-score  0.5833333333333334\n",
      "False Positive Rate  0.01282051282051282 \n",
      "\n",
      "------Percentage Sensor in Attack:  0.19 -----------\n",
      "Accuracy  0.7058823529411765\n",
      "Precision  0.8\n",
      "Recall  0.41379310344827586\n",
      "F1-score  0.5454545454545454\n",
      "False Positive Rate  0.007692307692307693 \n",
      "\n",
      "------Percentage Sensor in Attack:  0.2 -----------\n",
      "Accuracy  0.7058823529411765\n",
      "Precision  0.8\n",
      "Recall  0.41379310344827586\n",
      "F1-score  0.5454545454545454\n",
      "False Positive Rate  0.007692307692307693 \n",
      "\n"
     ]
    }
   ],
   "source": [
    "sensor_predicted_temp = []\n",
    "for sens in sensors:\n",
    "    train_normal = X_normal.loc[:,sens].values\n",
    "    train_attack = X_attack.loc[:,sens].values\n",
    "    model = Pipeline()\n",
    "    model.fit(train_normal,train_attack,lag,stride,optimal_k = k,tune=True,kscore_init='inertia',corr_normal=corr_normal[:,i].reshape(nolag_normal,len(X_normal.columns)).T,corr_attack=corr_attack[:,i].reshape(nolag_attack,len(X_attack.columns)).T)\n",
    "    test = X_test.loc[:,sens].values\n",
    "    y_predicted = model.predict(test,corr_test=corr_test[:,i].reshape(nolag_test,len(X_test.columns)).T)\n",
    "    sensor_predicted_temp.append(y_predicted)   \n",
    "\n",
    "sensor_predicted_temp = np.asarray(sensor_predicted_temp)\n",
    "sensor_mean = np.mean(sensor_predicted_temp, axis=0)\n",
    "pcts = [i/100 for i in range(21)]\n",
    "for pct in pcts:\n",
    "    y_predicted = (sensor_mean > pct).astype(int)\n",
    "    print('------Percentage Sensor in Attack: ',pct,'-----------') \n",
    "    print(\"Accuracy \",accuracy_score(y_actual, y_predicted))\n",
    "    print(\"Precision \",precision_score(y_actual,y_predicted))\n",
    "    print(\"Recall \",recall_score(y_actual,y_predicted))\n",
    "    print(\"F1-score \",f1_score(y_actual,y_predicted))\n",
    "    print(\"False Positive Rate \",calculate_fpr(y_actual,y_predicted),\"\\n\")"
   ]
  },
  {
   "cell_type": "code",
   "execution_count": null,
   "metadata": {},
   "outputs": [],
   "source": []
  }
 ],
 "metadata": {
  "kernelspec": {
   "display_name": "Python 3",
   "language": "python",
   "name": "python3"
  },
  "language_info": {
   "codemirror_mode": {
    "name": "ipython",
    "version": 3
   },
   "file_extension": ".py",
   "mimetype": "text/x-python",
   "name": "python",
   "nbconvert_exporter": "python",
   "pygments_lexer": "ipython3",
   "version": "3.9.13"
  }
 },
 "nbformat": 4,
 "nbformat_minor": 2
}
