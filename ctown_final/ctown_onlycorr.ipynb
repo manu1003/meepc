{
 "cells": [
  {
   "cell_type": "code",
   "execution_count": null,
   "metadata": {},
   "outputs": [
    {
     "name": "stderr",
     "output_type": "stream",
     "text": [
      "C:\\Users\\user\\AppData\\Local\\Packages\\PythonSoftwareFoundation.Python.3.9_qbz5n2kfra8p0\\LocalCache\\local-packages\\Python39\\site-packages\\numpy\\_distributor_init.py:30: UserWarning: loaded more than 1 DLL from .libs:\n",
      "C:\\Users\\user\\AppData\\Local\\Packages\\PythonSoftwareFoundation.Python.3.9_qbz5n2kfra8p0\\LocalCache\\local-packages\\Python39\\site-packages\\numpy\\.libs\\libopenblas.EL2C6PLE4ZYW3ECEVIV3OXXGRN2NRFM2.gfortran-win_amd64.dll\n",
      "C:\\Users\\user\\AppData\\Local\\Packages\\PythonSoftwareFoundation.Python.3.9_qbz5n2kfra8p0\\LocalCache\\local-packages\\Python39\\site-packages\\numpy\\.libs\\libopenblas.WCDJNK7YVMPZQ2ME2ZZHJJRJ3JIKNDB7.gfortran-win_amd64.dll\n",
      "  warnings.warn(\"loaded more than 1 DLL from .libs:\"\n"
     ]
    }
   ],
   "source": [
    "import sys\n",
    "sys.path.append(\"C:/Users/user/meepc\")\n",
    "import numpy as np\n",
    "import pandas as pd\n",
    "from models import Hankel,Pipeline\n",
    "from sklearn.preprocessing import StandardScaler\n",
    "from sklearn.metrics import accuracy_score,precision_score,recall_score,f1_score,roc_auc_score"
   ]
  },
  {
   "cell_type": "code",
   "execution_count": null,
   "metadata": {},
   "outputs": [],
   "source": [
    "def calculate_fpr(y_actual, y_prediction):\n",
    "    fp = 0\n",
    "    tn = 0\n",
    "    \n",
    "    for i in range(len(y_actual)):\n",
    "        if y_actual[i] == 0 and y_prediction[i] == 1:\n",
    "            fp += 1\n",
    "        elif y_actual[i] == 0 and y_prediction[i] == 0:\n",
    "            tn += 1\n",
    "    fpr= fp/(fp+tn)\n",
    "    return fpr"
   ]
  },
  {
   "cell_type": "code",
   "execution_count": null,
   "metadata": {},
   "outputs": [],
   "source": [
    "df1 = pd.read_csv('~/data/ctown/dataset03.csv')\n",
    "df2 = pd.read_csv('~/data/ctown/dataset04.csv')\n",
    "\n",
    "train_normal = pd.concat((df1,df2[df2['ATT_FLAG']==0]),axis=0,ignore_index=True)\n",
    "train_attack = df2[df2['ATT_FLAG']==1]"
   ]
  },
  {
   "cell_type": "code",
   "execution_count": null,
   "metadata": {},
   "outputs": [],
   "source": [
    "sensors = [col for col in train_normal.columns if col not in ['DATETIME','ATT_FLAG']]"
   ]
  },
  {
   "cell_type": "code",
   "execution_count": null,
   "metadata": {},
   "outputs": [],
   "source": [
    "scaler = StandardScaler()\n",
    "X_normal = pd.DataFrame(index=train_normal.index, columns=sensors, data=scaler.fit_transform(train_normal[sensors]))\n",
    "X_attack = train_attack[sensors].reset_index().drop(columns=['index'])"
   ]
  },
  {
   "cell_type": "code",
   "execution_count": null,
   "metadata": {},
   "outputs": [],
   "source": [
    "hankel = Hankel()\n",
    "lag = 60\n",
    "stride = 0.5"
   ]
  },
  {
   "cell_type": "code",
   "execution_count": null,
   "metadata": {},
   "outputs": [],
   "source": [
    "df_test = pd.read_csv('~/data/ctown/test_dataset.csv')"
   ]
  },
  {
   "cell_type": "markdown",
   "metadata": {},
   "source": [
    "# Epasad with 1 cluster and no threshold tuning (training attack included in test data)"
   ]
  },
  {
   "cell_type": "code",
   "execution_count": null,
   "metadata": {},
   "outputs": [],
   "source": [
    "test_combined = pd.concat((df_test,train_attack),axis=0)\n",
    "X_test = pd.DataFrame(index=test_combined.index, columns=sensors, data=scaler.fit_transform(test_combined[sensors]))\n",
    "Y_test = test_combined.loc[:,'ATT_FLAG']"
   ]
  },
  {
   "cell_type": "code",
   "execution_count": null,
   "metadata": {},
   "outputs": [],
   "source": [
    "labels = hankel.fit(np.array(Y_test),lag,stride)\n",
    "y_actual = np.any(labels>0,axis=0).astype(int)"
   ]
  },
  {
   "cell_type": "code",
   "execution_count": null,
   "metadata": {},
   "outputs": [],
   "source": [
    "sensor_models = []\n",
    "sensor_predicted = []\n",
    "accuracy = []\n",
    "precision = []\n",
    "recall = []\n",
    "fscore = []\n",
    "fpr = []\n",
    "for sens in sensors:\n",
    "    train_normal = X_normal.loc[:,sens].values\n",
    "    train_attack = X_attack.loc[:,sens].values\n",
    "    model = Pipeline()\n",
    "    model.fit(train_normal,train_attack,lag,stride,optimal_k=1,tune=False)\n",
    "    test = X_test.loc[:,sens].values\n",
    "    y_predicted = model.predict(test)\n",
    "    sensor_predicted.append(y_predicted)\n",
    "    accuracy.append(accuracy_score(y_actual,y_predicted))\n",
    "    precision.append(precision_score(y_actual,y_predicted))\n",
    "    recall.append(recall_score(y_actual,y_predicted))\n",
    "    fscore.append(f1_score(y_actual,y_predicted))\n",
    "    fpr.append(calculate_fpr(y_actual,y_predicted))\n",
    "    sensor_models.append(model)    "
   ]
  },
  {
   "cell_type": "code",
   "execution_count": null,
   "metadata": {},
   "outputs": [
    {
     "data": {
      "text/plain": [
       "array([1, 0, 0, 0, 0, 1, 0, 0, 0, 0, 1, 1, 1, 1, 0, 0, 0, 1, 0, 0, 1, 1,\n",
       "       1, 0, 0, 0, 0, 0, 1, 1, 1, 1, 1, 0, 0, 0, 0, 0, 1, 1, 1, 1, 1, 1,\n",
       "       1, 0, 0, 0, 0, 1, 0, 1, 1, 1, 0, 0, 0, 0, 0, 0, 0, 1, 1, 1, 1, 1,\n",
       "       1, 1, 1, 1, 1, 1, 1, 1, 1, 1, 1, 1, 1, 1, 1, 1, 1, 1, 1])"
      ]
     },
     "metadata": {},
     "output_type": "display_data"
    }
   ],
   "source": [
    "sensor_predicted = np.asarray(sensor_predicted)\n",
    "y_predicted = np.any(sensor_predicted,axis=0).astype(int)\n",
    "y_predicted"
   ]
  },
  {
   "cell_type": "code",
   "execution_count": null,
   "metadata": {},
   "outputs": [
    {
     "name": "stdout",
     "output_type": "stream",
     "text": [
      "Accuracy  0.8117647058823529\n",
      "Precision  0.8\n",
      "Recall  0.8695652173913043\n",
      "F1-score  0.8333333333333333\n",
      "False Positive Rate  0.2564102564102564\n"
     ]
    }
   ],
   "source": [
    "print(\"Accuracy \",accuracy_score(y_actual,y_predicted))\n",
    "print(\"Precision \",precision_score(y_actual,y_predicted))\n",
    "print(\"Recall \",recall_score(y_actual,y_predicted))\n",
    "print(\"F1-score \",f1_score(y_actual,y_predicted))\n",
    "print(\"False Positive Rate \",calculate_fpr(y_actual,y_predicted))"
   ]
  },
  {
   "cell_type": "code",
   "execution_count": null,
   "metadata": {},
   "outputs": [
    {
     "name": "stdout",
     "output_type": "stream",
     "text": [
      "Accuracy -  Mean: 0.5034199726402189 Median : 0.5058823529411764 Min : 0.43529411764705883 Max : 0.611764705882353\n",
      "precision - Mean: 0.6886489479512735 Median : 1.0 Min : 0.0 Max : 1.0\n",
      "recall -    Mean: 0.08948432760364003 Median : 0.08695652173913043 Min : 0.0 Max : 0.2826086956521739\n",
      "f1 -        Mean: 0.15405318860972586 Median : 0.16 Min : 0.0 Max : 0.4406779661016949\n",
      "fpr -        Mean: 0.00834824090638044 Median : 0.0 Min : 0.0 Max : 0.10256410256410256\n"
     ]
    }
   ],
   "source": [
    "print(\"Accuracy -  Mean: {} Median : {} Min : {} Max : {}\".format(np.asarray(accuracy).mean(), np.median(np.asarray(accuracy)),np.asarray(accuracy).min(), np.asarray(accuracy).max()))\n",
    "print(\"precision - Mean: {} Median : {} Min : {} Max : {}\".format(np.asarray(precision).mean(), np.median(np.asarray(precision)),np.asarray(precision).min(), np.asarray(precision).max()))\n",
    "print(\"recall -    Mean: {} Median : {} Min : {} Max : {}\".format(np.asarray(recall).mean(), np.median(np.asarray(recall)),np.asarray(recall).min(), np.asarray(recall).max()))\n",
    "print(\"f1 -        Mean: {} Median : {} Min : {} Max : {}\".format(np.asarray(fscore).mean(), np.median(np.asarray(fscore)),np.asarray(fscore).min(), np.asarray(fscore).max()))\n",
    "print(\"fpr -        Mean: {} Median : {} Min : {} Max : {}\".format(np.asarray(fpr).mean(), np.median(np.asarray(fpr)),np.asarray(fpr).min(), np.asarray(fpr).max()))"
   ]
  },
  {
   "cell_type": "markdown",
   "metadata": {},
   "source": [
    "# Multiple clusters + No threshold tuning (training attack mixed in test data)"
   ]
  },
  {
   "cell_type": "code",
   "execution_count": null,
   "metadata": {},
   "outputs": [
    {
     "name": "stdout",
     "output_type": "stream",
     "text": [
      "------Number of Clusters:  2 -----------\n",
      "Accuracy  0.788235294117647\n",
      "Precision  0.8043478260869565\n",
      "Recall  0.8043478260869565\n",
      "F1-score  0.8043478260869565\n",
      "False Positive Rate  0.23076923076923078 /n\n",
      "------Number of Clusters:  3 -----------\n",
      "Accuracy  0.7294117647058823\n",
      "Precision  0.7346938775510204\n",
      "Recall  0.782608695652174\n",
      "F1-score  0.7578947368421053\n",
      "False Positive Rate  0.3333333333333333 /n\n",
      "------Number of Clusters:  4 -----------\n",
      "Accuracy  0.6941176470588235\n",
      "Precision  0.6724137931034483\n",
      "Recall  0.8478260869565217\n",
      "F1-score  0.75\n",
      "False Positive Rate  0.48717948717948717 /n\n",
      "------Number of Clusters:  5 -----------\n",
      "Accuracy  0.7294117647058823\n",
      "Precision  0.6949152542372882\n",
      "Recall  0.8913043478260869\n",
      "F1-score  0.780952380952381\n",
      "False Positive Rate  0.46153846153846156 /n\n",
      "------Number of Clusters:  6 -----------\n",
      "Accuracy  0.7176470588235294\n",
      "Precision  0.6774193548387096\n",
      "Recall  0.9130434782608695\n",
      "F1-score  0.7777777777777777\n",
      "False Positive Rate  0.5128205128205128 /n\n",
      "------Number of Clusters:  7 -----------\n",
      "Accuracy  0.6823529411764706\n",
      "Precision  0.6507936507936508\n",
      "Recall  0.8913043478260869\n",
      "F1-score  0.7522935779816514\n",
      "False Positive Rate  0.5641025641025641 /n\n"
     ]
    }
   ],
   "source": [
    "cluster_accuracy_1 = []\n",
    "cluster_precision_1 = []\n",
    "cluster_recall_1 = []\n",
    "cluster_fscore_1 = []\n",
    "cluster_fpr_1 = []\n",
    "for k in range(2,8):\n",
    "    sensor_models = []\n",
    "    sensor_predicted = []\n",
    "    accuracy = []\n",
    "    precision = []\n",
    "    recall = []\n",
    "    fscore = []\n",
    "    fpr = []\n",
    "    for i,sens in enumerate(sensors):\n",
    "        train_normal = X_normal.loc[:,sens].values\n",
    "        train_attack = X_attack.loc[:,sens].values\n",
    "        model = Pipeline()\n",
    "        model.fit(train_normal,train_attack,lag,stride,optimal_k=k,tune=False,kscore_init='inertia')\n",
    "        test = X_test.loc[:,sens].values\n",
    "        y_predicted = model.predict(test)\n",
    "        sensor_predicted.append(y_predicted)\n",
    "        accuracy.append(accuracy_score(y_actual,y_predicted))\n",
    "        precision.append(precision_score(y_actual,y_predicted))\n",
    "        recall.append(recall_score(y_actual,y_predicted))\n",
    "        fscore.append(f1_score(y_actual,y_predicted))\n",
    "        fpr.append(calculate_fpr(y_actual,y_predicted))\n",
    "        sensor_models.append(model)  \n",
    "    sensor_predicted = np.asarray(sensor_predicted)\n",
    "    y_predicted = np.any(sensor_predicted,axis=0).astype(int) \n",
    "    cluster_accuracy_1.append(accuracy_score(y_actual, y_predicted))\n",
    "    cluster_precision_1.append(precision_score(y_actual,y_predicted))\n",
    "    cluster_recall_1.append(recall_score(y_actual,y_predicted))\n",
    "    cluster_fscore_1.append(f1_score(y_actual,y_predicted))\n",
    "    cluster_fpr_1.append(calculate_fpr(y_actual,y_predicted))\n",
    "    print('------Number of Clusters: ',k,'-----------') \n",
    "    print(\"Accuracy \",cluster_accuracy_1[-1])\n",
    "    print(\"Precision \",cluster_precision_1[-1])\n",
    "    print(\"Recall \",cluster_recall_1[-1])\n",
    "    print(\"F1-score \",cluster_fscore_1[-1])\n",
    "    print(\"False Positive Rate \",cluster_fpr_1[-1],\"/n\") "
   ]
  },
  {
   "cell_type": "code",
   "execution_count": null,
   "metadata": {},
   "outputs": [
    {
     "name": "stdout",
     "output_type": "stream",
     "text": [
      "Accuracy Scores:  [0.788235294117647, 0.7294117647058823, 0.6941176470588235, 0.7294117647058823, 0.7176470588235294, 0.6823529411764706]\n",
      "Precision Scores:  [0.8043478260869565, 0.7346938775510204, 0.6724137931034483, 0.6949152542372882, 0.6774193548387096, 0.6507936507936508]\n",
      "Recall Scores:  [0.8043478260869565, 0.782608695652174, 0.8478260869565217, 0.8913043478260869, 0.9130434782608695, 0.8913043478260869]\n",
      "F1 Scores:  [0.8043478260869565, 0.7578947368421053, 0.75, 0.780952380952381, 0.7777777777777777, 0.7522935779816514]\n",
      "False Positive Rates:  [0.23076923076923078, 0.3333333333333333, 0.48717948717948717, 0.46153846153846156, 0.5128205128205128, 0.5641025641025641]\n"
     ]
    }
   ],
   "source": [
    "print(\"Accuracy Scores: \",cluster_accuracy_1)\n",
    "print(\"Precision Scores: \",cluster_precision_1)\n",
    "print(\"Recall Scores: \",cluster_recall_1)\n",
    "print(\"F1 Scores: \",cluster_fscore_1)\n",
    "print(\"False Positive Rates: \",cluster_fpr_1)"
   ]
  },
  {
   "cell_type": "markdown",
   "metadata": {},
   "source": [
    "# Multiple clusters + No threshold tuning (No concat of training and test data)"
   ]
  },
  {
   "cell_type": "code",
   "execution_count": null,
   "metadata": {},
   "outputs": [],
   "source": [
    "X_test = pd.DataFrame(index=df_test.index, columns=sensors, data=scaler.fit_transform(df_test[sensors]))\n",
    "Y_test = df_test.loc[:,'ATT_FLAG']"
   ]
  },
  {
   "cell_type": "code",
   "execution_count": null,
   "metadata": {},
   "outputs": [],
   "source": [
    "labels = hankel.fit(np.array(Y_test),lag,stride)\n",
    "y_actual = np.any(labels>0,axis=0).astype(int)"
   ]
  },
  {
   "cell_type": "code",
   "execution_count": null,
   "metadata": {},
   "outputs": [
    {
     "name": "stdout",
     "output_type": "stream",
     "text": [
      "------Number of Clusters:  2 -----------\n",
      "Accuracy  0.7205882352941176\n",
      "Precision  0.631578947368421\n",
      "Recall  0.8275862068965517\n",
      "F1-score  0.716417910447761\n",
      "False Positive Rate  0.358974358974359 /n\n",
      "------Number of Clusters:  3 -----------\n",
      "Accuracy  0.6470588235294118\n",
      "Precision  0.5714285714285714\n",
      "Recall  0.6896551724137931\n",
      "F1-score  0.625\n",
      "False Positive Rate  0.38461538461538464 /n\n",
      "------Number of Clusters:  4 -----------\n",
      "Accuracy  0.6617647058823529\n",
      "Precision  0.575\n",
      "Recall  0.7931034482758621\n",
      "F1-score  0.6666666666666666\n",
      "False Positive Rate  0.4358974358974359 /n\n",
      "------Number of Clusters:  5 -----------\n",
      "Accuracy  0.6470588235294118\n",
      "Precision  0.5555555555555556\n",
      "Recall  0.8620689655172413\n",
      "F1-score  0.6756756756756757\n",
      "False Positive Rate  0.5128205128205128 /n\n",
      "------Number of Clusters:  6 -----------\n",
      "Accuracy  0.6176470588235294\n",
      "Precision  0.5306122448979592\n",
      "Recall  0.896551724137931\n",
      "F1-score  0.6666666666666666\n",
      "False Positive Rate  0.5897435897435898 /n\n",
      "------Number of Clusters:  7 -----------\n",
      "Accuracy  0.6617647058823529\n",
      "Precision  0.56\n",
      "Recall  0.9655172413793104\n",
      "F1-score  0.7088607594936709\n",
      "False Positive Rate  0.5641025641025641 /n\n"
     ]
    }
   ],
   "source": [
    "cluster_accuracy_2 = []\n",
    "cluster_precision_2 = []\n",
    "cluster_recall_2 = []\n",
    "cluster_fscore_2 = []\n",
    "cluster_fpr_2 = []\n",
    "for k in range(2,8):\n",
    "    sensor_models = []\n",
    "    sensor_predicted = []\n",
    "    accuracy = []\n",
    "    precision = []\n",
    "    recall = []\n",
    "    fscore = []\n",
    "    fpr = []\n",
    "    for sens in sensors:\n",
    "        train_normal = X_normal.loc[:,sens].values\n",
    "        train_attack = X_attack.loc[:,sens].values\n",
    "        model = Pipeline()\n",
    "        model.fit(train_normal,train_attack,lag,stride,optimal_k=k,tune=False,kscore_init='inertia')\n",
    "        test = X_test.loc[:,sens].values\n",
    "        y_predicted = model.predict(test)\n",
    "        sensor_predicted.append(y_predicted)\n",
    "        accuracy.append(accuracy_score(y_actual,y_predicted))\n",
    "        precision.append(precision_score(y_actual,y_predicted))\n",
    "        recall.append(recall_score(y_actual,y_predicted))\n",
    "        fscore.append(f1_score(y_actual,y_predicted))\n",
    "        fpr.append(calculate_fpr(y_actual,y_predicted))\n",
    "        sensor_models.append(model)    \n",
    "    sensor_predicted = np.asarray(sensor_predicted)\n",
    "    y_predicted = np.any(sensor_predicted,axis=0).astype(int)\n",
    "    cluster_accuracy_2.append(accuracy_score(y_actual, y_predicted))\n",
    "    cluster_precision_2.append(precision_score(y_actual,y_predicted))\n",
    "    cluster_recall_2.append(recall_score(y_actual,y_predicted))\n",
    "    cluster_fscore_2.append(f1_score(y_actual,y_predicted))\n",
    "    cluster_fpr_2.append(calculate_fpr(y_actual,y_predicted))\n",
    "    print('------Number of Clusters: ',k,'-----------') \n",
    "    print(\"Accuracy \",cluster_accuracy_2[-1])\n",
    "    print(\"Precision \",cluster_precision_2[-1])\n",
    "    print(\"Recall \",cluster_recall_2[-1])\n",
    "    print(\"F1-score \",cluster_fscore_2[-1])\n",
    "    print(\"False Positive Rate \",cluster_fpr_2[-1],\"/n\") "
   ]
  },
  {
   "cell_type": "code",
   "execution_count": null,
   "metadata": {},
   "outputs": [
    {
     "name": "stdout",
     "output_type": "stream",
     "text": [
      "Accuracy Scores:  [0.7205882352941176, 0.6470588235294118, 0.6617647058823529, 0.6470588235294118, 0.6176470588235294, 0.6617647058823529]\n",
      "Precision Scores:  [0.631578947368421, 0.5714285714285714, 0.575, 0.5555555555555556, 0.5306122448979592, 0.56]\n",
      "Recall Scores:  [0.8275862068965517, 0.6896551724137931, 0.7931034482758621, 0.8620689655172413, 0.896551724137931, 0.9655172413793104]\n",
      "F1 Scores:  [0.716417910447761, 0.625, 0.6666666666666666, 0.6756756756756757, 0.6666666666666666, 0.7088607594936709]\n",
      "False Positive Rates:  [0.358974358974359, 0.38461538461538464, 0.4358974358974359, 0.5128205128205128, 0.5897435897435898, 0.5641025641025641]\n"
     ]
    }
   ],
   "source": [
    "print(\"Accuracy Scores: \",cluster_accuracy_2)\n",
    "print(\"Precision Scores: \",cluster_precision_2)\n",
    "print(\"Recall Scores: \",cluster_recall_2)\n",
    "print(\"F1 Scores: \",cluster_fscore_2)\n",
    "print(\"False Positive Rates: \",cluster_fpr_2)"
   ]
  },
  {
   "cell_type": "markdown",
   "metadata": {},
   "source": [
    "# Multiple clusters + Threshold tuning (No concat of training and test data)"
   ]
  },
  {
   "cell_type": "code",
   "execution_count": null,
   "metadata": {},
   "outputs": [],
   "source": [
    "cluster_accuracy_3 = []\n",
    "cluster_precision_3 = []\n",
    "cluster_recall_3 = []\n",
    "cluster_fscore_3 = []\n",
    "cluster_fpr_3 = []\n",
    "for k in range(2,10):\n",
    "    sensor_models = []\n",
    "    sensor_predicted = []\n",
    "    accuracy = []\n",
    "    precision = []\n",
    "    recall = []\n",
    "    fscore = []\n",
    "    fpr = []\n",
    "    for sens in sensors:\n",
    "        train_normal = X_normal.loc[:,sens].values\n",
    "        train_attack = X_attack.loc[:,sens].values\n",
    "        model = Pipeline()\n",
    "        model.fit(train_normal,train_attack,lag,stride,optimal_k = k,kscore_init='inertia')\n",
    "        test = X_test.loc[:,sens].values\n",
    "        y_predicted = model.predict(test)\n",
    "        sensor_predicted.append(y_predicted)\n",
    "        accuracy.append(accuracy_score(y_actual,y_predicted))\n",
    "        precision.append(precision_score(y_actual,y_predicted))\n",
    "        recall.append(recall_score(y_actual,y_predicted))\n",
    "        fscore.append(f1_score(y_actual,y_predicted))\n",
    "        fpr.append(calculate_fpr(y_actual,y_predicted))\n",
    "        sensor_models.append(model)    \n",
    "    sensor_predicted = np.asarray(sensor_predicted)\n",
    "    y_predicted = np.any(sensor_predicted,axis=0).astype(int)\n",
    "    cluster_accuracy_3.append(accuracy_score(y_actual, y_predicted))\n",
    "    cluster_precision_3.append(precision_score(y_actual,y_predicted))\n",
    "    cluster_recall_3.append(recall_score(y_actual,y_predicted))\n",
    "    cluster_fscore_3.append(f1_score(y_actual,y_predicted))\n",
    "    cluster_fpr_3.append(calculate_fpr(y_actual,y_predicted))\n",
    "    print('------Number of Clusters: ',k,'-----------') \n",
    "    print(\"Accuracy \",cluster_accuracy_3[-1])\n",
    "    print(\"Precision \",cluster_precision_3[-1])\n",
    "    print(\"Recall \",cluster_recall_3[-1])\n",
    "    print(\"F1-score \",cluster_fscore_3[-1])\n",
    "    print(\"False Positive Rate \",cluster_fpr_3[-1],\"/n\") "
   ]
  },
  {
   "cell_type": "code",
   "execution_count": null,
   "metadata": {},
   "outputs": [
    {
     "name": "stdout",
     "output_type": "stream",
     "text": [
      "Accuracy Scores:  [0.4264705882352941, 0.4264705882352941, 0.4264705882352941, 0.4264705882352941, 0.4264705882352941, 0.4264705882352941, 0.4264705882352941, 0.4264705882352941]\n",
      "Precision Scores:  [0.4264705882352941, 0.4264705882352941, 0.4264705882352941, 0.4264705882352941, 0.4264705882352941, 0.4264705882352941, 0.4264705882352941, 0.4264705882352941]\n",
      "Recall Scores:  [1.0, 1.0, 1.0, 1.0, 1.0, 1.0, 1.0, 1.0]\n",
      "F1 Scores:  [0.5979381443298969, 0.5979381443298969, 0.5979381443298969, 0.5979381443298969, 0.5979381443298969, 0.5979381443298969, 0.5979381443298969, 0.5979381443298969]\n",
      "False Positive Rates:  [1.0, 1.0, 1.0, 1.0, 1.0, 1.0, 1.0, 1.0]\n"
     ]
    }
   ],
   "source": [
    "print(\"Accuracy Scores: \",cluster_accuracy_3)\n",
    "print(\"Precision Scores: \",cluster_precision_3)\n",
    "print(\"Recall Scores: \",cluster_recall_3)\n",
    "print(\"F1 Scores: \",cluster_fscore_3)\n",
    "print(\"False Positive Rates: \",cluster_fpr_3)"
   ]
  }
 ],
 "metadata": {
  "language_info": {
   "name": "python"
  }
 },
 "nbformat": 4,
 "nbformat_minor": 2
}
