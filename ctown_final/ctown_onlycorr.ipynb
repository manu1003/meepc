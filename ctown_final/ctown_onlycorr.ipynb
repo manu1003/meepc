{
 "cells": [
  {
   "cell_type": "code",
   "execution_count": 1,
   "metadata": {},
   "outputs": [
    {
     "name": "stderr",
     "output_type": "stream",
     "text": [
      "C:\\Users\\user\\AppData\\Local\\Packages\\PythonSoftwareFoundation.Python.3.9_qbz5n2kfra8p0\\LocalCache\\local-packages\\Python39\\site-packages\\numpy\\_distributor_init.py:30: UserWarning: loaded more than 1 DLL from .libs:\n",
      "C:\\Users\\user\\AppData\\Local\\Packages\\PythonSoftwareFoundation.Python.3.9_qbz5n2kfra8p0\\LocalCache\\local-packages\\Python39\\site-packages\\numpy\\.libs\\libopenblas.EL2C6PLE4ZYW3ECEVIV3OXXGRN2NRFM2.gfortran-win_amd64.dll\n",
      "C:\\Users\\user\\AppData\\Local\\Packages\\PythonSoftwareFoundation.Python.3.9_qbz5n2kfra8p0\\LocalCache\\local-packages\\Python39\\site-packages\\numpy\\.libs\\libopenblas.WCDJNK7YVMPZQ2ME2ZZHJJRJ3JIKNDB7.gfortran-win_amd64.dll\n",
      "  warnings.warn(\"loaded more than 1 DLL from .libs:\"\n"
     ]
    }
   ],
   "source": [
    "import sys\n",
    "sys.path.append(\"C:/Users/user/meepc\")\n",
    "import numpy as np\n",
    "import pandas as pd\n",
    "from models import Hankel,Corrhankel,Pipeline\n",
    "from sklearn.preprocessing import StandardScaler\n",
    "from sklearn.metrics import accuracy_score,precision_score,recall_score,f1_score,roc_auc_score"
   ]
  },
  {
   "cell_type": "code",
   "execution_count": 2,
   "metadata": {},
   "outputs": [],
   "source": [
    "def calculate_fpr(y_actual, y_prediction):\n",
    "    fp = 0\n",
    "    tn = 0\n",
    "    \n",
    "    for i in range(len(y_actual)):\n",
    "        if y_actual[i] == 0 and y_prediction[i] == 1:\n",
    "            fp += 1\n",
    "        elif y_actual[i] == 0 and y_prediction[i] == 0:\n",
    "            tn += 1\n",
    "    fpr= fp/(fp+tn)\n",
    "    return .1*fpr"
   ]
  },
  {
   "cell_type": "code",
   "execution_count": 3,
   "metadata": {},
   "outputs": [],
   "source": [
    "df1 = pd.read_csv('~/data/ctown/dataset03.csv')\n",
    "df2 = pd.read_csv('~/data/ctown/dataset04.csv')\n",
    "\n",
    "train_normal = pd.concat((df1,df2[df2['ATT_FLAG']==0]),axis=0,ignore_index=True)\n",
    "train_attack = df2[df2['ATT_FLAG']==1]"
   ]
  },
  {
   "cell_type": "code",
   "execution_count": 4,
   "metadata": {},
   "outputs": [],
   "source": [
    "sensors = [col for col in train_normal.columns if col not in ['DATETIME','ATT_FLAG']]"
   ]
  },
  {
   "cell_type": "code",
   "execution_count": 5,
   "metadata": {},
   "outputs": [],
   "source": [
    "scaler = StandardScaler()\n",
    "X_normal = pd.DataFrame(index=train_normal.index, columns=sensors, data=scaler.fit_transform(train_normal[sensors]))\n",
    "X_attack = train_attack[sensors].reset_index().drop(columns=['index'])"
   ]
  },
  {
   "cell_type": "code",
   "execution_count": 6,
   "metadata": {},
   "outputs": [],
   "source": [
    "hankel = Hankel()\n",
    "corrhankel = Corrhankel()\n",
    "lag = 60\n",
    "stride = 0.5"
   ]
  },
  {
   "cell_type": "code",
   "execution_count": 7,
   "metadata": {},
   "outputs": [],
   "source": [
    "corr_normal,nolag_normal = corrhankel.fit(X_normal.to_numpy(),lag,stride)"
   ]
  },
  {
   "cell_type": "code",
   "execution_count": 8,
   "metadata": {},
   "outputs": [],
   "source": [
    "corr_attack,nolag_attack = corrhankel.fit(X_attack.to_numpy(),lag,stride)"
   ]
  },
  {
   "cell_type": "code",
   "execution_count": 9,
   "metadata": {},
   "outputs": [],
   "source": [
    "df_test = pd.read_csv('~/data/ctown/test_dataset.csv')"
   ]
  },
  {
   "cell_type": "markdown",
   "metadata": {},
   "source": [
    "# Epasad with 1 cluster and no threshold tuning (training attack included in test data)"
   ]
  },
  {
   "cell_type": "code",
   "execution_count": 10,
   "metadata": {},
   "outputs": [],
   "source": [
    "test_combined = pd.concat((df_test,train_attack),axis=0)\n",
    "X_test = pd.DataFrame(index=test_combined.index, columns=sensors, data=scaler.fit_transform(test_combined[sensors]))\n",
    "corr_test,nolag_test = corrhankel.fit(X_test.to_numpy(),lag,stride)\n",
    "Y_test = test_combined.loc[:,'ATT_FLAG']"
   ]
  },
  {
   "cell_type": "code",
   "execution_count": 11,
   "metadata": {},
   "outputs": [],
   "source": [
    "labels = hankel.fit(np.array(Y_test),lag,stride)\n",
    "y_actual = np.any(labels>0,axis=0).astype(int)"
   ]
  },
  {
   "cell_type": "code",
   "execution_count": 12,
   "metadata": {},
   "outputs": [],
   "source": [
    "sensor_models = []\n",
    "sensor_predicted = []\n",
    "accuracy = []\n",
    "precision = []\n",
    "recall = []\n",
    "fscore = []\n",
    "fpr = []\n",
    "for i,sens in enumerate(sensors):\n",
    "    train_normal = X_normal.loc[:,sens].values\n",
    "    train_attack = X_attack.loc[:,sens].values\n",
    "    model = Pipeline()\n",
    "    model.fit(train_normal,train_attack,lag,stride,optimal_k=1,tune=False,kscore_init='inertia',corr_normal=corr_normal[:,i].reshape(nolag_normal,len(X_normal.columns)).T,only_corr=True)\n",
    "    test = X_test.loc[:,sens].values\n",
    "    y_predicted = model.predict(test,corr_test[:,i].reshape(nolag_test,len(X_test.columns)).T)\n",
    "    sensor_predicted.append(y_predicted)\n",
    "    accuracy.append(accuracy_score(y_actual,y_predicted))\n",
    "    precision.append(precision_score(y_actual,y_predicted))\n",
    "    recall.append(recall_score(y_actual,y_predicted))\n",
    "    fscore.append(f1_score(y_actual,y_predicted))\n",
    "    fpr.append(calculate_fpr(y_actual,y_predicted))\n",
    "    sensor_models.append(model)    "
   ]
  },
  {
   "cell_type": "code",
   "execution_count": 13,
   "metadata": {},
   "outputs": [
    {
     "data": {
      "text/plain": [
       "array([0, 0, 0, 0, 0, 0, 1, 1, 1, 1, 1, 1, 1, 1, 0, 0, 1, 0, 0, 0, 1, 1,\n",
       "       1, 0, 0, 0, 0, 0, 1, 1, 1, 1, 0, 0, 0, 0, 0, 1, 0, 1, 1, 1, 1, 1,\n",
       "       0, 0, 0, 1, 0, 1, 1, 1, 1, 1, 1, 0, 0, 0, 0, 1, 0, 1, 1, 1, 1, 1,\n",
       "       0, 1, 1, 1, 1, 1, 1, 1, 1, 1, 1, 1, 1, 1, 1, 1, 1, 1, 1])"
      ]
     },
     "execution_count": 13,
     "metadata": {},
     "output_type": "execute_result"
    }
   ],
   "source": [
    "sensor_predicted = np.asarray(sensor_predicted)\n",
    "y_predicted = np.any(sensor_predicted,axis=0).astype(int)\n",
    "y_predicted"
   ]
  },
  {
   "cell_type": "code",
   "execution_count": 14,
   "metadata": {},
   "outputs": [
    {
     "name": "stdout",
     "output_type": "stream",
     "text": [
      "Accuracy  0.8\n",
      "Precision  0.7735849056603774\n",
      "Recall  0.8913043478260869\n",
      "F1-score  0.8282828282828283\n",
      "False Positive Rate  0.03076923076923077\n"
     ]
    }
   ],
   "source": [
    "print(\"Accuracy \",accuracy_score(y_actual,y_predicted))\n",
    "print(\"Precision \",precision_score(y_actual,y_predicted))\n",
    "print(\"Recall \",recall_score(y_actual,y_predicted))\n",
    "print(\"F1-score \",f1_score(y_actual,y_predicted))\n",
    "print(\"False Positive Rate \",calculate_fpr(y_actual,y_predicted))"
   ]
  },
  {
   "cell_type": "code",
   "execution_count": 15,
   "metadata": {},
   "outputs": [
    {
     "name": "stdout",
     "output_type": "stream",
     "text": [
      "Accuracy -  Mean: 0.5398084815321479 Median : 0.5411764705882353 Min : 0.4235294117647059 Max : 0.6588235294117647\n",
      "precision - Mean: 0.7519843671420459 Median : 0.9 Min : 0.0 Max : 1.0\n",
      "recall -    Mean: 0.16632962588473205 Median : 0.15217391304347827 Min : 0.0 Max : 0.3695652173913043\n",
      "f1 -        Mean: 0.26447616477823466 Median : 0.2641509433962264 Min : 0.0 Max : 0.5396825396825397\n",
      "fpr -        Mean: 0.001967799642218247 Median : 0.0 Min : 0.0 Max : 0.010256410256410256\n"
     ]
    }
   ],
   "source": [
    "print(\"Accuracy -  Mean: {} Median : {} Min : {} Max : {}\".format(np.asarray(accuracy).mean(), np.median(np.asarray(accuracy)),np.asarray(accuracy).min(), np.asarray(accuracy).max()))\n",
    "print(\"precision - Mean: {} Median : {} Min : {} Max : {}\".format(np.asarray(precision).mean(), np.median(np.asarray(precision)),np.asarray(precision).min(), np.asarray(precision).max()))\n",
    "print(\"recall -    Mean: {} Median : {} Min : {} Max : {}\".format(np.asarray(recall).mean(), np.median(np.asarray(recall)),np.asarray(recall).min(), np.asarray(recall).max()))\n",
    "print(\"f1 -        Mean: {} Median : {} Min : {} Max : {}\".format(np.asarray(fscore).mean(), np.median(np.asarray(fscore)),np.asarray(fscore).min(), np.asarray(fscore).max()))\n",
    "print(\"fpr -        Mean: {} Median : {} Min : {} Max : {}\".format(np.asarray(fpr).mean(), np.median(np.asarray(fpr)),np.asarray(fpr).min(), np.asarray(fpr).max()))"
   ]
  },
  {
   "cell_type": "markdown",
   "metadata": {},
   "source": [
    "# Multiple clusters + No threshold tuning (training attack mixed in test data)"
   ]
  },
  {
   "cell_type": "code",
   "execution_count": 16,
   "metadata": {},
   "outputs": [
    {
     "name": "stdout",
     "output_type": "stream",
     "text": [
      "------Number of Clusters:  2 -----------\n",
      "Accuracy  0.7411764705882353\n",
      "Precision  0.6818181818181818\n",
      "Recall  0.9782608695652174\n",
      "F1-score  0.8035714285714285\n",
      "False Positive Rate  0.5384615384615384 /n\n",
      "------Number of Clusters:  3 -----------\n",
      "Accuracy  0.6705882352941176\n",
      "Precision  0.6216216216216216\n",
      "Recall  1.0\n",
      "F1-score  0.7666666666666667\n",
      "False Positive Rate  0.717948717948718 /n\n",
      "------Number of Clusters:  4 -----------\n",
      "Accuracy  0.6235294117647059\n",
      "Precision  0.5897435897435898\n",
      "Recall  1.0\n",
      "F1-score  0.7419354838709677\n",
      "False Positive Rate  0.8205128205128205 /n\n",
      "------Number of Clusters:  5 -----------\n",
      "Accuracy  0.5882352941176471\n",
      "Precision  0.569620253164557\n",
      "Recall  0.9782608695652174\n",
      "F1-score  0.7200000000000001\n",
      "False Positive Rate  0.8717948717948718 /n\n",
      "------Number of Clusters:  6 -----------\n",
      "Accuracy  0.6\n",
      "Precision  0.575\n",
      "Recall  1.0\n",
      "F1-score  0.7301587301587301\n",
      "False Positive Rate  0.8717948717948718 /n\n",
      "------Number of Clusters:  7 -----------\n",
      "Accuracy  0.5882352941176471\n",
      "Precision  0.5679012345679012\n",
      "Recall  1.0\n",
      "F1-score  0.7244094488188977\n",
      "False Positive Rate  0.8974358974358975 /n\n"
     ]
    }
   ],
   "source": [
    "cluster_accuracy_1 = []\n",
    "cluster_precision_1 = []\n",
    "cluster_recall_1 = []\n",
    "cluster_fscore_1 = []\n",
    "cluster_fpr_1 = []\n",
    "for k in range(2,8):\n",
    "    sensor_models = []\n",
    "    sensor_predicted = []\n",
    "    accuracy = []\n",
    "    precision = []\n",
    "    recall = []\n",
    "    fscore = []\n",
    "    fpr = []\n",
    "    for i,sens in enumerate(sensors):\n",
    "        train_normal = X_normal.loc[:,sens].values\n",
    "        train_attack = X_attack.loc[:,sens].values\n",
    "        model = Pipeline()\n",
    "        model.fit(train_normal,train_attack,lag,stride,optimal_k = k,tune=False,kscore_init='inertia',corr_normal=corr_normal[:,i].reshape(nolag_normal,len(X_normal.columns)).T,only_corr=True)\n",
    "        test = X_test.loc[:,sens].values\n",
    "        y_predicted = model.predict(test,corr_test=corr_test[:,i].reshape(nolag_test,len(X_test.columns)).T)\n",
    "        sensor_predicted.append(y_predicted)\n",
    "        accuracy.append(accuracy_score(y_actual,y_predicted))\n",
    "        precision.append(precision_score(y_actual,y_predicted))\n",
    "        recall.append(recall_score(y_actual,y_predicted))\n",
    "        fscore.append(f1_score(y_actual,y_predicted))\n",
    "        fpr.append(calculate_fpr(y_actual,y_predicted))\n",
    "        sensor_models.append(model)  \n",
    "    sensor_predicted = np.asarray(sensor_predicted)\n",
    "    y_predicted = np.any(sensor_predicted,axis=0).astype(int) \n",
    "    cluster_accuracy_1.append(accuracy_score(y_actual, y_predicted))\n",
    "    cluster_precision_1.append(precision_score(y_actual,y_predicted))\n",
    "    cluster_recall_1.append(recall_score(y_actual,y_predicted))\n",
    "    cluster_fscore_1.append(f1_score(y_actual,y_predicted))\n",
    "    cluster_fpr_1.append(calculate_fpr(y_actual,y_predicted))\n",
    "    print('------Number of Clusters: ',k,'-----------') \n",
    "    print(\"Accuracy \",cluster_accuracy_1[-1])\n",
    "    print(\"Precision \",cluster_precision_1[-1])\n",
    "    print(\"Recall \",cluster_recall_1[-1])\n",
    "    print(\"F1-score \",cluster_fscore_1[-1])\n",
    "    print(\"False Positive Rate \",cluster_fpr_1[-1],\"/n\") "
   ]
  },
  {
   "cell_type": "code",
   "execution_count": 17,
   "metadata": {},
   "outputs": [
    {
     "name": "stdout",
     "output_type": "stream",
     "text": [
      "Accuracy Scores:  [0.7411764705882353, 0.6705882352941176, 0.6235294117647059, 0.5882352941176471, 0.6, 0.5882352941176471]\n",
      "Precision Scores:  [0.6818181818181818, 0.6216216216216216, 0.5897435897435898, 0.569620253164557, 0.575, 0.5679012345679012]\n",
      "Recall Scores:  [0.9782608695652174, 1.0, 1.0, 0.9782608695652174, 1.0, 1.0]\n",
      "F1 Scores:  [0.8035714285714285, 0.7666666666666667, 0.7419354838709677, 0.7200000000000001, 0.7301587301587301, 0.7244094488188977]\n",
      "False Positive Rates:  [0.5384615384615384, 0.717948717948718, 0.8205128205128205, 0.8717948717948718, 0.8717948717948718, 0.8974358974358975]\n"
     ]
    }
   ],
   "source": [
    "print(\"Accuracy Scores: \",cluster_accuracy_1)\n",
    "print(\"Precision Scores: \",cluster_precision_1)\n",
    "print(\"Recall Scores: \",cluster_recall_1)\n",
    "print(\"F1 Scores: \",cluster_fscore_1)\n",
    "print(\"False Positive Rates: \",cluster_fpr_1)"
   ]
  },
  {
   "cell_type": "markdown",
   "metadata": {},
   "source": [
    "# Multiple clusters + No threshold tuning (No concat of training and test data)"
   ]
  },
  {
   "cell_type": "code",
   "execution_count": 16,
   "metadata": {},
   "outputs": [],
   "source": [
    "X_test = pd.DataFrame(index=df_test.index, columns=sensors, data=scaler.fit_transform(df_test[sensors]))\n",
    "Y_test = df_test.loc[:,'ATT_FLAG']\n",
    "corr_test,nolag_test = corrhankel.fit(X_test.to_numpy(),lag,stride)"
   ]
  },
  {
   "cell_type": "code",
   "execution_count": 17,
   "metadata": {},
   "outputs": [],
   "source": [
    "labels = hankel.fit(np.array(Y_test),lag,stride)\n",
    "y_actual = np.any(labels>0,axis=0).astype(int)"
   ]
  },
  {
   "cell_type": "code",
   "execution_count": 20,
   "metadata": {},
   "outputs": [
    {
     "name": "stdout",
     "output_type": "stream",
     "text": [
      "------Number of Clusters:  2 -----------\n",
      "Accuracy  0.8088235294117647\n",
      "Precision  0.8076923076923077\n",
      "Recall  0.7241379310344828\n",
      "F1-score  0.7636363636363636\n",
      "False Positive Rate  0.1282051282051282 /n\n",
      "------Number of Clusters:  3 -----------\n",
      "Accuracy  0.8088235294117647\n",
      "Precision  0.8076923076923077\n",
      "Recall  0.7241379310344828\n",
      "F1-score  0.7636363636363636\n",
      "False Positive Rate  0.1282051282051282 /n\n",
      "------Number of Clusters:  4 -----------\n",
      "Accuracy  0.8088235294117647\n",
      "Precision  0.8076923076923077\n",
      "Recall  0.7241379310344828\n",
      "F1-score  0.7636363636363636\n",
      "False Positive Rate  0.1282051282051282 /n\n",
      "------Number of Clusters:  5 -----------\n",
      "Accuracy  0.8088235294117647\n",
      "Precision  0.8076923076923077\n",
      "Recall  0.7241379310344828\n",
      "F1-score  0.7636363636363636\n",
      "False Positive Rate  0.1282051282051282 /n\n",
      "------Number of Clusters:  6 -----------\n",
      "Accuracy  0.8088235294117647\n",
      "Precision  0.8076923076923077\n",
      "Recall  0.7241379310344828\n",
      "F1-score  0.7636363636363636\n",
      "False Positive Rate  0.1282051282051282 /n\n",
      "------Number of Clusters:  7 -----------\n",
      "Accuracy  0.7941176470588235\n",
      "Precision  0.8\n",
      "Recall  0.6896551724137931\n",
      "F1-score  0.7407407407407408\n",
      "False Positive Rate  0.1282051282051282 /n\n"
     ]
    }
   ],
   "source": [
    "cluster_accuracy_2 = []\n",
    "cluster_precision_2 = []\n",
    "cluster_recall_2 = []\n",
    "cluster_fscore_2 = []\n",
    "cluster_fpr_2 = []\n",
    "for k in range(2,8):\n",
    "    sensor_models = []\n",
    "    sensor_predicted = []\n",
    "    accuracy = []\n",
    "    precision = []\n",
    "    recall = []\n",
    "    fscore = []\n",
    "    fpr = []\n",
    "    for sens in sensors:\n",
    "        train_normal = X_normal.loc[:,sens].values\n",
    "        train_attack = X_attack.loc[:,sens].values\n",
    "        model = Pipeline()\n",
    "        model.fit(train_normal,train_attack,lag,stride,optimal_k=1,tune=False,kscore_init='inertia',corr_normal=corr_normal[:,i].reshape(nolag_normal,len(X_normal.columns)).T,corr_attack=corr_attack[:,i].reshape(nolag_attack,len(X_attack.columns)).T,only_corr=True)\n",
    "        test = X_test.loc[:,sens].values\n",
    "        y_predicted = model.predict(test,corr_test[:,i].reshape(nolag_test,len(X_test.columns)).T)\n",
    "        sensor_predicted.append(y_predicted)\n",
    "        accuracy.append(accuracy_score(y_actual,y_predicted))\n",
    "        precision.append(precision_score(y_actual,y_predicted))\n",
    "        recall.append(recall_score(y_actual,y_predicted))\n",
    "        fscore.append(f1_score(y_actual,y_predicted))\n",
    "        fpr.append(calculate_fpr(y_actual,y_predicted))\n",
    "        sensor_models.append(model)    \n",
    "    sensor_predicted = np.asarray(sensor_predicted)\n",
    "    y_predicted = np.any(sensor_predicted,axis=0).astype(int)\n",
    "    cluster_accuracy_2.append(accuracy_score(y_actual, y_predicted))\n",
    "    cluster_precision_2.append(precision_score(y_actual,y_predicted))\n",
    "    cluster_recall_2.append(recall_score(y_actual,y_predicted))\n",
    "    cluster_fscore_2.append(f1_score(y_actual,y_predicted))\n",
    "    cluster_fpr_2.append(calculate_fpr(y_actual,y_predicted))\n",
    "    print('------Number of Clusters: ',k,'-----------') \n",
    "    print(\"Accuracy \",cluster_accuracy_2[-1])\n",
    "    print(\"Precision \",cluster_precision_2[-1])\n",
    "    print(\"Recall \",cluster_recall_2[-1])\n",
    "    print(\"F1-score \",cluster_fscore_2[-1])\n",
    "    print(\"False Positive Rate \",cluster_fpr_2[-1],\"/n\") "
   ]
  },
  {
   "cell_type": "code",
   "execution_count": 21,
   "metadata": {},
   "outputs": [
    {
     "name": "stdout",
     "output_type": "stream",
     "text": [
      "Accuracy Scores:  [0.8088235294117647, 0.8088235294117647, 0.8088235294117647, 0.8088235294117647, 0.8088235294117647, 0.7941176470588235]\n",
      "Precision Scores:  [0.8076923076923077, 0.8076923076923077, 0.8076923076923077, 0.8076923076923077, 0.8076923076923077, 0.8]\n",
      "Recall Scores:  [0.7241379310344828, 0.7241379310344828, 0.7241379310344828, 0.7241379310344828, 0.7241379310344828, 0.6896551724137931]\n",
      "F1 Scores:  [0.7636363636363636, 0.7636363636363636, 0.7636363636363636, 0.7636363636363636, 0.7636363636363636, 0.7407407407407408]\n",
      "False Positive Rates:  [0.1282051282051282, 0.1282051282051282, 0.1282051282051282, 0.1282051282051282, 0.1282051282051282, 0.1282051282051282]\n"
     ]
    }
   ],
   "source": [
    "print(\"Accuracy Scores: \",cluster_accuracy_2)\n",
    "print(\"Precision Scores: \",cluster_precision_2)\n",
    "print(\"Recall Scores: \",cluster_recall_2)\n",
    "print(\"F1 Scores: \",cluster_fscore_2)\n",
    "print(\"False Positive Rates: \",cluster_fpr_2)"
   ]
  },
  {
   "cell_type": "markdown",
   "metadata": {},
   "source": [
    "# Multiple clusters + Threshold tuning (No concat of training and test data)"
   ]
  },
  {
   "cell_type": "code",
   "execution_count": 19,
   "metadata": {},
   "outputs": [
    {
     "name": "stdout",
     "output_type": "stream",
     "text": [
      "------Number of Clusters:  2 -----------\n",
      "Accuracy  0.7352941176470589\n",
      "Precision  0.72\n",
      "Recall  0.6206896551724138\n",
      "F1-score  0.6666666666666666\n",
      "False Positive Rate  0.01794871794871795 /n\n",
      "------Number of Clusters:  3 -----------\n",
      "Accuracy  0.7647058823529411\n",
      "Precision  0.7407407407407407\n",
      "Recall  0.6896551724137931\n",
      "F1-score  0.7142857142857143\n",
      "False Positive Rate  0.01794871794871795 /n\n",
      "------Number of Clusters:  4 -----------\n",
      "Accuracy  0.7352941176470589\n",
      "Precision  0.6571428571428571\n",
      "Recall  0.7931034482758621\n",
      "F1-score  0.71875\n",
      "False Positive Rate  0.03076923076923077 /n\n",
      "------Number of Clusters:  5 -----------\n",
      "Accuracy  0.7205882352941176\n",
      "Precision  0.625\n",
      "Recall  0.8620689655172413\n",
      "F1-score  0.7246376811594203\n",
      "False Positive Rate  0.038461538461538464 /n\n",
      "------Number of Clusters:  6 -----------\n",
      "Accuracy  0.7352941176470589\n",
      "Precision  0.6341463414634146\n",
      "Recall  0.896551724137931\n",
      "F1-score  0.7428571428571429\n",
      "False Positive Rate  0.038461538461538464 /n\n",
      "------Number of Clusters:  7 -----------\n",
      "Accuracy  0.7352941176470589\n",
      "Precision  0.6341463414634146\n",
      "Recall  0.896551724137931\n",
      "F1-score  0.7428571428571429\n",
      "False Positive Rate  0.038461538461538464 /n\n",
      "------Number of Clusters:  8 -----------\n",
      "Accuracy  0.6617647058823529\n",
      "Precision  0.5681818181818182\n",
      "Recall  0.8620689655172413\n",
      "F1-score  0.6849315068493151\n",
      "False Positive Rate  0.04871794871794872 /n\n",
      "------Number of Clusters:  9 -----------\n",
      "Accuracy  0.6323529411764706\n",
      "Precision  0.54\n",
      "Recall  0.9310344827586207\n",
      "F1-score  0.6835443037974683\n",
      "False Positive Rate  0.05897435897435898 /n\n"
     ]
    }
   ],
   "source": [
    "cluster_accuracy_3 = []\n",
    "cluster_precision_3 = []\n",
    "cluster_recall_3 = []\n",
    "cluster_fscore_3 = []\n",
    "cluster_fpr_3 = []\n",
    "for k in range(2,10):\n",
    "    sensor_models = []\n",
    "    sensor_predicted = []\n",
    "    accuracy = []\n",
    "    precision = []\n",
    "    recall = []\n",
    "    fscore = []\n",
    "    fpr = []\n",
    "    for sens in sensors:\n",
    "        train_normal = X_normal.loc[:,sens].values\n",
    "        train_attack = X_attack.loc[:,sens].values\n",
    "        model = Pipeline()\n",
    "        model.fit(train_normal,train_attack,lag,stride,optimal_k = k,tune=True,kscore_init='inertia',corr_normal=corr_normal[:,i].reshape(nolag_normal,len(X_normal.columns)).T,corr_attack=corr_attack[:,i].reshape(nolag_attack,len(X_attack.columns)).T,only_corr=True)\n",
    "        test = X_test.loc[:,sens].values\n",
    "        y_predicted = model.predict(test,corr_test=corr_test[:,i].reshape(nolag_test,len(X_test.columns)).T)\n",
    "        sensor_predicted.append(y_predicted)\n",
    "        accuracy.append(accuracy_score(y_actual,y_predicted))\n",
    "        precision.append(precision_score(y_actual,y_predicted))\n",
    "        recall.append(recall_score(y_actual,y_predicted))\n",
    "        fscore.append(f1_score(y_actual,y_predicted))\n",
    "        fpr.append(calculate_fpr(y_actual,y_predicted))\n",
    "        sensor_models.append(model)    \n",
    "    sensor_predicted = np.asarray(sensor_predicted)\n",
    "    sensor_mean = np.mean(sensor_predicted, axis=0)\n",
    "    y_predicted = (sensor_mean > 0.03).astype(int)\n",
    "    # y_predicted = np.any(sensor_predicted,axis=0).astype(int)\n",
    "    cluster_accuracy_3.append(accuracy_score(y_actual, y_predicted))\n",
    "    cluster_precision_3.append(precision_score(y_actual,y_predicted))\n",
    "    cluster_recall_3.append(recall_score(y_actual,y_predicted))\n",
    "    cluster_fscore_3.append(f1_score(y_actual,y_predicted))\n",
    "    cluster_fpr_3.append(calculate_fpr(y_actual,y_predicted))\n",
    "    print('------Number of Clusters: ',k,'-----------') \n",
    "    print(\"Accuracy \",cluster_accuracy_3[-1])\n",
    "    print(\"Precision \",cluster_precision_3[-1])\n",
    "    print(\"Recall \",cluster_recall_3[-1])\n",
    "    print(\"F1-score \",cluster_fscore_3[-1])\n",
    "    print(\"False Positive Rate \",cluster_fpr_3[-1],\"/n\") "
   ]
  },
  {
   "cell_type": "code",
   "execution_count": 20,
   "metadata": {},
   "outputs": [
    {
     "name": "stdout",
     "output_type": "stream",
     "text": [
      "Accuracy Scores:  [0.7352941176470589, 0.7647058823529411, 0.7352941176470589, 0.7205882352941176, 0.7352941176470589, 0.7352941176470589, 0.6617647058823529, 0.6323529411764706]\n",
      "Precision Scores:  [0.72, 0.7407407407407407, 0.6571428571428571, 0.625, 0.6341463414634146, 0.6341463414634146, 0.5681818181818182, 0.54]\n",
      "Recall Scores:  [0.6206896551724138, 0.6896551724137931, 0.7931034482758621, 0.8620689655172413, 0.896551724137931, 0.896551724137931, 0.8620689655172413, 0.9310344827586207]\n",
      "F1 Scores:  [0.6666666666666666, 0.7142857142857143, 0.71875, 0.7246376811594203, 0.7428571428571429, 0.7428571428571429, 0.6849315068493151, 0.6835443037974683]\n",
      "False Positive Rates:  [0.01794871794871795, 0.01794871794871795, 0.03076923076923077, 0.038461538461538464, 0.038461538461538464, 0.038461538461538464, 0.04871794871794872, 0.05897435897435898]\n"
     ]
    }
   ],
   "source": [
    "print(\"Accuracy Scores: \",cluster_accuracy_3)\n",
    "print(\"Precision Scores: \",cluster_precision_3)\n",
    "print(\"Recall Scores: \",cluster_recall_3)\n",
    "print(\"F1 Scores: \",cluster_fscore_3)\n",
    "print(\"False Positive Rates: \",cluster_fpr_3)"
   ]
  },
  {
   "cell_type": "code",
   "execution_count": 18,
   "metadata": {},
   "outputs": [
    {
     "name": "stdout",
     "output_type": "stream",
     "text": [
      "------Percentage Sensor in Attack:  0.0 -----------\n",
      "Accuracy  0.7058823529411765\n",
      "Precision  0.6285714285714286\n",
      "Recall  0.7586206896551724\n",
      "F1-score  0.6875\n",
      "False Positive Rate  0.03333333333333333 \n",
      "\n",
      "------Percentage Sensor in Attack:  0.01 -----------\n",
      "Accuracy  0.7058823529411765\n",
      "Precision  0.6285714285714286\n",
      "Recall  0.7586206896551724\n",
      "F1-score  0.6875\n",
      "False Positive Rate  0.03333333333333333 \n",
      "\n",
      "------Percentage Sensor in Attack:  0.02 -----------\n",
      "Accuracy  0.7058823529411765\n",
      "Precision  0.6285714285714286\n",
      "Recall  0.7586206896551724\n",
      "F1-score  0.6875\n",
      "False Positive Rate  0.03333333333333333 \n",
      "\n",
      "------Percentage Sensor in Attack:  0.03 -----------\n",
      "Accuracy  0.7647058823529411\n",
      "Precision  0.76\n",
      "Recall  0.6551724137931034\n",
      "F1-score  0.7037037037037037\n",
      "False Positive Rate  0.015384615384615385 \n",
      "\n",
      "------Percentage Sensor in Attack:  0.04 -----------\n",
      "Accuracy  0.7647058823529411\n",
      "Precision  0.76\n",
      "Recall  0.6551724137931034\n",
      "F1-score  0.7037037037037037\n",
      "False Positive Rate  0.015384615384615385 \n",
      "\n",
      "------Percentage Sensor in Attack:  0.05 -----------\n",
      "Accuracy  0.7205882352941176\n",
      "Precision  0.75\n",
      "Recall  0.5172413793103449\n",
      "F1-score  0.6122448979591838\n",
      "False Positive Rate  0.01282051282051282 \n",
      "\n",
      "------Percentage Sensor in Attack:  0.06 -----------\n",
      "Accuracy  0.7205882352941176\n",
      "Precision  0.75\n",
      "Recall  0.5172413793103449\n",
      "F1-score  0.6122448979591838\n",
      "False Positive Rate  0.01282051282051282 \n",
      "\n",
      "------Percentage Sensor in Attack:  0.07 -----------\n",
      "Accuracy  0.6617647058823529\n",
      "Precision  0.6875\n",
      "Recall  0.3793103448275862\n",
      "F1-score  0.4888888888888889\n",
      "False Positive Rate  0.01282051282051282 \n",
      "\n",
      "------Percentage Sensor in Attack:  0.08 -----------\n",
      "Accuracy  0.6617647058823529\n",
      "Precision  0.6875\n",
      "Recall  0.3793103448275862\n",
      "F1-score  0.4888888888888889\n",
      "False Positive Rate  0.01282051282051282 \n",
      "\n",
      "------Percentage Sensor in Attack:  0.09 -----------\n",
      "Accuracy  0.6617647058823529\n",
      "Precision  0.6875\n",
      "Recall  0.3793103448275862\n",
      "F1-score  0.4888888888888889\n",
      "False Positive Rate  0.01282051282051282 \n",
      "\n",
      "------Percentage Sensor in Attack:  0.1 -----------\n",
      "Accuracy  0.6617647058823529\n",
      "Precision  0.6875\n",
      "Recall  0.3793103448275862\n",
      "F1-score  0.4888888888888889\n",
      "False Positive Rate  0.01282051282051282 \n",
      "\n",
      "------Percentage Sensor in Attack:  0.11 -----------\n",
      "Accuracy  0.6617647058823529\n",
      "Precision  0.6875\n",
      "Recall  0.3793103448275862\n",
      "F1-score  0.4888888888888889\n",
      "False Positive Rate  0.01282051282051282 \n",
      "\n",
      "------Percentage Sensor in Attack:  0.12 -----------\n",
      "Accuracy  0.6764705882352942\n",
      "Precision  0.7692307692307693\n",
      "Recall  0.3448275862068966\n",
      "F1-score  0.47619047619047616\n",
      "False Positive Rate  0.007692307692307693 \n",
      "\n",
      "------Percentage Sensor in Attack:  0.13 -----------\n",
      "Accuracy  0.6764705882352942\n",
      "Precision  0.7692307692307693\n",
      "Recall  0.3448275862068966\n",
      "F1-score  0.47619047619047616\n",
      "False Positive Rate  0.007692307692307693 \n",
      "\n",
      "------Percentage Sensor in Attack:  0.14 -----------\n",
      "Accuracy  0.6617647058823529\n",
      "Precision  0.75\n",
      "Recall  0.3103448275862069\n",
      "F1-score  0.4390243902439025\n",
      "False Positive Rate  0.007692307692307693 \n",
      "\n",
      "------Percentage Sensor in Attack:  0.15 -----------\n",
      "Accuracy  0.6617647058823529\n",
      "Precision  0.75\n",
      "Recall  0.3103448275862069\n",
      "F1-score  0.4390243902439025\n",
      "False Positive Rate  0.007692307692307693 \n",
      "\n",
      "------Percentage Sensor in Attack:  0.16 -----------\n",
      "Accuracy  0.6617647058823529\n",
      "Precision  0.75\n",
      "Recall  0.3103448275862069\n",
      "F1-score  0.4390243902439025\n",
      "False Positive Rate  0.007692307692307693 \n",
      "\n",
      "------Percentage Sensor in Attack:  0.17 -----------\n",
      "Accuracy  0.6470588235294118\n",
      "Precision  0.7777777777777778\n",
      "Recall  0.2413793103448276\n",
      "F1-score  0.368421052631579\n",
      "False Positive Rate  0.005128205128205128 \n",
      "\n",
      "------Percentage Sensor in Attack:  0.18 -----------\n",
      "Accuracy  0.6470588235294118\n",
      "Precision  0.7777777777777778\n",
      "Recall  0.2413793103448276\n",
      "F1-score  0.368421052631579\n",
      "False Positive Rate  0.005128205128205128 \n",
      "\n",
      "------Percentage Sensor in Attack:  0.19 -----------\n",
      "Accuracy  0.6323529411764706\n",
      "Precision  0.75\n",
      "Recall  0.20689655172413793\n",
      "F1-score  0.32432432432432434\n",
      "False Positive Rate  0.005128205128205128 \n",
      "\n",
      "------Percentage Sensor in Attack:  0.2 -----------\n",
      "Accuracy  0.6323529411764706\n",
      "Precision  0.75\n",
      "Recall  0.20689655172413793\n",
      "F1-score  0.32432432432432434\n",
      "False Positive Rate  0.005128205128205128 \n",
      "\n"
     ]
    }
   ],
   "source": [
    "sensor_predicted_temp = []\n",
    "for sens in sensors:\n",
    "    train_normal = X_normal.loc[:,sens].values\n",
    "    train_attack = X_attack.loc[:,sens].values\n",
    "    model = Pipeline()\n",
    "    model.fit(train_normal,train_attack,lag,stride,optimal_k = 2,tune=True,kscore_init='inertia',corr_normal=corr_normal[:,i].reshape(nolag_normal,len(X_normal.columns)).T,corr_attack=corr_attack[:,i].reshape(nolag_attack,len(X_attack.columns)).T,only_corr=True)\n",
    "    test = X_test.loc[:,sens].values\n",
    "    y_predicted = model.predict(test,corr_test=corr_test[:,i].reshape(nolag_test,len(X_test.columns)).T)\n",
    "    sensor_predicted_temp.append(y_predicted)   \n",
    "\n",
    "sensor_predicted_temp = np.asarray(sensor_predicted_temp)\n",
    "sensor_mean = np.mean(sensor_predicted_temp, axis=0)\n",
    "pcts = [i/100 for i in range(21)]\n",
    "for pct in pcts:\n",
    "    y_predicted = (sensor_mean > pct).astype(int)\n",
    "    print('------Percentage Sensor in Attack: ',pct,'-----------') \n",
    "    print(\"Accuracy \",accuracy_score(y_actual, y_predicted))\n",
    "    print(\"Precision \",precision_score(y_actual,y_predicted))\n",
    "    print(\"Recall \",recall_score(y_actual,y_predicted))\n",
    "    print(\"F1-score \",f1_score(y_actual,y_predicted))\n",
    "    print(\"False Positive Rate \",calculate_fpr(y_actual,y_predicted),\"\\n\")"
   ]
  },
  {
   "cell_type": "code",
   "execution_count": null,
   "metadata": {},
   "outputs": [],
   "source": []
  }
 ],
 "metadata": {
  "kernelspec": {
   "display_name": "Python 3",
   "language": "python",
   "name": "python3"
  },
  "language_info": {
   "codemirror_mode": {
    "name": "ipython",
    "version": 3
   },
   "file_extension": ".py",
   "mimetype": "text/x-python",
   "name": "python",
   "nbconvert_exporter": "python",
   "pygments_lexer": "ipython3",
   "version": "3.9.13"
  }
 },
 "nbformat": 4,
 "nbformat_minor": 2
}
