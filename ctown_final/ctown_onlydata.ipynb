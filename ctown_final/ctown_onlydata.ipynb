{
 "cells": [
  {
   "cell_type": "code",
   "execution_count": 30,
   "metadata": {},
   "outputs": [],
   "source": [
    "import sys\n",
    "sys.path.append(\"C:/Users/user/meepc\")\n",
    "import numpy as np\n",
    "import pandas as pd\n",
    "from models import Hankel,Pipeline\n",
    "from sklearn.preprocessing import StandardScaler\n",
    "from sklearn.metrics import accuracy_score,precision_score,recall_score,f1_score,roc_auc_score"
   ]
  },
  {
   "cell_type": "code",
   "execution_count": 31,
   "metadata": {},
   "outputs": [],
   "source": [
    "def calculate_fpr(y_actual, y_prediction):\n",
    "    fp = 0\n",
    "    tn = 0\n",
    "    for i in range(len(y_actual)):\n",
    "        if y_actual[i] == 0 and y_prediction[i] == 1:\n",
    "            fp += 1\n",
    "        elif y_actual[i] == 0 and y_prediction[i] == 0:\n",
    "            tn += 1\n",
    "    fpr= fp/(fp+tn)\n",
    "    return 0.1*fpr"
   ]
  },
  {
   "cell_type": "code",
   "execution_count": 32,
   "metadata": {},
   "outputs": [],
   "source": [
    "df1 = pd.read_csv('~/data/ctown/dataset03.csv')\n",
    "df2 = pd.read_csv('~/data/ctown/dataset04.csv')\n",
    "\n",
    "train_normal = pd.concat((df1,df2[df2['ATT_FLAG']==0]),axis=0,ignore_index=True)\n",
    "train_attack = df2[df2['ATT_FLAG']==1]"
   ]
  },
  {
   "cell_type": "code",
   "execution_count": 33,
   "metadata": {},
   "outputs": [],
   "source": [
    "sensors = [col for col in train_normal.columns if col not in ['DATETIME','ATT_FLAG']]"
   ]
  },
  {
   "cell_type": "code",
   "execution_count": 34,
   "metadata": {},
   "outputs": [],
   "source": [
    "scaler = StandardScaler()\n",
    "X_normal = pd.DataFrame(index=train_normal.index, columns=sensors, data=scaler.fit_transform(train_normal[sensors]))\n",
    "X_attack = train_attack[sensors].reset_index().drop(columns=['index'])"
   ]
  },
  {
   "cell_type": "code",
   "execution_count": 35,
   "metadata": {},
   "outputs": [],
   "source": [
    "hankel = Hankel()\n",
    "lag = 60\n",
    "stride = 0.5"
   ]
  },
  {
   "cell_type": "code",
   "execution_count": 36,
   "metadata": {},
   "outputs": [],
   "source": [
    "df_test = pd.read_csv('~/data/ctown/test_dataset.csv')"
   ]
  },
  {
   "cell_type": "markdown",
   "metadata": {},
   "source": [
    "# Epasad with 1 cluster and no threshold tuning (training attack included in test data)"
   ]
  },
  {
   "cell_type": "code",
   "execution_count": 37,
   "metadata": {},
   "outputs": [],
   "source": [
    "test_combined = pd.concat((df_test,train_attack),axis=0)\n",
    "X_test = pd.DataFrame(index=test_combined.index, columns=sensors, data=scaler.fit_transform(test_combined[sensors]))\n",
    "Y_test = test_combined.loc[:,'ATT_FLAG']"
   ]
  },
  {
   "cell_type": "code",
   "execution_count": 38,
   "metadata": {},
   "outputs": [],
   "source": [
    "labels = hankel.fit(np.array(Y_test),lag,stride)\n",
    "y_actual = np.any(labels>0,axis=0).astype(int)"
   ]
  },
  {
   "cell_type": "code",
   "execution_count": 40,
   "metadata": {},
   "outputs": [],
   "source": [
    "sensor_models = []\n",
    "sensor_predicted = []\n",
    "accuracy = []\n",
    "precision = []\n",
    "recall = []\n",
    "fscore = []\n",
    "fpr = []\n",
    "for sens in sensors:\n",
    "    train_normal = X_normal.loc[:,sens].values\n",
    "    train_attack = X_attack.loc[:,sens].values\n",
    "    model = Pipeline()\n",
    "    model.fit(train_normal,train_attack,lag,stride,optimal_k=1,tune=False)\n",
    "    test = X_test.loc[:,sens].values\n",
    "    y_predicted = model.predict(test)\n",
    "    sensor_predicted.append(y_predicted)\n",
    "    accuracy.append(accuracy_score(y_actual,y_predicted))\n",
    "    precision.append(precision_score(y_actual,y_predicted))\n",
    "    recall.append(recall_score(y_actual,y_predicted))\n",
    "    fscore.append(f1_score(y_actual,y_predicted))\n",
    "    fpr.append(calculate_fpr(y_actual,y_predicted))\n",
    "    sensor_models.append(model)    "
   ]
  },
  {
   "cell_type": "code",
   "execution_count": 41,
   "metadata": {},
   "outputs": [
    {
     "data": {
      "text/plain": [
       "array([1, 0, 0, 0, 0, 1, 0, 0, 0, 0, 1, 1, 1, 1, 0, 0, 0, 1, 0, 0, 1, 1,\n",
       "       1, 0, 0, 0, 0, 0, 1, 1, 1, 1, 1, 0, 0, 1, 0, 0, 0, 1, 1, 1, 1, 1,\n",
       "       1, 0, 0, 0, 0, 1, 0, 1, 1, 1, 0, 0, 0, 0, 0, 0, 0, 1, 1, 1, 1, 1,\n",
       "       1, 1, 1, 1, 1, 1, 1, 1, 1, 1, 1, 1, 1, 1, 1, 1, 1, 1, 1])"
      ]
     },
     "execution_count": 41,
     "metadata": {},
     "output_type": "execute_result"
    }
   ],
   "source": [
    "sensor_predicted = np.asarray(sensor_predicted)\n",
    "y_predicted = np.any(sensor_predicted,axis=0).astype(int)\n",
    "y_predicted"
   ]
  },
  {
   "cell_type": "code",
   "execution_count": 42,
   "metadata": {},
   "outputs": [
    {
     "name": "stdout",
     "output_type": "stream",
     "text": [
      "Accuracy  0.8117647058823529\n",
      "Precision  0.8\n",
      "Recall  0.8695652173913043\n",
      "F1-score  0.8333333333333333\n",
      "False Positive Rate  0.02564102564102564\n"
     ]
    }
   ],
   "source": [
    "print(\"Accuracy \",accuracy_score(y_actual,y_predicted))\n",
    "print(\"Precision \",precision_score(y_actual,y_predicted))\n",
    "print(\"Recall \",recall_score(y_actual,y_predicted))\n",
    "print(\"F1-score \",f1_score(y_actual,y_predicted))\n",
    "print(\"False Positive Rate \",calculate_fpr(y_actual,y_predicted))"
   ]
  },
  {
   "cell_type": "code",
   "execution_count": 43,
   "metadata": {},
   "outputs": [
    {
     "name": "stdout",
     "output_type": "stream",
     "text": [
      "Accuracy -  Mean: 0.503967168262654 Median : 0.5058823529411764 Min : 0.4470588235294118 Max : 0.6235294117647059\n",
      "precision - Mean: 0.6852574750830565 Median : 1.0 Min : 0.0 Max : 1.0\n",
      "recall -    Mean: 0.09049544994944388 Median : 0.08695652173913043 Min : 0.0 Max : 0.32608695652173914\n",
      "f1 -        Mean: 0.15494538304208694 Median : 0.16 Min : 0.0 Max : 0.48387096774193544\n",
      "fpr -        Mean: 0.000834824090638044 Median : 0.0 Min : 0.0 Max : 0.007692307692307693\n"
     ]
    }
   ],
   "source": [
    "print(\"Accuracy -  Mean: {} Median : {} Min : {} Max : {}\".format(np.asarray(accuracy).mean(), np.median(np.asarray(accuracy)),np.asarray(accuracy).min(), np.asarray(accuracy).max()))\n",
    "print(\"precision - Mean: {} Median : {} Min : {} Max : {}\".format(np.asarray(precision).mean(), np.median(np.asarray(precision)),np.asarray(precision).min(), np.asarray(precision).max()))\n",
    "print(\"recall -    Mean: {} Median : {} Min : {} Max : {}\".format(np.asarray(recall).mean(), np.median(np.asarray(recall)),np.asarray(recall).min(), np.asarray(recall).max()))\n",
    "print(\"f1 -        Mean: {} Median : {} Min : {} Max : {}\".format(np.asarray(fscore).mean(), np.median(np.asarray(fscore)),np.asarray(fscore).min(), np.asarray(fscore).max()))\n",
    "print(\"fpr -        Mean: {} Median : {} Min : {} Max : {}\".format(np.asarray(fpr).mean(), np.median(np.asarray(fpr)),np.asarray(fpr).min(), np.asarray(fpr).max()))"
   ]
  },
  {
   "cell_type": "markdown",
   "metadata": {},
   "source": [
    "# Multiple clusters + No threshold tuning (training attack mixed in test data)"
   ]
  },
  {
   "cell_type": "code",
   "execution_count": null,
   "metadata": {},
   "outputs": [
    {
     "name": "stdout",
     "output_type": "stream",
     "text": [
      "------Number of Clusters:  2 -----------\n",
      "Accuracy  0.8\n",
      "Precision  0.8222222222222222\n",
      "Recall  0.8043478260869565\n",
      "F1-score  0.8131868131868132\n",
      "False Positive Rate  0.020512820512820513 \n",
      "\n",
      "------Number of Clusters:  3 -----------\n",
      "Accuracy  0.7529411764705882\n",
      "Precision  0.7450980392156863\n",
      "Recall  0.8260869565217391\n",
      "F1-score  0.7835051546391751\n",
      "False Positive Rate  0.03333333333333333 \n",
      "\n",
      "------Number of Clusters:  4 -----------\n",
      "Accuracy  0.7647058823529411\n",
      "Precision  0.7407407407407407\n",
      "Recall  0.8695652173913043\n",
      "F1-score  0.7999999999999999\n",
      "False Positive Rate  0.0358974358974359 \n",
      "\n",
      "------Number of Clusters:  5 -----------\n",
      "Accuracy  0.7294117647058823\n",
      "Precision  0.7017543859649122\n",
      "Recall  0.8695652173913043\n",
      "F1-score  0.7766990291262136\n",
      "False Positive Rate  0.043589743589743594 \n",
      "\n",
      "------Number of Clusters:  6 -----------\n",
      "Accuracy  0.7411764705882353\n",
      "Precision  0.6935483870967742\n",
      "Recall  0.9347826086956522\n",
      "F1-score  0.7962962962962964\n",
      "False Positive Rate  0.04871794871794872 \n",
      "\n",
      "------Number of Clusters:  7 -----------\n",
      "Accuracy  0.6823529411764706\n",
      "Precision  0.6557377049180327\n",
      "Recall  0.8695652173913043\n",
      "F1-score  0.7476635514018691\n",
      "False Positive Rate  0.05384615384615385 \n",
      "\n"
     ]
    }
   ],
   "source": [
    "cluster_accuracy_1 = []\n",
    "cluster_precision_1 = []\n",
    "cluster_recall_1 = []\n",
    "cluster_fscore_1 = []\n",
    "cluster_fpr_1 = []\n",
    "for k in range(2,8):\n",
    "    sensor_models = []\n",
    "    sensor_predicted = []\n",
    "    accuracy = []\n",
    "    precision = []\n",
    "    recall = []\n",
    "    fscore = []\n",
    "    fpr = []\n",
    "    for i,sens in enumerate(sensors):\n",
    "        train_normal = X_normal.loc[:,sens].values\n",
    "        train_attack = X_attack.loc[:,sens].values\n",
    "        model = Pipeline()\n",
    "        model.fit(train_normal,train_attack,lag,stride,optimal_k=k,tune=False,kscore_init='inertia')\n",
    "        test = X_test.loc[:,sens].values\n",
    "        y_predicted = model.predict(test)\n",
    "        sensor_predicted.append(y_predicted)\n",
    "        accuracy.append(accuracy_score(y_actual,y_predicted))\n",
    "        precision.append(precision_score(y_actual,y_predicted))\n",
    "        recall.append(recall_score(y_actual,y_predicted))\n",
    "        fscore.append(f1_score(y_actual,y_predicted))\n",
    "        fpr.append(calculate_fpr(y_actual,y_predicted))\n",
    "        sensor_models.append(model)  \n",
    "    sensor_predicted = np.asarray(sensor_predicted)\n",
    "    y_predicted = np.any(sensor_predicted,axis=0).astype(int) \n",
    "    cluster_accuracy_1.append(accuracy_score(y_actual, y_predicted))\n",
    "    cluster_precision_1.append(precision_score(y_actual,y_predicted))\n",
    "    cluster_recall_1.append(recall_score(y_actual,y_predicted))\n",
    "    cluster_fscore_1.append(f1_score(y_actual,y_predicted))\n",
    "    cluster_fpr_1.append(calculate_fpr(y_actual,y_predicted))\n",
    "    print('------Number of Clusters: ',k,'-----------') \n",
    "    print(\"Accuracy \",cluster_accuracy_1[-1])\n",
    "    print(\"Precision \",cluster_precision_1[-1])\n",
    "    print(\"Recall \",cluster_recall_1[-1])\n",
    "    print(\"F1-score \",cluster_fscore_1[-1])\n",
    "    print(\"False Positive Rate \",cluster_fpr_1[-1],\"\\n\") "
   ]
  },
  {
   "cell_type": "code",
   "execution_count": null,
   "metadata": {},
   "outputs": [
    {
     "name": "stdout",
     "output_type": "stream",
     "text": [
      "Accuracy Scores:  [0.8, 0.7529411764705882, 0.7647058823529411, 0.7294117647058823, 0.7411764705882353, 0.6823529411764706]\n",
      "Precision Scores:  [0.8222222222222222, 0.7450980392156863, 0.7407407407407407, 0.7017543859649122, 0.6935483870967742, 0.6557377049180327]\n",
      "Recall Scores:  [0.8043478260869565, 0.8260869565217391, 0.8695652173913043, 0.8695652173913043, 0.9347826086956522, 0.8695652173913043]\n",
      "F1 Scores:  [0.8131868131868132, 0.7835051546391751, 0.7999999999999999, 0.7766990291262136, 0.7962962962962964, 0.7476635514018691]\n",
      "False Positive Rates:  [0.020512820512820513, 0.03333333333333333, 0.0358974358974359, 0.043589743589743594, 0.04871794871794872, 0.05384615384615385]\n"
     ]
    }
   ],
   "source": [
    "print(\"Accuracy Scores: \",cluster_accuracy_1)\n",
    "print(\"Precision Scores: \",cluster_precision_1)\n",
    "print(\"Recall Scores: \",cluster_recall_1)\n",
    "print(\"F1 Scores: \",cluster_fscore_1)\n",
    "print(\"False Positive Rates: \",cluster_fpr_1)"
   ]
  },
  {
   "cell_type": "markdown",
   "metadata": {},
   "source": [
    "# Multiple clusters + No threshold tuning (No concat of training and test data)"
   ]
  },
  {
   "cell_type": "code",
   "execution_count": 44,
   "metadata": {},
   "outputs": [],
   "source": [
    "X_test = pd.DataFrame(index=df_test.index, columns=sensors, data=scaler.fit_transform(df_test[sensors]))\n",
    "Y_test = df_test.loc[:,'ATT_FLAG']"
   ]
  },
  {
   "cell_type": "code",
   "execution_count": 45,
   "metadata": {},
   "outputs": [],
   "source": [
    "labels = hankel.fit(np.array(Y_test),lag,stride)\n",
    "y_actual = np.any(labels>0,axis=0).astype(int)"
   ]
  },
  {
   "cell_type": "code",
   "execution_count": 47,
   "metadata": {},
   "outputs": [
    {
     "name": "stdout",
     "output_type": "stream",
     "text": [
      "------Number of Clusters:  2 -----------\n",
      "Accuracy  0.7058823529411765\n",
      "Precision  0.6216216216216216\n",
      "Recall  0.7931034482758621\n",
      "F1-score  0.696969696969697\n",
      "False Positive Rate  0.0358974358974359 /n\n",
      "------Number of Clusters:  3 -----------\n",
      "Accuracy  0.6764705882352942\n",
      "Precision  0.6\n",
      "Recall  0.7241379310344828\n",
      "F1-score  0.65625\n",
      "False Positive Rate  0.0358974358974359 /n\n",
      "------Number of Clusters:  4 -----------\n",
      "Accuracy  0.6176470588235294\n",
      "Precision  0.5348837209302325\n",
      "Recall  0.7931034482758621\n",
      "F1-score  0.6388888888888888\n",
      "False Positive Rate  0.05128205128205128 /n\n",
      "------Number of Clusters:  5 -----------\n",
      "Accuracy  0.6029411764705882\n",
      "Precision  0.5227272727272727\n",
      "Recall  0.7931034482758621\n",
      "F1-score  0.6301369863013699\n",
      "False Positive Rate  0.05384615384615385 /n\n",
      "------Number of Clusters:  6 -----------\n",
      "Accuracy  0.6176470588235294\n",
      "Precision  0.5348837209302325\n",
      "Recall  0.7931034482758621\n",
      "F1-score  0.6388888888888888\n",
      "False Positive Rate  0.05128205128205128 /n\n",
      "------Number of Clusters:  7 -----------\n",
      "Accuracy  0.5294117647058824\n",
      "Precision  0.4716981132075472\n",
      "Recall  0.8620689655172413\n",
      "F1-score  0.6097560975609757\n",
      "False Positive Rate  0.0717948717948718 /n\n"
     ]
    }
   ],
   "source": [
    "cluster_accuracy_2 = []\n",
    "cluster_precision_2 = []\n",
    "cluster_recall_2 = []\n",
    "cluster_fscore_2 = []\n",
    "cluster_fpr_2 = []\n",
    "for k in range(2,8):\n",
    "    sensor_models = []\n",
    "    sensor_predicted = []\n",
    "    accuracy = []\n",
    "    precision = []\n",
    "    recall = []\n",
    "    fscore = []\n",
    "    fpr = []\n",
    "    for sens in sensors:\n",
    "        train_normal = X_normal.loc[:,sens].values\n",
    "        train_attack = X_attack.loc[:,sens].values\n",
    "        model = Pipeline()\n",
    "        model.fit(train_normal,train_attack,lag,stride,optimal_k=k,tune=False,kscore_init='inertia')\n",
    "        test = X_test.loc[:,sens].values\n",
    "        y_predicted = model.predict(test)\n",
    "        sensor_predicted.append(y_predicted)\n",
    "        accuracy.append(accuracy_score(y_actual,y_predicted))\n",
    "        precision.append(precision_score(y_actual,y_predicted))\n",
    "        recall.append(recall_score(y_actual,y_predicted))\n",
    "        fscore.append(f1_score(y_actual,y_predicted))\n",
    "        fpr.append(calculate_fpr(y_actual,y_predicted))\n",
    "        sensor_models.append(model)    \n",
    "    sensor_predicted = np.asarray(sensor_predicted)\n",
    "    y_predicted = np.any(sensor_predicted,axis=0).astype(int)\n",
    "    cluster_accuracy_2.append(accuracy_score(y_actual, y_predicted))\n",
    "    cluster_precision_2.append(precision_score(y_actual,y_predicted))\n",
    "    cluster_recall_2.append(recall_score(y_actual,y_predicted))\n",
    "    cluster_fscore_2.append(f1_score(y_actual,y_predicted))\n",
    "    cluster_fpr_2.append(calculate_fpr(y_actual,y_predicted))\n",
    "    print('------Number of Clusters: ',k,'-----------') \n",
    "    print(\"Accuracy \",cluster_accuracy_2[-1])\n",
    "    print(\"Precision \",cluster_precision_2[-1])\n",
    "    print(\"Recall \",cluster_recall_2[-1])\n",
    "    print(\"F1-score \",cluster_fscore_2[-1])\n",
    "    print(\"False Positive Rate \",cluster_fpr_2[-1],\"/n\") "
   ]
  },
  {
   "cell_type": "code",
   "execution_count": 48,
   "metadata": {},
   "outputs": [
    {
     "name": "stdout",
     "output_type": "stream",
     "text": [
      "Accuracy Scores:  [0.7058823529411765, 0.6764705882352942, 0.6176470588235294, 0.6029411764705882, 0.6176470588235294, 0.5294117647058824]\n",
      "Precision Scores:  [0.6216216216216216, 0.6, 0.5348837209302325, 0.5227272727272727, 0.5348837209302325, 0.4716981132075472]\n",
      "Recall Scores:  [0.7931034482758621, 0.7241379310344828, 0.7931034482758621, 0.7931034482758621, 0.7931034482758621, 0.8620689655172413]\n",
      "F1 Scores:  [0.696969696969697, 0.65625, 0.6388888888888888, 0.6301369863013699, 0.6388888888888888, 0.6097560975609757]\n",
      "False Positive Rates:  [0.0358974358974359, 0.0358974358974359, 0.05128205128205128, 0.05384615384615385, 0.05128205128205128, 0.0717948717948718]\n"
     ]
    }
   ],
   "source": [
    "print(\"Accuracy Scores: \",cluster_accuracy_2)\n",
    "print(\"Precision Scores: \",cluster_precision_2)\n",
    "print(\"Recall Scores: \",cluster_recall_2)\n",
    "print(\"F1 Scores: \",cluster_fscore_2)\n",
    "print(\"False Positive Rates: \",cluster_fpr_2)"
   ]
  },
  {
   "cell_type": "markdown",
   "metadata": {},
   "source": [
    "# Multiple clusters + Threshold tuning (No concat of training and test data)"
   ]
  },
  {
   "cell_type": "code",
   "execution_count": 50,
   "metadata": {},
   "outputs": [
    {
     "name": "stdout",
     "output_type": "stream",
     "text": [
      "------Number of Clusters:  2 -----------\n",
      "Accuracy  0.6176470588235294\n",
      "Precision  0.5333333333333333\n",
      "Recall  0.8275862068965517\n",
      "F1-score  0.6486486486486487\n",
      "False Positive Rate  0.05384615384615385 /n\n",
      "------Number of Clusters:  3 -----------\n",
      "Accuracy  0.6029411764705882\n",
      "Precision  0.5294117647058824\n",
      "Recall  0.6206896551724138\n",
      "F1-score  0.5714285714285715\n",
      "False Positive Rate  0.041025641025641026 /n\n",
      "------Number of Clusters:  4 -----------\n",
      "Accuracy  0.4117647058823529\n",
      "Precision  0.417910447761194\n",
      "Recall  0.9655172413793104\n",
      "F1-score  0.5833333333333333\n",
      "False Positive Rate  0.1 /n\n",
      "------Number of Clusters:  5 -----------\n",
      "Accuracy  0.6029411764705882\n",
      "Precision  0.52\n",
      "Recall  0.896551724137931\n",
      "F1-score  0.6582278481012658\n",
      "False Positive Rate  0.06153846153846154 /n\n",
      "------Number of Clusters:  6 -----------\n",
      "Accuracy  0.5441176470588235\n",
      "Precision  0.48214285714285715\n",
      "Recall  0.9310344827586207\n",
      "F1-score  0.6352941176470589\n",
      "False Positive Rate  0.07435897435897436 /n\n",
      "------Number of Clusters:  7 -----------\n",
      "Accuracy  0.4264705882352941\n",
      "Precision  0.4264705882352941\n",
      "Recall  1.0\n",
      "F1-score  0.5979381443298969\n",
      "False Positive Rate  0.1 /n\n",
      "------Number of Clusters:  8 -----------\n",
      "Accuracy  0.5588235294117647\n",
      "Precision  0.4897959183673469\n",
      "Recall  0.8275862068965517\n",
      "F1-score  0.6153846153846154\n",
      "False Positive Rate  0.06410256410256411 /n\n",
      "------Number of Clusters:  9 -----------\n",
      "Accuracy  0.5147058823529411\n",
      "Precision  0.46774193548387094\n",
      "Recall  1.0\n",
      "F1-score  0.6373626373626373\n",
      "False Positive Rate  0.08461538461538462 /n\n"
     ]
    }
   ],
   "source": [
    "cluster_accuracy_3 = []\n",
    "cluster_precision_3 = []\n",
    "cluster_recall_3 = []\n",
    "cluster_fscore_3 = []\n",
    "cluster_fpr_3 = []\n",
    "for k in range(2,10):\n",
    "    sensor_models = []\n",
    "    sensor_predicted = []\n",
    "    accuracy = []\n",
    "    precision = []\n",
    "    recall = []\n",
    "    fscore = []\n",
    "    fpr = []\n",
    "    for sens in sensors:\n",
    "        train_normal = X_normal.loc[:,sens].values\n",
    "        train_attack = X_attack.loc[:,sens].values\n",
    "        model = Pipeline()\n",
    "        model.fit(train_normal,train_attack,lag,stride,optimal_k = k,kscore_init='inertia')\n",
    "        test = X_test.loc[:,sens].values\n",
    "        y_predicted = model.predict(test)\n",
    "        sensor_predicted.append(y_predicted)\n",
    "        accuracy.append(accuracy_score(y_actual,y_predicted))\n",
    "        precision.append(precision_score(y_actual,y_predicted))\n",
    "        recall.append(recall_score(y_actual,y_predicted))\n",
    "        fscore.append(f1_score(y_actual,y_predicted))\n",
    "        fpr.append(calculate_fpr(y_actual,y_predicted))\n",
    "        sensor_models.append(model)    \n",
    "    sensor_predicted = np.asarray(sensor_predicted)\n",
    "    sensor_mean = np.mean(sensor_predicted, axis=0)\n",
    "    y_predicted = (sensor_mean > 0.1).astype(int)\n",
    "    # y_predicted = np.any(sensor_predicted,axis=0).astype(int)\n",
    "    cluster_accuracy_3.append(accuracy_score(y_actual, y_predicted))\n",
    "    cluster_precision_3.append(precision_score(y_actual,y_predicted))\n",
    "    cluster_recall_3.append(recall_score(y_actual,y_predicted))\n",
    "    cluster_fscore_3.append(f1_score(y_actual,y_predicted))\n",
    "    cluster_fpr_3.append(calculate_fpr(y_actual,y_predicted))\n",
    "    print('------Number of Clusters: ',k,'-----------') \n",
    "    print(\"Accuracy \",cluster_accuracy_3[-1])\n",
    "    print(\"Precision \",cluster_precision_3[-1])\n",
    "    print(\"Recall \",cluster_recall_3[-1])\n",
    "    print(\"F1-score \",cluster_fscore_3[-1])\n",
    "    print(\"False Positive Rate \",cluster_fpr_3[-1],\"/n\") "
   ]
  },
  {
   "cell_type": "code",
   "execution_count": 51,
   "metadata": {},
   "outputs": [
    {
     "name": "stdout",
     "output_type": "stream",
     "text": [
      "Accuracy Scores:  [0.6176470588235294, 0.6029411764705882, 0.4117647058823529, 0.6029411764705882, 0.5441176470588235, 0.4264705882352941, 0.5588235294117647, 0.5147058823529411]\n",
      "Precision Scores:  [0.5333333333333333, 0.5294117647058824, 0.417910447761194, 0.52, 0.48214285714285715, 0.4264705882352941, 0.4897959183673469, 0.46774193548387094]\n",
      "Recall Scores:  [0.8275862068965517, 0.6206896551724138, 0.9655172413793104, 0.896551724137931, 0.9310344827586207, 1.0, 0.8275862068965517, 1.0]\n",
      "F1 Scores:  [0.6486486486486487, 0.5714285714285715, 0.5833333333333333, 0.6582278481012658, 0.6352941176470589, 0.5979381443298969, 0.6153846153846154, 0.6373626373626373]\n",
      "False Positive Rates:  [0.05384615384615385, 0.041025641025641026, 0.1, 0.06153846153846154, 0.07435897435897436, 0.1, 0.06410256410256411, 0.08461538461538462]\n"
     ]
    }
   ],
   "source": [
    "print(\"Accuracy Scores: \",cluster_accuracy_3)\n",
    "print(\"Precision Scores: \",cluster_precision_3)\n",
    "print(\"Recall Scores: \",cluster_recall_3)\n",
    "print(\"F1 Scores: \",cluster_fscore_3)\n",
    "print(\"False Positive Rates: \",cluster_fpr_3)"
   ]
  },
  {
   "cell_type": "code",
   "execution_count": null,
   "metadata": {},
   "outputs": [],
   "source": []
  }
 ],
 "metadata": {
  "kernelspec": {
   "display_name": "Python 3",
   "language": "python",
   "name": "python3"
  },
  "language_info": {
   "codemirror_mode": {
    "name": "ipython",
    "version": 3
   },
   "file_extension": ".py",
   "mimetype": "text/x-python",
   "name": "python",
   "nbconvert_exporter": "python",
   "pygments_lexer": "ipython3",
   "version": "3.9.13"
  }
 },
 "nbformat": 4,
 "nbformat_minor": 2
}
