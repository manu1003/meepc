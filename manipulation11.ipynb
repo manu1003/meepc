{
 "cells": [
  {
   "cell_type": "code",
   "execution_count": 1,
   "metadata": {},
   "outputs": [],
   "source": [
    "import numpy as np\n",
    "import pandas as pd\n",
    "from models import Hankel,Rank,Cluster,Meepc\n",
    "import warnings\n",
    "warnings.simplefilter('ignore')\n",
    "import math\n",
    "from sklearn.cluster import KMeans\n",
    "from sklearn.preprocessing import StandardScaler"
   ]
  },
  {
   "cell_type": "code",
   "execution_count": 2,
   "metadata": {},
   "outputs": [],
   "source": [
    "df=pd.read_csv('/home/gajender/Documents/BATADAL_dataset04.csv')"
   ]
  },
  {
   "cell_type": "code",
   "execution_count": 5,
   "metadata": {},
   "outputs": [
    {
     "data": {
      "text/plain": [
       "Index(['DATETIME', ' L_T1', ' L_T2', ' L_T3', ' L_T4', ' L_T5', ' L_T6',\n",
       "       ' L_T7', ' F_PU1', ' S_PU1', ' F_PU2', ' S_PU2', ' F_PU3', ' S_PU3',\n",
       "       ' F_PU4', ' S_PU4', ' F_PU5', ' S_PU5', ' F_PU6', ' S_PU6', ' F_PU7',\n",
       "       ' S_PU7', ' F_PU8', ' S_PU8', ' F_PU9', ' S_PU9', ' F_PU10', ' S_PU10',\n",
       "       ' F_PU11', ' S_PU11', ' F_V2', ' S_V2', ' P_J280', ' P_J269', ' P_J300',\n",
       "       ' P_J256', ' P_J289', ' P_J415', ' P_J302', ' P_J306', ' P_J307',\n",
       "       ' P_J317', ' P_J14', ' P_J422', ' ATT_FLAG'],\n",
       "      dtype='object')"
      ]
     },
     "execution_count": 5,
     "metadata": {},
     "output_type": "execute_result"
    }
   ],
   "source": [
    "df.columns"
   ]
  },
  {
   "cell_type": "code",
   "execution_count": 12,
   "metadata": {},
   "outputs": [],
   "source": [
    "df_normal=df[df[' ATT_FLAG']!=1]"
   ]
  },
  {
   "cell_type": "code",
   "execution_count": 13,
   "metadata": {},
   "outputs": [],
   "source": [
    "df_attack=df[df[' ATT_FLAG']==1]"
   ]
  },
  {
   "cell_type": "code",
   "execution_count": null,
   "metadata": {},
   "outputs": [],
   "source": [
    "hankel = Hankel()\n",
    "rank = Rank()\n",
    "cluster = Cluster()\n",
    "meepc = Meepc.MEEPC()\n",
    "df = pd.read_csv('~/data/training_data.csv')\n",
    "df_colms=df.columns\n",
    "df_label=df.iloc[:,-1]\n",
    "df=df.iloc[:,:-1]\n",
    "scaler=StandardScaler()\n",
    "df=scaler.fit_transform(df)\n",
    "df=pd.DataFrame(df,columns=df_colms[:-1])\n",
    "df=pd.concat((df,df_label),axis=1)\n",
    "\n",
    "df_normal=df[df['Attack LABLE (1:No Attack, -1:Attack)']==1]\n",
    "df_attack=df[df['Attack LABLE (1:No Attack, -1:Attack)']==-1]\n",
    "df_test=pd.read_csv('~/data/testdata.csv')\n",
    "y_actual=df_test.iloc[:,-1]\n",
    "df_test=df_test.iloc[:,:-1]\n",
    "scaler=StandardScaler()\n",
    "df_test=scaler.fit_transform(df_test)\n",
    "df_test=pd.DataFrame(df_test,columns=df_colms[:-1])\n",
    "labels=hankel.fit(np.array(y_actual),30,0.5)\n",
    "isatt=np.any(labels<0,axis=0)\n",
    "att_indices=np.where(isatt)[0]\n",
    "att_indices"
   ]
  }
 ],
 "metadata": {
  "kernelspec": {
   "display_name": "base",
   "language": "python",
   "name": "python3"
  },
  "language_info": {
   "codemirror_mode": {
    "name": "ipython",
    "version": 3
   },
   "file_extension": ".py",
   "mimetype": "text/x-python",
   "name": "python",
   "nbconvert_exporter": "python",
   "pygments_lexer": "ipython3",
   "version": "3.9.13 (main, Aug 25 2022, 23:26:10) \n[GCC 11.2.0]"
  },
  "orig_nbformat": 4,
  "vscode": {
   "interpreter": {
    "hash": "53b584fcbb4de26fd06ec6c2cdf5e79eeceea3a87d14166bd7f17bce6a8842a5"
   }
  }
 },
 "nbformat": 4,
 "nbformat_minor": 2
}
