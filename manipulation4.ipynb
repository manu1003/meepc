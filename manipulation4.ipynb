{
 "cells": [
  {
   "cell_type": "code",
   "execution_count": 28,
   "metadata": {},
   "outputs": [],
   "source": [
    "import numpy as np\n",
    "import pandas as pd\n",
    "import math\n",
    "import matplotlib.pyplot as plt\n",
    "from numpy import linalg\n",
    "from random import random\n",
    "from copy import deepcopy\n",
    "from scipy.linalg import hankel, eigh\n",
    "from matplotlib import style\n",
    "from matplotlib.patches import Ellipse\n",
    "import seaborn as sns\n",
    "from sklearn.cluster import KMeans"
   ]
  },
  {
   "cell_type": "code",
   "execution_count": 29,
   "metadata": {},
   "outputs": [],
   "source": [
    "import warnings\n",
    "\n",
    "warnings.simplefilter('ignore')"
   ]
  },
  {
   "cell_type": "code",
   "execution_count": 30,
   "metadata": {},
   "outputs": [],
   "source": [
    "def final_X(M,UT):\n",
    "  return np.matmul(UT,M)"
   ]
  },
  {
   "cell_type": "code",
   "execution_count": 31,
   "metadata": {},
   "outputs": [],
   "source": [
    "def calc_centroid(X):\n",
    "  col_max = np.amax(X,axis=0)\n",
    "  col_min = np.amin(X,axis=0)\n",
    "  centroid = (col_max + col_min)/2\n",
    "  return centroid"
   ]
  },
  {
   "cell_type": "code",
   "execution_count": 32,
   "metadata": {},
   "outputs": [],
   "source": [
    "def calc_Z(X,centroid):\n",
    "  return (X-centroid)**2\n",
    "\n",
    "def calc_h(alpha,Z):\n",
    "  return np.matmul(alpha,Z)\n",
    "\n",
    "def isclose(a, b, rel_tol, abs_tol=0.0):\n",
    "    return abs(a-b) <= max(rel_tol * max(abs(a), abs(b)), abs_tol)\n",
    "\n",
    "def calc_s(rows,cols,h,alpha_old,Z,u,i):\n",
    "  ans=0\n",
    "  for j in range(cols):\n",
    "            s_i_j = h[j] - alpha_old[i]*Z[i][j]\n",
    "            ans += (1/(u + s_i_j/Z[i][j]))\n",
    "  return ans\n",
    "\n",
    "def binary(rows,cols,h,alpha_old,Z,i,low,high):\n",
    "  mid=(low+high)/2\n",
    "  temp_ans=calc_s(rows,cols,h,alpha_old,Z,mid,i)\n",
    "  while(not isclose(temp_ans,1,1e-05)):\n",
    "    # print(abs(temp_ans-1))\n",
    "    if(temp_ans>1):\n",
    "      low=mid\n",
    "    elif(temp_ans<1):\n",
    "      high=mid\n",
    "    else:\n",
    "      return mid\n",
    "    mid = (low+high)/2\n",
    "    # print(low,high,mid)\n",
    "    temp_ans=calc_s(rows,cols,h,alpha_old,Z,mid,i)\n",
    "  return mid\n",
    "\n",
    "def helper(rows,cols,h,alpha_old,Z,u,i):\n",
    "\n",
    "    u_old=u # this 0.00001 is step which i am decreasing the u for binary search..\n",
    "    \n",
    "    while(calc_s(rows,cols,h,alpha_old,Z,u,i)>1):\n",
    "        u_old=u\n",
    "        u*=2        \n",
    "    if u_old == u:\n",
    "        u = binary(rows,cols,h,alpha_old,Z,i,0,1)\n",
    "    else:\n",
    "        u =binary(rows,cols,h,alpha_old,Z,i,u_old,u)\n",
    "    return u\n",
    "\n",
    "def solution(rows,cols,Z,alpha,h,tol):\n",
    "    i = 0\n",
    "    updates = 0\n",
    "    converged = False\n",
    "    alpha_old = np.zeros(rows)\n",
    "    old = 0\n",
    "        \n",
    "    while i < rows:\n",
    "        if converged:\n",
    "            return h,alpha\n",
    "        alpha_old[i] = alpha[i]\n",
    "        f_x = 0\n",
    "        u=0\n",
    "        f_x=calc_s(rows,cols,h,alpha_old,Z,u,i)\n",
    "        \n",
    "        if f_x == 1:\n",
    "            alpha[i] = u\n",
    "        \n",
    "        if f_x < 1:\n",
    "\n",
    "            alpha[i] = 0\n",
    "\n",
    "        if f_x > 1:\n",
    "            alpha[i]= helper(rows,cols,h,alpha_old,Z,1,i)\n",
    "            \n",
    "                \n",
    "        h = h + (alpha[i] - alpha_old[i])*Z[i]\n",
    "        i += 1\n",
    "        if i>=rows-1 :\n",
    "            i = 0\n",
    "            updates += 1\n",
    "            if old == 0:\n",
    "                stored_alpha_old = deepcopy(alpha_old)\n",
    "                old = 1\n",
    "        if updates == 4:\n",
    "            if np.all(alpha - stored_alpha_old) < tol :  #.00001\n",
    "                converged = True\n",
    "            else:\n",
    "                updates = 0\n",
    "                stored_alpha_old = deepcopy(alpha)"
   ]
  },
  {
   "cell_type": "code",
   "execution_count": 33,
   "metadata": {},
   "outputs": [],
   "source": [
    "def calc_width_height(v,i,j):\n",
    "  width = 2/math.sqrt(v[i]) \n",
    "  height = 2/math.sqrt(v[j])\n",
    "  return width,height\n",
    "\n",
    "def draw_ellipse(i,j,x_c,y_c,width,height,X):\n",
    "  plt.figure()\n",
    "  ax = plt.gca()\n",
    "  plt.xlim(x_c-width/2,x_c+width/2)\n",
    "  plt.ylim(y_c-height/2,y_c+height/2)\n",
    "\n",
    "  ellipse = Ellipse(xy=(x_c, y_c), width=width, height=height)\n",
    "  ellipse.fill = False\n",
    "  ellipse.set_ec('red')\n",
    "  ax.add_patch(ellipse)\n",
    "  plt.scatter(x = X[::,i], y = X[::,j])\n",
    "  plt.show()"
   ]
  },
  {
   "cell_type": "code",
   "execution_count": 34,
   "metadata": {},
   "outputs": [],
   "source": [
    "def kmeans_cluster(X):\n",
    "  elbow = [] \n",
    "  for i in range(1, 6): \n",
    "    kmeans = KMeans(n_clusters = i, init = 'k-means++', random_state = 42)\n",
    "    kmeans.fit(X) \n",
    "    elbow.append(kmeans.inertia_)\n",
    "  clusters = [1, 2, 3, 4, 5]\n",
    "  # plt.plot(clusters, elbow)\n",
    "  # plt.axvline(3, linestyle='--', color='r')\n",
    "  kmeans = KMeans(n_clusters=3,random_state=42)\n",
    "  kmeans.fit(X)\n",
    "  # sns.scatterplot(data = X, x = X[:,0], y = X[:,1], hue=kmeans.labels_)\n",
    "#   cluster_map = pd.DataFrame()\n",
    "#   cluster_map['data_index_x'] = X[:,0]\n",
    "#   cluster_map['data_index_y'] = X[:,1]\n",
    "#   cluster_map['cluster'] = kmeans.labels_\n",
    "  return kmeans"
   ]
  },
  {
   "cell_type": "code",
   "execution_count": 35,
   "metadata": {},
   "outputs": [],
   "source": [
    "def find_corr(X,sensor):\n",
    "    means = X.mean(axis=0)\n",
    "    M = X-means\n",
    "    S = np.matmul(M.T,M)\n",
    "    l = np.linalg.norm(M,axis=0)\n",
    "    l += 1e-3\n",
    "    for i in range(97):\n",
    "        for j in range(97):\n",
    "            S[i][j]/=l[i]\n",
    "            S[i][j]/=l[j]\n",
    "    return S[sensor]"
   ]
  },
  {
   "cell_type": "code",
   "execution_count": 36,
   "metadata": {},
   "outputs": [],
   "source": [
    "def create_hankel(X,L):\n",
    "    stride = L>>1\n",
    "    hankel = X[:L].reshape(-1,1)\n",
    "    for i in range(stride,len(X),stride):\n",
    "        if i+L < len(X):\n",
    "            new_col = X[i:i+L].reshape(-1,1)\n",
    "            hankel = np.concatenate((hankel,new_col),axis=1)\n",
    "    return hankel\n",
    "    "
   ]
  },
  {
   "cell_type": "code",
   "execution_count": 37,
   "metadata": {},
   "outputs": [],
   "source": [
    "def epasad(X_train_data,sensor,lag):\n",
    "  L = lag*60\n",
    "  X_train = create_hankel(X_train_data,L)\n",
    "  U, Sigma, VT = np.linalg.svd(X_train)\n",
    "  V = VT.T\n",
    "  X = np.matmul(X_train,V)\n",
    "\n",
    "  kmeans=kmeans_cluster(X)\n",
    "  for i in range(3):\n",
    "    cluster = X[np.where(kmeans.labels_ == i)[0]]\n",
    "    U_cluster,Sigma,VT = np.linalg.svd(cluster)\n",
    "    V = VT.T\n",
    "    cluster = np.matmul(cluster,V[:,:2])\n",
    "    rows,cols = cluster.shape\n",
    "    centroid = calc_centroid(cluster) \n",
    "    Z = calc_Z(cluster,centroid)\n",
    "    alpha = (1.0 / rows) * np.ones(rows)\n",
    "    h = calc_h(alpha,Z)\n",
    "    h,alpha = solution(rows,cols,Z,alpha,h,1e-05)\n",
    "    v = 1/h # weights\n",
    "    width,height = calc_width_height(v,0,1)\n",
    "    ax = plt.gca()\n",
    "    ellipse = Ellipse(xy=(centroid[0],centroid[1]), width=width, height=height)\n",
    "    ellipse.fill = False \n",
    "    ellipse.set_ec('red')\n",
    "    ax.add_patch(ellipse)\n",
    "    sns.scatterplot(x = cluster[::,0], y = cluster[::,1])\n",
    "  # plt.xlim(20,22)\n",
    "  plt.show()\n",
    "  # rows,cols = X.shape\n",
    "  # centroid = calc_centroid(X) \n",
    "  # Z = calc_Z(X,centroid)\n",
    "  # alpha = (1.0 / rows) * np.ones(rows)\n",
    "  # h = calc_h(alpha,Z)\n",
    "  # h,alpha = solution(rows,cols,Z,alpha,h,1e-05)\n",
    "  # v = 1/h # weights\n",
    "  # print(\"----------------------Sensor-------------------------\",sensor)\n",
    "  # for i in range(cols-1):\n",
    "  #   for j in range(i+1,cols):\n",
    "  #     width,height = calc_width_height(v,i,j)\n",
    "  #     draw_ellipse(i,j,centroid[i],centroid[j],width,height,X)\n"
   ]
  },
  {
   "cell_type": "code",
   "execution_count": 38,
   "metadata": {},
   "outputs": [],
   "source": [
    "train_data = pd.read_csv('data/training_data.csv')\n",
    "sensors = [3,9,25,43]\n",
    "df = train_data.iloc[:, sensors]"
   ]
  },
  {
   "cell_type": "code",
   "execution_count": 39,
   "metadata": {},
   "outputs": [
    {
     "data": {
      "image/png": "[encoded data removed]",
      "text/plain": [
       "<Figure size 640x480 with 1 Axes>"
      ]
     },
     "metadata": {},
     "output_type": "display_data"
    }
   ],
   "source": [
    "for i in range(1):\n",
    "    epasad(df.iloc[:,i].values,i,30)"
   ]
  },
  {
   "cell_type": "code",
   "execution_count": null,
   "metadata": {},
   "outputs": [],
   "source": []
  }
 ],
 "metadata": {
  "kernelspec": {
   "display_name": "Python 3",
   "language": "python",
   "name": "python3"
  },
  "language_info": {
   "codemirror_mode": {
    "name": "ipython",
    "version": 3
   },
   "file_extension": ".py",
   "mimetype": "text/x-python",
   "name": "python",
   "nbconvert_exporter": "python",
   "pygments_lexer": "ipython3",
   "version": "3.10.6 (main, Nov 14 2022, 16:10:14) [GCC 11.3.0]"
  },
  "orig_nbformat": 4,
  "vscode": {
   "interpreter": {
    "hash": "916dbcbb3f70747c44a77c7bcd40155683ae19c65e1c03b4aa3499c5328201f1"
   }
  }
 },
 "nbformat": 4,
 "nbformat_minor": 2
}
