{
 "cells": [
  {
   "cell_type": "code",
   "execution_count": 1,
   "metadata": {},
   "outputs": [],
   "source": [
    "import numpy as np\n",
    "import pandas as pd\n",
    "from models import Hankel,Rank,Cluster,Meepc\n",
    "import warnings\n",
    "warnings.simplefilter('ignore')\n",
    "import math"
   ]
  },
  {
   "cell_type": "code",
   "execution_count": 2,
   "metadata": {},
   "outputs": [],
   "source": [
    "hankel = Hankel.Hankel()\n",
    "rank = Rank.Rank()\n",
    "cluster = Cluster.Cluster()\n",
    "meepc = Meepc.MEEPC()"
   ]
  },
  {
   "cell_type": "code",
   "execution_count": 3,
   "metadata": {},
   "outputs": [],
   "source": [
    "df = pd.read_csv('~/data/training_data.csv')\n",
    "sensors = [3,9,25,43]\n",
    "df = df.iloc[:, sensors]"
   ]
  },
  {
   "cell_type": "code",
   "execution_count": 4,
   "metadata": {},
   "outputs": [
    {
     "name": "stdout",
     "output_type": "stream",
     "text": [
      "5\n"
     ]
    },
    {
     "data": {
      "text/plain": [
       "[1.0000096243995542,\n",
       " 1.0000006903460061,\n",
       " 0.999997173938985,\n",
       " 1.000003910799279,\n",
       " 1.1097640481389033]"
      ]
     },
     "execution_count": 4,
     "metadata": {},
     "output_type": "execute_result"
    }
   ],
   "source": [
    "X = df.iloc[:,1].values\n",
    "X = hankel.fit(X,30,0.5)\n",
    "kmeans,optimal_k = cluster.fit(X)\n",
    "print(optimal_k)\n",
    "radiis = []\n",
    "radiis = []\n",
    "weights=[]\n",
    "centers=[]\n",
    "topR=[]\n",
    "for i in range(optimal_k):\n",
    "    cluster = X[np.where(kmeans.labels_ == i)[0]]\n",
    "    r = rank.fit(X)\n",
    "    U,Sigma,VT = np.linalg.svd(cluster)\n",
    "    V = VT.T\n",
    "    cluster = np.matmul(cluster,V[:,:r])\n",
    "    weight,center = meepc.fit(cluster)\n",
    "    var1=np.square(cluster-center)\n",
    "    var2=np.matmul(weight,var1.T)\n",
    "    max_radius=np.amax(var2)\n",
    "    radiis.append(max_radius)\n",
    "radiis\n",
    "\n"
   ]
  },
  {
   "cell_type": "code",
   "execution_count": 5,
   "metadata": {},
   "outputs": [
    {
     "data": {
      "text/plain": [
       "1.000816836668414"
      ]
     },
     "execution_count": 5,
     "metadata": {},
     "output_type": "execute_result"
    }
   ],
   "source": [
    "X = df.iloc[:,1].values\n",
    "X = hankel.fit(X,30,0.5)\n",
    "r = rank.fit(X)\n",
    "U,Sigma,VT = np.linalg.svd(X)\n",
    "V = VT.T\n",
    "X = np.matmul(X,V[:,:r])\n",
    "weight,center = meepc.fit(X)\n",
    "var1=np.square(X-center)\n",
    "var2=np.matmul(weight,var1.T)\n",
    "max_radius = math.sqrt(np.amax(var2))\n",
    "max_radius\n"
   ]
  },
  {
   "cell_type": "code",
   "execution_count": 6,
   "metadata": {},
   "outputs": [],
   "source": [
    "df_test = pd.read_csv('~/data/testdata.csv')\n",
    "df_test = df_test.iloc[:, sensors]\n",
    "X_test = df_test[:1].values"
   ]
  },
  {
   "cell_type": "code",
   "execution_count": 9,
   "metadata": {},
   "outputs": [
    {
     "data": {
      "text/plain": [
       "3095.551245812144"
      ]
     },
     "execution_count": 9,
     "metadata": {},
     "output_type": "execute_result"
    }
   ],
   "source": [
    "X_test = hankel.fit(X_test,30,0.5)\n",
    "# r = rank.fit(X_test)\n",
    "# if r==1:\n",
    "#     r = 2\n",
    "U,Sigma,VT = np.linalg.svd(X_test)\n",
    "V = VT.T\n",
    "X_test = np.matmul(X_test,V[:,:r])\n",
    "# weight,center = meepc.fit(X_test)\n",
    "var1=np.square(X_test-center)\n",
    "var2=np.matmul(weight,var1.T)\n",
    "max_radius = math.sqrt(np.amax(var2))\n",
    "max_radius"
   ]
  },
  {
   "cell_type": "code",
   "execution_count": 8,
   "metadata": {},
   "outputs": [],
   "source": [
    "if math.isnan(max_radius):\n",
    "        print('Rank: ',r)\n",
    "        print('Cluster Shape: ',cluster.shape)\n",
    "        print('CLuster: ',cluster)\n",
    "        print('Weight Shape: ', weight.shape)\n",
    "        print('Weight: ', weight)\n",
    "        print('Center Shape: ', center.shape)\n",
    "        print('Center: ', center)\n",
    "        print('Var1: ', var1)\n",
    "        print('Var2: ', var2)"
   ]
  }
 ],
 "metadata": {
  "kernelspec": {
   "display_name": "base",
   "language": "python",
   "name": "python3"
  },
  "language_info": {
   "codemirror_mode": {
    "name": "ipython",
    "version": 3
   },
   "file_extension": ".py",
   "mimetype": "text/x-python",
   "name": "python",
   "nbconvert_exporter": "python",
   "pygments_lexer": "ipython3",
   "version": "3.9.13 (main, Aug 25 2022, 23:26:10) \n[GCC 11.2.0]"
  },
  "orig_nbformat": 4,
  "vscode": {
   "interpreter": {
    "hash": "53b584fcbb4de26fd06ec6c2cdf5e79eeceea3a87d14166bd7f17bce6a8842a5"
   }
  }
 },
 "nbformat": 4,
 "nbformat_minor": 2
}
