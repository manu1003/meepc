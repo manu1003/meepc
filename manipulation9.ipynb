{
 "cells": [
  {
   "cell_type": "code",
   "execution_count": 1,
   "metadata": {},
   "outputs": [],
   "source": [
    "import numpy as np\n",
    "from models import hankel,rank"
   ]
  },
  {
   "cell_type": "code",
   "execution_count": 2,
   "metadata": {},
   "outputs": [
    {
     "data": {
      "text/html": [
       "<div>\n",
       "<style scoped>\n",
       "    .dataframe tbody tr th:only-of-type {\n",
       "        vertical-align: middle;\n",
       "    }\n",
       "\n",
       "    .dataframe tbody tr th {\n",
       "        vertical-align: top;\n",
       "    }\n",
       "\n",
       "    .dataframe thead th {\n",
       "        text-align: right;\n",
       "    }\n",
       "</style>\n",
       "<table border=\"1\" class=\"dataframe\">\n",
       "  <thead>\n",
       "    <tr style=\"text-align: right;\">\n",
       "      <th></th>\n",
       "      <th>1_AIT_004_PV</th>\n",
       "      <th>1_MV_003_STATUS</th>\n",
       "      <th>2_FIC_401_CO</th>\n",
       "      <th>2_LS_101_AH</th>\n",
       "    </tr>\n",
       "  </thead>\n",
       "  <tbody>\n",
       "    <tr>\n",
       "      <th>0</th>\n",
       "      <td>504.140</td>\n",
       "      <td>1.0</td>\n",
       "      <td>100.0000</td>\n",
       "      <td>0.0</td>\n",
       "    </tr>\n",
       "    <tr>\n",
       "      <th>1</th>\n",
       "      <td>504.140</td>\n",
       "      <td>1.0</td>\n",
       "      <td>100.0000</td>\n",
       "      <td>0.0</td>\n",
       "    </tr>\n",
       "    <tr>\n",
       "      <th>2</th>\n",
       "      <td>504.140</td>\n",
       "      <td>1.0</td>\n",
       "      <td>100.0000</td>\n",
       "      <td>0.0</td>\n",
       "    </tr>\n",
       "    <tr>\n",
       "      <th>3</th>\n",
       "      <td>504.140</td>\n",
       "      <td>1.0</td>\n",
       "      <td>100.0000</td>\n",
       "      <td>0.0</td>\n",
       "    </tr>\n",
       "    <tr>\n",
       "      <th>4</th>\n",
       "      <td>504.145</td>\n",
       "      <td>1.0</td>\n",
       "      <td>100.0000</td>\n",
       "      <td>0.0</td>\n",
       "    </tr>\n",
       "    <tr>\n",
       "      <th>...</th>\n",
       "      <td>...</td>\n",
       "      <td>...</td>\n",
       "      <td>...</td>\n",
       "      <td>...</td>\n",
       "    </tr>\n",
       "    <tr>\n",
       "      <th>971995</th>\n",
       "      <td>420.420</td>\n",
       "      <td>1.0</td>\n",
       "      <td>14.7983</td>\n",
       "      <td>0.0</td>\n",
       "    </tr>\n",
       "    <tr>\n",
       "      <th>971996</th>\n",
       "      <td>420.420</td>\n",
       "      <td>1.0</td>\n",
       "      <td>14.7983</td>\n",
       "      <td>0.0</td>\n",
       "    </tr>\n",
       "    <tr>\n",
       "      <th>971997</th>\n",
       "      <td>420.420</td>\n",
       "      <td>1.0</td>\n",
       "      <td>14.7983</td>\n",
       "      <td>0.0</td>\n",
       "    </tr>\n",
       "    <tr>\n",
       "      <th>971998</th>\n",
       "      <td>420.420</td>\n",
       "      <td>1.0</td>\n",
       "      <td>14.7983</td>\n",
       "      <td>0.0</td>\n",
       "    </tr>\n",
       "    <tr>\n",
       "      <th>971999</th>\n",
       "      <td>420.403</td>\n",
       "      <td>1.0</td>\n",
       "      <td>15.6107</td>\n",
       "      <td>0.0</td>\n",
       "    </tr>\n",
       "  </tbody>\n",
       "</table>\n",
       "<p>972000 rows × 4 columns</p>\n",
       "</div>"
      ],
      "text/plain": [
       "        1_AIT_004_PV  1_MV_003_STATUS  2_FIC_401_CO  2_LS_101_AH\n",
       "0            504.140              1.0      100.0000          0.0\n",
       "1            504.140              1.0      100.0000          0.0\n",
       "2            504.140              1.0      100.0000          0.0\n",
       "3            504.140              1.0      100.0000          0.0\n",
       "4            504.145              1.0      100.0000          0.0\n",
       "...              ...              ...           ...          ...\n",
       "971995       420.420              1.0       14.7983          0.0\n",
       "971996       420.420              1.0       14.7983          0.0\n",
       "971997       420.420              1.0       14.7983          0.0\n",
       "971998       420.420              1.0       14.7983          0.0\n",
       "971999       420.403              1.0       15.6107          0.0\n",
       "\n",
       "[972000 rows x 4 columns]"
      ]
     },
     "execution_count": 2,
     "metadata": {},
     "output_type": "execute_result"
    }
   ],
   "source": [
    "import pandas as pd\n",
    "df = pd.read_csv('data/training_data.csv')\n",
    "sensors = [3,9,25,43]\n",
    "df = df.iloc[:, sensors]\n",
    "df"
   ]
  },
  {
   "cell_type": "code",
   "execution_count": 3,
   "metadata": {},
   "outputs": [
    {
     "data": {
      "text/plain": [
       "array([504.14 , 504.14 , 504.14 , ..., 420.42 , 420.42 , 420.403])"
      ]
     },
     "execution_count": 3,
     "metadata": {},
     "output_type": "execute_result"
    }
   ],
   "source": [
    "X = df.iloc[:,0].values\n",
    "X"
   ]
  },
  {
   "cell_type": "code",
   "execution_count": 4,
   "metadata": {},
   "outputs": [
    {
     "data": {
      "text/plain": [
       "array([[504.14 , 504.959, 505.273, ..., 468.106, 471.636, 474.392],\n",
       "       [504.14 , 504.959, 505.273, ..., 468.106, 471.636, 474.392],\n",
       "       [504.14 , 504.965, 505.273, ..., 468.106, 471.636, 474.392],\n",
       "       ...,\n",
       "       [505.251, 505.711, 505.997, ..., 474.358, 450.066, 426.824],\n",
       "       [505.273, 505.711, 505.997, ..., 474.392, 450.066, 426.824],\n",
       "       [505.273, 505.711, 505.997, ..., 474.392, 450.066, 426.672]])"
      ]
     },
     "execution_count": 4,
     "metadata": {},
     "output_type": "execute_result"
    }
   ],
   "source": [
    "han = hankel.Hankel()\n",
    "temp = han.fit(X,30,0.5)\n",
    "temp"
   ]
  },
  {
   "cell_type": "code",
   "execution_count": 5,
   "metadata": {},
   "outputs": [
    {
     "data": {
      "text/plain": [
       "(1800, 1078)"
      ]
     },
     "execution_count": 5,
     "metadata": {},
     "output_type": "execute_result"
    }
   ],
   "source": [
    "temp.shape"
   ]
  },
  {
   "cell_type": "code",
   "execution_count": 6,
   "metadata": {},
   "outputs": [
    {
     "name": "stderr",
     "output_type": "stream",
     "text": [
      "/home/manu/.local/lib/python3.10/site-packages/matplotlib/cbook/__init__.py:1369: ComplexWarning: Casting complex values to real discards the imaginary part\n",
      "  return np.asarray(x, float)\n"
     ]
    },
    {
     "data": {
      "image/png": "[encoded data removed]",
      "text/plain": [
       "<Figure size 640x480 with 1 Axes>"
      ]
     },
     "metadata": {},
     "output_type": "display_data"
    },
    {
     "data": {
      "text/plain": [
       "158"
      ]
     },
     "execution_count": 6,
     "metadata": {},
     "output_type": "execute_result"
    }
   ],
   "source": [
    "ran = rank.Rank()\n",
    "r = ran.fit(temp)\n",
    "r"
   ]
  },
  {
   "cell_type": "code",
   "execution_count": null,
   "metadata": {},
   "outputs": [],
   "source": []
  }
 ],
 "metadata": {
  "kernelspec": {
   "display_name": "Python 3",
   "language": "python",
   "name": "python3"
  },
  "language_info": {
   "codemirror_mode": {
    "name": "ipython",
    "version": 3
   },
   "file_extension": ".py",
   "mimetype": "text/x-python",
   "name": "python",
   "nbconvert_exporter": "python",
   "pygments_lexer": "ipython3",
   "version": "3.10.6"
  },
  "orig_nbformat": 4,
  "vscode": {
   "interpreter": {
    "hash": "916dbcbb3f70747c44a77c7bcd40155683ae19c65e1c03b4aa3499c5328201f1"
   }
  }
 },
 "nbformat": 4,
 "nbformat_minor": 2
}
