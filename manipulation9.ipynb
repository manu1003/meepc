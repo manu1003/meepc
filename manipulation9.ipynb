{
 "cells": [
  {
   "cell_type": "code",
   "execution_count": 12,
   "metadata": {},
   "outputs": [],
   "source": [
    "import numpy as np\n",
    "import pandas as pd\n",
    "from models import Hankel,Rank,Cluster,Meepc\n",
    "import warnings\n",
    "warnings.simplefilter('ignore')\n",
    "import math"
   ]
  },
  {
   "cell_type": "code",
   "execution_count": 17,
   "metadata": {},
   "outputs": [],
   "source": [
    "hankel = Hankel()\n",
    "rank = Rank()\n",
    "cluster = Cluster()\n",
    "meepc = Meepc.MEEPC()"
   ]
  },
  {
   "cell_type": "code",
   "execution_count": 14,
   "metadata": {},
   "outputs": [],
   "source": [
    "df = pd.read_csv('~/data/training_data.csv')\n",
    "df_normal=df[df['Attack LABLE (1:No Attack, -1:Attack)']==1]\n",
    "df_attack=df[df['Attack LABLE (1:No Attack, -1:Attack)']==-1]\n",
    "sensors = [3,9,25,43]\n",
    "df_normal = df_normal.iloc[:, sensors]\n",
    "df_attack=df_attack.iloc[:,sensors]"
   ]
  },
  {
   "cell_type": "code",
   "execution_count": 19,
   "metadata": {},
   "outputs": [
    {
     "name": "stdout",
     "output_type": "stream",
     "text": [
      "4\n"
     ]
    },
    {
     "data": {
      "text/plain": [
       "[1.0004404448941016, 1.0000054705202335, 1.0328305771318984, 1.000978109343972]"
      ]
     },
     "execution_count": 19,
     "metadata": {},
     "output_type": "execute_result"
    }
   ],
   "source": [
    "X = df_normal.iloc[:,2].values\n",
    "X = hankel.fit(X,30,0.5)\n",
    "X = X.T\n",
    "kmeans,optimal_k = cluster.fit(X)\n",
    "print(optimal_k)\n",
    "radiis = []\n",
    "radiis = []\n",
    "weights=[]\n",
    "centers=[]\n",
    "topR=[]\n",
    "for i in range(optimal_k):\n",
    "    cluster_points = X[np.where(kmeans.labels_ == i)[0]]\n",
    "    r = rank.fit(X)\n",
    "    U,Sigma,VT = np.linalg.svd(cluster_points)\n",
    "    V = VT.T\n",
    "    cluster_points = np.matmul(cluster_points,V[:,:r])\n",
    "    weight,center = meepc.fit(cluster_points)\n",
    "    var1=np.square(cluster_points-center)\n",
    "    var2=np.matmul(weight,var1.T)\n",
    "    max_radius=np.amax(var2)\n",
    "    radiis.append(max_radius)\n",
    "radiis\n",
    "\n"
   ]
  },
  {
   "cell_type": "code",
   "execution_count": 77,
   "metadata": {},
   "outputs": [
    {
     "name": "stdout",
     "output_type": "stream",
     "text": [
      "6\n"
     ]
    },
    {
     "data": {
      "text/plain": [
       "1.000003212252243"
      ]
     },
     "execution_count": 77,
     "metadata": {},
     "output_type": "execute_result"
    }
   ],
   "source": [
    "X = df.iloc[:,1].values\n",
    "X = hankel.fit(X,30,0.5)\n",
    "# print(X.shape)\n",
    "r = rank.fit(X)\n",
    "print(r)\n",
    "U,Sigma,VT = np.linalg.svd(X)\n",
    "# print(U.shape)\n",
    "V = VT.T\n",
    "X = np.matmul(X.T,U[:,:r])\n",
    "weight,center = meepc.fit(X)\n",
    "var1=np.square(X-center)\n",
    "var2=np.matmul(weight,var1.T)\n",
    "max_radius = math.sqrt(np.amax(var2))\n",
    "max_radius\n"
   ]
  },
  {
   "cell_type": "code",
   "execution_count": 78,
   "metadata": {},
   "outputs": [],
   "source": [
    "df_test = pd.read_csv('~/data/testdata.csv')\n",
    "df_test = df_test.iloc[:, sensors]\n",
    "Xtest = df_test.iloc[:,1].values"
   ]
  },
  {
   "cell_type": "code",
   "execution_count": 86,
   "metadata": {},
   "outputs": [
    {
     "name": "stdout",
     "output_type": "stream",
     "text": [
      "[0.00222796] [-21.20421687]\n"
     ]
    },
    {
     "data": {
      "text/plain": [
       "1.001713313658679"
      ]
     },
     "execution_count": 86,
     "metadata": {},
     "output_type": "execute_result"
    }
   ],
   "source": [
    "X_test = hankel.fit(Xtest,30,0.5)\n",
    "X_test = X_test[:,19]\n",
    "X_test = np.matmul(U[:,:r].T,X_test.reshape(-1,1))\n",
    "# X_test = X_test.T\n",
    "# print(X_test.shape)\n",
    "weight,center = meepc.fit(X_test)\n",
    "print(weight,center)\n",
    "var1=np.square(X_test-center)\n",
    "var2=np.matmul(weight,var1.T)\n",
    "max_radius = math.sqrt(np.amax(var2))\n",
    "max_radius"
   ]
  },
  {
   "cell_type": "code",
   "execution_count": null,
   "metadata": {},
   "outputs": [],
   "source": []
  }
 ],
 "metadata": {
  "kernelspec": {
   "display_name": "Python 3",
   "language": "python",
   "name": "python3"
  },
  "language_info": {
   "codemirror_mode": {
    "name": "ipython",
    "version": 3
   },
   "file_extension": ".py",
   "mimetype": "text/x-python",
   "name": "python",
   "nbconvert_exporter": "python",
   "pygments_lexer": "ipython3",
   "version": "3.10.6"
  },
  "orig_nbformat": 4,
  "vscode": {
   "interpreter": {
    "hash": "916dbcbb3f70747c44a77c7bcd40155683ae19c65e1c03b4aa3499c5328201f1"
   }
  }
 },
 "nbformat": 4,
 "nbformat_minor": 2
}
