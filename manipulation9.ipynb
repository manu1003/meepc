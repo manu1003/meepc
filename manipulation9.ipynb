{
 "cells": [
  {
   "cell_type": "code",
   "execution_count": 1,
   "metadata": {},
   "outputs": [],
   "source": [
    "import numpy as np\n",
    "import pandas as pd\n",
    "from models import Hankel,Rank,Cluster,Meepc\n",
    "import warnings\n",
    "warnings.simplefilter('ignore')\n",
    "import math\n",
    "from sklearn.cluster import KMeans"
   ]
  },
  {
   "cell_type": "code",
   "execution_count": 2,
   "metadata": {},
   "outputs": [],
   "source": [
    "hankel = Hankel()\n",
    "rank = Rank()\n",
    "cluster = Cluster()\n",
    "meepc = Meepc.MEEPC()"
   ]
  },
  {
   "cell_type": "code",
   "execution_count": 3,
   "metadata": {},
   "outputs": [],
   "source": [
    "df = pd.read_csv('~/data/training_data.csv')\n",
    "df_normal=df[df['Attack LABLE (1:No Attack, -1:Attack)']==1]\n",
    "df_attack=df[df['Attack LABLE (1:No Attack, -1:Attack)']==-1]\n",
    "sensors = [3,9,25,43]\n",
    "df_normal = df_normal.iloc[:, sensors]\n",
    "df_attack=df_attack.iloc[:,sensors]"
   ]
  },
  {
   "cell_type": "code",
   "execution_count": 4,
   "metadata": {},
   "outputs": [
    {
     "name": "stdout",
     "output_type": "stream",
     "text": [
      "4\n",
      "r: 9\n",
      "r: 11\n",
      "r: 9\n",
      "r: 9\n"
     ]
    }
   ],
   "source": [
    "X = df_normal.iloc[:,2].values\n",
    "X = hankel.fit(X,10,0.5)\n",
    "X=X.T # size--> 1069X1800\n",
    "kmeans,optimal_k = cluster.fit(X)\n",
    "print(optimal_k)\n",
    "radiis_normal = []\n",
    "weights=[]\n",
    "centers=[]\n",
    "clusters_R=[]\n",
    "clusters_V=[]\n",
    "for i in range(optimal_k):\n",
    "    cluster_ = X[np.where(kmeans.labels_ == i)[0]]\n",
    "    r = rank.fit(cluster_)\n",
    "    clusters_R.append(r)\n",
    "    print(\"r: \"+str(r))\n",
    "    U,Sigma,VT = np.linalg.svd(cluster_)\n",
    "    V = VT.T\n",
    "    clusters_V.append(V)\n",
    "    cluster_ = np.matmul(cluster_,V[:,:r])\n",
    "    weight,center = meepc.fit(cluster_)\n",
    "    weights.append(weight)\n",
    "    centers.append(center)\n",
    "    var1=np.square(cluster_-center)\n",
    "    var2=np.matmul(weight,var1.T)\n",
    "    radiis_normal.append(np.sqrt(var2))"
   ]
  },
  {
   "cell_type": "code",
   "execution_count": 5,
   "metadata": {},
   "outputs": [
    {
     "name": "stdout",
     "output_type": "stream",
     "text": [
      "(27, 600)\n",
      "r: 3\n",
      "r: 9\n",
      "r: 7\n",
      "r: 1\n"
     ]
    }
   ],
   "source": [
    "X_attack = df_attack.iloc[:,2].values\n",
    "X_att = hankel.fit(X_attack,10,0.5)\n",
    "X_att=X_att.T # size--> X1800\n",
    "kmeans = KMeans(n_clusters=optimal_k, init='k-means++')\n",
    "kmeans.fit(X_att)\n",
    "radiis_attack = []\n",
    "print(X_att.shape)\n",
    "for i in range(optimal_k):\n",
    "    cluster_ = X_att[np.where(kmeans.labels_ == i)[0]]\n",
    "    r = rank.fit(cluster_)\n",
    "    print(\"r: \"+str(r))\n",
    "    U,Sigma,VT = np.linalg.svd(cluster_)\n",
    "    V = VT.T\n",
    "    cluster_ = np.matmul(cluster_,V[:,:r])\n",
    "    weight,center = meepc.fit(cluster_)\n",
    "    weights.append(weight)\n",
    "    centers.append(center)\n",
    "    var1=np.square(cluster_-center)\n",
    "    var2=np.matmul(weight,var1.T)\n",
    "    radiis_attack.append(np.sqrt(var2))"
   ]
  },
  {
   "cell_type": "code",
   "execution_count": 6,
   "metadata": {},
   "outputs": [],
   "source": [
    "# def calc_radius(X,kmeans,optimal_k):\n",
    "#     radiis = []\n",
    "#     weights = []\n",
    "#     centers = []\n",
    "#     topR =[ ]\n",
    "#     cluster_V = []\n",
    "#     for i in range(optimal_k):\n",
    "#         cluster_points = X[np.where(kmeans.labels_ == i)[0]]\n",
    "#         r = rank.fit(X)\n",
    "#         print('r: ',r)\n",
    "#         topR.append(r)\n",
    "#         U,Sigma,VT = np.linalg.svd(cluster_points)\n",
    "#         V = VT.T\n",
    "#         cluster_V.append(V[:,:r])\n",
    "#         cluster_points = np.matmul(cluster_points,V[:,:r])\n",
    "#         print(cluster_points.shape)\n",
    "#         weight,center = meepc.fit(cluster_points)\n",
    "#         weights.append(weight)\n",
    "#         centers.append(center)\n",
    "#         var1=np.square(cluster_points-center)\n",
    "#         var2=np.matmul(weight,var1.T)\n",
    "#         # max_radius=np.amax(var2)\n",
    "#         radiis.append(np.sqrt(var2))\n",
    "#     return radiis,weights,centers,cluster_V,topR"
   ]
  },
  {
   "cell_type": "code",
   "execution_count": 7,
   "metadata": {},
   "outputs": [],
   "source": [
    "# X_n = df_normal.iloc[:,2].values\n",
    "# X_n = hankel.fit(X_n,10,0.5)\n",
    "# X_n = X_n.T\n",
    "# kmeans,optimal_k = cluster.fit(X_n)\n",
    "# print(optimal_k)\n",
    "# radiis_normal = []\n",
    "# for i in range(optimal_k):\n",
    "#     cluster_points = X_n[np.where(kmeans.labels_ == i)[0]]\n",
    "#     r = rank.fit(X_n)\n",
    "#     print('r: ',r)\n",
    "#     U,Sigma,VT = np.linalg.svd(cluster_points)\n",
    "#     V = VT.T\n",
    "#     cluster_points = np.matmul(cluster_points,V[:,:r])\n",
    "#     print(cluster_points.shape)\n",
    "#     weight,center = meepc.fit(cluster_points)\n",
    "#     var1=np.square(cluster_points-center)\n",
    "#     var2=np.matmul(weight,var1.T)\n",
    "#     radiis_normal.append(np.sqrt(var2))\n",
    "# # radiis_normal,weights_normal,centers_normal,cluster_V_normal,topR_normal = calc_radius(X_n,kmeans,optimal_k)\n",
    "# # radiis_normal"
   ]
  },
  {
   "cell_type": "code",
   "execution_count": 8,
   "metadata": {},
   "outputs": [],
   "source": [
    "# X_a = df_attack.iloc[:,2].values\n",
    "# X_a = hankel.fit(X_a,10,0.5)\n",
    "# X_a = X_a.T\n",
    "# kmeans = KMeans(n_clusters=optimal_k, init='k-means++')\n",
    "# kmeans.fit(X_a)\n",
    "# radiis_attack,weights_attack,centers_attack,cluster_V_attack,topR_attack = calc_radius(X_a,kmeans,optimal_k)\n",
    "# radiis_attack"
   ]
  },
  {
   "cell_type": "code",
   "execution_count": 9,
   "metadata": {},
   "outputs": [],
   "source": [
    "def find_threshold(radii_n,radii_a):\n",
    "    label = [1]*len(radii_n) + [-1]*len(radii_a)\n",
    "    label = np.array(label)\n",
    "    radiis = np.array(list(radii_n)+list(radii_a))\n",
    "    indices = np.argsort(radiis)\n",
    "    label = label[indices]\n",
    "    pos_cumsum = np.zeros(len(label))\n",
    "    neg_cumsum = [0]*len(label)\n",
    "    if label[0] > 0:\n",
    "        pos_cumsum[0] = 1\n",
    "    else:\n",
    "        neg_cumsum[0] = 1\n",
    "    for i in range(1,len(label)):\n",
    "        if label[i] > 0:\n",
    "            pos_cumsum[i] = 1+pos_cumsum[i-1]\n",
    "            neg_cumsum[i] = neg_cumsum[i-1]\n",
    "        else:\n",
    "            neg_cumsum[i] = 1+neg_cumsum[i-1]\n",
    "            pos_cumsum[i] = pos_cumsum[i-1]\n",
    "    idx = np.argmax(pos_cumsum-neg_cumsum)\n",
    "    print(indices[idx])\n",
    "    return radiis[indices[idx]]"
   ]
  },
  {
   "cell_type": "code",
   "execution_count": 10,
   "metadata": {},
   "outputs": [
    {
     "name": "stdout",
     "output_type": "stream",
     "text": [
      "314\n",
      "1121\n",
      "26\n",
      "63\n"
     ]
    },
    {
     "data": {
      "text/plain": [
       "[0.9981574681523254,\n",
       " 0.9879446059313399,\n",
       " 0.9986001021045503,\n",
       " 0.9960051276200057]"
      ]
     },
     "execution_count": 10,
     "metadata": {},
     "output_type": "execute_result"
    }
   ],
   "source": [
    "threshold_clusters = [0]*optimal_k\n",
    "for i in range(optimal_k):\n",
    "    threshold_clusters[i] = find_threshold(radiis_normal[i],radiis_attack[i])\n",
    "threshold_clusters"
   ]
  },
  {
   "cell_type": "code",
   "execution_count": 11,
   "metadata": {},
   "outputs": [],
   "source": [
    "df_test=pd.read_csv('~/data/testdata.csv')\n",
    "y_actual=df_test.iloc[:,-1]\n",
    "df_test=df_test.iloc[:,sensors]"
   ]
  },
  {
   "cell_type": "code",
   "execution_count": 14,
   "metadata": {},
   "outputs": [
    {
     "data": {
      "text/plain": [
       "array([803, 804, 805, 806, 807, 808, 809, 820, 821, 822, 823])"
      ]
     },
     "execution_count": 14,
     "metadata": {},
     "output_type": "execute_result"
    }
   ],
   "source": [
    "labels=hankel.fit(np.array(y_actual),10,0.5)\n",
    "isatt=np.any(labels<0,axis=0)\n",
    "att_indices=np.where(isatt)[0]\n",
    "att_indices"
   ]
  },
  {
   "cell_type": "code",
   "execution_count": 15,
   "metadata": {},
   "outputs": [
    {
     "name": "stdout",
     "output_type": "stream",
     "text": [
      "(826, 600)\n"
     ]
    }
   ],
   "source": [
    "X_test=df_test.iloc[:,2].values\n",
    "Xtest=hankel.fit(X_test,10,0.5)  #size -> 1800x274\n",
    "Xtest=Xtest.T  #size -> 274x1800\n",
    "print(Xtest.shape)\n",
    "distances=[]\n",
    "for i in range(optimal_k):\n",
    "    Xtest_cluster=np.matmul(Xtest,clusters_V[i][:,:clusters_R[i]]) #size -> 274 x R\n",
    "    var1=np.square(Xtest_cluster-centers[i])\n",
    "    var2=np.matmul(weights[i],var1.T)\n",
    "    distance=np.sqrt(var2)\n",
    "    distances.append(distance)"
   ]
  },
  {
   "cell_type": "code",
   "execution_count": 16,
   "metadata": {},
   "outputs": [
    {
     "data": {
      "text/plain": [
       "array([[2.60805818, 0.44251985, 1.56260145, 1.0773043 ],\n",
       "       [2.61646126, 0.44338015, 1.54689978, 1.09447048],\n",
       "       [2.51987635, 0.36833168, 1.45386457, 1.05341729],\n",
       "       ...,\n",
       "       [2.12496156, 0.39945339, 1.23894861, 0.76135433],\n",
       "       [2.02341986, 0.45422115, 1.07570108, 0.88248018],\n",
       "       [2.02405096, 0.58633963, 1.27847725, 0.77663493]])"
      ]
     },
     "execution_count": 16,
     "metadata": {},
     "output_type": "execute_result"
    }
   ],
   "source": [
    "# distances matrix\n",
    "stacked_arr=np.vstack(distances)\n",
    "distances_arr=np.transpose(stacked_arr)\n",
    "distances_arr #-> 274 X 4"
   ]
  },
  {
   "cell_type": "code",
   "execution_count": 17,
   "metadata": {},
   "outputs": [
    {
     "data": {
      "text/plain": [
       "array([[-1.60990071,  0.54542476, -0.56400135, -0.08129917],\n",
       "       [-1.61830379,  0.54456446, -0.54829968, -0.09846536],\n",
       "       [-1.52171888,  0.61961292, -0.45526447, -0.05741216],\n",
       "       ...,\n",
       "       [-1.12680409,  0.58849121, -0.24034851,  0.2346508 ],\n",
       "       [-1.0252624 ,  0.53372346, -0.07710098,  0.11352495],\n",
       "       [-1.0258935 ,  0.40160498, -0.27987714,  0.21937019]])"
      ]
     },
     "execution_count": 17,
     "metadata": {},
     "output_type": "execute_result"
    }
   ],
   "source": [
    "check_anamoly=threshold_clusters-distances_arr     # positive = inside cluster | negative = outside cluster\n",
    "check_anamoly"
   ]
  },
  {
   "cell_type": "code",
   "execution_count": 18,
   "metadata": {},
   "outputs": [],
   "source": [
    "#check for if any datapoint is coming inside the cluster\n",
    "is_positive=np.any(check_anamoly>0,axis=1)\n",
    "#indices of those rows\n",
    "positive_indices=np.where(is_positive)[0]"
   ]
  },
  {
   "cell_type": "code",
   "execution_count": 19,
   "metadata": {},
   "outputs": [
    {
     "name": "stdout",
     "output_type": "stream",
     "text": [
      "266\n",
      "281\n",
      "285\n",
      "287\n",
      "738\n"
     ]
    }
   ],
   "source": [
    "for i in range(826):\n",
    "  if i not in positive_indices:\n",
    "    print(i)"
   ]
  },
  {
   "cell_type": "code",
   "execution_count": null,
   "metadata": {},
   "outputs": [],
   "source": [
    "# array([803, 804, 805, 806, 807, 808, 809, 820, 821, 822, 823])"
   ]
  }
 ],
 "metadata": {
  "kernelspec": {
   "display_name": "Python 3",
   "language": "python",
   "name": "python3"
  },
  "language_info": {
   "codemirror_mode": {
    "name": "ipython",
    "version": 3
   },
   "file_extension": ".py",
   "mimetype": "text/x-python",
   "name": "python",
   "nbconvert_exporter": "python",
   "pygments_lexer": "ipython3",
   "version": "3.10.6 (main, Nov 14 2022, 16:10:14) [GCC 11.3.0]"
  },
  "orig_nbformat": 4,
  "vscode": {
   "interpreter": {
    "hash": "916dbcbb3f70747c44a77c7bcd40155683ae19c65e1c03b4aa3499c5328201f1"
   }
  }
 },
 "nbformat": 4,
 "nbformat_minor": 2
}
