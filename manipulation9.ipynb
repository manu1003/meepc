{
 "cells": [
  {
   "cell_type": "code",
   "execution_count": 1,
   "metadata": {},
   "outputs": [],
   "source": [
    "import numpy as np\n",
    "import pandas as pd\n",
    "from models import Hankel,Rank,Cluster,Meepc\n",
    "import warnings\n",
    "warnings.simplefilter('ignore')\n",
    "import math"
   ]
  },
  {
   "cell_type": "code",
   "execution_count": 2,
   "metadata": {},
   "outputs": [],
   "source": [
    "hankel = Hankel.Hankel()\n",
    "rank = Rank.Rank()\n",
    "cluster = Cluster.Cluster()\n",
    "meepc = Meepc.MEEPC()"
   ]
  },
  {
   "cell_type": "code",
   "execution_count": 3,
   "metadata": {},
   "outputs": [],
   "source": [
    "df = pd.read_csv('data/training_data.csv')\n",
    "sensors = [3,9,25,43]\n",
    "df = df.iloc[:, sensors]"
   ]
  },
  {
   "cell_type": "code",
   "execution_count": 4,
   "metadata": {},
   "outputs": [
    {
     "name": "stdout",
     "output_type": "stream",
     "text": [
      "5\n"
     ]
    },
    {
     "data": {
      "text/plain": [
       "[0.9999934606855743,\n",
       " 1.000006924729706,\n",
       " 1.0000096243986938,\n",
       " 0.9999911028074571,\n",
       " 1.000009624398698]"
      ]
     },
     "execution_count": 4,
     "metadata": {},
     "output_type": "execute_result"
    }
   ],
   "source": [
    "X = df.iloc[:,1].values\n",
    "X = hankel.fit(X,30,0.5)\n",
    "kmeans,optimal_k = cluster.fit(X)\n",
    "print(optimal_k)\n",
    "radiis = []\n",
    "for i in range(optimal_k):\n",
    "    cluster = X[np.where(kmeans.labels_ == i)[0]]\n",
    "    r = rank.fit(X)\n",
    "    U,Sigma,VT = np.linalg.svd(cluster)\n",
    "    V = VT.T\n",
    "    cluster = np.matmul(cluster,V[:,:r])\n",
    "    weight,center = meepc.fit(cluster)\n",
    "    var1=np.square(cluster-center)\n",
    "    var2=np.matmul(weight,var1.T)\n",
    "    max_radius=np.amax(var2)\n",
    "    radiis.append(max_radius)\n",
    "radiis\n",
    "\n"
   ]
  },
  {
   "cell_type": "code",
   "execution_count": null,
   "metadata": {},
   "outputs": [],
   "source": [
    "if math.isnan(max_radius):\n",
    "        print('Rank: ',r)\n",
    "        print('Cluster Shape: ',cluster.shape)\n",
    "        print('CLuster: ',cluster)\n",
    "        print('Weight Shape: ', weight.shape)\n",
    "        print('Weight: ', weight)\n",
    "        print('Center Shape: ', center.shape)\n",
    "        print('Center: ', center)\n",
    "        print('Var1: ', var1)\n",
    "        print('Var2: ', var2)"
   ]
  }
 ],
 "metadata": {
  "kernelspec": {
   "display_name": "Python 3",
   "language": "python",
   "name": "python3"
  },
  "language_info": {
   "codemirror_mode": {
    "name": "ipython",
    "version": 3
   },
   "file_extension": ".py",
   "mimetype": "text/x-python",
   "name": "python",
   "nbconvert_exporter": "python",
   "pygments_lexer": "ipython3",
   "version": "3.10.6"
  },
  "orig_nbformat": 4,
  "vscode": {
   "interpreter": {
    "hash": "916dbcbb3f70747c44a77c7bcd40155683ae19c65e1c03b4aa3499c5328201f1"
   }
  }
 },
 "nbformat": 4,
 "nbformat_minor": 2
}
