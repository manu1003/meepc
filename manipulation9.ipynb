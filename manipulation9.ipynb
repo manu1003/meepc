{
 "cells": [
  {
   "cell_type": "code",
   "execution_count": 73,
   "metadata": {},
   "outputs": [],
   "source": [
    "import numpy as np\n",
    "import pandas as pd\n",
    "from models import Hankel,Rank,Cluster,Meepc\n",
    "import warnings\n",
    "warnings.simplefilter('ignore')\n",
    "import math"
   ]
  },
  {
   "cell_type": "code",
   "execution_count": 74,
   "metadata": {},
   "outputs": [],
   "source": [
    "hankel = Hankel.Hankel()\n",
    "rank = Rank.Rank()\n",
    "cluster = Cluster.Cluster()\n",
    "meepc = Meepc.MEEPC()"
   ]
  },
  {
   "cell_type": "code",
   "execution_count": 75,
   "metadata": {},
   "outputs": [],
   "source": [
    "df = pd.read_csv('~/data/training_data.csv')\n",
    "sensors = [3,9,25,43]\n",
    "df = df.iloc[:, sensors]"
   ]
  },
  {
   "cell_type": "code",
   "execution_count": 76,
   "metadata": {},
   "outputs": [
    {
     "name": "stdout",
     "output_type": "stream",
     "text": [
      "5\n"
     ]
    },
    {
     "data": {
      "text/plain": [
       "[0.9999934606855743,\n",
       " 1.000006924729706,\n",
       " 1.0000096243986938,\n",
       " 0.9999911028074571,\n",
       " 1.000009624398698]"
      ]
     },
     "execution_count": 76,
     "metadata": {},
     "output_type": "execute_result"
    }
   ],
   "source": [
    "X = df.iloc[:,1].values\n",
    "X = hankel.fit(X,30,0.5)\n",
    "kmeans,optimal_k = cluster.fit(X)\n",
    "print(optimal_k)\n",
    "radiis = []\n",
    "radiis = []\n",
    "weights=[]\n",
    "centers=[]\n",
    "topR=[]\n",
    "for i in range(optimal_k):\n",
    "    cluster = X[np.where(kmeans.labels_ == i)[0]]\n",
    "    r = rank.fit(X)\n",
    "    U,Sigma,VT = np.linalg.svd(cluster)\n",
    "    V = VT.T\n",
    "    cluster = np.matmul(cluster,V[:,:r])\n",
    "    weight,center = meepc.fit(cluster)\n",
    "    var1=np.square(cluster-center)\n",
    "    var2=np.matmul(weight,var1.T)\n",
    "    max_radius=np.amax(var2)\n",
    "    radiis.append(max_radius)\n",
    "radiis\n",
    "\n"
   ]
  },
  {
   "cell_type": "code",
   "execution_count": 77,
   "metadata": {},
   "outputs": [
    {
     "name": "stdout",
     "output_type": "stream",
     "text": [
      "6\n"
     ]
    },
    {
     "data": {
      "text/plain": [
       "1.000003212252243"
      ]
     },
     "execution_count": 77,
     "metadata": {},
     "output_type": "execute_result"
    }
   ],
   "source": [
    "X = df.iloc[:,1].values\n",
    "X = hankel.fit(X,30,0.5)\n",
    "# print(X.shape)\n",
    "r = rank.fit(X)\n",
    "print(r)\n",
    "U,Sigma,VT = np.linalg.svd(X)\n",
    "# print(U.shape)\n",
    "V = VT.T\n",
    "X = np.matmul(X.T,U[:,:r])\n",
    "weight,center = meepc.fit(X)\n",
    "var1=np.square(X-center)\n",
    "var2=np.matmul(weight,var1.T)\n",
    "max_radius = math.sqrt(np.amax(var2))\n",
    "max_radius\n"
   ]
  },
  {
   "cell_type": "code",
   "execution_count": 78,
   "metadata": {},
   "outputs": [],
   "source": [
    "df_test = pd.read_csv('~/data/testdata.csv')\n",
    "df_test = df_test.iloc[:, sensors]\n",
    "Xtest = df_test.iloc[:,1].values"
   ]
  },
  {
   "cell_type": "code",
   "execution_count": 86,
   "metadata": {},
   "outputs": [
    {
     "name": "stdout",
     "output_type": "stream",
     "text": [
      "[0.00222796] [-21.20421687]\n"
     ]
    },
    {
     "data": {
      "text/plain": [
       "1.001713313658679"
      ]
     },
     "execution_count": 86,
     "metadata": {},
     "output_type": "execute_result"
    }
   ],
   "source": [
    "X_test = hankel.fit(Xtest,30,0.5)\n",
    "X_test = X_test[:,19]\n",
    "X_test = np.matmul(U[:,:r].T,X_test.reshape(-1,1))\n",
    "# X_test = X_test.T\n",
    "# print(X_test.shape)\n",
    "weight,center = meepc.fit(X_test)\n",
    "print(weight,center)\n",
    "var1=np.square(X_test-center)\n",
    "var2=np.matmul(weight,var1.T)\n",
    "max_radius = math.sqrt(np.amax(var2))\n",
    "max_radius"
   ]
  },
  {
   "cell_type": "code",
   "execution_count": null,
   "metadata": {},
   "outputs": [],
   "source": []
  }
 ],
 "metadata": {
  "kernelspec": {
   "display_name": "base",
   "language": "python",
   "name": "python3"
  },
  "language_info": {
   "codemirror_mode": {
    "name": "ipython",
    "version": 3
   },
   "file_extension": ".py",
   "mimetype": "text/x-python",
   "name": "python",
   "nbconvert_exporter": "python",
   "pygments_lexer": "ipython3",
   "version": "3.10.6 (main, Nov 14 2022, 16:10:14) [GCC 11.3.0]"
  },
  "orig_nbformat": 4,
  "vscode": {
   "interpreter": {
    "hash": "53b584fcbb4de26fd06ec6c2cdf5e79eeceea3a87d14166bd7f17bce6a8842a5"
   }
  }
 },
 "nbformat": 4,
 "nbformat_minor": 2
}
