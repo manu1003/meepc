{
 "cells": [
  {
   "cell_type": "code",
   "execution_count": 1,
   "metadata": {},
   "outputs": [],
   "source": [
    "import numpy as np\n",
    "import pandas as pd\n",
    "import matplotlib.pyplot as plt\n",
    "from random import random"
   ]
  },
  {
   "cell_type": "code",
   "execution_count": 2,
   "metadata": {},
   "outputs": [],
   "source": [
    "X = np.reshape([random()*100 for i in range(400)],(100,4))"
   ]
  },
  {
   "cell_type": "code",
   "execution_count": 3,
   "metadata": {},
   "outputs": [],
   "source": [
    "col_max = np.amax(X,axis=0)\n",
    "col_min = np.amin(X,axis=0)\n",
    "centroid = (col_max + col_min)/2"
   ]
  },
  {
   "cell_type": "code",
   "execution_count": 4,
   "metadata": {},
   "outputs": [],
   "source": [
    "Z = (X-centroid)**2"
   ]
  },
  {
   "cell_type": "code",
   "execution_count": 5,
   "metadata": {},
   "outputs": [],
   "source": [
    "alpha = (1.0 / 100) * np.ones(100)"
   ]
  },
  {
   "cell_type": "code",
   "execution_count": 6,
   "metadata": {},
   "outputs": [],
   "source": [
    "ZT = Z.T\n",
    "h = np.matmul(alpha,Z)"
   ]
  },
  {
   "cell_type": "code",
   "execution_count": 7,
   "metadata": {},
   "outputs": [
    {
     "data": {
      "text/plain": [
       "75"
      ]
     },
     "execution_count": 7,
     "metadata": {},
     "output_type": "execute_result"
    }
   ],
   "source": [
    "# X[100,:]\n",
    "index= np.random.randint(100)\n",
    "index"
   ]
  },
  {
   "cell_type": "code",
   "execution_count": 10,
   "metadata": {},
   "outputs": [
    {
     "data": {
      "text/plain": [
       "[0.31821134774719595,\n",
       " 0.01526004993400265,\n",
       " 0.2126476483379055,\n",
       " 0.09924182741870391,\n",
       " 0.3999886467734144,\n",
       " 0.8094942919051897,\n",
       " 0.29155248661934263,\n",
       " 0.6286871238032863,\n",
       " 0.0021483816300531533,\n",
       " 0.07201824161264514,\n",
       " 0.12107858005040051,\n",
       " 0.5841992323010515,\n",
       " 0.24624134236486128,\n",
       " 0.6254871332920876,\n",
       " 0.4538135854501133,\n",
       " 0.6381631224994785,\n",
       " 0.5409896627790717,\n",
       " 0.4956349718148324,\n",
       " 0.06885043023246717,\n",
       " 0.09722748926287161,\n",
       " 0.01942902685979797,\n",
       " 0.9290220927799087,\n",
       " 0.3750745596156482,\n",
       " 0.6998986156974898,\n",
       " 0.9290731661618561,\n",
       " 0.2657980682188299,\n",
       " 0.22762582531576492,\n",
       " 0.5174277739356535,\n",
       " 0.7838223473917774,\n",
       " 0.9175608807504249,\n",
       " 0.09592318778288778,\n",
       " 0.18412397809222714,\n",
       " 0.7970695933727334,\n",
       " 0.5945793879389263,\n",
       " 0.6004164412443577,\n",
       " 0.8210858350749879,\n",
       " 0.4287328937403724,\n",
       " 0.48835537676672924,\n",
       " 0.5428867001616855,\n",
       " 0.40594608621706574,\n",
       " 0.41479266710333607,\n",
       " 0.5016922478960076,\n",
       " 0.712579287886184,\n",
       " 0.6026056212665883,\n",
       " 0.6534264808895159,\n",
       " 0.9406558032092613,\n",
       " 0.623508835511012,\n",
       " 0.44325736774532887,\n",
       " 0.8833904353543575,\n",
       " 0.895967134696163,\n",
       " 0.9477771593657223,\n",
       " 0.5000394450694795,\n",
       " 0.5380499283576413,\n",
       " 0.4917852999339529,\n",
       " 0.7209515917816869,\n",
       " 0.4587356003690466,\n",
       " 0.6047790993395193,\n",
       " 0.22888555859748738,\n",
       " 0.2276617663649101,\n",
       " 0.42745092088478664,\n",
       " 0.7157622640868482,\n",
       " 0.7979009088983929,\n",
       " 0.06131368020098338,\n",
       " 0.6349870550732171,\n",
       " 0.46459093970045073,\n",
       " 0.8934771453311988,\n",
       " 0.7525032161858489,\n",
       " 0.858542754480404,\n",
       " 0.9810114250923507,\n",
       " 0.06053316107584106,\n",
       " 0.13048184075410363,\n",
       " 0.7705426676859094,\n",
       " 0.24952925177962804,\n",
       " 0.6589477803015216,\n",
       " 0.8931055332729797,\n",
       " 0.39449971595123545,\n",
       " 0.07133612686783708,\n",
       " 0.1831823380640042,\n",
       " 0.25101125059050966,\n",
       " 0.41229592652565916,\n",
       " 0.17124167214033081,\n",
       " 0.5143585426298091,\n",
       " 0.6611512585350094,\n",
       " 0.3654671264611441,\n",
       " 0.14027370229463876,\n",
       " 0.782569094676276,\n",
       " 0.31494152095896577,\n",
       " 0.45255994495438345,\n",
       " 0.26275963858641804,\n",
       " 0.7485372825773414,\n",
       " 0.061227409220443896,\n",
       " 0.3960291583869707,\n",
       " 0.24608952320511068,\n",
       " 0.1472768828491846,\n",
       " 0.9156304635767226,\n",
       " 0.25318093053080715,\n",
       " 0.9219555541323886,\n",
       " 0.3514811043819358,\n",
       " 0.72334980717967,\n",
       " 0.05512165231215704]"
      ]
     },
     "execution_count": 10,
     "metadata": {},
     "output_type": "execute_result"
    }
   ],
   "source": [
    "#try\n",
    "p=[random() for i in range(100)]\n",
    "p"
   ]
  },
  {
   "cell_type": "code",
   "execution_count": null,
   "metadata": {},
   "outputs": [],
   "source": [
    "def coordinatedescent(S,Z,i,var_x):\n",
    "  \n",
    "  sum=0\n",
    "  for j in range(4):\n",
    "    sum+=1/var_x[i,j]+(S[i,j]/Z[i,j])\n",
    "  if(sum==1):\n",
    "    return var[i] \n"
   ]
  },
  {
   "cell_type": "code",
   "execution_count": null,
   "metadata": {},
   "outputs": [],
   "source": [
    "def getS(h,alpha,Z,n,d.i):\n",
    "  S = np.reshape([random()*100 for io in range(400)],(100,4))\n",
    "  for j in range(4):\n",
    "    S[i,j]= h[j]-alpha[j]*Z[i,j]\n",
    "  return S\n"
   ]
  },
  {
   "cell_type": "code",
   "execution_count": null,
   "metadata": {},
   "outputs": [],
   "source": [
    "def meepcalgo(n,):\n",
    "  converged=False\n",
    "  index= np.random.randint(n)\n",
    "  # alpha_i=X[index,:]\n",
    "  while(!converged and index<=99):\n",
    "    if(index==99):\n",
    "      index=0\n",
    "    alpha_old = alpha[index]\n",
    "    S = getS(h,alpha_old,Z,n,4,index)\n",
    "    var_x=np.reshape([random() for i in range(100)],(100,4))\n",
    "    f_val=coordinatedescent(S,Z,index,var_x)\n",
    "    index+=1\n",
    "    if()\n",
    "\n",
    "  \n"
   ]
  }
 ],
 "metadata": {
  "interpreter": {
   "hash": "5f5277ade0e427ba53f4f59731df06a81409d3d5d18aa06b18e04ee34f04aaa5"
  },
  "kernelspec": {
   "display_name": "Python 3.8.13 ('tensor')",
   "language": "python",
   "name": "python3"
  },
  "language_info": {
   "codemirror_mode": {
    "name": "ipython",
    "version": 3
   },
   "file_extension": ".py",
   "mimetype": "text/x-python",
   "name": "python",
   "nbconvert_exporter": "python",
   "pygments_lexer": "ipython3",
   "version": "3.8.13"
  },
  "orig_nbformat": 4
 },
 "nbformat": 4,
 "nbformat_minor": 2
}
