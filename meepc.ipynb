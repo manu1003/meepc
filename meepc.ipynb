{
    "cells": [
        {
            "cell_type": "code",
            "execution_count": 1,
            "metadata": {},
            "outputs": [
                {
                    "name": "stderr",
                    "output_type": "stream",
                    "text": [
                        "C:\\Users\\user\\AppData\\Local\\Packages\\PythonSoftwareFoundation.Python.3.9_qbz5n2kfra8p0\\LocalCache\\local-packages\\Python39\\site-packages\\numpy\\_distributor_init.py:30: UserWarning: loaded more than 1 DLL from .libs:\n",
                        "C:\\Users\\user\\AppData\\Local\\Packages\\PythonSoftwareFoundation.Python.3.9_qbz5n2kfra8p0\\LocalCache\\local-packages\\Python39\\site-packages\\numpy\\.libs\\libopenblas.EL2C6PLE4ZYW3ECEVIV3OXXGRN2NRFM2.gfortran-win_amd64.dll\n",
                        "C:\\Users\\user\\AppData\\Local\\Packages\\PythonSoftwareFoundation.Python.3.9_qbz5n2kfra8p0\\LocalCache\\local-packages\\Python39\\site-packages\\numpy\\.libs\\libopenblas.WCDJNK7YVMPZQ2ME2ZZHJJRJ3JIKNDB7.gfortran-win_amd64.dll\n",
                        "  warnings.warn(\"loaded more than 1 DLL from .libs:\"\n"
                    ]
                }
            ],
            "source": [
                "import numpy as np\n",
                "\n",
                "import matplotlib.pyplot as plt\n",
                "\n",
                "from random import random\n",
                "from copy import deepcopy"
            ]
        },
        {
            "cell_type": "code",
            "execution_count": 2,
            "metadata": {},
            "outputs": [],
            "source": [
                "X = np.reshape([random()*100 for i in range(400)],(100,4))"
            ]
        },
        {
            "cell_type": "code",
            "execution_count": 3,
            "metadata": {},
            "outputs": [],
            "source": [
                "col_max = np.amax(X,axis=0)\n",
                "col_min = np.amin(X,axis=0)\n",
                "centroid = (col_max + col_min)/2"
            ]
        },
        {
            "cell_type": "code",
            "execution_count": 4,
            "metadata": {},
            "outputs": [],
            "source": [
                "Z = (X-centroid)**2"
            ]
        },
        {
            "cell_type": "code",
            "execution_count": 5,
            "metadata": {},
            "outputs": [],
            "source": [
                "alpha = (1.0 / 100) * np.ones(100)"
            ]
        },
        {
            "cell_type": "code",
            "execution_count": 6,
            "metadata": {},
            "outputs": [
                {
                    "data": {
                        "text/plain": [
                            "array([803.43062001, 768.00097993, 759.7226528 , 832.58789476])"
                        ]
                    },
                    "execution_count": 6,
                    "metadata": {},
                    "output_type": "execute_result"
                }
            ],
            "source": [
                "ZT = Z.T\n",
                "h = np.matmul(alpha,Z)\n",
                "h"
            ]
        },
        {
            "cell_type": "code",
            "execution_count": 7,
            "metadata": {},
            "outputs": [],
            "source": [
                "def solution(Z,alpha,h):\n",
                "    i = 0\n",
                "    updates = 0\n",
                "    converged = False\n",
                "    alpha_old = np.zeros(100)\n",
                "    old = 0\n",
                "    while i < 100:\n",
                "        if converged:\n",
                "            return h\n",
                "        alpha_old[i] = alpha[i]\n",
                "        f_x = 0\n",
                "        for j in range(4):\n",
                "            s_i_j = h[j] - alpha_old[i]*Z[i][j]\n",
                "            f_x += (1/(i/100 + s_i_j/Z[i][j]))\n",
                "        if f_x == 1:\n",
                "            alpha[i] = i/100\n",
                "        else:\n",
                "            alpha[i] = 0\n",
                "        h = h + (alpha[i] - alpha_old[i])*Z[i]\n",
                "        i += 1\n",
                "        if i>99 :\n",
                "            i = 0\n",
                "            updates += 1\n",
                "            if old == 0:\n",
                "                stored_alpha_old = deepcopy(alpha_old)\n",
                "                old = 1\n",
                "        if updates == 4:\n",
                "            if np.all(alpha - stored_alpha_old) < .00001:\n",
                "                converged = True\n",
                "            else:\n",
                "                updates = 0\n",
                "                stored_alpha_old = deepcopy(alpha)\n",
                "    "
            ]
        },
        {
            "cell_type": "code",
            "execution_count": 10,
            "metadata": {},
            "outputs": [
                {
                    "data": {
                        "text/plain": [
                            "array([-4.45900953e+12, -3.75104602e+13,  2.10141715e+12,  9.07983796e+12])"
                        ]
                    },
                    "execution_count": 9,
                    "metadata": {},
                    "output_type": "execute_result"
                }
            ],
            "source": [
                "v = 1/h\n",
                "v"
            ]
        },
        {
            "cell_type": "code",
            "execution_count": 10,
            "metadata": {},
            "outputs": [],
            "source": [
                "def coordinatedescent(S,Z,i,var_x):\n",
                "  sum=0\n",
                "  for j in range(4):\n",
                "    sum+=1/var_x[i,j]+(S[i,j]/Z[i,j])\n",
                "  if(sum==1):\n",
                "    return var_x[i] \n"
            ]
        },
        {
            "cell_type": "code",
            "execution_count": 11,
            "metadata": {},
            "outputs": [],
            "source": [
                "def getS(h,alpha,Z,n,d,i):\n",
                "  S = np.reshape([random()*100 for io in range(400)],(100,4))\n",
                "  for j in range(4):\n",
                "    S[i,j]= h[j]-alpha[j]*Z[i,j]\n",
                "  return S\n"
            ]
        },
        {
            "cell_type": "code",
            "execution_count": 12,
            "metadata": {},
            "outputs": [],
            "source": [
<<<<<<< HEAD
    "def meepcalgo(n,):\n",
                "  converged=False\n",
=======
    "def meepcalgo(n):\n",
>>>>>>> 296cff21cab0a9e7bbe7d4fe5ce37e79e754dce2
    "  index= np.random.randint(n)\n",
                "  converged = False\n",
                "  # alpha_i=X[index,:]\n",
                "  while(index<100):\n",
                "    if converged:\n",
                "      break\n",
                "    alpha_old = alpha[index]\n",
                "    S = getS(h,alpha_old,Z,n,4,index)\n",
                "    var_x=np.reshape([random() for i in range(100)],(100,4))\n",
<<<<<<< HEAD
    "    f_val=coordinatedescent(S,Z,index,var_x)\n",
                "    index+=1\n",
                "    if()\n",
                "\n",
                "  \n"
=======
    "    f_val=coordinatedescent(S,Z,index)\n",
                "    index+=1\n",
                "    if(index==100):\n",
                "      index=0"
>>>>>>> 296cff21cab0a9e7bbe7d4fe5ce37e79e754dce2
            ]
        },
        {
            "cell_type": "code",
            "execution_count": null,
            "metadata": {},
            "outputs": [],
            "source": []
        }
    ],
    "metadata": {
        "interpreter": {
            "hash": "497338f01161d141240caa60efca5087225791fadc9b7c964beb65d863e046f0"
        },
        "kernelspec": {
            "display_name": "Python 3.9.13 64-bit (windows store)",
            "language": "python",
            "name": "python3"
        },
        "language_info": {
            "codemirror_mode": {
                "name": "ipython",
                "version": 3
            },
            "file_extension": ".py",
            "mimetype": "text/x-python",
            "name": "python",
            "nbconvert_exporter": "python",
            "pygments_lexer": "ipython3",
            "version": "3.9.13"
        },
        "orig_nbformat": 4
    },
    "nbformat": 4,
    "nbformat_minor": 2
}