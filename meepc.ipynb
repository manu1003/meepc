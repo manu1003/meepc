{
 "cells": [
  {
   "cell_type": "code",
   "execution_count": 1,
   "metadata": {},
   "outputs": [],
   "source": [
    "import numpy as np\n",
    "\n",
    "import matplotlib.pyplot as plt\n",
    "\n",
    "from random import random\n",
    "from copy import deepcopy"
   ]
  },
  {
   "cell_type": "code",
   "execution_count": 2,
   "metadata": {},
   "outputs": [],
   "source": [
    "X = np.reshape([random()*100 for i in range(400)],(100,4))"
   ]
  },
  {
   "cell_type": "code",
   "execution_count": 3,
   "metadata": {},
   "outputs": [],
   "source": [
    "col_max = np.amax(X,axis=0)\n",
    "col_min = np.amin(X,axis=0)\n",
    "centroid = (col_max + col_min)/2"
   ]
  },
  {
   "cell_type": "code",
   "execution_count": 4,
   "metadata": {},
   "outputs": [],
   "source": [
    "Z = (X-centroid)**2"
   ]
  },
  {
   "cell_type": "code",
   "execution_count": 5,
   "metadata": {},
   "outputs": [],
   "source": [
    "alpha = (1.0 / 100) * np.ones(100)"
   ]
  },
  {
   "cell_type": "code",
   "execution_count": 6,
   "metadata": {},
   "outputs": [
    {
     "data": {
      "text/plain": [
       "array([764.17028219, 866.75344665, 841.70409949, 797.03444277])"
      ]
     },
     "execution_count": 6,
     "metadata": {},
     "output_type": "execute_result"
    }
   ],
   "source": [
    "ZT = Z.T\n",
    "h = np.matmul(alpha,Z)\n",
    "h"
   ]
  },
  {
   "cell_type": "code",
   "execution_count": 13,
   "metadata": {},
   "outputs": [],
   "source": [
    "def solution(Z,alpha,h):\n",
    "    i = 0\n",
    "    updates = 0\n",
    "    converged = False\n",
    "    alpha_old = np.zeros(100)\n",
    "    old = 0\n",
    "    while i < 100:\n",
    "        if converged:\n",
    "            return h\n",
    "        alpha_old[i] = alpha[i]\n",
    "        f_x = 0\n",
    "        for j in range(4):\n",
    "            s_i_j = h[j] - alpha_old[i]*Z[i][j]\n",
    "            f_x += (1/(i/100 + s_i_j/Z[i][j]))\n",
    "        if f_x == 1:\n",
    "            alpha[i] = i/100\n",
    "        else:\n",
    "            alpha[i] = 0\n",
    "        h = h + (alpha[i] - alpha_old[i])*Z[i]\n",
    "        i += 1\n",
    "        if i>99 :\n",
    "            i = 0\n",
    "            updates += 1\n",
    "            if old == 0:\n",
    "                stored_alpha_old = deepcopy(alpha_old)\n",
    "                old = 1\n",
    "        if updates == 4:\n",
    "            if np.all(alpha - stored_alpha_old) < .00001:\n",
    "                converged = True\n",
    "            else:\n",
    "                updates = 0\n",
    "                stored_alpha_old = deepcopy(alpha)\n",
    "    "
   ]
  },
  {
   "cell_type": "code",
   "execution_count": 14,
   "metadata": {},
   "outputs": [
    {
     "data": {
      "text/plain": [
       "array([-2.50687427e+12,  2.21633840e+12,  1.70590895e+12, -1.84573755e+12])"
      ]
     },
     "execution_count": 14,
     "metadata": {},
     "output_type": "execute_result"
    }
   ],
   "source": [
    "h = solution(Z,alpha,h)\n",
    "h"
   ]
  },
  {
   "cell_type": "code",
   "execution_count": 9,
   "metadata": {},
   "outputs": [
    {
     "data": {
      "text/plain": [
       "array([-2.50687427e+12,  2.21633840e+12,  1.70590895e+12, -1.84573755e+12])"
      ]
     },
     "execution_count": 9,
     "metadata": {},
     "output_type": "execute_result"
    }
   ],
   "source": [
    "v = 1/h\n",
    "v"
   ]
  },
  {
   "cell_type": "code",
   "execution_count": 10,
   "metadata": {},
   "outputs": [],
   "source": [
    "def coordinatedescent(S,Z,i,var_x):\n",
    "  sum=0\n",
    "  for j in range(4):\n",
    "    sum+=1/var_x[i,j]+(S[i,j]/Z[i,j])\n",
    "  if(sum==1):\n",
    "    return var_x[i] \n"
   ]
  },
  {
   "cell_type": "code",
   "execution_count": 11,
   "metadata": {},
   "outputs": [],
   "source": [
    "def getS(h,alpha,Z,n,d,i):\n",
    "  S = np.reshape([random()*100 for io in range(400)],(100,4))\n",
    "  for j in range(4):\n",
    "    S[i,j]= h[j]-alpha[j]*Z[i,j]\n",
    "  return S\n"
   ]
  },
  {
   "cell_type": "code",
   "execution_count": 12,
   "metadata": {},
   "outputs": [],
   "source": [
    "def meepcalgo(n):\n",
    "  index= np.random.randint(n)\n",
    "  converged = False\n",
    "  # alpha_i=X[index,:]\n",
    "  while(index<100):\n",
    "    if converged:\n",
    "      break\n",
    "    alpha_old = alpha[index]\n",
    "    S = getS(h,alpha_old,Z,n,4,index)\n",
    "    var_x=np.reshape([random() for i in range(100)],(100,4))\n",
    "    f_val=coordinatedescent(S,Z,index)\n",
    "    index+=1\n",
    "    if(index==100):\n",
    "      index=0"
   ]
  },
  {
   "cell_type": "code",
   "execution_count": null,
   "metadata": {},
   "outputs": [],
   "source": []
  }
 ],
 "metadata": {
  "interpreter": {
   "hash": "5f5277ade0e427ba53f4f59731df06a81409d3d5d18aa06b18e04ee34f04aaa5"
  },
  "kernelspec": {
   "display_name": "Python 3.8.13 ('tensor')",
   "language": "python",
   "name": "python3"
  },
  "language_info": {
   "codemirror_mode": {
    "name": "ipython",
    "version": 3
   },
   "file_extension": ".py",
   "mimetype": "text/x-python",
   "name": "python",
   "nbconvert_exporter": "python",
   "pygments_lexer": "ipython3",
   "version": "3.8.13"
  },
  "orig_nbformat": 4
 },
 "nbformat": 4,
 "nbformat_minor": 2
}
