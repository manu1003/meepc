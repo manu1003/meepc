{
 "cells": [
  {
   "cell_type": "code",
   "execution_count": 16,
   "metadata": {},
   "outputs": [],
   "source": [
    "import numpy as np\n",
    "\n",
    "import matplotlib.pyplot as plt\n",
    "from numpy import linalg\n",
    "from random import random\n",
    "from copy import deepcopy"
   ]
  },
  {
   "cell_type": "code",
   "execution_count": 17,
   "metadata": {},
   "outputs": [],
   "source": [
    "X = np.reshape([random()*100 for i in range(400)],(100,4))"
   ]
  },
  {
   "cell_type": "code",
   "execution_count": 18,
   "metadata": {},
   "outputs": [],
   "source": [
    "col_max = np.amax(X,axis=0)\n",
    "col_min = np.amin(X,axis=0)\n",
    "centroid = (col_max + col_min)/2"
   ]
  },
  {
   "cell_type": "code",
   "execution_count": 19,
   "metadata": {},
   "outputs": [],
   "source": [
    "Z = (X-centroid)**2"
   ]
  },
  {
   "cell_type": "code",
   "execution_count": 20,
   "metadata": {},
   "outputs": [],
   "source": [
    "alpha = (1.0 / 100) * np.ones(100)"
   ]
  },
  {
   "cell_type": "code",
   "execution_count": 21,
   "metadata": {},
   "outputs": [
    {
     "data": {
      "text/plain": [
       "array([762.06456943, 762.48833024, 827.30172556, 943.58890861])"
      ]
     },
     "execution_count": 21,
     "metadata": {},
     "output_type": "execute_result"
    }
   ],
   "source": [
    "ZT = Z.T\n",
    "h = np.matmul(alpha,Z)\n",
    "h"
   ]
  },
  {
   "cell_type": "code",
   "execution_count": 22,
   "metadata": {},
   "outputs": [],
   "source": [
    "def isclose(a, b, rel_tol, abs_tol=0.0):\n",
    "    return abs(a-b) <= max(rel_tol * max(abs(a), abs(b)), abs_tol)"
   ]
  },
  {
   "cell_type": "code",
   "execution_count": 23,
   "metadata": {},
   "outputs": [
    {
     "data": {
      "text/plain": [
       "True"
      ]
     },
     "execution_count": 23,
     "metadata": {},
     "output_type": "execute_result"
    }
   ],
   "source": [
    "isclose(1.00,1.002,1e-02)"
   ]
  },
  {
   "cell_type": "code",
   "execution_count": 24,
   "metadata": {},
   "outputs": [],
   "source": [
    "def calc_s(h,alpha_old,Z,u,i):\n",
    "  ans=0\n",
    "  for j in range(4):\n",
    "            s_i_j = h[j] - alpha_old[i]*Z[i][j]\n",
    "            ans += (1/(u + s_i_j/Z[i][j]))\n",
    "  return ans"
   ]
  },
  {
   "cell_type": "code",
   "execution_count": 25,
   "metadata": {},
   "outputs": [],
   "source": [
    "def binary(h,alpha_old,Z,i,low,high):\n",
    "  mid=(low+high)/2\n",
    "  temp_ans=calc_s(h,alpha_old,Z,mid,i)\n",
    "  while(not isclose(temp_ans,1,1e-05)):\n",
    "    # print(abs(temp_ans-1))\n",
    "    if(temp_ans>1):\n",
    "      low=mid\n",
    "    elif(temp_ans<1):\n",
    "      high=mid\n",
    "    else:\n",
    "      return mid\n",
    "    mid = (low+high)/2\n",
    "    # print(low,high,mid)\n",
    "    temp_ans=calc_s(h,alpha_old,Z,mid,i)\n",
    "  return mid"
   ]
  },
  {
   "cell_type": "code",
   "execution_count": 26,
   "metadata": {},
   "outputs": [],
   "source": [
    "def helper(h,alpha_old,Z,u,i):\n",
    "\n",
    "    u_old=u # this 0.00001 is step which i am decreasing the u for binary search..\n",
    "    \n",
    "    while(calc_s(h,alpha_old,Z,u,i)>1):\n",
    "        u_old=u\n",
    "        u*=2        \n",
    "    if u_old == u:\n",
    "        u = binary(h,alpha_old,Z,i,0,1)\n",
    "    else:\n",
    "        u =binary(h,alpha_old,Z,i,u_old,u)\n",
    "    return u"
   ]
  },
  {
   "cell_type": "code",
   "execution_count": 27,
   "metadata": {},
   "outputs": [],
   "source": [
    "def solution(Z,alpha,h,tol):\n",
    "    i = 0\n",
    "    updates = 0\n",
    "    converged = False\n",
    "    alpha_old = np.zeros(100)\n",
    "    old = 0\n",
    "        \n",
    "    while i < 100:\n",
    "        if converged:\n",
    "            return h\n",
    "        alpha_old[i] = alpha[i]\n",
    "        f_x = 0\n",
    "        u=0\n",
    "        f_x=calc_s(h,alpha_old,Z,u,i)\n",
    "        \n",
    "        if f_x == 1:\n",
    "            alpha[i] = u\n",
    "        \n",
    "        if f_x < 1:\n",
    "\n",
    "            alpha[i] = 0\n",
    "\n",
    "        if f_x > 1:\n",
    "            alpha[i]= helper(h,alpha_old,Z,1,i)\n",
    "            \n",
    "                \n",
    "        h = h + (alpha[i] - alpha_old[i])*Z[i]\n",
    "        i += 1\n",
    "        if i>=99 :\n",
    "            i = 0\n",
    "            updates += 1\n",
    "            if old == 0:\n",
    "                stored_alpha_old = deepcopy(alpha_old)\n",
    "                old = 1\n",
    "        if updates == 4:\n",
    "            if np.all(alpha - stored_alpha_old) < tol :  #.00001\n",
    "                converged = True\n",
    "            else:\n",
    "                updates = 0\n",
    "                stored_alpha_old = deepcopy(alpha)\n",
    "    "
   ]
  },
  {
   "cell_type": "code",
   "execution_count": 28,
   "metadata": {},
   "outputs": [
    {
     "data": {
      "text/plain": [
       "array([9144.37935994, 5063.04084804, 8433.10957782, 7448.28805468])"
      ]
     },
     "execution_count": 28,
     "metadata": {},
     "output_type": "execute_result"
    }
   ],
   "source": [
    "h = solution(Z,alpha,h,1e-05)\n",
    "h"
   ]
  },
  {
   "cell_type": "markdown",
   "metadata": {},
   "source": [
    "## weight vectors obtained are:"
   ]
  },
  {
   "cell_type": "code",
   "execution_count": 29,
   "metadata": {},
   "outputs": [
    {
     "data": {
      "text/plain": [
       "array([0.00010936, 0.00019751, 0.00011858, 0.00013426])"
      ]
     },
     "execution_count": 29,
     "metadata": {},
     "output_type": "execute_result"
    }
   ],
   "source": [
    "v = 1/h\n",
    "v"
   ]
  },
  {
   "cell_type": "markdown",
   "metadata": {},
   "source": [
    "## visualising the ellipsoid with data points\n"
   ]
  }
 ],
 "metadata": {
  "interpreter": {
   "hash": "497338f01161d141240caa60efca5087225791fadc9b7c964beb65d863e046f0"
  },
  "kernelspec": {
   "display_name": "Python 3.9.13 64-bit (windows store)",
   "language": "python",
   "name": "python3"
  },
  "language_info": {
   "codemirror_mode": {
    "name": "ipython",
    "version": 3
   },
   "file_extension": ".py",
   "mimetype": "text/x-python",
   "name": "python",
   "nbconvert_exporter": "python",
   "pygments_lexer": "ipython3",
   "version": "3.9.13"
  }
 },
 "nbformat": 4,
 "nbformat_minor": 2
}
