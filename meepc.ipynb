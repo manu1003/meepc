{
 "cells": [
  {
   "cell_type": "code",
   "execution_count": 95,
   "metadata": {},
   "outputs": [],
   "source": [
    "import numpy as np\n",
    "\n",
    "import matplotlib.pyplot as plt\n",
    "\n",
    "from random import random\n",
    "from copy import deepcopy"
   ]
  },
  {
   "cell_type": "code",
   "execution_count": 96,
   "metadata": {},
   "outputs": [],
   "source": [
    "X = np.reshape([random()*100 for i in range(400)],(100,4))"
   ]
  },
  {
   "cell_type": "code",
   "execution_count": 97,
   "metadata": {},
   "outputs": [],
   "source": [
    "col_max = np.amax(X,axis=0)\n",
    "col_min = np.amin(X,axis=0)\n",
    "centroid = (col_max + col_min)/2"
   ]
  },
  {
   "cell_type": "code",
   "execution_count": 98,
   "metadata": {},
   "outputs": [],
   "source": [
    "Z = (X-centroid)**2"
   ]
  },
  {
   "cell_type": "code",
   "execution_count": 99,
   "metadata": {},
   "outputs": [],
   "source": [
    "alpha = (1.0 / 100) * np.ones(100)"
   ]
  },
  {
   "cell_type": "code",
   "execution_count": 100,
   "metadata": {},
   "outputs": [
    {
     "data": {
      "text/plain": [
       "array([854.4840649 , 900.76170879, 786.0850101 , 701.34916922])"
      ]
     },
     "execution_count": 100,
     "metadata": {},
     "output_type": "execute_result"
    }
   ],
   "source": [
    "ZT = Z.T\n",
    "h = np.matmul(alpha,Z)\n",
    "h"
   ]
  },
  {
   "cell_type": "code",
   "execution_count": 101,
   "metadata": {},
   "outputs": [],
   "source": [
    "def isclose(a, b, rel_tol, abs_tol=0.0):\n",
    "    return abs(a-b) <= max(rel_tol * max(abs(a), abs(b)), abs_tol)"
   ]
  },
  {
   "cell_type": "code",
   "execution_count": null,
   "metadata": {},
   "outputs": [],
   "source": []
  },
  {
   "cell_type": "code",
   "execution_count": 102,
   "metadata": {},
   "outputs": [],
   "source": [
    "def calc_s(h,alpha_old,Z,u,i):\n",
    "  ans=0\n",
    "  for j in range(4):\n",
    "            s_i_j = h[j] - alpha_old[i]*Z[i][j]\n",
    "            ans += (1/(u + s_i_j/Z[i][j]))\n",
    "  return ans"
   ]
  },
  {
   "cell_type": "code",
   "execution_count": 110,
   "metadata": {},
   "outputs": [],
   "source": [
    "def solution(Z,alpha,h,tol):\n",
    "    i = 0\n",
    "    updates = 0\n",
    "    converged = False\n",
    "    alpha_old = np.zeros(100)\n",
    "    old = 0\n",
    "    start=0\n",
    "\n",
    "    \n",
    "    while i < 100:\n",
    "        if converged:\n",
    "            return h\n",
    "        alpha_old[i] = alpha[i]\n",
    "        f_x = 0\n",
    "        u = random()\n",
    "        f_x=calc_s(h,alpha_old,Z,u,i)\n",
    "        \n",
    "        if f_x == 1:\n",
    "            alpha[i] = u\n",
    "        \n",
    "        if f_x < 1:\n",
    "\n",
    "            alpha[i] = 0\n",
    "\n",
    "        if f_x > 1:\n",
    "            u+=0.00001*u\n",
    "            while(not isclose(f_x,1,tol)):\n",
    "                f_x = calc_s(h,alpha_old,Z,u,i)\n",
    "                if(f_x>1):\n",
    "                    u+=0.0001*u\n",
    "                else:\n",
    "                    u-=0.0001*u \n",
    "            alpha[i]=u    \n",
    "            \n",
    "                \n",
    "        h = h + (alpha[i] - alpha_old[i])*Z[i]\n",
    "        i += 1\n",
    "        if i>=99 :\n",
    "            i = 0\n",
    "            updates += 1\n",
    "            if old == 0:\n",
    "                stored_alpha_old = deepcopy(alpha_old)\n",
    "                old = 1\n",
    "        if updates == 4:\n",
    "            if np.all(alpha - stored_alpha_old) < tol :  #.00001\n",
    "                converged = True\n",
    "            else:\n",
    "                updates = 0\n",
    "                stored_alpha_old = deepcopy(alpha)\n",
    "    "
   ]
  },
  {
   "cell_type": "code",
   "execution_count": 113,
   "metadata": {},
   "outputs": [
    {
     "data": {
      "text/plain": [
       "array([5578.67546033, 8129.30575987, 9758.21555533, 9263.21414035])"
      ]
     },
     "execution_count": 113,
     "metadata": {},
     "output_type": "execute_result"
    }
   ],
   "source": [
    "h = solution(Z,alpha,h,1e-05)\n",
    "h"
   ]
  },
  {
   "cell_type": "markdown",
   "metadata": {},
   "source": [
    "## weight vectors obtained are:"
   ]
  },
  {
   "cell_type": "code",
   "execution_count": 114,
   "metadata": {},
   "outputs": [
    {
     "data": {
      "text/plain": [
       "array([0.00017925, 0.00012301, 0.00010248, 0.00010795])"
      ]
     },
     "execution_count": 114,
     "metadata": {},
     "output_type": "execute_result"
    }
   ],
   "source": [
    "v = 1/h\n",
    "v"
   ]
  },
  {
   "cell_type": "code",
   "execution_count": null,
   "metadata": {},
   "outputs": [],
   "source": []
  }
 ],
 "metadata": {
  "interpreter": {
   "hash": "5f5277ade0e427ba53f4f59731df06a81409d3d5d18aa06b18e04ee34f04aaa5"
  },
  "kernelspec": {
   "display_name": "Python 3.8.13 ('tensor')",
   "language": "python",
   "name": "python3"
  },
  "language_info": {
   "codemirror_mode": {
    "name": "ipython",
    "version": 3
   },
   "file_extension": ".py",
   "mimetype": "text/x-python",
   "name": "python",
   "nbconvert_exporter": "python",
   "pygments_lexer": "ipython3",
   "version": "3.8.13"
  },
  "orig_nbformat": 4
 },
 "nbformat": 4,
 "nbformat_minor": 2
}
