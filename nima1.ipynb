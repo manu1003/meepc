{
 "cells": [
  {
   "cell_type": "code",
   "execution_count": 1,
   "metadata": {},
   "outputs": [],
   "source": [
    "import numpy as np\n",
    "import numpy.linalg as linalg\n",
    "\n",
    "def minimum_volume_enclosing_ellipsoid(points, tol=0.01):\n",
    "    \"\"\"\n",
    "    Computes the minimum volume enclosing ellipsoid of a set of points in n-dimensional space.\n",
    "\n",
    "    Args:\n",
    "        points: A d-by-N numpy array of N points in R^d.\n",
    "        tol: The tolerance for convergence of the iterative algorithm (default 0.01).\n",
    "\n",
    "    Returns:\n",
    "        A tuple containing the A matrix and center c such that (x-c)^T * A * (x-c) = 1 defines the ellipsoid.\n",
    "    \"\"\"\n",
    "\n",
    "    d, N = points.shape\n",
    "\n",
    "    # Embed the points into a higher-dimensional space by adding an extra dimension and setting it to 1.\n",
    "    Q = np.zeros((d+1, N))\n",
    "    Q[:d, :] = points\n",
    "    Q[d, :] = np.ones(N)\n",
    "\n",
    "    # Initialize the weights to be uniform.\n",
    "    u = (1.0/N) * np.ones(N)\n",
    "\n",
    "    # Iterate until convergence.\n",
    "    err = 1\n",
    "    while err > tol:\n",
    "        # Compute the covariance matrix of the weighted points.\n",
    "        X = Q @ np.diag(u) @ Q.T\n",
    "\n",
    "        # try:\n",
    "        # Compute the eigenvalues and eigenvectors of the covariance matrix.\n",
    "        eigvals, eigvecs = linalg.eigh(X)\n",
    "\n",
    "        # Find the largest eigenvalue and its corresponding eigenvector.\n",
    "        max_eigval = np.max(eigvals)\n",
    "        # max_eigvec = eigvecs[:, np.argmax(eigvals)]\n",
    "\n",
    "        # Update the weights.\n",
    "        step_size = (max_eigval - d - 1) / ((d+1) * (max_eigval - 1))\n",
    "        new_u = (1 - step_size) * u\n",
    "        new_u[np.argmax(eigvals)] += step_size\n",
    "\n",
    "        # Compute the norm of the difference between the new and old weights.\n",
    "        err = linalg.norm(new_u - u)\n",
    "        u = new_u\n",
    "        # except:\n",
    "            # If the covariance matrix is not invertible, return None.\n",
    "            # return None\n",
    "\n",
    "    # Compute the center of the ellipsoid.\n",
    "    c = points @ u\n",
    "\n",
    "    return c,u\n",
    "\n",
    "    # try:\n",
    "    #     # Compute the A matrix of the ellipsoid.\n",
    "    #     A = (1.0/d) * linalg.inv(points @ np.diag(u) @ points.T - np.outer(c, c))\n",
    "    # except:\n",
    "    #     # If the matrix is not invertible, return None.\n",
    "    #     return None\n",
    "\n",
    "    # return (A, c)\n"
   ]
  },
  {
   "cell_type": "code",
   "execution_count": 2,
   "metadata": {},
   "outputs": [],
   "source": [
    "import pandas as pd\n",
    "from scipy.linalg import hankel\n",
    "df = pd.read_csv('~/data/final_final.csv')\n",
    "for sensor in range(20):\n",
    "    xmeas = df.iloc[:,sensor].values\n",
    "    X_train_data = xmeas[:2000] # For training \n",
    "    N = len(X_train_data)\n",
    "    L = N // 2\n",
    "    X_train = hankel(X_train_data[:L],X_train_data[L-1:])\n",
    "    # X_train =  X_train[:,:-1]\n",
    "    # print(np.linalg.det(X_train))\n",
    "    X_theta = xmeas[2000:8000] # For threshold calculation\n",
    "    X_test = xmeas[8000:] # For detection\n",
    "    c,u = minimum_volume_enclosing_ellipsoid(X_train)\n",
    "    # print(c)\n",
    "    break"
   ]
  },
  {
   "cell_type": "code",
   "execution_count": 3,
   "metadata": {},
   "outputs": [
    {
     "name": "stderr",
     "output_type": "stream",
     "text": [
      "/home/manu/meepc/models/Meepc.py:34: RuntimeWarning: divide by zero encountered in scalar divide\n",
      "  ans += (1/(u + s_i_j/Z[i][j]))\n"
     ]
    }
   ],
   "source": [
    "from models import Hankel,Rank,Cluster,Meepc\n",
    "meepc = Meepc.MEEPC()\n",
    "weights,ce = meepc.fit(X_train)"
   ]
  },
  {
   "cell_type": "code",
   "execution_count": null,
   "metadata": {},
   "outputs": [],
   "source": []
  }
 ],
 "metadata": {
  "kernelspec": {
   "display_name": "Python 3",
   "language": "python",
   "name": "python3"
  },
  "language_info": {
   "codemirror_mode": {
    "name": "ipython",
    "version": 3
   },
   "file_extension": ".py",
   "mimetype": "text/x-python",
   "name": "python",
   "nbconvert_exporter": "python",
   "pygments_lexer": "ipython3",
   "version": "3.10.6"
  },
  "orig_nbformat": 4,
  "vscode": {
   "interpreter": {
    "hash": "916dbcbb3f70747c44a77c7bcd40155683ae19c65e1c03b4aa3499c5328201f1"
   }
  }
 },
 "nbformat": 4,
 "nbformat_minor": 2
}
