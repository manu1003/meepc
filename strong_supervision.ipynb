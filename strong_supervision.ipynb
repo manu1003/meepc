{
 "cells": [
  {
   "cell_type": "code",
   "execution_count": 1,
   "metadata": {},
   "outputs": [],
   "source": [
    "import numpy as np\n",
    "import pandas as pd\n",
    "import math\n",
    "import matplotlib.pyplot as plt\n",
    "from numpy import linalg\n",
    "from random import random\n",
    "from copy import deepcopy\n",
    "from scipy.linalg import hankel, eigh\n",
    "from matplotlib import style\n",
    "from matplotlib.patches import Ellipse"
   ]
  },
  {
   "cell_type": "code",
   "execution_count": 2,
   "metadata": {},
   "outputs": [
    {
     "data": {
      "text/html": [
       "<div>\n",
       "<style scoped>\n",
       "    .dataframe tbody tr th:only-of-type {\n",
       "        vertical-align: middle;\n",
       "    }\n",
       "\n",
       "    .dataframe tbody tr th {\n",
       "        vertical-align: top;\n",
       "    }\n",
       "\n",
       "    .dataframe thead th {\n",
       "        text-align: right;\n",
       "    }\n",
       "</style>\n",
       "<table border=\"1\" class=\"dataframe\">\n",
       "  <thead>\n",
       "    <tr style=\"text-align: right;\">\n",
       "      <th></th>\n",
       "      <th>Row</th>\n",
       "      <th>Date</th>\n",
       "      <th>Time</th>\n",
       "      <th>\\\\WIN-25J4RO10SBF\\LOG_DATA\\SUTD_WADI\\LOG_DATA\\1_AIT_001_PV</th>\n",
       "      <th>\\\\WIN-25J4RO10SBF\\LOG_DATA\\SUTD_WADI\\LOG_DATA\\1_AIT_002_PV</th>\n",
       "      <th>\\\\WIN-25J4RO10SBF\\LOG_DATA\\SUTD_WADI\\LOG_DATA\\1_AIT_003_PV</th>\n",
       "      <th>\\\\WIN-25J4RO10SBF\\LOG_DATA\\SUTD_WADI\\LOG_DATA\\1_AIT_004_PV</th>\n",
       "      <th>\\\\WIN-25J4RO10SBF\\LOG_DATA\\SUTD_WADI\\LOG_DATA\\1_AIT_005_PV</th>\n",
       "      <th>\\\\WIN-25J4RO10SBF\\LOG_DATA\\SUTD_WADI\\LOG_DATA\\1_FIT_001_PV</th>\n",
       "      <th>\\\\WIN-25J4RO10SBF\\LOG_DATA\\SUTD_WADI\\LOG_DATA\\1_LS_001_AL</th>\n",
       "      <th>...</th>\n",
       "      <th>\\\\WIN-25J4RO10SBF\\LOG_DATA\\SUTD_WADI\\LOG_DATA\\3_MV_001_STATUS</th>\n",
       "      <th>\\\\WIN-25J4RO10SBF\\LOG_DATA\\SUTD_WADI\\LOG_DATA\\3_MV_002_STATUS</th>\n",
       "      <th>\\\\WIN-25J4RO10SBF\\LOG_DATA\\SUTD_WADI\\LOG_DATA\\3_MV_003_STATUS</th>\n",
       "      <th>\\\\WIN-25J4RO10SBF\\LOG_DATA\\SUTD_WADI\\LOG_DATA\\3_P_001_STATUS</th>\n",
       "      <th>\\\\WIN-25J4RO10SBF\\LOG_DATA\\SUTD_WADI\\LOG_DATA\\3_P_002_STATUS</th>\n",
       "      <th>\\\\WIN-25J4RO10SBF\\LOG_DATA\\SUTD_WADI\\LOG_DATA\\3_P_003_STATUS</th>\n",
       "      <th>\\\\WIN-25J4RO10SBF\\LOG_DATA\\SUTD_WADI\\LOG_DATA\\3_P_004_STATUS</th>\n",
       "      <th>\\\\WIN-25J4RO10SBF\\LOG_DATA\\SUTD_WADI\\LOG_DATA\\LEAK_DIFF_PRESSURE</th>\n",
       "      <th>\\\\WIN-25J4RO10SBF\\LOG_DATA\\SUTD_WADI\\LOG_DATA\\PLANT_START_STOP_LOG</th>\n",
       "      <th>\\\\WIN-25J4RO10SBF\\LOG_DATA\\SUTD_WADI\\LOG_DATA\\TOTAL_CONS_REQUIRED_FLOW</th>\n",
       "    </tr>\n",
       "  </thead>\n",
       "  <tbody>\n",
       "    <tr>\n",
       "      <th>0</th>\n",
       "      <td>1</td>\n",
       "      <td>9/25/2017</td>\n",
       "      <td>6:00:00 PM</td>\n",
       "      <td>171.155</td>\n",
       "      <td>0.619473</td>\n",
       "      <td>11.5759</td>\n",
       "      <td>504.645</td>\n",
       "      <td>0.318319</td>\n",
       "      <td>0.001157</td>\n",
       "      <td>0</td>\n",
       "      <td>...</td>\n",
       "      <td>1</td>\n",
       "      <td>1</td>\n",
       "      <td>1</td>\n",
       "      <td>1</td>\n",
       "      <td>1</td>\n",
       "      <td>1</td>\n",
       "      <td>1</td>\n",
       "      <td>67.9651</td>\n",
       "      <td>1</td>\n",
       "      <td>0.68</td>\n",
       "    </tr>\n",
       "    <tr>\n",
       "      <th>1</th>\n",
       "      <td>2</td>\n",
       "      <td>9/25/2017</td>\n",
       "      <td>6:00:01 PM</td>\n",
       "      <td>171.155</td>\n",
       "      <td>0.619473</td>\n",
       "      <td>11.5759</td>\n",
       "      <td>504.645</td>\n",
       "      <td>0.318319</td>\n",
       "      <td>0.001157</td>\n",
       "      <td>0</td>\n",
       "      <td>...</td>\n",
       "      <td>1</td>\n",
       "      <td>1</td>\n",
       "      <td>1</td>\n",
       "      <td>1</td>\n",
       "      <td>1</td>\n",
       "      <td>1</td>\n",
       "      <td>1</td>\n",
       "      <td>67.9651</td>\n",
       "      <td>1</td>\n",
       "      <td>0.68</td>\n",
       "    </tr>\n",
       "    <tr>\n",
       "      <th>2</th>\n",
       "      <td>3</td>\n",
       "      <td>9/25/2017</td>\n",
       "      <td>6:00:02 PM</td>\n",
       "      <td>171.155</td>\n",
       "      <td>0.619473</td>\n",
       "      <td>11.5759</td>\n",
       "      <td>504.645</td>\n",
       "      <td>0.318319</td>\n",
       "      <td>0.001157</td>\n",
       "      <td>0</td>\n",
       "      <td>...</td>\n",
       "      <td>1</td>\n",
       "      <td>1</td>\n",
       "      <td>1</td>\n",
       "      <td>1</td>\n",
       "      <td>1</td>\n",
       "      <td>1</td>\n",
       "      <td>1</td>\n",
       "      <td>67.9651</td>\n",
       "      <td>1</td>\n",
       "      <td>0.68</td>\n",
       "    </tr>\n",
       "    <tr>\n",
       "      <th>3</th>\n",
       "      <td>4</td>\n",
       "      <td>9/25/2017</td>\n",
       "      <td>6:00:03 PM</td>\n",
       "      <td>171.155</td>\n",
       "      <td>0.607477</td>\n",
       "      <td>11.5725</td>\n",
       "      <td>504.673</td>\n",
       "      <td>0.318438</td>\n",
       "      <td>0.001207</td>\n",
       "      <td>0</td>\n",
       "      <td>...</td>\n",
       "      <td>1</td>\n",
       "      <td>1</td>\n",
       "      <td>1</td>\n",
       "      <td>1</td>\n",
       "      <td>1</td>\n",
       "      <td>1</td>\n",
       "      <td>1</td>\n",
       "      <td>67.1948</td>\n",
       "      <td>1</td>\n",
       "      <td>0.68</td>\n",
       "    </tr>\n",
       "    <tr>\n",
       "      <th>4</th>\n",
       "      <td>5</td>\n",
       "      <td>9/25/2017</td>\n",
       "      <td>6:00:04 PM</td>\n",
       "      <td>171.155</td>\n",
       "      <td>0.607477</td>\n",
       "      <td>11.5725</td>\n",
       "      <td>504.673</td>\n",
       "      <td>0.318438</td>\n",
       "      <td>0.001207</td>\n",
       "      <td>0</td>\n",
       "      <td>...</td>\n",
       "      <td>1</td>\n",
       "      <td>1</td>\n",
       "      <td>1</td>\n",
       "      <td>1</td>\n",
       "      <td>1</td>\n",
       "      <td>1</td>\n",
       "      <td>1</td>\n",
       "      <td>67.1948</td>\n",
       "      <td>1</td>\n",
       "      <td>0.68</td>\n",
       "    </tr>\n",
       "    <tr>\n",
       "      <th>...</th>\n",
       "      <td>...</td>\n",
       "      <td>...</td>\n",
       "      <td>...</td>\n",
       "      <td>...</td>\n",
       "      <td>...</td>\n",
       "      <td>...</td>\n",
       "      <td>...</td>\n",
       "      <td>...</td>\n",
       "      <td>...</td>\n",
       "      <td>...</td>\n",
       "      <td>...</td>\n",
       "      <td>...</td>\n",
       "      <td>...</td>\n",
       "      <td>...</td>\n",
       "      <td>...</td>\n",
       "      <td>...</td>\n",
       "      <td>...</td>\n",
       "      <td>...</td>\n",
       "      <td>...</td>\n",
       "      <td>...</td>\n",
       "      <td>...</td>\n",
       "    </tr>\n",
       "    <tr>\n",
       "      <th>1048566</th>\n",
       "      <td>1048567</td>\n",
       "      <td>10/07/17</td>\n",
       "      <td>9:16:06 PM</td>\n",
       "      <td>175.855</td>\n",
       "      <td>0.589478</td>\n",
       "      <td>11.8941</td>\n",
       "      <td>479.191</td>\n",
       "      <td>0.331571</td>\n",
       "      <td>0.001128</td>\n",
       "      <td>0</td>\n",
       "      <td>...</td>\n",
       "      <td>1</td>\n",
       "      <td>1</td>\n",
       "      <td>1</td>\n",
       "      <td>1</td>\n",
       "      <td>1</td>\n",
       "      <td>1</td>\n",
       "      <td>1</td>\n",
       "      <td>60.6305</td>\n",
       "      <td>1</td>\n",
       "      <td>0.25</td>\n",
       "    </tr>\n",
       "    <tr>\n",
       "      <th>1048567</th>\n",
       "      <td>1048568</td>\n",
       "      <td>10/07/17</td>\n",
       "      <td>9:16:07 PM</td>\n",
       "      <td>175.855</td>\n",
       "      <td>0.589478</td>\n",
       "      <td>11.8941</td>\n",
       "      <td>479.191</td>\n",
       "      <td>0.331571</td>\n",
       "      <td>0.001128</td>\n",
       "      <td>0</td>\n",
       "      <td>...</td>\n",
       "      <td>1</td>\n",
       "      <td>1</td>\n",
       "      <td>1</td>\n",
       "      <td>1</td>\n",
       "      <td>1</td>\n",
       "      <td>1</td>\n",
       "      <td>1</td>\n",
       "      <td>60.6305</td>\n",
       "      <td>1</td>\n",
       "      <td>0.25</td>\n",
       "    </tr>\n",
       "    <tr>\n",
       "      <th>1048568</th>\n",
       "      <td>1048569</td>\n",
       "      <td>10/07/17</td>\n",
       "      <td>9:16:08 PM</td>\n",
       "      <td>175.855</td>\n",
       "      <td>0.589478</td>\n",
       "      <td>11.8941</td>\n",
       "      <td>479.191</td>\n",
       "      <td>0.331571</td>\n",
       "      <td>0.001128</td>\n",
       "      <td>0</td>\n",
       "      <td>...</td>\n",
       "      <td>1</td>\n",
       "      <td>1</td>\n",
       "      <td>1</td>\n",
       "      <td>1</td>\n",
       "      <td>1</td>\n",
       "      <td>1</td>\n",
       "      <td>1</td>\n",
       "      <td>60.6305</td>\n",
       "      <td>1</td>\n",
       "      <td>0.25</td>\n",
       "    </tr>\n",
       "    <tr>\n",
       "      <th>1048569</th>\n",
       "      <td>1048570</td>\n",
       "      <td>10/07/17</td>\n",
       "      <td>9:16:09 PM</td>\n",
       "      <td>175.896</td>\n",
       "      <td>0.613476</td>\n",
       "      <td>11.8913</td>\n",
       "      <td>479.224</td>\n",
       "      <td>0.331622</td>\n",
       "      <td>0.001173</td>\n",
       "      <td>0</td>\n",
       "      <td>...</td>\n",
       "      <td>1</td>\n",
       "      <td>1</td>\n",
       "      <td>1</td>\n",
       "      <td>1</td>\n",
       "      <td>1</td>\n",
       "      <td>1</td>\n",
       "      <td>1</td>\n",
       "      <td>60.4477</td>\n",
       "      <td>1</td>\n",
       "      <td>0.25</td>\n",
       "    </tr>\n",
       "    <tr>\n",
       "      <th>1048570</th>\n",
       "      <td>1048571</td>\n",
       "      <td>10/07/17</td>\n",
       "      <td>9:16:10 PM</td>\n",
       "      <td>175.896</td>\n",
       "      <td>0.613476</td>\n",
       "      <td>11.8913</td>\n",
       "      <td>479.224</td>\n",
       "      <td>0.331622</td>\n",
       "      <td>0.001173</td>\n",
       "      <td>0</td>\n",
       "      <td>...</td>\n",
       "      <td>1</td>\n",
       "      <td>1</td>\n",
       "      <td>1</td>\n",
       "      <td>1</td>\n",
       "      <td>1</td>\n",
       "      <td>1</td>\n",
       "      <td>1</td>\n",
       "      <td>60.4477</td>\n",
       "      <td>1</td>\n",
       "      <td>0.25</td>\n",
       "    </tr>\n",
       "  </tbody>\n",
       "</table>\n",
       "<p>1048571 rows × 126 columns</p>\n",
       "</div>"
      ],
      "text/plain": [
       "             Row       Date        Time  \\\n",
       "0              1  9/25/2017  6:00:00 PM   \n",
       "1              2  9/25/2017  6:00:01 PM   \n",
       "2              3  9/25/2017  6:00:02 PM   \n",
       "3              4  9/25/2017  6:00:03 PM   \n",
       "4              5  9/25/2017  6:00:04 PM   \n",
       "...          ...        ...         ...   \n",
       "1048566  1048567   10/07/17  9:16:06 PM   \n",
       "1048567  1048568   10/07/17  9:16:07 PM   \n",
       "1048568  1048569   10/07/17  9:16:08 PM   \n",
       "1048569  1048570   10/07/17  9:16:09 PM   \n",
       "1048570  1048571   10/07/17  9:16:10 PM   \n",
       "\n",
       "         \\\\WIN-25J4RO10SBF\\LOG_DATA\\SUTD_WADI\\LOG_DATA\\1_AIT_001_PV  \\\n",
       "0                                                  171.155            \n",
       "1                                                  171.155            \n",
       "2                                                  171.155            \n",
       "3                                                  171.155            \n",
       "4                                                  171.155            \n",
       "...                                                    ...            \n",
       "1048566                                            175.855            \n",
       "1048567                                            175.855            \n",
       "1048568                                            175.855            \n",
       "1048569                                            175.896            \n",
       "1048570                                            175.896            \n",
       "\n",
       "         \\\\WIN-25J4RO10SBF\\LOG_DATA\\SUTD_WADI\\LOG_DATA\\1_AIT_002_PV  \\\n",
       "0                                                 0.619473            \n",
       "1                                                 0.619473            \n",
       "2                                                 0.619473            \n",
       "3                                                 0.607477            \n",
       "4                                                 0.607477            \n",
       "...                                                    ...            \n",
       "1048566                                           0.589478            \n",
       "1048567                                           0.589478            \n",
       "1048568                                           0.589478            \n",
       "1048569                                           0.613476            \n",
       "1048570                                           0.613476            \n",
       "\n",
       "         \\\\WIN-25J4RO10SBF\\LOG_DATA\\SUTD_WADI\\LOG_DATA\\1_AIT_003_PV  \\\n",
       "0                                                  11.5759            \n",
       "1                                                  11.5759            \n",
       "2                                                  11.5759            \n",
       "3                                                  11.5725            \n",
       "4                                                  11.5725            \n",
       "...                                                    ...            \n",
       "1048566                                            11.8941            \n",
       "1048567                                            11.8941            \n",
       "1048568                                            11.8941            \n",
       "1048569                                            11.8913            \n",
       "1048570                                            11.8913            \n",
       "\n",
       "         \\\\WIN-25J4RO10SBF\\LOG_DATA\\SUTD_WADI\\LOG_DATA\\1_AIT_004_PV  \\\n",
       "0                                                  504.645            \n",
       "1                                                  504.645            \n",
       "2                                                  504.645            \n",
       "3                                                  504.673            \n",
       "4                                                  504.673            \n",
       "...                                                    ...            \n",
       "1048566                                            479.191            \n",
       "1048567                                            479.191            \n",
       "1048568                                            479.191            \n",
       "1048569                                            479.224            \n",
       "1048570                                            479.224            \n",
       "\n",
       "         \\\\WIN-25J4RO10SBF\\LOG_DATA\\SUTD_WADI\\LOG_DATA\\1_AIT_005_PV  \\\n",
       "0                                                 0.318319            \n",
       "1                                                 0.318319            \n",
       "2                                                 0.318319            \n",
       "3                                                 0.318438            \n",
       "4                                                 0.318438            \n",
       "...                                                    ...            \n",
       "1048566                                           0.331571            \n",
       "1048567                                           0.331571            \n",
       "1048568                                           0.331571            \n",
       "1048569                                           0.331622            \n",
       "1048570                                           0.331622            \n",
       "\n",
       "         \\\\WIN-25J4RO10SBF\\LOG_DATA\\SUTD_WADI\\LOG_DATA\\1_FIT_001_PV  \\\n",
       "0                                                 0.001157            \n",
       "1                                                 0.001157            \n",
       "2                                                 0.001157            \n",
       "3                                                 0.001207            \n",
       "4                                                 0.001207            \n",
       "...                                                    ...            \n",
       "1048566                                           0.001128            \n",
       "1048567                                           0.001128            \n",
       "1048568                                           0.001128            \n",
       "1048569                                           0.001173            \n",
       "1048570                                           0.001173            \n",
       "\n",
       "         \\\\WIN-25J4RO10SBF\\LOG_DATA\\SUTD_WADI\\LOG_DATA\\1_LS_001_AL  ...  \\\n",
       "0                                                        0          ...   \n",
       "1                                                        0          ...   \n",
       "2                                                        0          ...   \n",
       "3                                                        0          ...   \n",
       "4                                                        0          ...   \n",
       "...                                                    ...          ...   \n",
       "1048566                                                  0          ...   \n",
       "1048567                                                  0          ...   \n",
       "1048568                                                  0          ...   \n",
       "1048569                                                  0          ...   \n",
       "1048570                                                  0          ...   \n",
       "\n",
       "         \\\\WIN-25J4RO10SBF\\LOG_DATA\\SUTD_WADI\\LOG_DATA\\3_MV_001_STATUS  \\\n",
       "0                                                        1               \n",
       "1                                                        1               \n",
       "2                                                        1               \n",
       "3                                                        1               \n",
       "4                                                        1               \n",
       "...                                                    ...               \n",
       "1048566                                                  1               \n",
       "1048567                                                  1               \n",
       "1048568                                                  1               \n",
       "1048569                                                  1               \n",
       "1048570                                                  1               \n",
       "\n",
       "         \\\\WIN-25J4RO10SBF\\LOG_DATA\\SUTD_WADI\\LOG_DATA\\3_MV_002_STATUS  \\\n",
       "0                                                        1               \n",
       "1                                                        1               \n",
       "2                                                        1               \n",
       "3                                                        1               \n",
       "4                                                        1               \n",
       "...                                                    ...               \n",
       "1048566                                                  1               \n",
       "1048567                                                  1               \n",
       "1048568                                                  1               \n",
       "1048569                                                  1               \n",
       "1048570                                                  1               \n",
       "\n",
       "         \\\\WIN-25J4RO10SBF\\LOG_DATA\\SUTD_WADI\\LOG_DATA\\3_MV_003_STATUS  \\\n",
       "0                                                        1               \n",
       "1                                                        1               \n",
       "2                                                        1               \n",
       "3                                                        1               \n",
       "4                                                        1               \n",
       "...                                                    ...               \n",
       "1048566                                                  1               \n",
       "1048567                                                  1               \n",
       "1048568                                                  1               \n",
       "1048569                                                  1               \n",
       "1048570                                                  1               \n",
       "\n",
       "         \\\\WIN-25J4RO10SBF\\LOG_DATA\\SUTD_WADI\\LOG_DATA\\3_P_001_STATUS  \\\n",
       "0                                                        1              \n",
       "1                                                        1              \n",
       "2                                                        1              \n",
       "3                                                        1              \n",
       "4                                                        1              \n",
       "...                                                    ...              \n",
       "1048566                                                  1              \n",
       "1048567                                                  1              \n",
       "1048568                                                  1              \n",
       "1048569                                                  1              \n",
       "1048570                                                  1              \n",
       "\n",
       "         \\\\WIN-25J4RO10SBF\\LOG_DATA\\SUTD_WADI\\LOG_DATA\\3_P_002_STATUS  \\\n",
       "0                                                        1              \n",
       "1                                                        1              \n",
       "2                                                        1              \n",
       "3                                                        1              \n",
       "4                                                        1              \n",
       "...                                                    ...              \n",
       "1048566                                                  1              \n",
       "1048567                                                  1              \n",
       "1048568                                                  1              \n",
       "1048569                                                  1              \n",
       "1048570                                                  1              \n",
       "\n",
       "         \\\\WIN-25J4RO10SBF\\LOG_DATA\\SUTD_WADI\\LOG_DATA\\3_P_003_STATUS  \\\n",
       "0                                                        1              \n",
       "1                                                        1              \n",
       "2                                                        1              \n",
       "3                                                        1              \n",
       "4                                                        1              \n",
       "...                                                    ...              \n",
       "1048566                                                  1              \n",
       "1048567                                                  1              \n",
       "1048568                                                  1              \n",
       "1048569                                                  1              \n",
       "1048570                                                  1              \n",
       "\n",
       "         \\\\WIN-25J4RO10SBF\\LOG_DATA\\SUTD_WADI\\LOG_DATA\\3_P_004_STATUS  \\\n",
       "0                                                        1              \n",
       "1                                                        1              \n",
       "2                                                        1              \n",
       "3                                                        1              \n",
       "4                                                        1              \n",
       "...                                                    ...              \n",
       "1048566                                                  1              \n",
       "1048567                                                  1              \n",
       "1048568                                                  1              \n",
       "1048569                                                  1              \n",
       "1048570                                                  1              \n",
       "\n",
       "         \\\\WIN-25J4RO10SBF\\LOG_DATA\\SUTD_WADI\\LOG_DATA\\LEAK_DIFF_PRESSURE  \\\n",
       "0                                                  67.9651                  \n",
       "1                                                  67.9651                  \n",
       "2                                                  67.9651                  \n",
       "3                                                  67.1948                  \n",
       "4                                                  67.1948                  \n",
       "...                                                    ...                  \n",
       "1048566                                            60.6305                  \n",
       "1048567                                            60.6305                  \n",
       "1048568                                            60.6305                  \n",
       "1048569                                            60.4477                  \n",
       "1048570                                            60.4477                  \n",
       "\n",
       "         \\\\WIN-25J4RO10SBF\\LOG_DATA\\SUTD_WADI\\LOG_DATA\\PLANT_START_STOP_LOG  \\\n",
       "0                                                        1                    \n",
       "1                                                        1                    \n",
       "2                                                        1                    \n",
       "3                                                        1                    \n",
       "4                                                        1                    \n",
       "...                                                    ...                    \n",
       "1048566                                                  1                    \n",
       "1048567                                                  1                    \n",
       "1048568                                                  1                    \n",
       "1048569                                                  1                    \n",
       "1048570                                                  1                    \n",
       "\n",
       "         \\\\WIN-25J4RO10SBF\\LOG_DATA\\SUTD_WADI\\LOG_DATA\\TOTAL_CONS_REQUIRED_FLOW  \n",
       "0                                                     0.68                       \n",
       "1                                                     0.68                       \n",
       "2                                                     0.68                       \n",
       "3                                                     0.68                       \n",
       "4                                                     0.68                       \n",
       "...                                                    ...                       \n",
       "1048566                                               0.25                       \n",
       "1048567                                               0.25                       \n",
       "1048568                                               0.25                       \n",
       "1048569                                               0.25                       \n",
       "1048570                                               0.25                       \n",
       "\n",
       "[1048571 rows x 126 columns]"
      ]
     },
     "execution_count": 2,
     "metadata": {},
     "output_type": "execute_result"
    }
   ],
   "source": [
    "df_n = pd.read_csv('~/data/WADI_14days_2017.csv')\n",
    "df_n"
   ]
  },
  {
   "cell_type": "code",
   "execution_count": 3,
   "metadata": {},
   "outputs": [],
   "source": [
    "for col in df_n.columns:\n",
    "  df_n[col].fillna(df_n[col].mode()[0],inplace=True)\n",
    "# df_n.isnull().sum().unique()"
   ]
  },
  {
   "cell_type": "code",
   "execution_count": 4,
   "metadata": {},
   "outputs": [],
   "source": [
    "df_n=df_n.iloc[:,3:]"
   ]
  },
  {
   "cell_type": "code",
   "execution_count": 5,
   "metadata": {},
   "outputs": [],
   "source": [
    "df_n['Attack?']=1"
   ]
  },
  {
   "cell_type": "code",
   "execution_count": 6,
   "metadata": {},
   "outputs": [],
   "source": [
    "data = []\n",
    "for i in range(0,len(df_n),3600):\n",
    "  data.append(df_n[i:i+3600].to_numpy())"
   ]
  },
  {
   "cell_type": "code",
   "execution_count": 7,
   "metadata": {},
   "outputs": [],
   "source": [
    "data = data[:-1]\n",
    "data = np.asarray(data)"
   ]
  },
  {
   "cell_type": "code",
   "execution_count": 8,
   "metadata": {},
   "outputs": [
    {
     "data": {
      "text/plain": [
       "(291, 3600, 124)"
      ]
     },
     "execution_count": 8,
     "metadata": {},
     "output_type": "execute_result"
    }
   ],
   "source": [
    "data.shape"
   ]
  },
  {
   "cell_type": "code",
   "execution_count": 9,
   "metadata": {},
   "outputs": [],
   "source": [
    "df_a=pd.read_csv('~/data/WADI_attackdataLABELED.csv')"
   ]
  },
  {
   "cell_type": "code",
   "execution_count": 10,
   "metadata": {},
   "outputs": [
    {
     "data": {
      "text/plain": [
       "Row                                      2\n",
       "Date                                     2\n",
       "Time                                     2\n",
       "1_AIT_001_PV                             2\n",
       "1_AIT_002_PV                             2\n",
       "                                        ..\n",
       "3_P_004_STATUS                           2\n",
       "LEAK_DIFF_PRESSURE                       2\n",
       "PLANT_START_STOP_LOG                     2\n",
       "TOTAL_CONS_REQUIRED_FLOW                 2\n",
       "Attack LABLE (1:No Attack, -1:Attack)    0\n",
       "Length: 127, dtype: int64"
      ]
     },
     "execution_count": 10,
     "metadata": {},
     "output_type": "execute_result"
    }
   ],
   "source": [
    "df_a.isnull().sum()"
   ]
  },
  {
   "cell_type": "code",
   "execution_count": 11,
   "metadata": {},
   "outputs": [
    {
     "data": {
      "text/plain": [
       "array([0])"
      ]
     },
     "execution_count": 11,
     "metadata": {},
     "output_type": "execute_result"
    }
   ],
   "source": [
    "df_a=df_a[:-3]\n",
    "df_a.isnull().sum().unique()"
   ]
  },
  {
   "cell_type": "code",
   "execution_count": 12,
   "metadata": {},
   "outputs": [],
   "source": [
    "df_a=df_a.iloc[:,3:]"
   ]
  },
  {
   "cell_type": "code",
   "execution_count": 13,
   "metadata": {},
   "outputs": [],
   "source": [
    "data_a = []\n",
    "for i in range(0,len(df_a),3600):\n",
    "  data_a.append(df_a[i:i+3600].to_numpy())\n",
    "  \n",
    "data_a = np.asarray(data_a)"
   ]
  },
  {
   "cell_type": "code",
   "execution_count": 14,
   "metadata": {},
   "outputs": [],
   "source": [
    "# STRONG SUPERVISION\n",
    "ss_normal_a = []\n",
    "ss_attack_a = []\n",
    "for hour_data in data_a:\n",
    "    if np.any(hour_data[:, -1] == -1):\n",
    "        ss_attack_a.append(hour_data)\n",
    "    else:\n",
    "        ss_normal_a.append(hour_data)\n",
    "ss_normal_a = np.asarray(ss_normal_a)\n",
    "ss_attack_a = np.asarray(ss_attack_a)"
   ]
  },
  {
   "cell_type": "code",
   "execution_count": 15,
   "metadata": {},
   "outputs": [
    {
     "data": {
      "text/plain": [
       "(37, 3600, 124)"
      ]
     },
     "execution_count": 15,
     "metadata": {},
     "output_type": "execute_result"
    }
   ],
   "source": [
    "ss_normal_a.shape"
   ]
  },
  {
   "cell_type": "code",
   "execution_count": 16,
   "metadata": {},
   "outputs": [
    {
     "data": {
      "text/plain": [
       "(11, 3600, 124)"
      ]
     },
     "execution_count": 16,
     "metadata": {},
     "output_type": "execute_result"
    }
   ],
   "source": [
    "ss_attack_a.shape"
   ]
  },
  {
   "cell_type": "code",
   "execution_count": 17,
   "metadata": {},
   "outputs": [
    {
     "data": {
      "text/plain": [
       "(328, 3600, 124)"
      ]
     },
     "execution_count": 17,
     "metadata": {},
     "output_type": "execute_result"
    }
   ],
   "source": [
    "ss_normal = np.concatenate((data,ss_normal_a))\n",
    "ss_normal.shape"
   ]
  },
  {
   "cell_type": "code",
   "execution_count": 18,
   "metadata": {},
   "outputs": [
    {
     "data": {
      "text/plain": [
       "(11, 3600, 124)"
      ]
     },
     "execution_count": 18,
     "metadata": {},
     "output_type": "execute_result"
    }
   ],
   "source": [
    "ss_attack = ss_attack_a\n",
    "ss_attack.shape"
   ]
  },
  {
   "cell_type": "code",
   "execution_count": 19,
   "metadata": {},
   "outputs": [],
   "source": [
    "np.random.shuffle(ss_normal)\n",
    "normal_train, normal_test = ss_normal[:261], ss_normal[261:]"
   ]
  },
  {
   "cell_type": "code",
   "execution_count": 20,
   "metadata": {},
   "outputs": [],
   "source": [
    "np.random.shuffle(ss_attack)\n",
    "attack_train,attack_test=ss_attack_a[:9],ss_attack_a[9:]"
   ]
  },
  {
   "cell_type": "code",
   "execution_count": 21,
   "metadata": {},
   "outputs": [],
   "source": [
    "#training data\n",
    "train_data=np.concatenate((normal_train,attack_train))\n",
    "#test data\n",
    "test_data=np.concatenate((normal_test,attack_test))"
   ]
  },
  {
   "cell_type": "code",
   "execution_count": 22,
   "metadata": {},
   "outputs": [
    {
     "data": {
      "text/plain": [
       "(69, 3600, 124)"
      ]
     },
     "execution_count": 22,
     "metadata": {},
     "output_type": "execute_result"
    }
   ],
   "source": [
    "test_data.shape"
   ]
  },
  {
   "cell_type": "code",
   "execution_count": 23,
   "metadata": {},
   "outputs": [
    {
     "data": {
      "text/plain": [
       "(270, 3600, 124)"
      ]
     },
     "execution_count": 23,
     "metadata": {},
     "output_type": "execute_result"
    }
   ],
   "source": [
    "train_data.shape"
   ]
  },
  {
   "cell_type": "code",
   "execution_count": 24,
   "metadata": {},
   "outputs": [],
   "source": [
    "with open('traindata_ss.npy','wb') as f:\n",
    "    np.save(f,train_data)"
   ]
  },
  {
   "cell_type": "code",
   "execution_count": 25,
   "metadata": {},
   "outputs": [],
   "source": [
    "with open('testdata_ss.npy','wb') as f:\n",
    "    np.save(f,test_data)"
   ]
  },
  {
   "cell_type": "code",
   "execution_count": null,
   "metadata": {},
   "outputs": [],
   "source": []
  }
 ],
 "metadata": {
  "kernelspec": {
   "display_name": "base",
   "language": "python",
   "name": "python3"
  },
  "language_info": {
   "codemirror_mode": {
    "name": "ipython",
    "version": 3
   },
   "file_extension": ".py",
   "mimetype": "text/x-python",
   "name": "python",
   "nbconvert_exporter": "python",
   "pygments_lexer": "ipython3",
   "version": "3.9.13 (main, Aug 25 2022, 23:26:10) \n[GCC 11.2.0]"
  },
  "orig_nbformat": 4,
  "vscode": {
   "interpreter": {
    "hash": "53b584fcbb4de26fd06ec6c2cdf5e79eeceea3a87d14166bd7f17bce6a8842a5"
   }
  }
 },
 "nbformat": 4,
 "nbformat_minor": 2
}
