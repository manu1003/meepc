{
 "cells": [
  {
   "cell_type": "code",
   "execution_count": 1,
   "metadata": {},
   "outputs": [
    {
     "name": "stderr",
     "output_type": "stream",
     "text": [
      "C:\\Users\\user\\AppData\\Local\\Packages\\PythonSoftwareFoundation.Python.3.9_qbz5n2kfra8p0\\LocalCache\\local-packages\\Python39\\site-packages\\numpy\\_distributor_init.py:30: UserWarning: loaded more than 1 DLL from .libs:\n",
      "C:\\Users\\user\\AppData\\Local\\Packages\\PythonSoftwareFoundation.Python.3.9_qbz5n2kfra8p0\\LocalCache\\local-packages\\Python39\\site-packages\\numpy\\.libs\\libopenblas.EL2C6PLE4ZYW3ECEVIV3OXXGRN2NRFM2.gfortran-win_amd64.dll\n",
      "C:\\Users\\user\\AppData\\Local\\Packages\\PythonSoftwareFoundation.Python.3.9_qbz5n2kfra8p0\\LocalCache\\local-packages\\Python39\\site-packages\\numpy\\.libs\\libopenblas.WCDJNK7YVMPZQ2ME2ZZHJJRJ3JIKNDB7.gfortran-win_amd64.dll\n",
      "  warnings.warn(\"loaded more than 1 DLL from .libs:\"\n"
     ]
    }
   ],
   "source": [
    "import sys\n",
    "sys.path.append(\"C:/Users/user/meepc\")\n",
    "import numpy as np\n",
    "import pandas as pd\n",
    "from models import Hankel,Pipeline\n",
    "from sklearn.preprocessing import StandardScaler\n",
    "from sklearn.metrics import accuracy_score,precision_score,recall_score,f1_score,roc_auc_score"
   ]
  },
  {
   "cell_type": "code",
   "execution_count": 2,
   "metadata": {},
   "outputs": [],
   "source": [
    "def calculate_fpr(y_actual, y_prediction):\n",
    "    fp = 0\n",
    "    tn = 0\n",
    "    \n",
    "    for i in range(len(y_actual)):\n",
    "        if y_actual[i] == 0 and y_prediction[i] == 1:\n",
    "            fp += 1\n",
    "        elif y_actual[i] == 0 and y_prediction[i] == 0:\n",
    "            tn += 1\n",
    "    fpr= fp/(fp+tn)\n",
    "    return fpr"
   ]
  },
  {
   "cell_type": "code",
   "execution_count": 3,
   "metadata": {},
   "outputs": [],
   "source": [
    "train_normal = pd.read_csv('~/data/te/normal_training.csv')\n",
    "train_attack = pd.read_csv('~/data/te/attack_training.csv')"
   ]
  },
  {
   "cell_type": "code",
   "execution_count": 4,
   "metadata": {},
   "outputs": [],
   "source": [
    "sensors = [col for col in train_normal.columns if col not in ['faultNumber', 'simulationRun', 'sample','LABEL']]"
   ]
  },
  {
   "cell_type": "code",
   "execution_count": 5,
   "metadata": {},
   "outputs": [],
   "source": [
    "scaler = StandardScaler()\n",
    "X_normal = pd.DataFrame(index=train_normal.index, columns=sensors, data=scaler.fit_transform(train_normal[sensors]))\n",
    "X_attack = pd.DataFrame(data=scaler.fit_transform(train_attack.loc[:,sensors]),index=train_attack.index,columns=sensors).reset_index().drop(columns=['index'])"
   ]
  },
  {
   "cell_type": "code",
   "execution_count": 6,
   "metadata": {},
   "outputs": [],
   "source": [
    "hankel = Hankel()\n",
    "lag = 360\n",
    "stride = 0.5"
   ]
  },
  {
   "cell_type": "code",
   "execution_count": 7,
   "metadata": {},
   "outputs": [],
   "source": [
    "df_test1 = pd.read_csv('~/data/te/normal_testing.csv')\n",
    "df_test2 = pd.read_csv('~/data/te/attack_testing.csv')\n",
    "df_test=pd.concat((df_test1,df_test2),axis=0)"
   ]
  },
  {
   "cell_type": "markdown",
   "metadata": {},
   "source": [
    "# Epasad with 1 cluster and no threshold tuning (training attack included in test data)"
   ]
  },
  {
   "cell_type": "code",
   "execution_count": 8,
   "metadata": {},
   "outputs": [],
   "source": [
    "test_combined = pd.concat((df_test,train_attack),axis=0)\n",
    "X_test = pd.DataFrame(index=test_combined.index, columns=sensors, data=scaler.fit_transform(test_combined[sensors]))\n",
    "Y_test = test_combined.loc[:,'LABEL']"
   ]
  },
  {
   "cell_type": "code",
   "execution_count": 9,
   "metadata": {},
   "outputs": [],
   "source": [
    "labels = hankel.fit(np.array(Y_test),lag,stride)\n",
    "y_actual = np.any(labels>0,axis=0).astype(int)"
   ]
  },
  {
   "cell_type": "code",
   "execution_count": 10,
   "metadata": {},
   "outputs": [],
   "source": [
    "sensor_models = []\n",
    "sensor_predicted = []\n",
    "accuracy = []\n",
    "precision = []\n",
    "recall = []\n",
    "fscore = []\n",
    "fpr = []\n",
    "for sens in sensors:\n",
    "    train_normal = X_normal.loc[:,sens].values\n",
    "    train_attack = X_attack.loc[:,sens].values\n",
    "    model = Pipeline()\n",
    "    model.fit(train_normal,train_attack,lag,stride,optimal_k=1,tune=False)\n",
    "    test = X_test.loc[:,sens].values\n",
    "    y_predicted = model.predict(test)\n",
    "    sensor_predicted.append(y_predicted)\n",
    "    accuracy.append(accuracy_score(y_actual,y_predicted))\n",
    "    precision.append(precision_score(y_actual,y_predicted))\n",
    "    recall.append(recall_score(y_actual,y_predicted))\n",
    "    fscore.append(f1_score(y_actual,y_predicted))\n",
    "    fpr.append(calculate_fpr(y_actual,y_predicted))\n",
    "    sensor_models.append(model)    "
   ]
  },
  {
   "cell_type": "code",
   "execution_count": 11,
   "metadata": {},
   "outputs": [
    {
     "data": {
      "text/plain": [
       "array([1, 1, 1, 1, 1, 1, 1, 1, 1, 1, 1, 1, 1, 1, 1, 1, 1, 1, 1, 1, 1, 1,\n",
       "       1, 1, 1, 1, 1, 1, 1, 1, 1, 1, 1, 1, 1, 1, 1, 1, 1, 1, 1, 1, 1, 1,\n",
       "       1, 1, 1, 1, 1, 1, 1, 1, 1, 1, 1, 1, 1, 1, 1, 1, 1, 1, 1, 1, 1, 1,\n",
       "       1, 1, 1, 1, 1, 1, 1, 1, 1, 1, 1, 1, 1, 1, 1, 1, 1, 1, 1, 1, 1, 1,\n",
       "       1, 1, 1, 1, 1, 1, 1, 1, 1, 1, 1, 1, 1, 1, 1, 1, 1, 1, 1, 1, 1, 1,\n",
       "       1, 1, 1, 1, 1, 1, 1, 1, 1, 1, 1, 1, 1, 1, 1, 1, 1, 1, 1, 1, 1, 1,\n",
       "       1, 1, 1, 1, 1, 1, 1, 1, 1, 1, 1, 1, 1, 1, 1, 1, 1, 1, 1, 0, 0, 1,\n",
       "       1, 1, 1, 1, 1, 1, 1, 1, 1, 1, 1, 1])"
      ]
     },
     "execution_count": 11,
     "metadata": {},
     "output_type": "execute_result"
    }
   ],
   "source": [
    "sensor_predicted = np.asarray(sensor_predicted)\n",
    "y_predicted = np.any(sensor_predicted,axis=0).astype(int)\n",
    "y_predicted"
   ]
  },
  {
   "cell_type": "code",
   "execution_count": 12,
   "metadata": {},
   "outputs": [
    {
     "name": "stdout",
     "output_type": "stream",
     "text": [
      "Accuracy  0.963855421686747\n",
      "Precision  0.975609756097561\n",
      "Recall  0.9876543209876543\n",
      "F1-score  0.9815950920245398\n"
     ]
    }
   ],
   "source": [
    "print(\"Accuracy \",accuracy_score(y_actual,y_predicted))\n",
    "print(\"Precision \",precision_score(y_actual,y_predicted))\n",
    "print(\"Recall \",recall_score(y_actual,y_predicted))\n",
    "print(\"F1-score \",f1_score(y_actual,y_predicted))\n",
    "print(\"False Positive Rate \",calculate_fpr(y_actual,y_predicted))"
   ]
  },
  {
   "cell_type": "code",
   "execution_count": 13,
   "metadata": {},
   "outputs": [
    {
     "name": "stdout",
     "output_type": "stream",
     "text": [
      "Accuracy -  Mean: 0.22949490268767378 Median : 0.14457831325301204 Min : 0.07228915662650602 Max : 0.9036144578313253\n",
      "precision - Mean: 0.9964204550252901 Median : 1.0 Min : 0.9663865546218487 Max : 1.0\n",
      "recall -    Mean: 0.21355650522317188 Median : 0.12345679012345678 Min : 0.04938271604938271 Max : 0.9259259259259259\n",
      "f1 -        Mean: 0.2988380079986286 Median : 0.21978021978021975 Min : 0.09411764705882353 Max : 0.949367088607595\n"
     ]
    }
   ],
   "source": [
    "print(\"Accuracy -  Mean: {} Median : {} Min : {} Max : {}\".format(np.asarray(accuracy).mean(), np.median(np.asarray(accuracy)),np.asarray(accuracy).min(), np.asarray(accuracy).max()))\n",
    "print(\"precision - Mean: {} Median : {} Min : {} Max : {}\".format(np.asarray(precision).mean(), np.median(np.asarray(precision)),np.asarray(precision).min(), np.asarray(precision).max()))\n",
    "print(\"recall -    Mean: {} Median : {} Min : {} Max : {}\".format(np.asarray(recall).mean(), np.median(np.asarray(recall)),np.asarray(recall).min(), np.asarray(recall).max()))\n",
    "print(\"f1 -        Mean: {} Median : {} Min : {} Max : {}\".format(np.asarray(fscore).mean(), np.median(np.asarray(fscore)),np.asarray(fscore).min(), np.asarray(fscore).max()))"
   ]
  },
  {
   "cell_type": "markdown",
   "metadata": {},
   "source": [
    "# Multiple clusters + No threshold tuning (training attack mixed in test data)"
   ]
  },
  {
   "cell_type": "code",
   "execution_count": 14,
   "metadata": {},
   "outputs": [
    {
     "name": "stdout",
     "output_type": "stream",
     "text": [
      "------Number of Clusters:  2 -----------\n",
      "Accuracy  0.963855421686747\n",
      "Precision  0.975609756097561\n",
      "Recall  0.9876543209876543\n",
      "F1-score  0.9815950920245398\n",
      "False Positive Rate  1.0 \n",
      "\n",
      "------Number of Clusters:  3 -----------\n",
      "Accuracy  0.8012048192771084\n",
      "Precision  0.9777777777777777\n",
      "Recall  0.8148148148148148\n",
      "F1-score  0.8888888888888888\n",
      "False Positive Rate  0.75 \n",
      "\n"
     ]
    },
    {
     "ename": "KeyboardInterrupt",
     "evalue": "",
     "output_type": "error",
     "traceback": [
      "\u001b[1;31m---------------------------------------------------------------------------\u001b[0m",
      "\u001b[1;31mKeyboardInterrupt\u001b[0m                         Traceback (most recent call last)",
      "Input \u001b[1;32mIn [14]\u001b[0m, in \u001b[0;36m<cell line: 6>\u001b[1;34m()\u001b[0m\n\u001b[0;32m     16\u001b[0m train_attack \u001b[38;5;241m=\u001b[39m X_attack\u001b[38;5;241m.\u001b[39mloc[:,sens]\u001b[38;5;241m.\u001b[39mvalues\n\u001b[0;32m     17\u001b[0m model \u001b[38;5;241m=\u001b[39m Pipeline()\n\u001b[1;32m---> 18\u001b[0m \u001b[43mmodel\u001b[49m\u001b[38;5;241;43m.\u001b[39;49m\u001b[43mfit\u001b[49m\u001b[43m(\u001b[49m\u001b[43mtrain_normal\u001b[49m\u001b[43m,\u001b[49m\u001b[43mtrain_attack\u001b[49m\u001b[43m,\u001b[49m\u001b[43mlag\u001b[49m\u001b[43m,\u001b[49m\u001b[43mstride\u001b[49m\u001b[43m,\u001b[49m\u001b[43moptimal_k\u001b[49m\u001b[38;5;241;43m=\u001b[39;49m\u001b[43mk\u001b[49m\u001b[43m,\u001b[49m\u001b[43mtune\u001b[49m\u001b[38;5;241;43m=\u001b[39;49m\u001b[38;5;28;43;01mFalse\u001b[39;49;00m\u001b[43m,\u001b[49m\u001b[43mkscore_init\u001b[49m\u001b[38;5;241;43m=\u001b[39;49m\u001b[38;5;124;43m'\u001b[39;49m\u001b[38;5;124;43minertia\u001b[39;49m\u001b[38;5;124;43m'\u001b[39;49m\u001b[43m)\u001b[49m\n\u001b[0;32m     19\u001b[0m test \u001b[38;5;241m=\u001b[39m X_test\u001b[38;5;241m.\u001b[39mloc[:,sens]\u001b[38;5;241m.\u001b[39mvalues\n\u001b[0;32m     20\u001b[0m y_predicted \u001b[38;5;241m=\u001b[39m model\u001b[38;5;241m.\u001b[39mpredict(test)\n",
      "File \u001b[1;32mC:\\Users/user/meepc\\models\\Pipeline.py:163\u001b[0m, in \u001b[0;36mPipeline.fit\u001b[1;34m(self, train_normal, train_attack, lag, stride, optimal_k, kscore_init, tune, corr_normal, corr_attack, only_corr, use_gekko)\u001b[0m\n\u001b[0;32m    161\u001b[0m \u001b[38;5;28mself\u001b[39m\u001b[38;5;241m.\u001b[39moptimal_k \u001b[38;5;241m=\u001b[39m optimal_k\n\u001b[0;32m    162\u001b[0m \u001b[38;5;66;03m# print(\"optimalK\",optimal_k)\u001b[39;00m\n\u001b[1;32m--> 163\u001b[0m \u001b[38;5;28mself\u001b[39m\u001b[38;5;241m.\u001b[39mradii_normal \u001b[38;5;241m=\u001b[39m \u001b[38;5;28;43mself\u001b[39;49m\u001b[38;5;241;43m.\u001b[39;49m\u001b[43mcalc_normal_variables\u001b[49m\u001b[43m(\u001b[49m\u001b[43mX\u001b[49m\u001b[43m,\u001b[49m\u001b[43mkmeans\u001b[49m\u001b[43m)\u001b[49m\n\u001b[0;32m    164\u001b[0m \u001b[38;5;66;03m# ,weights,centers,clusters_V,clusters_R\u001b[39;00m\n\u001b[0;32m    165\u001b[0m \u001b[38;5;66;03m# use attack data in train data to tune the threshold\u001b[39;00m\n\u001b[0;32m    166\u001b[0m \u001b[38;5;28;01mif\u001b[39;00m tune:\n",
      "File \u001b[1;32mC:\\Users/user/meepc\\models\\Pipeline.py:113\u001b[0m, in \u001b[0;36mPipeline.calc_normal_variables\u001b[1;34m(self, X, kmeans)\u001b[0m\n\u001b[0;32m    111\u001b[0m     weight,center \u001b[38;5;241m=\u001b[39m \u001b[38;5;28mself\u001b[39m\u001b[38;5;241m.\u001b[39mgetW(cluster_)\n\u001b[0;32m    112\u001b[0m \u001b[38;5;28;01melse\u001b[39;00m:\n\u001b[1;32m--> 113\u001b[0m     weight,center \u001b[38;5;241m=\u001b[39m \u001b[38;5;28;43mself\u001b[39;49m\u001b[38;5;241;43m.\u001b[39;49m\u001b[43mmeepc\u001b[49m\u001b[38;5;241;43m.\u001b[39;49m\u001b[43mfit\u001b[49m\u001b[43m(\u001b[49m\u001b[43mcluster_\u001b[49m\u001b[43m)\u001b[49m\n\u001b[0;32m    114\u001b[0m \u001b[38;5;28mself\u001b[39m\u001b[38;5;241m.\u001b[39mweights\u001b[38;5;241m.\u001b[39mappend(weight)\n\u001b[0;32m    115\u001b[0m \u001b[38;5;28mself\u001b[39m\u001b[38;5;241m.\u001b[39mcenters\u001b[38;5;241m.\u001b[39mappend(center)\n",
      "File \u001b[1;32mC:\\Users/user/meepc\\models\\Meepc.py:93\u001b[0m, in \u001b[0;36mMEEPC.fit\u001b[1;34m(self, X, tol)\u001b[0m\n\u001b[0;32m     90\u001b[0m     alpha[i] \u001b[38;5;241m=\u001b[39m \u001b[38;5;241m0\u001b[39m\n\u001b[0;32m     92\u001b[0m \u001b[38;5;28;01mif\u001b[39;00m f_x \u001b[38;5;241m>\u001b[39m \u001b[38;5;241m1\u001b[39m:\n\u001b[1;32m---> 93\u001b[0m     alpha[i] \u001b[38;5;241m=\u001b[39m \u001b[38;5;28;43mself\u001b[39;49m\u001b[38;5;241;43m.\u001b[39;49m\u001b[43mhelper\u001b[49m\u001b[43m(\u001b[49m\u001b[43mh\u001b[49m\u001b[43m,\u001b[49m\u001b[43malpha_old\u001b[49m\u001b[43m,\u001b[49m\u001b[43mZ\u001b[49m\u001b[43m,\u001b[49m\u001b[38;5;241;43m1\u001b[39;49m\u001b[43m,\u001b[49m\u001b[43mi\u001b[49m\u001b[43m)\u001b[49m\n\u001b[0;32m     95\u001b[0m h \u001b[38;5;241m=\u001b[39m h \u001b[38;5;241m+\u001b[39m (alpha[i] \u001b[38;5;241m-\u001b[39m alpha_old[i])\u001b[38;5;241m*\u001b[39mZ[i]\n\u001b[0;32m     96\u001b[0m \u001b[38;5;66;03m# i += 1\u001b[39;00m\n\u001b[0;32m     97\u001b[0m \u001b[38;5;66;03m# if i>=self.rows-1 :\u001b[39;00m\n\u001b[0;32m     98\u001b[0m \u001b[38;5;66;03m#     i = 0\u001b[39;00m\n",
      "File \u001b[1;32mC:\\Users/user/meepc\\models\\Meepc.py:61\u001b[0m, in \u001b[0;36mMEEPC.helper\u001b[1;34m(self, h, alpha_old, Z, u, i)\u001b[0m\n\u001b[0;32m     59\u001b[0m     u \u001b[38;5;241m=\u001b[39m \u001b[38;5;28mself\u001b[39m\u001b[38;5;241m.\u001b[39mbinary(h,alpha_old,Z,i,\u001b[38;5;241m0\u001b[39m,\u001b[38;5;241m1\u001b[39m)\n\u001b[0;32m     60\u001b[0m \u001b[38;5;28;01melse\u001b[39;00m:\n\u001b[1;32m---> 61\u001b[0m     u \u001b[38;5;241m=\u001b[39m \u001b[38;5;28;43mself\u001b[39;49m\u001b[38;5;241;43m.\u001b[39;49m\u001b[43mbinary\u001b[49m\u001b[43m(\u001b[49m\u001b[43mh\u001b[49m\u001b[43m,\u001b[49m\u001b[43malpha_old\u001b[49m\u001b[43m,\u001b[49m\u001b[43mZ\u001b[49m\u001b[43m,\u001b[49m\u001b[43mi\u001b[49m\u001b[43m,\u001b[49m\u001b[43mu_old\u001b[49m\u001b[43m,\u001b[49m\u001b[43mu\u001b[49m\u001b[43m)\u001b[49m\n\u001b[0;32m     62\u001b[0m \u001b[38;5;28;01mreturn\u001b[39;00m u\n",
      "File \u001b[1;32mC:\\Users/user/meepc\\models\\Meepc.py:49\u001b[0m, in \u001b[0;36mMEEPC.binary\u001b[1;34m(self, h, alpha_old, Z, i, low, high)\u001b[0m\n\u001b[0;32m     47\u001b[0m         \u001b[38;5;28;01mreturn\u001b[39;00m mid\n\u001b[0;32m     48\u001b[0m     mid \u001b[38;5;241m=\u001b[39m (low\u001b[38;5;241m+\u001b[39mhigh)\u001b[38;5;241m/\u001b[39m\u001b[38;5;241m2\u001b[39m\n\u001b[1;32m---> 49\u001b[0m     temp_ans \u001b[38;5;241m=\u001b[39m \u001b[38;5;28;43mself\u001b[39;49m\u001b[38;5;241;43m.\u001b[39;49m\u001b[43mcalc_s\u001b[49m\u001b[43m(\u001b[49m\u001b[43mh\u001b[49m\u001b[43m,\u001b[49m\u001b[43malpha_old\u001b[49m\u001b[43m,\u001b[49m\u001b[43mZ\u001b[49m\u001b[43m,\u001b[49m\u001b[43mmid\u001b[49m\u001b[43m,\u001b[49m\u001b[43mi\u001b[49m\u001b[43m)\u001b[49m\n\u001b[0;32m     50\u001b[0m \u001b[38;5;28;01mreturn\u001b[39;00m mid\n",
      "File \u001b[1;32mC:\\Users/user/meepc\\models\\Meepc.py:34\u001b[0m, in \u001b[0;36mMEEPC.calc_s\u001b[1;34m(self, h, alpha_old, Z, u, i)\u001b[0m\n\u001b[0;32m     32\u001b[0m \u001b[38;5;28;01mfor\u001b[39;00m j \u001b[38;5;129;01min\u001b[39;00m \u001b[38;5;28mrange\u001b[39m(\u001b[38;5;28mself\u001b[39m\u001b[38;5;241m.\u001b[39mcols):\n\u001b[0;32m     33\u001b[0m             s_i_j \u001b[38;5;241m=\u001b[39m h[j] \u001b[38;5;241m-\u001b[39m alpha_old[i]\u001b[38;5;241m*\u001b[39mZ[i][j]\n\u001b[1;32m---> 34\u001b[0m             ans \u001b[38;5;241m+\u001b[39m\u001b[38;5;241m=\u001b[39m (\u001b[38;5;241m1\u001b[39m\u001b[38;5;241m/\u001b[39m(u \u001b[38;5;241m+\u001b[39m s_i_j\u001b[38;5;241m/\u001b[39mZ[i][j]))\n\u001b[0;32m     35\u001b[0m \u001b[38;5;28;01mreturn\u001b[39;00m ans\n",
      "\u001b[1;31mKeyboardInterrupt\u001b[0m: "
     ]
    }
   ],
   "source": [
    "cluster_accuracy_1 = []\n",
    "cluster_precision_1 = []\n",
    "cluster_recall_1 = []\n",
    "cluster_fscore_1 = []\n",
    "cluster_fpr_1 = []\n",
    "for k in range(2,8):\n",
    "    sensor_models = []\n",
    "    sensor_predicted = []\n",
    "    accuracy = []\n",
    "    precision = []\n",
    "    recall = []\n",
    "    fscore = []\n",
    "    fpr = []\n",
    "    for i,sens in enumerate(sensors):\n",
    "        train_normal = X_normal.loc[:,sens].values\n",
    "        train_attack = X_attack.loc[:,sens].values\n",
    "        model = Pipeline()\n",
    "        model.fit(train_normal,train_attack,lag,stride,optimal_k=k,tune=False,kscore_init='inertia')\n",
    "        test = X_test.loc[:,sens].values\n",
    "        y_predicted = model.predict(test)\n",
    "        sensor_predicted.append(y_predicted)\n",
    "        accuracy.append(accuracy_score(y_actual,y_predicted))\n",
    "        precision.append(precision_score(y_actual,y_predicted))\n",
    "        recall.append(recall_score(y_actual,y_predicted))\n",
    "        fscore.append(f1_score(y_actual,y_predicted))\n",
    "        fpr.append(calculate_fpr(y_actual,y_predicted))\n",
    "        sensor_models.append(model)  \n",
    "    sensor_predicted = np.asarray(sensor_predicted)\n",
    "    y_predicted = np.any(sensor_predicted,axis=0).astype(int) \n",
    "    cluster_accuracy_1.append(accuracy_score(y_actual, y_predicted))\n",
    "    cluster_precision_1.append(precision_score(y_actual,y_predicted))\n",
    "    cluster_recall_1.append(recall_score(y_actual,y_predicted))\n",
    "    cluster_fscore_1.append(f1_score(y_actual,y_predicted))\n",
    "    cluster_fpr_1.append(calculate_fpr(y_actual,y_predicted))\n",
    "    print('------Number of Clusters: ',k,'-----------') \n",
    "    print(\"Accuracy \",cluster_accuracy_1[-1])\n",
    "    print(\"Precision \",cluster_precision_1[-1])\n",
    "    print(\"Recall \",cluster_recall_1[-1])\n",
    "    print(\"F1-score \",cluster_fscore_1[-1])\n",
    "    print(\"False Positive Rate \",cluster_fpr_1[-1],\"\\n\") "
   ]
  },
  {
   "cell_type": "code",
   "execution_count": null,
   "metadata": {},
   "outputs": [
    {
     "data": {
      "text/plain": [
       "[0.9847094801223242,\n",
       " 0.8835616438356164,\n",
       " 0.7727272727272727,\n",
       " 0.8805460750853241,\n",
       " 0.8689655172413794,\n",
       " 0.9320388349514563]"
      ]
     },
     "metadata": {},
     "output_type": "display_data"
    }
   ],
   "source": [
    "print(\"Accuracy Scores: \",cluster_accuracy_1)\n",
    "print(\"Precision Scores: \",cluster_precision_1)\n",
    "print(\"Recall Scores: \",cluster_recall_1)\n",
    "print(\"F1 Scores: \",cluster_fscore_1)\n",
    "print(\"False Positive Rates: \",cluster_fpr_1)"
   ]
  },
  {
   "cell_type": "markdown",
   "metadata": {},
   "source": [
    "# Multiple clusters + No threshold tuning (No concat of training and test data)"
   ]
  },
  {
   "cell_type": "code",
   "execution_count": null,
   "metadata": {},
   "outputs": [],
   "source": [
    "X_test = pd.DataFrame(index=df_test.index, columns=sensors, data=scaler.fit_transform(df_test[sensors]))\n",
    "Y_test = df_test.loc[:,'LABEL']"
   ]
  },
  {
   "cell_type": "code",
   "execution_count": null,
   "metadata": {},
   "outputs": [],
   "source": [
    "labels = hankel.fit(np.array(Y_test),lag,stride)\n",
    "y_actual = np.any(labels>0,axis=0).astype(int)"
   ]
  },
  {
   "cell_type": "code",
   "execution_count": null,
   "metadata": {},
   "outputs": [
    {
     "name": "stdout",
     "output_type": "stream",
     "text": [
      "-------number of clusters------ 2\n",
      "Accuracy  0.9636363636363636\n",
      "Precision  0.9636363636363636\n",
      "Recall  1.0\n",
      "F1-score  0.9814814814814815\n",
      "-------number of clusters------ 3\n",
      "Accuracy  0.8090909090909091\n",
      "Precision  0.9775280898876404\n",
      "Recall  0.8207547169811321\n",
      "F1-score  0.8923076923076922\n",
      "-------number of clusters------ 4\n",
      "Accuracy  0.6363636363636364\n",
      "Precision  1.0\n",
      "Recall  0.6226415094339622\n",
      "F1-score  0.7674418604651162\n",
      "-------number of clusters------ 5\n",
      "Accuracy  0.7363636363636363\n",
      "Precision  0.9753086419753086\n",
      "Recall  0.7452830188679245\n",
      "F1-score  0.8449197860962566\n",
      "-------number of clusters------ 6\n",
      "Accuracy  0.7818181818181819\n",
      "Precision  0.9659090909090909\n",
      "Recall  0.8018867924528302\n",
      "F1-score  0.8762886597938144\n",
      "-------number of clusters------ 7\n",
      "Accuracy  0.8272727272727273\n",
      "Precision  0.978021978021978\n",
      "Recall  0.839622641509434\n",
      "F1-score  0.9035532994923858\n"
     ]
    }
   ],
   "source": [
    "cluster_accuracy_2 = []\n",
    "cluster_precision_2 = []\n",
    "cluster_recall_2 = []\n",
    "cluster_fscore_2 = []\n",
    "cluster_fpr_2 = []\n",
    "for k in range(2,8):\n",
    "    sensor_models = []\n",
    "    sensor_predicted = []\n",
    "    accuracy = []\n",
    "    precision = []\n",
    "    recall = []\n",
    "    fscore = []\n",
    "    fpr = []\n",
    "    for sens in sensors:\n",
    "        train_normal = X_normal.loc[:,sens].values\n",
    "        train_attack = X_attack.loc[:,sens].values\n",
    "        model = Pipeline()\n",
    "        model.fit(train_normal,train_attack,lag,stride,optimal_k=k,tune=False,kscore_init='inertia')\n",
    "        test = X_test.loc[:,sens].values\n",
    "        y_predicted = model.predict(test)\n",
    "        sensor_predicted.append(y_predicted)\n",
    "        accuracy.append(accuracy_score(y_actual,y_predicted))\n",
    "        precision.append(precision_score(y_actual,y_predicted))\n",
    "        recall.append(recall_score(y_actual,y_predicted))\n",
    "        fscore.append(f1_score(y_actual,y_predicted))\n",
    "        fpr.append(calculate_fpr(y_actual,y_predicted))\n",
    "        sensor_models.append(model)    \n",
    "    sensor_predicted = np.asarray(sensor_predicted)\n",
    "    y_predicted = np.any(sensor_predicted,axis=0).astype(int)\n",
    "    cluster_accuracy_2.append(accuracy_score(y_actual, y_predicted))\n",
    "    cluster_precision_2.append(precision_score(y_actual,y_predicted))\n",
    "    cluster_recall_2.append(recall_score(y_actual,y_predicted))\n",
    "    cluster_fscore_2.append(f1_score(y_actual,y_predicted))\n",
    "    cluster_fpr_2.append(calculate_fpr(y_actual,y_predicted))\n",
    "    print('------Number of Clusters: ',k,'-----------') \n",
    "    print(\"Accuracy \",cluster_accuracy_2[-1])\n",
    "    print(\"Precision \",cluster_precision_2[-1])\n",
    "    print(\"Recall \",cluster_recall_2[-1])\n",
    "    print(\"F1-score \",cluster_fscore_2[-1])\n",
    "    print(\"False Positive Rate \",cluster_fpr_2[-1],\"\\n\") "
   ]
  },
  {
   "cell_type": "code",
   "execution_count": null,
   "metadata": {},
   "outputs": [
    {
     "data": {
      "text/plain": [
       "[0.9814814814814815,\n",
       " 0.8923076923076922,\n",
       " 0.7674418604651162,\n",
       " 0.8449197860962566,\n",
       " 0.8762886597938144,\n",
       " 0.9035532994923858]"
      ]
     },
     "metadata": {},
     "output_type": "display_data"
    }
   ],
   "source": [
    "print(\"Accuracy Scores: \",cluster_accuracy_2)\n",
    "print(\"Precision Scores: \",cluster_precision_2)\n",
    "print(\"Recall Scores: \",cluster_recall_2)\n",
    "print(\"F1 Scores: \",cluster_fscore_2)\n",
    "print(\"False Positive Rates: \",cluster_fpr_2)"
   ]
  },
  {
   "cell_type": "markdown",
   "metadata": {},
   "source": [
    "# Multiple clusters + Threshold tuning (No concat of training and test data)"
   ]
  },
  {
   "cell_type": "code",
   "execution_count": null,
   "metadata": {},
   "outputs": [
    {
     "name": "stdout",
     "output_type": "stream",
     "text": [
      "-------number of clusters------ 2\n",
      "Accuracy  0.9636363636363636\n",
      "Precision  0.9636363636363636\n",
      "Recall  1.0\n",
      "F1-score  0.9814814814814815\n",
      "-------number of clusters------ 3\n",
      "Accuracy  0.9636363636363636\n",
      "Precision  0.9636363636363636\n",
      "Recall  1.0\n",
      "F1-score  0.9814814814814815\n",
      "-------number of clusters------ 4\n",
      "Accuracy  0.9636363636363636\n",
      "Precision  0.9636363636363636\n",
      "Recall  1.0\n",
      "F1-score  0.9814814814814815\n",
      "-------number of clusters------ 5\n",
      "Accuracy  0.9636363636363636\n",
      "Precision  0.9636363636363636\n",
      "Recall  1.0\n",
      "F1-score  0.9814814814814815\n",
      "-------number of clusters------ 6\n",
      "Accuracy  0.9636363636363636\n",
      "Precision  0.9636363636363636\n",
      "Recall  1.0\n",
      "F1-score  0.9814814814814815\n",
      "-------number of clusters------ 7\n",
      "Accuracy  0.9636363636363636\n",
      "Precision  0.9636363636363636\n",
      "Recall  1.0\n",
      "F1-score  0.9814814814814815\n"
     ]
    }
   ],
   "source": [
    "cluster_accuracy_3 = []\n",
    "cluster_precision_3 = []\n",
    "cluster_recall_3 = []\n",
    "cluster_fscore_3 = []\n",
    "cluster_fpr_3 = []\n",
    "for k in range(2,8):\n",
    "    sensor_models = []\n",
    "    sensor_predicted = []\n",
    "    accuracy = []\n",
    "    precision = []\n",
    "    recall = []\n",
    "    fscore = []\n",
    "    fpr = []\n",
    "    for sens in sensors:\n",
    "        train_normal = X_normal.loc[:,sens].values\n",
    "        train_attack = X_attack.loc[:,sens].values\n",
    "        model = Pipeline()\n",
    "        model.fit(train_normal,train_attack,lag,stride,optimal_k = k, kscore_init='inertia')\n",
    "        test = X_test.loc[:,sens].values\n",
    "        y_predicted = model.predict(test)\n",
    "        sensor_predicted.append(y_predicted)\n",
    "        accuracy.append(accuracy_score(y_actual,y_predicted))\n",
    "        precision.append(precision_score(y_actual,y_predicted))\n",
    "        recall.append(recall_score(y_actual,y_predicted))\n",
    "        fscore.append(f1_score(y_actual,y_predicted))\n",
    "        fpr.append(calculate_fpr(y_actual,y_predicted))\n",
    "        sensor_models.append(model)    \n",
    "    sensor_predicted = np.asarray(sensor_predicted)\n",
    "    y_predicted = np.any(sensor_predicted,axis=0).astype(int)\n",
    "    cluster_accuracy_3.append(accuracy_score(y_actual, y_predicted))\n",
    "    cluster_precision_3.append(precision_score(y_actual,y_predicted))\n",
    "    cluster_recall_3.append(recall_score(y_actual,y_predicted))\n",
    "    cluster_fscore_3.append(f1_score(y_actual,y_predicted))\n",
    "    cluster_fpr_3.append(calculate_fpr(y_actual,y_predicted))\n",
    "    print('------Number of Clusters: ',k,'-----------') \n",
    "    print(\"Accuracy \",cluster_accuracy_3[-1])\n",
    "    print(\"Precision \",cluster_precision_3[-1])\n",
    "    print(\"Recall \",cluster_recall_3[-1])\n",
    "    print(\"F1-score \",cluster_fscore_3[-1])\n",
    "    print(\"False Positive Rate \",cluster_fpr_3[-1],\"\\n\")"
   ]
  },
  {
   "cell_type": "code",
   "execution_count": null,
   "metadata": {},
   "outputs": [
    {
     "data": {
      "text/plain": [
       "[0.9814814814814815,\n",
       " 0.9814814814814815,\n",
       " 0.9814814814814815,\n",
       " 0.9814814814814815,\n",
       " 0.9814814814814815,\n",
       " 0.9814814814814815]"
      ]
     },
     "metadata": {},
     "output_type": "display_data"
    }
   ],
   "source": [
    "print(\"Accuracy Scores: \",cluster_accuracy_3)\n",
    "print(\"Precision Scores: \",cluster_precision_3)\n",
    "print(\"Recall Scores: \",cluster_recall_3)\n",
    "print(\"F1 Scores: \",cluster_fscore_3)\n",
    "print(\"False Positive Rates: \",cluster_fpr_3)"
   ]
  }
 ],
 "metadata": {
  "kernelspec": {
   "display_name": "Python 3",
   "language": "python",
   "name": "python3"
  },
  "language_info": {
   "codemirror_mode": {
    "name": "ipython",
    "version": 3
   },
   "file_extension": ".py",
   "mimetype": "text/x-python",
   "name": "python",
   "nbconvert_exporter": "python",
   "pygments_lexer": "ipython3",
   "version": "3.9.13"
  }
 },
 "nbformat": 4,
 "nbformat_minor": 2
}
