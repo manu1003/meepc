{
 "cells": [
  {
   "cell_type": "code",
   "execution_count": null,
   "metadata": {},
   "outputs": [
    {
     "name": "stderr",
     "output_type": "stream",
     "text": [
      "C:\\Users\\user\\AppData\\Local\\Packages\\PythonSoftwareFoundation.Python.3.9_qbz5n2kfra8p0\\LocalCache\\local-packages\\Python39\\site-packages\\numpy\\_distributor_init.py:30: UserWarning: loaded more than 1 DLL from .libs:\n",
      "C:\\Users\\user\\AppData\\Local\\Packages\\PythonSoftwareFoundation.Python.3.9_qbz5n2kfra8p0\\LocalCache\\local-packages\\Python39\\site-packages\\numpy\\.libs\\libopenblas.EL2C6PLE4ZYW3ECEVIV3OXXGRN2NRFM2.gfortran-win_amd64.dll\n",
      "C:\\Users\\user\\AppData\\Local\\Packages\\PythonSoftwareFoundation.Python.3.9_qbz5n2kfra8p0\\LocalCache\\local-packages\\Python39\\site-packages\\numpy\\.libs\\libopenblas.WCDJNK7YVMPZQ2ME2ZZHJJRJ3JIKNDB7.gfortran-win_amd64.dll\n",
      "  warnings.warn(\"loaded more than 1 DLL from .libs:\"\n"
     ]
    }
   ],
   "source": [
    "import sys\n",
    "sys.path.append(\"C:/Users/user/meepc\")\n",
    "import numpy as np\n",
    "import pandas as pd\n",
    "from models import Hankel,RobustPipeline\n",
    "from sklearn.preprocessing import StandardScaler\n",
    "from sklearn.metrics import accuracy_score,precision_score,recall_score,f1_score,roc_auc_score"
   ]
  },
  {
   "cell_type": "code",
   "execution_count": 2,
   "metadata": {},
   "outputs": [],
   "source": [
    "def calculate_fpr(y_actual, y_prediction):\n",
    "    fp = 0\n",
    "    tn = 0\n",
    "    \n",
    "    for i in range(len(y_actual)):\n",
    "        if y_actual[i] == 0 and y_prediction[i] == 1:\n",
    "            fp += 1\n",
    "        elif y_actual[i] == 0 and y_prediction[i] == 0:\n",
    "            tn += 1\n",
    "    fpr= fp/(fp+tn)\n",
    "    return fpr"
   ]
  },
  {
   "cell_type": "code",
   "execution_count": null,
   "metadata": {},
   "outputs": [],
   "source": [
    "train_normal = pd.read_csv('~/data/te/normal_training.csv')\n",
    "train_attack = pd.read_csv('~/data/te/attack_training.csv')\n",
    "train_normal = pd.concat((train_normal,train_attack),axis=0,ignore_index=True)\n",
    "y_truth = train_normal.loc[:,'LABEL']"
   ]
  },
  {
   "cell_type": "code",
   "execution_count": null,
   "metadata": {},
   "outputs": [],
   "source": [
    "hankel = Hankel()\n",
    "lag = 500\n",
    "stride = 0.5"
   ]
  },
  {
   "cell_type": "code",
   "execution_count": null,
   "metadata": {},
   "outputs": [],
   "source": [
    "#attack indexes in original training data\n",
    "temp = hankel.fit(np.array(y_truth) ,lag,stride)\n",
    "attack_idx = np.any(temp>0,axis=0).astype(int)\n",
    "attack_idx = np.where(attack_idx>0)[0]\n",
    "attack_idx"
   ]
  },
  {
   "cell_type": "code",
   "execution_count": null,
   "metadata": {},
   "outputs": [],
   "source": [
    "sensors = [col for col in train_normal.columns if col not in ['faultNumber', 'simulationRun', 'sample','LABEL']]"
   ]
  },
  {
   "cell_type": "code",
   "execution_count": null,
   "metadata": {},
   "outputs": [],
   "source": [
    "scaler = StandardScaler()\n",
    "X_normal = pd.DataFrame(index=train_normal.index, columns=sensors, data=scaler.fit_transform(train_normal[sensors]))\n",
    "X_attack = pd.DataFrame(data=scaler.fit_transform(train_attack.loc[:,sensors]),index=train_attack.index,columns=sensors).reset_index().drop(columns=['index'])"
   ]
  },
  {
   "cell_type": "code",
   "execution_count": null,
   "metadata": {},
   "outputs": [],
   "source": [
    "df_test1 = pd.read_csv('~/data/te/normal_testing.csv')\n",
    "df_test1 = df_test1.sample(n=15000, random_state=42)\n",
    "df_test1.reset_index(drop=True, inplace=True)\n",
    "df_test2 = pd.read_csv('~/data/te/attack_testing.csv')\n",
    "df_test2 = df_test2.groupby('faultNumber').apply(lambda x: x.sample(n=150, random_state=42))\n",
    "df_test2.reset_index(drop=True, inplace=True)\n",
    "df_test=pd.concat((df_test1,df_test2),axis=0)"
   ]
  },
  {
   "cell_type": "markdown",
   "metadata": {},
   "source": [
    "# Epasad with 1 cluster"
   ]
  },
  {
   "cell_type": "code",
   "execution_count": null,
   "metadata": {},
   "outputs": [],
   "source": [
    "X_test = pd.DataFrame(index=df_test.index, columns=sensors, data=scaler.fit_transform(df_test[sensors]))\n",
    "Y_test = df_test.loc[:,'LABEL']"
   ]
  },
  {
   "cell_type": "code",
   "execution_count": null,
   "metadata": {},
   "outputs": [],
   "source": [
    "labels = hankel.fit(np.array(Y_test),lag,stride)\n",
    "y_actual = np.any(labels>0,axis=0).astype(int)"
   ]
  },
  {
   "cell_type": "code",
   "execution_count": null,
   "metadata": {},
   "outputs": [],
   "source": [
    "sensor_models = []\n",
    "sensor_predicted = []\n",
    "accuracy = []\n",
    "precision = []\n",
    "recall = []\n",
    "fscore = []\n",
    "fpr = []\n",
    "cluster_indexes=[]\n",
    "pca_counts=0\n",
    "meepc_counts=0\n",
    "\n",
    "for i,sens in enumerate(sensors):\n",
    "    train_normal = X_normal.loc[:,sens].values\n",
    "    train_attack = X_attack.loc[:,sens].values\n",
    "    model = RobustPipeline()\n",
    "    model.fit(train_normal,train_attack,lag,stride,optimal_k=1,kscore_init='inertia',tune=False,alpha=0.15,y_truth=y_truth)\n",
    "    test = X_test.loc[:,sens].values\n",
    "    y_predicted = model.predict(test)\n",
    "    sensor_predicted.append(y_predicted)\n",
    "    accuracy.append(accuracy_score(y_actual,y_predicted))\n",
    "    precision.append(precision_score(y_actual,y_predicted))\n",
    "    recall.append(recall_score(y_actual,y_predicted))\n",
    "    fscore.append(f1_score(y_actual,y_predicted))\n",
    "    fpr.append(calculate_fpr(y_actual,y_predicted))\n",
    "    sensor_models.append(model)    \n",
    "    #clustering\n",
    "    cluster_indexes.append(model.cluster_idx)\n",
    "    #pca\n",
    "\n",
    "    pca_counts=max(pca_counts,model.total_pca_attacks)\n",
    "    \n",
    "    #meepc\n",
    "    meepc_counts=max(meepc_counts,model.counts_meepc)"
   ]
  },
  {
   "cell_type": "code",
   "execution_count": null,
   "metadata": {},
   "outputs": [
    {
     "name": "stdout",
     "output_type": "stream",
     "text": [
      "94.11764705882352\n",
      "[418 419 420 421 430 431 432 442 443 444 445 446 462 463 464 465 466 489\n",
      " 490 491 492 498 499 500 501 502 503 507 508 509 510 511]\n"
     ]
    }
   ],
   "source": [
    "cluster_inactive_idx = np.unique(np.concatenate(cluster_indexes))\n",
    "commonidxs=np.intersect1d(attack_idx,cluster_inactive_idx)\n",
    "percentage = len(commonidxs)/len(attack_idx)*100\n",
    "print(percentage)"
   ]
  },
  {
   "cell_type": "code",
   "execution_count": null,
   "metadata": {},
   "outputs": [
    {
     "name": "stdout",
     "output_type": "stream",
     "text": [
      "47.05882352941176\n"
     ]
    }
   ],
   "source": [
    "percentage = pca_counts/len(attack_idx)*100\n",
    "print(percentage)"
   ]
  },
  {
   "cell_type": "code",
   "execution_count": null,
   "metadata": {},
   "outputs": [
    {
     "name": "stdout",
     "output_type": "stream",
     "text": [
      "32.35294117647059\n"
     ]
    }
   ],
   "source": [
    "percentage = meepc_counts/len(attack_idx)*100\n",
    "print(percentage) "
   ]
  },
  {
   "cell_type": "code",
   "execution_count": null,
   "metadata": {},
   "outputs": [
    {
     "data": {
      "text/plain": [
       "array([1, 1, 1, 1, 1, 1, 1, 1, 1, 1, 1, 1, 1, 1, 1, 1, 1, 1, 1, 1, 1, 1,\n",
       "       1, 1, 1, 1, 1, 1, 1, 1, 1, 1, 1, 1, 1, 1, 1, 1, 1, 1, 1, 1, 1, 1,\n",
       "       1, 1, 1, 1, 1, 1, 1, 1, 1, 1, 1, 1, 1, 1, 1, 1, 1, 1, 1, 1, 1, 1,\n",
       "       1, 1, 1, 1, 1, 1, 1, 1, 1, 1, 0, 1, 0, 1, 1, 1, 1, 1, 1, 1, 1, 1,\n",
       "       0, 1, 0, 1, 1, 1, 1, 1, 1, 1, 1, 1, 0, 1, 0, 1, 1, 1, 1, 1, 1, 1])"
      ]
     },
     "metadata": {},
     "output_type": "display_data"
    }
   ],
   "source": [
    "sensor_predicted = np.asarray(sensor_predicted)\n",
    "y_predicted = np.any(sensor_predicted,axis=0).astype(int)\n",
    "y_predicted"
   ]
  },
  {
   "cell_type": "code",
   "execution_count": null,
   "metadata": {},
   "outputs": [
    {
     "name": "stdout",
     "output_type": "stream",
     "text": [
      "Accuracy  0.4090909090909091\n",
      "Precision  0.4326923076923077\n",
      "Recall  0.8823529411764706\n",
      "F1-score  0.5806451612903226\n",
      "False Positive Rate  1.0\n"
     ]
    }
   ],
   "source": [
    "print(\"Accuracy \",accuracy_score(y_actual,y_predicted))\n",
    "print(\"Precision \",precision_score(y_actual,y_predicted))\n",
    "print(\"Recall \",recall_score(y_actual,y_predicted))\n",
    "print(\"F1-score \",f1_score(y_actual,y_predicted))\n",
    "print(\"False Positive Rate \",calculate_fpr(y_actual,y_predicted))"
   ]
  },
  {
   "cell_type": "code",
   "execution_count": null,
   "metadata": {},
   "outputs": [
    {
     "name": "stdout",
     "output_type": "stream",
     "text": [
      "Accuracy -  Mean: 0.5833916083916084 Median : 0.6181818181818182 Min : 0.18181818181818182 Max : 0.7090909090909091\n",
      "precision - Mean: 0.9057995891299253 Median : 1.0 Min : 0.24675324675324675 Max : 1.0\n",
      "recall -    Mean: 0.24019607843137256 Median : 0.23529411764705882 Min : 0.058823529411764705 Max : 0.6078431372549019\n",
      "f1 -        Mean: 0.3402945673555318 Median : 0.3278688524590164 Min : 0.1111111111111111 Max : 0.5555555555555556\n"
     ]
    }
   ],
   "source": [
    "print(\"Accuracy -  Mean: {} Median : {} Min : {} Max : {}\".format(np.asarray(accuracy).mean(), np.median(np.asarray(accuracy)),np.asarray(accuracy).min(), np.asarray(accuracy).max()))\n",
    "print(\"precision - Mean: {} Median : {} Min : {} Max : {}\".format(np.asarray(precision).mean(), np.median(np.asarray(precision)),np.asarray(precision).min(), np.asarray(precision).max()))\n",
    "print(\"recall -    Mean: {} Median : {} Min : {} Max : {}\".format(np.asarray(recall).mean(), np.median(np.asarray(recall)),np.asarray(recall).min(), np.asarray(recall).max()))\n",
    "print(\"f1 -        Mean: {} Median : {} Min : {} Max : {}\".format(np.asarray(fscore).mean(), np.median(np.asarray(fscore)),np.asarray(fscore).min(), np.asarray(fscore).max()))"
   ]
  },
  {
   "cell_type": "markdown",
   "metadata": {},
   "source": [
    "# Multiple clusters + No threshold tuning"
   ]
  },
  {
   "cell_type": "code",
   "execution_count": null,
   "metadata": {},
   "outputs": [
    {
     "name": "stdout",
     "output_type": "stream",
     "text": [
      "------Number of Clusters:  2 -----------\n",
      "Accuracy  0.9142857142857143\n",
      "Precision  0.6470588235294118\n",
      "Recall  1.0\n",
      "F1-score  0.7857142857142858\n",
      "False Positive Rate  0.1016949152542373 \n",
      "\n",
      "------Number of Clusters:  3 -----------\n",
      "Accuracy  1.0\n",
      "Precision  1.0\n",
      "Recall  1.0\n",
      "F1-score  1.0\n",
      "False Positive Rate  0.0 \n",
      "\n",
      "------Number of Clusters:  4 -----------\n",
      "Accuracy  1.0\n",
      "Precision  1.0\n",
      "Recall  1.0\n",
      "F1-score  1.0\n",
      "False Positive Rate  0.0 \n",
      "\n",
      "------Number of Clusters:  5 -----------\n",
      "Accuracy  0.9857142857142858\n",
      "Precision  1.0\n",
      "Recall  0.9090909090909091\n",
      "F1-score  0.9523809523809523\n",
      "False Positive Rate  0.0 \n",
      "\n",
      "------Number of Clusters:  6 -----------\n",
      "Accuracy  0.9714285714285714\n",
      "Precision  1.0\n",
      "Recall  0.8181818181818182\n",
      "F1-score  0.9\n",
      "False Positive Rate  0.0 \n",
      "\n",
      "------Number of Clusters:  7 -----------\n",
      "Accuracy  0.9714285714285714\n",
      "Precision  1.0\n",
      "Recall  0.8181818181818182\n",
      "F1-score  0.9\n",
      "False Positive Rate  0.0 \n",
      "\n"
     ]
    }
   ],
   "source": [
    "cluster_accuracy = []\n",
    "cluster_precision = []\n",
    "cluster_recall = []\n",
    "cluster_fscore = []\n",
    "cluster_fpr = []\n",
    "for k in range(2,6):\n",
    "    print('-------------------------------------',k,'-------------------------------------')\n",
    "    \n",
    "    sensor_models = []\n",
    "    sensor_predicted = []\n",
    "    accuracy = []\n",
    "    precision = []\n",
    "    recall = []\n",
    "    fscore = []\n",
    "    fpr = []\n",
    "    cluster_indexes=[]\n",
    "    pca_counts=0\n",
    "    meepc_counts=0\n",
    "    for i,sens in enumerate(sensors):\n",
    "        print(sens)\n",
    "        train_normal = X_normal.loc[:,sens].values\n",
    "        train_attack = X_attack.loc[:,sens].values\n",
    "        model = RobustPipeline()\n",
    "        model.fit(train_normal,train_attack,lag,stride,optimal_k=k,tune=False,kscore_init='inertia',alpha=0.15,y_truth=y_truth)\n",
    "        test = X_test.loc[:,sens].values\n",
    "        y_predicted = model.predict(test)\n",
    "        sensor_predicted.append(y_predicted)\n",
    "        accuracy.append(accuracy_score(y_actual,y_predicted))\n",
    "        precision.append(precision_score(y_actual,y_predicted))\n",
    "        recall.append(recall_score(y_actual,y_predicted))\n",
    "        fscore.append(f1_score(y_actual,y_predicted))\n",
    "        fpr.append(calculate_fpr(y_actual,y_predicted))\n",
    "        sensor_models.append(model) \n",
    "        cluster_indexes.append(model.cluster_idx)\n",
    "        pca_counts=max(pca_counts,model.total_pca_attacks)\n",
    "        meepc_counts=max(meepc_counts,model.counts_meepc)\n",
    "           \n",
    "    #cluster\n",
    "    cluster_inactive_idx = np.unique(np.concatenate(cluster_indexes))\n",
    "    commonidxs=np.intersect1d(attack_idx,cluster_inactive_idx)\n",
    "    percentage = len(commonidxs)/len(attack_idx)*100\n",
    "    print(\"Cluster - attack points detected {} %\".format(percentage))\n",
    "    #PCA\n",
    "    \n",
    "    percentage = pca_counts/len(attack_idx)*100\n",
    "    print(\"PCA - attack points detected {} %\".format(percentage))\n",
    "    #Meepc\n",
    "    percentage = meepc_counts/len(attack_idx)*100\n",
    "    print(\"Meepc - attack points detected {} %\".format(percentage),\"/n\")\n",
    "            \n",
    "    sensor_predicted = np.asarray(sensor_predicted)\n",
    "    y_predicted = np.any(sensor_predicted,axis=0).astype(int)\n",
    "    cluster_accuracy.append(accuracy_score(y_actual, y_predicted))\n",
    "    cluster_precision.append(precision_score(y_actual,y_predicted))\n",
    "    cluster_recall.append(recall_score(y_actual,y_predicted))\n",
    "    cluster_fscore.append(f1_score(y_actual,y_predicted))\n",
    "    cluster_fpr.append(calculate_fpr(y_actual,y_predicted))\n",
    "    print('------Number of Clusters: ',k,'-----------') \n",
    "    print(\"Accuracy \",cluster_accuracy[-1])\n",
    "    print(\"Precision \",cluster_precision[-1])\n",
    "    print(\"Recall \",cluster_recall[-1])\n",
    "    print(\"F1-score \",cluster_fscore[-1])\n",
    "    print(\"False Positive Rate \",cluster_fpr[-1],\"\\n\")"
   ]
  },
  {
   "cell_type": "code",
   "execution_count": null,
   "metadata": {},
   "outputs": [
    {
     "name": "stdout",
     "output_type": "stream",
     "text": [
      "Accuracy Scores:  [0.9142857142857143, 1.0, 1.0, 0.9857142857142858, 0.9714285714285714, 0.9714285714285714]\n",
      "Precision Scores:  [0.6470588235294118, 1.0, 1.0, 1.0, 1.0, 1.0]\n",
      "Recall Scores:  [1.0, 1.0, 1.0, 0.9090909090909091, 0.8181818181818182, 0.8181818181818182]\n",
      "F1 Scores:  [0.7857142857142858, 1.0, 1.0, 0.9523809523809523, 0.9, 0.9]\n",
      "False Positive Rates:  [0.1016949152542373, 0.0, 0.0, 0.0, 0.0, 0.0]\n"
     ]
    }
   ],
   "source": [
    "print(\"Accuracy Scores: \",cluster_accuracy)\n",
    "print(\"Precision Scores: \",cluster_precision)\n",
    "print(\"Recall Scores: \",cluster_recall)\n",
    "print(\"F1 Scores: \",cluster_fscore)\n",
    "print(\"False Positive Rates: \",cluster_fpr)"
   ]
  }
 ],
 "metadata": {
  "kernelspec": {
   "display_name": "Python 3",
   "language": "python",
   "name": "python3"
  },
  "language_info": {
   "codemirror_mode": {
    "name": "ipython",
    "version": 3
   },
   "file_extension": ".py",
   "mimetype": "text/x-python",
   "name": "python",
   "nbconvert_exporter": "python",
   "pygments_lexer": "ipython3",
   "version": "3.9.13"
  }
 },
 "nbformat": 4,
 "nbformat_minor": 2
}
