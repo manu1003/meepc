{
 "cells": [
  {
   "cell_type": "code",
   "execution_count": 1,
   "metadata": {},
   "outputs": [
    {
     "name": "stderr",
     "output_type": "stream",
     "text": [
      "C:\\Users\\user\\AppData\\Local\\Packages\\PythonSoftwareFoundation.Python.3.9_qbz5n2kfra8p0\\LocalCache\\local-packages\\Python39\\site-packages\\numpy\\_distributor_init.py:30: UserWarning: loaded more than 1 DLL from .libs:\n",
      "C:\\Users\\user\\AppData\\Local\\Packages\\PythonSoftwareFoundation.Python.3.9_qbz5n2kfra8p0\\LocalCache\\local-packages\\Python39\\site-packages\\numpy\\.libs\\libopenblas.EL2C6PLE4ZYW3ECEVIV3OXXGRN2NRFM2.gfortran-win_amd64.dll\n",
      "C:\\Users\\user\\AppData\\Local\\Packages\\PythonSoftwareFoundation.Python.3.9_qbz5n2kfra8p0\\LocalCache\\local-packages\\Python39\\site-packages\\numpy\\.libs\\libopenblas.WCDJNK7YVMPZQ2ME2ZZHJJRJ3JIKNDB7.gfortran-win_amd64.dll\n",
      "  warnings.warn(\"loaded more than 1 DLL from .libs:\"\n"
     ]
    }
   ],
   "source": [
    "import sys\n",
    "sys.path.append(\"C:/Users/user/meepc\")\n",
    "import numpy as np\n",
    "import pandas as pd\n",
    "from models import Hankel,Corrhankel,Pipeline\n",
    "from sklearn.preprocessing import StandardScaler\n",
    "from sklearn.metrics import accuracy_score,precision_score,recall_score,f1_score,roc_auc_score"
   ]
  },
  {
   "cell_type": "code",
   "execution_count": 2,
   "metadata": {},
   "outputs": [],
   "source": [
    "def calculate_fpr(y_actual, y_prediction):\n",
    "    fp = 0\n",
    "    tn = 0\n",
    "    \n",
    "    for i in range(len(y_actual)):\n",
    "        if y_actual[i] == 0 and y_prediction[i] == 1:\n",
    "            fp += 1\n",
    "        elif y_actual[i] == 0 and y_prediction[i] == 0:\n",
    "            tn += 1\n",
    "    fpr= fp/(fp+tn)\n",
    "    return fpr"
   ]
  },
  {
   "cell_type": "code",
   "execution_count": 3,
   "metadata": {},
   "outputs": [],
   "source": [
    "train_normal = pd.read_csv('~/data/te/normal_training.csv')\n",
    "train_attack = pd.read_csv('~/data/te/attack_training.csv')"
   ]
  },
  {
   "cell_type": "code",
   "execution_count": 4,
   "metadata": {},
   "outputs": [],
   "source": [
    "sensors = [col for col in train_normal.columns if col not in ['faultNumber', 'simulationRun', 'sample','LABEL']]"
   ]
  },
  {
   "cell_type": "code",
   "execution_count": 5,
   "metadata": {},
   "outputs": [],
   "source": [
    "scaler = StandardScaler()\n",
    "X_normal = pd.DataFrame(index=train_normal.index, columns=sensors, data=scaler.fit_transform(train_normal[sensors]))\n",
    "X_attack = pd.DataFrame(data=scaler.fit_transform(train_attack.loc[:,sensors]),index=train_attack.index,columns=sensors).reset_index().drop(columns=['index'])"
   ]
  },
  {
   "cell_type": "code",
   "execution_count": 6,
   "metadata": {},
   "outputs": [],
   "source": [
    "hankel = Hankel()\n",
    "corrhankel = Corrhankel()\n",
    "lag = 500\n",
    "stride = 0.5"
   ]
  },
  {
   "cell_type": "code",
   "execution_count": 7,
   "metadata": {},
   "outputs": [],
   "source": [
    "corr_normal,nolag_normal = corrhankel.fit(X_normal.to_numpy(),lag,stride)"
   ]
  },
  {
   "cell_type": "code",
   "execution_count": 8,
   "metadata": {},
   "outputs": [],
   "source": [
    "corr_attack,nolag_attack = corrhankel.fit(X_attack.to_numpy(),lag,stride)"
   ]
  },
  {
   "cell_type": "code",
   "execution_count": 9,
   "metadata": {},
   "outputs": [],
   "source": [
    "df_test1 = pd.read_csv('~/data/te/normal_testing.csv')\n",
    "df_test1 = df_test1.sample(n=15000, random_state=42)\n",
    "df_test1.reset_index(drop=True, inplace=True)\n",
    "df_test2 = pd.read_csv('~/data/te/attack_testing.csv')\n",
    "df_test2 = df_test2.groupby('faultNumber').apply(lambda x: x.sample(n=150, random_state=42))\n",
    "df_test2.reset_index(drop=True, inplace=True)\n",
    "df_test=pd.concat((df_test1,df_test2),axis=0)"
   ]
  },
  {
   "cell_type": "markdown",
   "metadata": {},
   "source": [
    "# Epasad with 1 cluster and no threshold tuning (training attack included in test data)"
   ]
  },
  {
   "cell_type": "code",
   "execution_count": 10,
   "metadata": {},
   "outputs": [],
   "source": [
    "test_combined = pd.concat((df_test,train_attack),axis=0)\n",
    "X_test = pd.DataFrame(index=test_combined.index, columns=sensors, data=scaler.fit_transform(test_combined[sensors]))\n",
    "corr_test,nolag_test = corrhankel.fit(X_test.to_numpy(),lag,stride)\n",
    "Y_test = test_combined.loc[:,'LABEL']"
   ]
  },
  {
   "cell_type": "code",
   "execution_count": 11,
   "metadata": {},
   "outputs": [],
   "source": [
    "labels = hankel.fit(np.array(Y_test),lag,stride)\n",
    "y_actual = np.any(labels>0,axis=0).astype(int)"
   ]
  },
  {
   "cell_type": "code",
   "execution_count": 12,
   "metadata": {},
   "outputs": [],
   "source": [
    "sensor_models = []\n",
    "sensor_predicted = []\n",
    "accuracy = []\n",
    "precision = []\n",
    "recall = []\n",
    "fscore = []\n",
    "fpr = []\n",
    "for i,sens in enumerate(sensors):\n",
    "    train_normal = X_normal.loc[:,sens].values\n",
    "    train_attack = X_attack.loc[:,sens].values\n",
    "    model = Pipeline()\n",
    "    model.fit(train_normal,train_attack,lag,stride,optimal_k=1,tune=False,kscore_init='inertia',corr_normal=corr_normal[:,i].reshape(nolag_normal,len(X_normal.columns)).T,only_corr=True)\n",
    "    test = X_test.loc[:,sens].values\n",
    "    y_predicted = model.predict(test,corr_test[:,i].reshape(nolag_test,len(X_test.columns)).T)\n",
    "    sensor_predicted.append(y_predicted)\n",
    "    accuracy.append(accuracy_score(y_actual,y_predicted))\n",
    "    precision.append(precision_score(y_actual,y_predicted))\n",
    "    recall.append(recall_score(y_actual,y_predicted))\n",
    "    fscore.append(f1_score(y_actual,y_predicted))\n",
    "    fpr.append(calculate_fpr(y_actual,y_predicted))\n",
    "    sensor_models.append(model)    "
   ]
  },
  {
   "cell_type": "code",
   "execution_count": 25,
   "metadata": {},
   "outputs": [
    {
     "data": {
      "text/plain": [
       "array([0, 0, 0, 0, 0, 0, 0, 0, 0, 0, 0, 0, 0, 0, 0, 0, 0, 0, 0, 0, 0, 0,\n",
       "       0, 0, 0, 0, 0, 0, 0, 0, 0, 0, 0, 0, 0, 0, 0, 0, 0, 0, 0, 0, 0, 0,\n",
       "       0, 0, 0, 0, 0, 0, 0, 0, 0, 0, 0, 0, 0, 0, 0, 1, 1, 1, 1, 1, 1, 1,\n",
       "       1, 1, 1, 1, 1, 1, 1, 1, 1, 1, 0, 0, 0, 1, 1, 1, 1, 1, 1, 1, 1, 1,\n",
       "       0, 0, 0, 0, 0, 1, 1, 1, 1, 1, 0, 0, 0, 0, 0, 0, 1, 1, 1, 1, 0, 0])"
      ]
     },
     "execution_count": 25,
     "metadata": {},
     "output_type": "execute_result"
    }
   ],
   "source": [
    "sensor_predicted = np.asarray(sensor_predicted)\n",
    "sensor_mean = np.mean(sensor_predicted, axis=0)\n",
    "y_predicted = (sensor_mean > 0.75).astype(int)\n",
    "# y_predicted = np.any(sensor_predicted,axis=0).astype(int)\n",
    "y_predicted"
   ]
  },
  {
   "cell_type": "code",
   "execution_count": 26,
   "metadata": {},
   "outputs": [
    {
     "name": "stdout",
     "output_type": "stream",
     "text": [
      "Accuracy  0.8545454545454545\n",
      "Precision  1.0\n",
      "Recall  0.6862745098039216\n",
      "F1-score  0.813953488372093\n",
      "False Positive Rate  0.0\n"
     ]
    }
   ],
   "source": [
    "print(\"Accuracy \",accuracy_score(y_actual,y_predicted))\n",
    "print(\"Precision \",precision_score(y_actual,y_predicted))\n",
    "print(\"Recall \",recall_score(y_actual,y_predicted))\n",
    "print(\"F1-score \",f1_score(y_actual,y_predicted))\n",
    "print(\"False Positive Rate \",calculate_fpr(y_actual,y_predicted))"
   ]
  },
  {
   "cell_type": "code",
   "execution_count": 27,
   "metadata": {},
   "outputs": [
    {
     "name": "stdout",
     "output_type": "stream",
     "text": [
      "Accuracy -  Mean: 0.579020979020979 Median : 0.4636363636363636 Min : 0.4 Max : 0.9363636363636364\n",
      "precision - Mean: 0.629502357409023 Median : 0.4636363636363636 Min : 0.42718446601941745 Max : 1.0\n",
      "recall -    Mean: 0.8563348416289591 Median : 1.0 Min : 0.37254901960784315 Max : 1.0\n",
      "f1 -        Mean: 0.6609563374962986 Median : 0.6335403726708074 Min : 0.5428571428571428 Max : 0.9263157894736842\n"
     ]
    }
   ],
   "source": [
    "print(\"Accuracy -  Mean: {} Median : {} Min : {} Max : {}\".format(np.asarray(accuracy).mean(), np.median(np.asarray(accuracy)),np.asarray(accuracy).min(), np.asarray(accuracy).max()))\n",
    "print(\"precision - Mean: {} Median : {} Min : {} Max : {}\".format(np.asarray(precision).mean(), np.median(np.asarray(precision)),np.asarray(precision).min(), np.asarray(precision).max()))\n",
    "print(\"recall -    Mean: {} Median : {} Min : {} Max : {}\".format(np.asarray(recall).mean(), np.median(np.asarray(recall)),np.asarray(recall).min(), np.asarray(recall).max()))\n",
    "print(\"f1 -        Mean: {} Median : {} Min : {} Max : {}\".format(np.asarray(fscore).mean(), np.median(np.asarray(fscore)),np.asarray(fscore).min(), np.asarray(fscore).max()))"
   ]
  },
  {
   "cell_type": "markdown",
   "metadata": {},
   "source": [
    "# Multiple clusters + No threshold tuning (training attack mixed in test data)"
   ]
  },
  {
   "cell_type": "code",
   "execution_count": 29,
   "metadata": {},
   "outputs": [
    {
     "name": "stdout",
     "output_type": "stream",
     "text": [
      "------Number of Clusters:  2 -----------\n",
      "Accuracy  0.8727272727272727\n",
      "Precision  0.9743589743589743\n",
      "Recall  0.7450980392156863\n",
      "F1-score  0.8444444444444443\n",
      "False Positive Rate  0.01694915254237288 \n",
      "\n",
      "------Number of Clusters:  3 -----------\n",
      "Accuracy  0.8909090909090909\n",
      "Precision  0.9534883720930233\n",
      "Recall  0.803921568627451\n",
      "F1-score  0.8723404255319148\n",
      "False Positive Rate  0.03389830508474576 \n",
      "\n",
      "------Number of Clusters:  4 -----------\n",
      "Accuracy  0.8909090909090909\n",
      "Precision  1.0\n",
      "Recall  0.7647058823529411\n",
      "F1-score  0.8666666666666666\n",
      "False Positive Rate  0.0 \n",
      "\n",
      "------Number of Clusters:  5 -----------\n",
      "Accuracy  0.8363636363636363\n",
      "Precision  0.8367346938775511\n",
      "Recall  0.803921568627451\n",
      "F1-score  0.8200000000000001\n",
      "False Positive Rate  0.13559322033898305 \n",
      "\n",
      "------Number of Clusters:  6 -----------\n",
      "Accuracy  0.8272727272727273\n",
      "Precision  0.8478260869565217\n",
      "Recall  0.7647058823529411\n",
      "F1-score  0.8041237113402062\n",
      "False Positive Rate  0.11864406779661017 \n",
      "\n",
      "------Number of Clusters:  7 -----------\n",
      "Accuracy  0.8181818181818182\n",
      "Precision  0.8444444444444444\n",
      "Recall  0.7450980392156863\n",
      "F1-score  0.7916666666666666\n",
      "False Positive Rate  0.11864406779661017 \n",
      "\n"
     ]
    }
   ],
   "source": [
    "cluster_accuracy_1 = []\n",
    "cluster_precision_1 = []\n",
    "cluster_recall_1 = []\n",
    "cluster_fscore_1 = []\n",
    "cluster_fpr_1 = []\n",
    "for k in range(2,8):\n",
    "    sensor_models = []\n",
    "    sensor_predicted = []\n",
    "    accuracy = []\n",
    "    precision = []\n",
    "    recall = []\n",
    "    fscore = []\n",
    "    fpr = []\n",
    "    for i,sens in enumerate(sensors):\n",
    "        train_normal = X_normal.loc[:,sens].values\n",
    "        train_attack = X_attack.loc[:,sens].values\n",
    "        model = Pipeline()\n",
    "        model.fit(train_normal,train_attack,lag,stride,optimal_k = k,tune=False,kscore_init='inertia',corr_normal=corr_normal[:,i].reshape(nolag_normal,len(X_normal.columns)).T,only_corr=True)\n",
    "        test = X_test.loc[:,sens].values\n",
    "        y_predicted = model.predict(test,corr_test=corr_test[:,i].reshape(nolag_test,len(X_test.columns)).T)\n",
    "        sensor_predicted.append(y_predicted)\n",
    "        accuracy.append(accuracy_score(y_actual,y_predicted))\n",
    "        precision.append(precision_score(y_actual,y_predicted))\n",
    "        recall.append(recall_score(y_actual,y_predicted))\n",
    "        fscore.append(f1_score(y_actual,y_predicted))\n",
    "        fpr.append(calculate_fpr(y_actual,y_predicted))\n",
    "        sensor_models.append(model)  \n",
    "    sensor_predicted = np.asarray(sensor_predicted)\n",
    "    sensor_mean = np.mean(sensor_predicted, axis=0)\n",
    "    y_predicted = (sensor_mean > 0.75).astype(int)\n",
    "    # y_predicted = np.any(sensor_predicted,axis=0).astype(int) \n",
    "    cluster_accuracy_1.append(accuracy_score(y_actual, y_predicted))\n",
    "    cluster_precision_1.append(precision_score(y_actual,y_predicted))\n",
    "    cluster_recall_1.append(recall_score(y_actual,y_predicted))\n",
    "    cluster_fscore_1.append(f1_score(y_actual,y_predicted))\n",
    "    cluster_fpr_1.append(calculate_fpr(y_actual,y_predicted))\n",
    "    print('------Number of Clusters: ',k,'-----------') \n",
    "    print(\"Accuracy \",cluster_accuracy_1[-1])\n",
    "    print(\"Precision \",cluster_precision_1[-1])\n",
    "    print(\"Recall \",cluster_recall_1[-1])\n",
    "    print(\"F1-score \",cluster_fscore_1[-1])\n",
    "    print(\"False Positive Rate \",cluster_fpr_1[-1],\"\\n\") "
   ]
  },
  {
   "cell_type": "code",
   "execution_count": 30,
   "metadata": {},
   "outputs": [
    {
     "name": "stdout",
     "output_type": "stream",
     "text": [
      "Accuracy Scores:  [0.8727272727272727, 0.8909090909090909, 0.8909090909090909, 0.8363636363636363, 0.8272727272727273, 0.8181818181818182]\n",
      "Precision Scores:  [0.9743589743589743, 0.9534883720930233, 1.0, 0.8367346938775511, 0.8478260869565217, 0.8444444444444444]\n",
      "Recall Scores:  [0.7450980392156863, 0.803921568627451, 0.7647058823529411, 0.803921568627451, 0.7647058823529411, 0.7450980392156863]\n",
      "F1 Scores:  [0.8444444444444443, 0.8723404255319148, 0.8666666666666666, 0.8200000000000001, 0.8041237113402062, 0.7916666666666666]\n",
      "False Positive Rates:  [0.01694915254237288, 0.03389830508474576, 0.0, 0.13559322033898305, 0.11864406779661017, 0.11864406779661017]\n"
     ]
    }
   ],
   "source": [
    "print(\"Accuracy Scores: \",cluster_accuracy_1)\n",
    "print(\"Precision Scores: \",cluster_precision_1)\n",
    "print(\"Recall Scores: \",cluster_recall_1)\n",
    "print(\"F1 Scores: \",cluster_fscore_1)\n",
    "print(\"False Positive Rates: \",cluster_fpr_1)"
   ]
  },
  {
   "cell_type": "markdown",
   "metadata": {},
   "source": [
    "# Multiple clusters + No threshold tuning (No concat of training and test data)"
   ]
  },
  {
   "cell_type": "code",
   "execution_count": 31,
   "metadata": {},
   "outputs": [],
   "source": [
    "X_test = pd.DataFrame(index=df_test.index, columns=sensors, data=scaler.fit_transform(df_test[sensors]))\n",
    "corr_test,nolag_test = corrhankel.fit(X_test.to_numpy(),lag,stride)\n",
    "Y_test = df_test.loc[:,'LABEL']"
   ]
  },
  {
   "cell_type": "code",
   "execution_count": 32,
   "metadata": {},
   "outputs": [],
   "source": [
    "labels = hankel.fit(np.array(Y_test),lag,stride)\n",
    "y_actual = np.any(labels>0,axis=0).astype(int)"
   ]
  },
  {
   "cell_type": "code",
   "execution_count": 34,
   "metadata": {},
   "outputs": [
    {
     "name": "stdout",
     "output_type": "stream",
     "text": [
      "------Number of Clusters:  2 -----------\n",
      "Accuracy  0.9857142857142858\n",
      "Precision  0.9166666666666666\n",
      "Recall  1.0\n",
      "F1-score  0.9565217391304348\n",
      "False Positive Rate  0.01694915254237288 \n",
      "\n",
      "------Number of Clusters:  3 -----------\n",
      "Accuracy  0.9714285714285714\n",
      "Precision  0.8461538461538461\n",
      "Recall  1.0\n",
      "F1-score  0.9166666666666666\n",
      "False Positive Rate  0.03389830508474576 \n",
      "\n",
      "------Number of Clusters:  4 -----------\n",
      "Accuracy  0.9285714285714286\n",
      "Precision  0.6875\n",
      "Recall  1.0\n",
      "F1-score  0.8148148148148148\n",
      "False Positive Rate  0.0847457627118644 \n",
      "\n",
      "------Number of Clusters:  5 -----------\n",
      "Accuracy  0.9142857142857143\n",
      "Precision  0.6470588235294118\n",
      "Recall  1.0\n",
      "F1-score  0.7857142857142858\n",
      "False Positive Rate  0.1016949152542373 \n",
      "\n",
      "------Number of Clusters:  6 -----------\n",
      "Accuracy  0.8714285714285714\n",
      "Precision  0.55\n",
      "Recall  1.0\n",
      "F1-score  0.7096774193548387\n",
      "False Positive Rate  0.15254237288135594 \n",
      "\n",
      "------Number of Clusters:  7 -----------\n",
      "Accuracy  0.8571428571428571\n",
      "Precision  0.5238095238095238\n",
      "Recall  1.0\n",
      "F1-score  0.6875000000000001\n",
      "False Positive Rate  0.1694915254237288 \n",
      "\n"
     ]
    }
   ],
   "source": [
    "cluster_accuracy_2 = []\n",
    "cluster_precision_2 = []\n",
    "cluster_recall_2 = []\n",
    "cluster_fscore_2 = []\n",
    "cluster_fpr_2 = []\n",
    "for k in range(2,8):\n",
    "    sensor_models = []\n",
    "    sensor_predicted = []\n",
    "    accuracy = []\n",
    "    precision = []\n",
    "    recall = []\n",
    "    fscore = []\n",
    "    fpr = []\n",
    "    for sens in sensors:\n",
    "        train_normal = X_normal.loc[:,sens].values\n",
    "        train_attack = X_attack.loc[:,sens].values\n",
    "        model = Pipeline()\n",
    "        model.fit(train_normal,train_attack,lag,stride,optimal_k=k,tune=False,kscore_init='inertia',corr_normal=corr_normal[:,i].reshape(nolag_normal,len(X_normal.columns)).T,only_corr=True)\n",
    "        test = X_test.loc[:,sens].values\n",
    "        y_predicted = model.predict(test,corr_test=corr_test[:,i].reshape(nolag_test,len(X_normal.columns)).T)\n",
    "        sensor_predicted.append(y_predicted)\n",
    "        accuracy.append(accuracy_score(y_actual,y_predicted))\n",
    "        precision.append(precision_score(y_actual,y_predicted))\n",
    "        recall.append(recall_score(y_actual,y_predicted))\n",
    "        fscore.append(f1_score(y_actual,y_predicted))\n",
    "        fpr.append(calculate_fpr(y_actual,y_predicted))\n",
    "        sensor_models.append(model)    \n",
    "    sensor_predicted = np.asarray(sensor_predicted)\n",
    "    sensor_mean = np.mean(sensor_predicted, axis=0)\n",
    "    y_predicted = (sensor_mean > 0.75).astype(int)\n",
    "    # y_predicted = np.any(sensor_predicted,axis=0).astype(int)\n",
    "    cluster_accuracy_2.append(accuracy_score(y_actual, y_predicted))\n",
    "    cluster_precision_2.append(precision_score(y_actual,y_predicted))\n",
    "    cluster_recall_2.append(recall_score(y_actual,y_predicted))\n",
    "    cluster_fscore_2.append(f1_score(y_actual,y_predicted))\n",
    "    cluster_fpr_2.append(calculate_fpr(y_actual,y_predicted))\n",
    "    print('------Number of Clusters: ',k,'-----------') \n",
    "    print(\"Accuracy \",cluster_accuracy_2[-1])\n",
    "    print(\"Precision \",cluster_precision_2[-1])\n",
    "    print(\"Recall \",cluster_recall_2[-1])\n",
    "    print(\"F1-score \",cluster_fscore_2[-1])\n",
    "    print(\"False Positive Rate \",cluster_fpr_2[-1],\"\\n\") "
   ]
  },
  {
   "cell_type": "code",
   "execution_count": 35,
   "metadata": {},
   "outputs": [
    {
     "name": "stdout",
     "output_type": "stream",
     "text": [
      "Accuracy Scores:  [0.9857142857142858, 0.9714285714285714, 0.9285714285714286, 0.9142857142857143, 0.8714285714285714, 0.8571428571428571]\n",
      "Precision Scores:  [0.9166666666666666, 0.8461538461538461, 0.6875, 0.6470588235294118, 0.55, 0.5238095238095238]\n",
      "Recall Scores:  [1.0, 1.0, 1.0, 1.0, 1.0, 1.0]\n",
      "F1 Scores:  [0.9565217391304348, 0.9166666666666666, 0.8148148148148148, 0.7857142857142858, 0.7096774193548387, 0.6875000000000001]\n",
      "False Positive Rates:  [0.01694915254237288, 0.03389830508474576, 0.0847457627118644, 0.1016949152542373, 0.15254237288135594, 0.1694915254237288]\n"
     ]
    }
   ],
   "source": [
    "print(\"Accuracy Scores: \",cluster_accuracy_2)\n",
    "print(\"Precision Scores: \",cluster_precision_2)\n",
    "print(\"Recall Scores: \",cluster_recall_2)\n",
    "print(\"F1 Scores: \",cluster_fscore_2)\n",
    "print(\"False Positive Rates: \",cluster_fpr_2)"
   ]
  },
  {
   "cell_type": "markdown",
   "metadata": {},
   "source": [
    "# Multiple clusters + Threshold tuning (No concat of training and test data)"
   ]
  },
  {
   "cell_type": "code",
   "execution_count": 37,
   "metadata": {},
   "outputs": [
    {
     "name": "stdout",
     "output_type": "stream",
     "text": [
      "------Number of Clusters:  2 -----------\n",
      "Accuracy  0.9857142857142858\n",
      "Precision  0.9166666666666666\n",
      "Recall  1.0\n",
      "F1-score  0.9565217391304348\n",
      "False Positive Rate  0.01694915254237288 \n",
      "\n",
      "------Number of Clusters:  3 -----------\n",
      "Accuracy  0.9714285714285714\n",
      "Precision  0.8461538461538461\n",
      "Recall  1.0\n",
      "F1-score  0.9166666666666666\n",
      "False Positive Rate  0.03389830508474576 \n",
      "\n",
      "------Number of Clusters:  4 -----------\n",
      "Accuracy  0.9571428571428572\n",
      "Precision  0.7857142857142857\n",
      "Recall  1.0\n",
      "F1-score  0.88\n",
      "False Positive Rate  0.05084745762711865 \n",
      "\n",
      "------Number of Clusters:  5 -----------\n",
      "Accuracy  0.9142857142857143\n",
      "Precision  0.6470588235294118\n",
      "Recall  1.0\n",
      "F1-score  0.7857142857142858\n",
      "False Positive Rate  0.1016949152542373 \n",
      "\n",
      "------Number of Clusters:  6 -----------\n",
      "Accuracy  0.8857142857142857\n",
      "Precision  0.5789473684210527\n",
      "Recall  1.0\n",
      "F1-score  0.7333333333333334\n",
      "False Positive Rate  0.13559322033898305 \n",
      "\n",
      "------Number of Clusters:  7 -----------\n",
      "Accuracy  0.8857142857142857\n",
      "Precision  0.5789473684210527\n",
      "Recall  1.0\n",
      "F1-score  0.7333333333333334\n",
      "False Positive Rate  0.13559322033898305 \n",
      "\n"
     ]
    }
   ],
   "source": [
    "cluster_accuracy_3 = []\n",
    "cluster_precision_3 = []\n",
    "cluster_recall_3 = []\n",
    "cluster_fscore_3 = []\n",
    "cluster_fpr_3 = []\n",
    "for k in range(2,8):\n",
    "    sensor_models = []\n",
    "    sensor_predicted = []\n",
    "    accuracy = []\n",
    "    precision = []\n",
    "    recall = []\n",
    "    fscore = []\n",
    "    fpr = []\n",
    "    for sens in sensors:\n",
    "        train_normal = X_normal.loc[:,sens].values\n",
    "        train_attack = X_attack.loc[:,sens].values\n",
    "        model = Pipeline()\n",
    "        model.fit(train_normal,train_attack,lag,stride,optimal_k = k,tune=True,kscore_init='inertia',corr_normal=corr_normal[:,i].reshape(nolag_normal,len(X_normal.columns)).T,corr_attack=corr_attack[:,i].reshape(nolag_attack,len(X_attack.columns)).T,only_corr=True)\n",
    "        test = X_test.loc[:,sens].values\n",
    "        y_predicted = model.predict(test,corr_test=corr_test[:,i].reshape(nolag_test,len(X_normal.columns)).T)\n",
    "        sensor_predicted.append(y_predicted)\n",
    "        accuracy.append(accuracy_score(y_actual,y_predicted))\n",
    "        precision.append(precision_score(y_actual,y_predicted))\n",
    "        recall.append(recall_score(y_actual,y_predicted))\n",
    "        fscore.append(f1_score(y_actual,y_predicted))\n",
    "        fpr.append(calculate_fpr(y_actual,y_predicted))\n",
    "        sensor_models.append(model)    \n",
    "    sensor_predicted = np.asarray(sensor_predicted)\n",
    "    sensor_mean = np.mean(sensor_predicted, axis=0)\n",
    "    y_predicted = (sensor_mean > 0.75).astype(int)\n",
    "    # y_predicted = np.any(sensor_predicted,axis=0).astype(int)\n",
    "    cluster_accuracy_3.append(accuracy_score(y_actual, y_predicted))\n",
    "    cluster_precision_3.append(precision_score(y_actual,y_predicted))\n",
    "    cluster_recall_3.append(recall_score(y_actual,y_predicted))\n",
    "    cluster_fscore_3.append(f1_score(y_actual,y_predicted))\n",
    "    cluster_fpr_3.append(calculate_fpr(y_actual,y_predicted))\n",
    "    print('------Number of Clusters: ',k,'-----------') \n",
    "    print(\"Accuracy \",cluster_accuracy_3[-1])\n",
    "    print(\"Precision \",cluster_precision_3[-1])\n",
    "    print(\"Recall \",cluster_recall_3[-1])\n",
    "    print(\"F1-score \",cluster_fscore_3[-1])\n",
    "    print(\"False Positive Rate \",cluster_fpr_3[-1],\"\\n\")"
   ]
  },
  {
   "cell_type": "code",
   "execution_count": 38,
   "metadata": {},
   "outputs": [
    {
     "name": "stdout",
     "output_type": "stream",
     "text": [
      "Accuracy Scores:  [0.9857142857142858, 0.9714285714285714, 0.9571428571428572, 0.9142857142857143, 0.8857142857142857, 0.8857142857142857]\n",
      "Precision Scores:  [0.9166666666666666, 0.8461538461538461, 0.7857142857142857, 0.6470588235294118, 0.5789473684210527, 0.5789473684210527]\n",
      "Recall Scores:  [1.0, 1.0, 1.0, 1.0, 1.0, 1.0]\n",
      "F1 Scores:  [0.9565217391304348, 0.9166666666666666, 0.88, 0.7857142857142858, 0.7333333333333334, 0.7333333333333334]\n",
      "False Positive Rates:  [0.01694915254237288, 0.03389830508474576, 0.05084745762711865, 0.1016949152542373, 0.13559322033898305, 0.13559322033898305]\n"
     ]
    }
   ],
   "source": [
    "print(\"Accuracy Scores: \",cluster_accuracy_3)\n",
    "print(\"Precision Scores: \",cluster_precision_3)\n",
    "print(\"Recall Scores: \",cluster_recall_3)\n",
    "print(\"F1 Scores: \",cluster_fscore_3)\n",
    "print(\"False Positive Rates: \",cluster_fpr_3)"
   ]
  },
  {
   "cell_type": "code",
   "execution_count": null,
   "metadata": {},
   "outputs": [],
   "source": []
  }
 ],
 "metadata": {
  "kernelspec": {
   "display_name": "Python 3",
   "language": "python",
   "name": "python3"
  },
  "language_info": {
   "codemirror_mode": {
    "name": "ipython",
    "version": 3
   },
   "file_extension": ".py",
   "mimetype": "text/x-python",
   "name": "python",
   "nbconvert_exporter": "python",
   "pygments_lexer": "ipython3",
   "version": "3.9.13"
  }
 },
 "nbformat": 4,
 "nbformat_minor": 2
}
